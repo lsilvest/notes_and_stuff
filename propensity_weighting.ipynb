{
 "cells": [
  {
   "cell_type": "markdown",
   "id": "3507f965",
   "metadata": {},
   "source": [
    "# Summary"
   ]
  },
  {
   "cell_type": "markdown",
   "id": "3dba767d",
   "metadata": {},
   "source": [
    "# Trying out some stuff"
   ]
  },
  {
   "cell_type": "markdown",
   "id": "275ae928",
   "metadata": {},
   "source": [
    "## A simple univariate case\n",
    "\n",
    "From ChatGPT:\n",
    "\n",
    "**Background**: A local hospital is trying to understand factors that might influence the recovery speed (measured as the number of days spent in the hospital) after undergoing a specific surgery. The surgical procedure is common and is performed on both patients who are smokers and those who are non-smokers. Moreover, patients have the option of undergoing either a traditional surgical method or a newer, minimally invasive method.\n",
    "\n",
    "**Research Question**: Does smoking status and the type of surgical method influence the recovery time of patients?\n",
    "\n",
    "**Binary Variables**:\n",
    "\n",
    "- Smoking Status:\n",
    "\n",
    "    - 0: Non-Smoker\n",
    "    - 1: Smoker\n",
    "\n",
    "- Surgical Method:\n",
    "\n",
    "    - 0: Traditional Surgery    \n",
    "    - 1: Minimally Invasive Surgery (new surgery)\n",
    "\n",
    "**Outcome Variable**: Recovery time: A continuous variable representing the number of days a patient spends in the hospital post-surgery.\n",
    "\n",
    "**Data Collection**:\n",
    "The hospital collects data over a year from patients who underwent the procedure, noting down their smoking status, the type of surgical method, and their recovery time.\n",
    "\n",
    "**Regression Story**:\n",
    "- Smokers who undergo traditional surgery have a significantly longer recovery time compared to non-smokers who undergo the same traditional method. This could be due to the overall decreased lung efficiency and increased risk of post-surgical complications in smokers.\n",
    "\n",
    "- However, when opting for the minimally invasive method, the difference in recovery time between smokers and non-smokers narrows down. The minimally invasive procedure, being less taxing on the body, might be reducing the impact of smoking on recovery.\n",
    "\n",
    "- On its own, the minimally invasive surgery results in faster recovery times compared to the traditional method for both smokers and non-smokers. Yet, the advantage of the minimally invasive method seems even more pronounced for smokers, making it a favorable option for this group.\n",
    "\n",
    "**Conclusion**:\n",
    "The hospital might consider recommending the minimally invasive surgical method, especially for smokers, to ensure faster recovery times. Additionally, pre-surgical counseling for smokers about the risks and benefits associated with each method could be beneficial."
   ]
  },
  {
   "cell_type": "code",
   "execution_count": 1,
   "id": "18cdcfd9",
   "metadata": {},
   "outputs": [],
   "source": [
    "library(data.table)\n",
    "library(PSweight)\n",
    "library(ggplot2)"
   ]
  },
  {
   "cell_type": "code",
   "execution_count": 2,
   "id": "5e285f4d",
   "metadata": {},
   "outputs": [],
   "source": [
    "N <- 200      ## nb of patients in each group\n",
    "p_s <- 0.75   ## pct smokers in treatment group"
   ]
  },
  {
   "cell_type": "code",
   "execution_count": 3,
   "id": "132db90c",
   "metadata": {},
   "outputs": [
    {
     "name": "stdout",
     "output_type": "stream",
     "text": [
      "      test smoker\n",
      "  1:  TRUE   TRUE\n",
      "  2:  TRUE   TRUE\n",
      "  3:  TRUE   TRUE\n",
      "  4:  TRUE   TRUE\n",
      "  5:  TRUE   TRUE\n",
      " ---             \n",
      "396: FALSE  FALSE\n",
      "397: FALSE  FALSE\n",
      "398: FALSE  FALSE\n",
      "399: FALSE  FALSE\n",
      "400: FALSE  FALSE\n"
     ]
    }
   ],
   "source": [
    "## 75% percent smoker in the test group, 25% in the control group:\n",
    "ex1 <- data.table(test=rep(c(TRUE, FALSE), each=N), \n",
    "                  smoker=c(as.logical(rbinom(N, 1, p_s)), as.logical(rbinom(N, 1, 1 - p_s))))\n",
    "print(ex1)"
   ]
  },
  {
   "cell_type": "code",
   "execution_count": 4,
   "id": "762f52f1",
   "metadata": {},
   "outputs": [
    {
     "name": "stdout",
     "output_type": "stream",
     "text": [
      "      test smoker recovery\n",
      "  1:  TRUE   TRUE 58.58667\n",
      "  2:  TRUE   TRUE 58.71050\n",
      "  3:  TRUE   TRUE 61.33384\n",
      "  4:  TRUE   TRUE 56.87212\n",
      "  5:  TRUE   TRUE 47.68802\n",
      "  6:  TRUE   TRUE 61.95357\n",
      "  7:  TRUE  FALSE 28.61793\n",
      "  8:  TRUE   TRUE 58.57371\n",
      "  9:  TRUE   TRUE 66.45484\n",
      " 10:  TRUE   TRUE 64.87744\n",
      " ---                      \n",
      "391: FALSE  FALSE 22.95629\n",
      "392: FALSE   TRUE 47.49311\n",
      "393: FALSE  FALSE 32.28439\n",
      "394: FALSE  FALSE 29.16974\n",
      "395: FALSE  FALSE 24.61460\n",
      "396: FALSE  FALSE 34.86637\n",
      "397: FALSE  FALSE 27.09078\n",
      "398: FALSE  FALSE 32.29617\n",
      "399: FALSE  FALSE 29.48396\n",
      "400: FALSE  FALSE 29.24557\n"
     ]
    }
   ],
   "source": [
    "# smokers have mean 60 days recovery, non-smokers 30 days\n",
    "ex1[smoker==TRUE, recovery := rnorm(sum(ex1$smoker), 60, 6)]\n",
    "ex1[smoker==FALSE, recovery := rnorm(sum(!ex1$smoker), 30, 3)]\n",
    "print(ex1, topn=10)"
   ]
  },
  {
   "cell_type": "code",
   "execution_count": 5,
   "id": "8ab3ff04",
   "metadata": {},
   "outputs": [
    {
     "data": {
      "text/plain": [
       "\n",
       "Call:\n",
       "glm(formula = \"test ~ smoker\", family = binomial, data = ex1)\n",
       "\n",
       "Deviance Residuals: \n",
       "     Min        1Q    Median        3Q       Max  \n",
       "-1.69296  -0.75202  -0.00684   0.73833   1.67403  \n",
       "\n",
       "Coefficients:\n",
       "            Estimate Std. Error z value Pr(>|z|)    \n",
       "(Intercept)  -1.1184     0.1629  -6.866 6.62e-12 ***\n",
       "smokerTRUE    2.2789     0.2334   9.764  < 2e-16 ***\n",
       "---\n",
       "Signif. codes:  0 ‘***’ 0.001 ‘**’ 0.01 ‘*’ 0.05 ‘.’ 0.1 ‘ ’ 1\n",
       "\n",
       "(Dispersion parameter for binomial family taken to be 1)\n",
       "\n",
       "    Null deviance: 554.52  on 399  degrees of freedom\n",
       "Residual deviance: 443.12  on 398  degrees of freedom\n",
       "AIC: 447.12\n",
       "\n",
       "Number of Fisher Scoring iterations: 4\n"
      ]
     },
     "metadata": {},
     "output_type": "display_data"
    }
   ],
   "source": [
    "logistic_model <- glm(\"test ~ smoker\", family=binomial, data=ex1)\n",
    "summary(logistic_model)"
   ]
  },
  {
   "cell_type": "code",
   "execution_count": 6,
   "id": "8eb20192",
   "metadata": {},
   "outputs": [
    {
     "name": "stdout",
     "output_type": "stream",
     "text": [
      "      test smoker recovery propensity\n",
      "  1:  TRUE   TRUE 58.58667  0.7614213\n",
      "  2:  TRUE   TRUE 58.71050  0.7614213\n",
      "  3:  TRUE   TRUE 61.33384  0.7614213\n",
      "  4:  TRUE   TRUE 56.87212  0.7614213\n",
      "  5:  TRUE   TRUE 47.68802  0.7614213\n",
      "  6:  TRUE   TRUE 61.95357  0.7614213\n",
      "  7:  TRUE  FALSE 28.61793  0.2463054\n",
      "  8:  TRUE   TRUE 58.57371  0.7614213\n",
      "  9:  TRUE   TRUE 66.45484  0.7614213\n",
      " 10:  TRUE   TRUE 64.87744  0.7614213\n",
      " ---                                 \n",
      "391: FALSE  FALSE 22.95629  0.2463054\n",
      "392: FALSE   TRUE 47.49311  0.7614213\n",
      "393: FALSE  FALSE 32.28439  0.2463054\n",
      "394: FALSE  FALSE 29.16974  0.2463054\n",
      "395: FALSE  FALSE 24.61460  0.2463054\n",
      "396: FALSE  FALSE 34.86637  0.2463054\n",
      "397: FALSE  FALSE 27.09078  0.2463054\n",
      "398: FALSE  FALSE 32.29617  0.2463054\n",
      "399: FALSE  FALSE 29.48396  0.2463054\n",
      "400: FALSE  FALSE 29.24557  0.2463054\n"
     ]
    }
   ],
   "source": [
    "## get the probabilities of belonging to the treatment group, the propensity:\n",
    "ex1[, propensity := predict(logistic_model, ex1[, .(smoker)], type=\"response\")]\n",
    "print(ex1, topn=10)"
   ]
  },
  {
   "cell_type": "code",
   "execution_count": 7,
   "id": "0e306d98",
   "metadata": {},
   "outputs": [
    {
     "name": "stdout",
     "output_type": "stream",
     "text": [
      "      test smoker recovery propensity   weight\n",
      "  1:  TRUE   TRUE 58.58667  0.7614213 1.313333\n",
      "  2:  TRUE   TRUE 58.71050  0.7614213 1.313333\n",
      "  3:  TRUE   TRUE 61.33384  0.7614213 1.313333\n",
      "  4:  TRUE   TRUE 56.87212  0.7614213 1.313333\n",
      "  5:  TRUE   TRUE 47.68802  0.7614213 1.313333\n",
      "  6:  TRUE   TRUE 61.95357  0.7614213 1.313333\n",
      "  7:  TRUE  FALSE 28.61793  0.2463054 4.060000\n",
      "  8:  TRUE   TRUE 58.57371  0.7614213 1.313333\n",
      "  9:  TRUE   TRUE 66.45484  0.7614213 1.313333\n",
      " 10:  TRUE   TRUE 64.87744  0.7614213 1.313333\n",
      " ---                                          \n",
      "391: FALSE  FALSE 22.95629  0.2463054 1.326797\n",
      "392: FALSE   TRUE 47.49311  0.7614213 4.191489\n",
      "393: FALSE  FALSE 32.28439  0.2463054 1.326797\n",
      "394: FALSE  FALSE 29.16974  0.2463054 1.326797\n",
      "395: FALSE  FALSE 24.61460  0.2463054 1.326797\n",
      "396: FALSE  FALSE 34.86637  0.2463054 1.326797\n",
      "397: FALSE  FALSE 27.09078  0.2463054 1.326797\n",
      "398: FALSE  FALSE 32.29617  0.2463054 1.326797\n",
      "399: FALSE  FALSE 29.48396  0.2463054 1.326797\n",
      "400: FALSE  FALSE 29.24557  0.2463054 1.326797\n"
     ]
    }
   ],
   "source": [
    "## now calculate the weights:\n",
    "ex1[test==TRUE, weight := 1 / propensity]\n",
    "ex1[test==FALSE, weight := 1 / (1 - propensity)]\n",
    "print(ex1, topn=10)"
   ]
  },
  {
   "cell_type": "code",
   "execution_count": 8,
   "id": "752dca8e",
   "metadata": {},
   "outputs": [
    {
     "name": "stdout",
     "output_type": "stream",
     "text": [
      "[1] 0.75\n",
      "[1] 0.235\n",
      "[1] 0.4925\n",
      "[1] 0.4925\n"
     ]
    }
   ],
   "source": [
    "print(sum(ex1[test==TRUE ]$smoker)    / nrow(ex1[test==TRUE]))\n",
    "print(sum(ex1[test==FALSE]$smoker)    / nrow(ex1[test==FALSE]))\n",
    "print(sum(ex1[test  & smoker]$weight) / sum(ex1[test==TRUE]$weight))\n",
    "print(sum(ex1[!test & smoker]$weight) / sum(ex1[test==FALSE]$weight))"
   ]
  },
  {
   "cell_type": "markdown",
   "id": "12a0e01f",
   "metadata": {},
   "source": [
    "Without the propensity weights, we see that the difference between test and control group is significant:"
   ]
  },
  {
   "cell_type": "code",
   "execution_count": 9,
   "id": "728e2bae",
   "metadata": {},
   "outputs": [
    {
     "data": {
      "text/plain": [
       "             Df Sum Sq Mean Sq F value Pr(>F)    \n",
       "test          1  24468   24468   128.4 <2e-16 ***\n",
       "Residuals   398  75829     191                   \n",
       "---\n",
       "Signif. codes:  0 ‘***’ 0.001 ‘**’ 0.01 ‘*’ 0.05 ‘.’ 0.1 ‘ ’ 1"
      ]
     },
     "metadata": {},
     "output_type": "display_data"
    }
   ],
   "source": [
    "summary(aov(recovery ~ test, data=ex1))"
   ]
  },
  {
   "cell_type": "markdown",
   "id": "c8fc7742",
   "metadata": {},
   "source": [
    "But when we use the weights, we see that this difference is not significant, because it is entirely explained by the higher percentage of smokers in the test group, which is \"matched\" out when we use the weights:"
   ]
  },
  {
   "cell_type": "code",
   "execution_count": 10,
   "id": "43fe5d63",
   "metadata": {},
   "outputs": [
    {
     "data": {
      "text/plain": [
       "             Df Sum Sq Mean Sq F value Pr(>F)\n",
       "test          1      2     2.5   0.005  0.944\n",
       "Residuals   398 200387   503.5               "
      ]
     },
     "metadata": {},
     "output_type": "display_data"
    }
   ],
   "source": [
    "summary(aov(recovery ~ test, data=ex1, weights=ex1$weight))"
   ]
  },
  {
   "cell_type": "markdown",
   "id": "6a2b0603",
   "metadata": {},
   "source": [
    "### Checking with PSweight"
   ]
  },
  {
   "cell_type": "code",
   "execution_count": 11,
   "id": "37c6aeb2",
   "metadata": {},
   "outputs": [
    {
     "name": "stdout",
     "output_type": "stream",
     "text": [
      "\n",
      "Closed-form inference: \n",
      "\n",
      "Original group value:  FALSE, TRUE \n",
      "\n",
      "Contrast: \n",
      "           FALSE TRUE\n",
      "Contrast 1    -1    1\n",
      "\n",
      "           Estimate Std.Error      lwr    upr Pr(>|z|)\n",
      "Contrast 1  0.11129   0.57141 -1.00864 1.2312   0.8456\n"
     ]
    },
    {
     "data": {
      "text/plain": [
       "Original group value:  FALSE, TRUE \n",
       "\n",
       "Point estimate: \n",
       "44.4585, 44.5698 "
      ]
     },
     "metadata": {},
     "output_type": "display_data"
    }
   ],
   "source": [
    "ipw <- PSweight(test ~ smoker, data=ex1, yname=\"recovery\", weight=\"IPW\")\n",
    "print(summary(ipw))\n",
    "ipw"
   ]
  },
  {
   "cell_type": "code",
   "execution_count": 12,
   "id": "6720b14a",
   "metadata": {},
   "outputs": [
    {
     "data": {
      "text/plain": [
       "\n",
       "Closed-form inference: \n",
       "\n",
       "Original group value:  FALSE, TRUE \n",
       "\n",
       "Contrast: \n",
       "           FALSE TRUE\n",
       "Contrast 1    -1    1\n",
       "\n",
       "           Estimate Std.Error      lwr    upr Pr(>|z|)\n",
       "Contrast 1  0.11129   0.57141 -1.00864 1.2312   0.8456"
      ]
     },
     "metadata": {},
     "output_type": "display_data"
    }
   ],
   "source": [
    "summary(ipw)"
   ]
  },
  {
   "cell_type": "markdown",
   "id": "9e122979",
   "metadata": {},
   "source": [
    "## Problems"
   ]
  },
  {
   "cell_type": "markdown",
   "id": "09a963ac",
   "metadata": {},
   "source": [
    "### Missing propensity variable"
   ]
  },
  {
   "cell_type": "code",
   "execution_count": null,
   "id": "076f5b28",
   "metadata": {},
   "outputs": [],
   "source": []
  },
  {
   "cell_type": "markdown",
   "id": "cfaef89f",
   "metadata": {},
   "source": [
    "### Small divisors\n",
    "\n",
    "We introduce a new covariate `new_surgery`. In the test group, we assign all smokers to new_surgery and all non-smokers to non-new_surgerys; in the control group, we assign the new_surgerys randomly to the whole population with the same probability as the probability of being smoker in the control group (0.75)."
   ]
  },
  {
   "cell_type": "code",
   "execution_count": 13,
   "id": "841df326",
   "metadata": {},
   "outputs": [],
   "source": [
    "ex2 <- copy(ex1)\n",
    "ex2[test==TRUE, new_surgery := smoker]\n",
    "#ex2[test & smoker, new_surgery := rbinom(nrow(ex2[test & smoker]), 1, 0.9)]\n",
    "#ex2[test & !smoker, new_surgery := rbinom(nrow(ex2[test & !smoker]), 1, 0.1)]\n",
    "ex2[test==FALSE, new_surgery := rbinom(nrow(ex2[test==FALSE]), 1, p_s)]"
   ]
  },
  {
   "cell_type": "code",
   "execution_count": 14,
   "id": "77d526e3",
   "metadata": {},
   "outputs": [
    {
     "data": {
      "text/html": [
       "1"
      ],
      "text/latex": [
       "1"
      ],
      "text/markdown": [
       "1"
      ],
      "text/plain": [
       "[1] 1"
      ]
     },
     "metadata": {},
     "output_type": "display_data"
    }
   ],
   "source": [
    "## percent smoker new_surgerys:\n",
    "nrow(ex2[test & smoker & new_surgery])/nrow(ex2[test & smoker])"
   ]
  },
  {
   "cell_type": "code",
   "execution_count": 15,
   "id": "d2458178",
   "metadata": {},
   "outputs": [
    {
     "data": {
      "text/html": [
       "0"
      ],
      "text/latex": [
       "0"
      ],
      "text/markdown": [
       "0"
      ],
      "text/plain": [
       "[1] 0"
      ]
     },
     "metadata": {},
     "output_type": "display_data"
    }
   ],
   "source": [
    "## percent male new_surgerys:\n",
    "nrow(ex2[test & !smoker & new_surgery])/nrow(ex2[test & !smoker])"
   ]
  },
  {
   "cell_type": "code",
   "execution_count": 16,
   "id": "c85fe6ed",
   "metadata": {},
   "outputs": [
    {
     "data": {
      "text/plain": [
       "\n",
       "Call:\n",
       "glm(formula = \"test ~ smoker + new_surgery\", family = binomial, \n",
       "    data = ex2)\n",
       "\n",
       "Deviance Residuals: \n",
       "    Min       1Q   Median       3Q      Max  \n",
       "-2.5518  -0.4477   0.1568   0.7613   1.2305  \n",
       "\n",
       "Coefficients:\n",
       "                Estimate Std. Error z value Pr(>|z|)    \n",
       "(Intercept)      -0.1239     0.2190  -0.566    0.572    \n",
       "smokerTRUE        3.3403     0.3437   9.719  < 2e-16 ***\n",
       "new_surgeryTRUE  -2.1261     0.3689  -5.762 8.29e-09 ***\n",
       "---\n",
       "Signif. codes:  0 ‘***’ 0.001 ‘**’ 0.01 ‘*’ 0.05 ‘.’ 0.1 ‘ ’ 1\n",
       "\n",
       "(Dispersion parameter for binomial family taken to be 1)\n",
       "\n",
       "    Null deviance: 554.52  on 399  degrees of freedom\n",
       "Residual deviance: 402.14  on 397  degrees of freedom\n",
       "AIC: 408.14\n",
       "\n",
       "Number of Fisher Scoring iterations: 5\n"
      ]
     },
     "metadata": {},
     "output_type": "display_data"
    }
   ],
   "source": [
    "logistic_model <- glm(\"test ~ smoker + new_surgery\", family=binomial, data=ex2)\n",
    "summary(logistic_model)"
   ]
  },
  {
   "cell_type": "code",
   "execution_count": 17,
   "id": "33b8d1a4",
   "metadata": {},
   "outputs": [
    {
     "name": "stdout",
     "output_type": "stream",
     "text": [
      "      test smoker recovery propensity   weight new_surgery\n",
      "  1:  TRUE   TRUE 58.58667 0.74844668 1.336101        TRUE\n",
      "  2:  TRUE   TRUE 58.71050 0.74844668 1.336101        TRUE\n",
      "  3:  TRUE   TRUE 61.33384 0.74844668 1.336101        TRUE\n",
      "  4:  TRUE   TRUE 56.87212 0.74844668 1.336101        TRUE\n",
      "  5:  TRUE   TRUE 47.68802 0.74844668 1.336101        TRUE\n",
      "  6:  TRUE   TRUE 61.95357 0.74844668 1.336101        TRUE\n",
      "  7:  TRUE  FALSE 28.61793 0.46905654 2.131939       FALSE\n",
      "  8:  TRUE   TRUE 58.57371 0.74844668 1.336101        TRUE\n",
      "  9:  TRUE   TRUE 66.45484 0.74844668 1.336101        TRUE\n",
      " 10:  TRUE   TRUE 64.87744 0.74844668 1.336101        TRUE\n",
      " ---                                                      \n",
      "391: FALSE  FALSE 22.95629 0.09535011 1.105400        TRUE\n",
      "392: FALSE   TRUE 47.49311 0.74844668 3.975300        TRUE\n",
      "393: FALSE  FALSE 32.28439 0.09535011 1.105400        TRUE\n",
      "394: FALSE  FALSE 29.16974 0.09535011 1.105400        TRUE\n",
      "395: FALSE  FALSE 24.61460 0.09535011 1.105400        TRUE\n",
      "396: FALSE  FALSE 34.86637 0.46905654 1.883440       FALSE\n",
      "397: FALSE  FALSE 27.09078 0.09535011 1.105400        TRUE\n",
      "398: FALSE  FALSE 32.29617 0.09535011 1.105400        TRUE\n",
      "399: FALSE  FALSE 29.48396 0.09535011 1.105400        TRUE\n",
      "400: FALSE  FALSE 29.24557 0.09535011 1.105400        TRUE\n"
     ]
    }
   ],
   "source": [
    "ex2[, propensity := predict(logistic_model, ex2, type=\"response\")]\n",
    "ex2[test==TRUE, weight := 1 / propensity]\n",
    "ex2[test==FALSE, weight := 1 / (1 - propensity)]\n",
    "print(ex2, topn=10)"
   ]
  },
  {
   "cell_type": "code",
   "execution_count": 18,
   "id": "25f29deb",
   "metadata": {},
   "outputs": [
    {
     "data": {
      "text/plain": [
       "             Df Sum Sq Mean Sq F value Pr(>F)    \n",
       "test          1  24468   24468   128.4 <2e-16 ***\n",
       "Residuals   398  75829     191                   \n",
       "---\n",
       "Signif. codes:  0 ‘***’ 0.001 ‘**’ 0.01 ‘*’ 0.05 ‘.’ 0.1 ‘ ’ 1"
      ]
     },
     "metadata": {},
     "output_type": "display_data"
    }
   ],
   "source": [
    "summary(aov(recovery ~ test, data=ex2))"
   ]
  },
  {
   "cell_type": "code",
   "execution_count": 19,
   "id": "620ed062",
   "metadata": {},
   "outputs": [
    {
     "data": {
      "text/plain": [
       "             Df Sum Sq Mean Sq F value Pr(>F)\n",
       "test          1    598   598.5   1.072  0.301\n",
       "Residuals   398 222232   558.4               "
      ]
     },
     "metadata": {},
     "output_type": "display_data"
    }
   ],
   "source": [
    "summary(aov(recovery ~ test, data=ex2, weights=ex2$weight))"
   ]
  },
  {
   "cell_type": "code",
   "execution_count": 20,
   "id": "9ee92bc1",
   "metadata": {},
   "outputs": [
    {
     "name": "stdout",
     "output_type": "stream",
     "text": [
      "[1] 0.75\n",
      "[1] 0.235\n",
      "[1] 0.6527923\n",
      "[1] 0.6989171\n"
     ]
    }
   ],
   "source": [
    "print(sum(ex2[test==TRUE]$smoker)/nrow(ex2[test==TRUE]))\n",
    "print(sum(ex2[test==FALSE]$smoker)/nrow(ex2[test==FALSE]))\n",
    "print(sum(ex2[test &  smoker]$weight)/sum(ex2[test==TRUE]$weight))\n",
    "print(sum(ex2[!test & smoker]$weight)/sum(ex2[test==FALSE]$weight))"
   ]
  },
  {
   "cell_type": "code",
   "execution_count": 21,
   "id": "0a51988a",
   "metadata": {},
   "outputs": [
    {
     "name": "stdout",
     "output_type": "stream",
     "text": [
      "[1] 0.75\n",
      "[1] 0.78\n",
      "[1] 0.6527923\n",
      "[1] 0.4234652\n"
     ]
    }
   ],
   "source": [
    "print(sum(ex2[test==TRUE]$new_surgery)/nrow(ex2[test==TRUE]))\n",
    "print(sum(ex2[test==FALSE]$new_surgery)/nrow(ex2[test==FALSE]))\n",
    "print(sum(ex2[test &  new_surgery]$weight)/sum(ex2[test==TRUE]$weight))\n",
    "print(sum(ex2[!test & new_surgery]$weight)/sum(ex2[test==FALSE]$weight))"
   ]
  },
  {
   "cell_type": "markdown",
   "id": "42fbd1b1",
   "metadata": {},
   "source": [
    "Now let's imagine new_surgery has an effect, if you're a new_surgery, you're 15 recovery lighter:"
   ]
  },
  {
   "cell_type": "code",
   "execution_count": 22,
   "id": "fd8aab42",
   "metadata": {},
   "outputs": [],
   "source": [
    "ex2[new_surgery==TRUE, recovery := recovery + 50]"
   ]
  },
  {
   "cell_type": "code",
   "execution_count": 23,
   "id": "1338f4d8",
   "metadata": {},
   "outputs": [
    {
     "data": {
      "text/plain": [
       "             Df Sum Sq Mean Sq F value  Pr(>F)    \n",
       "test          1  20001   20001   21.98 3.8e-06 ***\n",
       "Residuals   398 362198     910                    \n",
       "---\n",
       "Signif. codes:  0 ‘***’ 0.001 ‘**’ 0.01 ‘*’ 0.05 ‘.’ 0.1 ‘ ’ 1"
      ]
     },
     "metadata": {},
     "output_type": "display_data"
    }
   ],
   "source": [
    "summary(aov(recovery ~ test, data=ex2))"
   ]
  },
  {
   "cell_type": "markdown",
   "id": "c0fc8da2",
   "metadata": {},
   "source": [
    "We find then with these weights that the test group is significantly different from the control group, which we know by design of this simulation is not true:"
   ]
  },
  {
   "cell_type": "code",
   "execution_count": 24,
   "id": "3dd89d08",
   "metadata": {},
   "outputs": [
    {
     "data": {
      "text/plain": [
       "             Df Sum Sq Mean Sq F value  Pr(>F)   \n",
       "test          1  19848   19848   9.564 0.00212 **\n",
       "Residuals   398 826004    2075                   \n",
       "---\n",
       "Signif. codes:  0 ‘***’ 0.001 ‘**’ 0.01 ‘*’ 0.05 ‘.’ 0.1 ‘ ’ 1"
      ]
     },
     "metadata": {},
     "output_type": "display_data"
    }
   ],
   "source": [
    "summary(aov(recovery ~ test, data=ex2, weights=ex2$weight))"
   ]
  },
  {
   "cell_type": "markdown",
   "id": "4c74c223",
   "metadata": {},
   "source": [
    "### Running PSweight"
   ]
  },
  {
   "cell_type": "code",
   "execution_count": 25,
   "id": "bfc1ce12",
   "metadata": {},
   "outputs": [
    {
     "name": "stdout",
     "output_type": "stream",
     "text": [
      "Original group value:  FALSE, TRUE \n",
      "\n",
      "Point estimate: \n",
      "72.3218, 82.0917 \n"
     ]
    },
    {
     "data": {
      "text/plain": [
       "\n",
       "Closed-form inference: \n",
       "\n",
       "Original group value:  FALSE, TRUE \n",
       "\n",
       "Contrast: \n",
       "           FALSE TRUE\n",
       "Contrast 1    -1    1\n",
       "\n",
       "           Estimate Std.Error    lwr    upr Pr(>|z|)   \n",
       "Contrast 1   9.7699    3.0556 3.7811 15.759 0.001387 **\n",
       "---\n",
       "Signif. codes:  0 ‘***’ 0.001 ‘**’ 0.01 ‘*’ 0.05 ‘.’ 0.1 ‘ ’ 1"
      ]
     },
     "metadata": {},
     "output_type": "display_data"
    }
   ],
   "source": [
    "ipw <- PSweight(test ~ smoker + new_surgery, data=ex2, yname=\"recovery\", weight=\"IPW\")\n",
    "print(ipw)\n",
    "summary(ipw)"
   ]
  },
  {
   "cell_type": "code",
   "execution_count": 26,
   "id": "683d5f63",
   "metadata": {},
   "outputs": [
    {
     "data": {
      "text/plain": [
       "unweighted result\n",
       "                Mean FALSE Mean TRUE   SMD\n",
       "smokerTRUE           0.235      0.75 1.199\n",
       "new_surgeryTRUE      0.780      0.75 0.071\n",
       "\n",
       "IPW result\n",
       "                Mean FALSE Mean TRUE   SMD\n",
       "smokerTRUE           0.699     0.653 0.107\n",
       "new_surgeryTRUE      0.423     0.653 0.540\n"
      ]
     },
     "metadata": {},
     "output_type": "display_data"
    }
   ],
   "source": [
    "ipw_ss <- SumStat(test ~ smoker + new_surgery, data=ex2, weight=\"IPW\")\n",
    "summary(ipw_ss)"
   ]
  },
  {
   "cell_type": "code",
   "execution_count": 27,
   "id": "532cffbb",
   "metadata": {},
   "outputs": [
    {
     "data": {
      "image/png": "[encoded data removed]",
      "text/plain": [
       "plot without title"
      ]
     },
     "metadata": {
      "image/png": {
       "height": 420,
       "width": 420
      }
     },
     "output_type": "display_data"
    }
   ],
   "source": [
    "plot(ipw_ss)"
   ]
  },
  {
   "cell_type": "code",
   "execution_count": 28,
   "id": "08698a1b",
   "metadata": {},
   "outputs": [
    {
     "name": "stderr",
     "output_type": "stream",
     "text": [
      "Warning message in predict.lm(fitglm, type = \"response\", dataout):\n",
      "“prediction from a rank-deficient fit may be misleading”\n"
     ]
    },
    {
     "data": {
      "text/plain": [
       "\n",
       "Closed-form inference: \n",
       "\n",
       "Original group value:  FALSE, TRUE \n",
       "\n",
       "Contrast: \n",
       "           FALSE TRUE\n",
       "Contrast 1    -1    1\n",
       "\n",
       "           Estimate Std.Error    lwr    upr Pr(>|z|)   \n",
       "Contrast 1   9.7699    3.0556 3.7811 15.759 0.001387 **\n",
       "---\n",
       "Signif. codes:  0 ‘***’ 0.001 ‘**’ 0.01 ‘*’ 0.05 ‘.’ 0.1 ‘ ’ 1"
      ]
     },
     "metadata": {},
     "output_type": "display_data"
    }
   ],
   "source": [
    "aipw <- PSweight(test ~ smoker + new_surgery, data=ex2, yname=\"recovery\", weight=\"IPW\", \n",
    "                augmentation = TRUE, out.formula = recovery ~ smoker + new_surgery)\n",
    "summary(ipw)"
   ]
  },
  {
   "cell_type": "markdown",
   "id": "33c7f550",
   "metadata": {},
   "source": [
    "# AIPW"
   ]
  },
  {
   "cell_type": "markdown",
   "id": "2a40aaee",
   "metadata": {},
   "source": [
    "Let's examine the Augmented Inverse Propensity Weighting. We start by simulating a simple treatment/control group with a couple of covariates.\n",
    "\n",
    "$$Y_{i} \\sim X_{i}\\beta + W_{i}\\tau + \\epsilon$$\n",
    "\n",
    "To add some realism, we'll have our treatment have a different range of X and fix $\\beta$ and $\\tau$.\n",
    "\n",
    "$$X_{treat} \\sim Normal(\\mu=4, \\sigma=1)$$\n",
    "$$X_{cntl} \\sim Normal(\\mu=6, \\sigma=1)$$\n",
    "$$\\beta = 2$$\n",
    "$$\\tau = 1$$\n",
    "$$\\epsilon \\sim Normal(\\mu=0.2, \\sigma=1)$$"
   ]
  },
  {
   "cell_type": "code",
   "execution_count": 53,
   "id": "c535b8b9",
   "metadata": {},
   "outputs": [
    {
     "name": "stdout",
     "output_type": "stream",
     "text": [
      "       x1              W        epsilon              y         \n",
      " Min.   :1.525   Min.   :1   Min.   :-2.3165   Min.   : 2.934  \n",
      " 1st Qu.:3.378   1st Qu.:1   1st Qu.:-0.6751   1st Qu.: 7.508  \n",
      " Median :4.080   Median :1   Median : 0.1183   Median : 8.985  \n",
      " Mean   :3.974   Mean   :1   Mean   : 0.1141   Mean   : 9.063  \n",
      " 3rd Qu.:4.624   3rd Qu.:1   3rd Qu.: 0.9632   3rd Qu.:10.523  \n",
      " Max.   :7.026   Max.   :1   Max.   : 2.4880   Max.   :15.546  \n",
      "       x1              W        epsilon              y         \n",
      " Min.   :3.784   Min.   :0   Min.   :-2.5310   Min.   : 7.781  \n",
      " 1st Qu.:5.430   1st Qu.:0   1st Qu.:-0.4250   1st Qu.:11.073  \n",
      " Median :6.191   Median :0   Median : 0.3478   Median :12.492  \n",
      " Mean   :6.140   Mean   :0   Mean   : 0.3244   Mean   :12.603  \n",
      " 3rd Qu.:6.797   3rd Qu.:0   3rd Qu.: 1.1371   3rd Qu.:13.868  \n",
      " Max.   :8.629   Max.   :0   Max.   : 2.8036   Max.   :18.909  \n"
     ]
    }
   ],
   "source": [
    "sz <- 100\n",
    "beta1 <- 2\n",
    "tau <- 1\n",
    "mu_epsilon <- 0.1\n",
    "dt <- data.table(x1=c(rnorm(sz, 4, 1), rnorm(sz, 6, 1)), \n",
    "                 W=c(rep(1, sz), rep(0, sz)),\n",
    "                 epsilon=rnorm(sz*2, mu_epsilon, 1))\n",
    "dt[, y := x1 * beta1 + W * tau + epsilon]\n",
    "print(summary(dt[W==1]))\n",
    "print(summary(dt[W==0]))"
   ]
  },
  {
   "cell_type": "code",
   "execution_count": 54,
   "id": "27a69377",
   "metadata": {},
   "outputs": [
    {
     "data": {
      "image/png": "[encoded data removed]",
      "text/plain": [
       "plot without title"
      ]
     },
     "metadata": {
      "image/png": {
       "height": 420,
       "width": 420
      }
     },
     "output_type": "display_data"
    }
   ],
   "source": [
    "ggplot(dt, aes(x1, y, color=factor(W))) +\n",
    "    geom_point()"
   ]
  },
  {
   "cell_type": "markdown",
   "id": "36fb94cc",
   "metadata": {},
   "source": [
    "## IPW"
   ]
  },
  {
   "cell_type": "markdown",
   "id": "938b2d1f",
   "metadata": {},
   "source": [
    "First we use a logistic regression to figure out the propensity score *e(i)*"
   ]
  },
  {
   "cell_type": "code",
   "execution_count": 55,
   "id": "21b88b49",
   "metadata": {},
   "outputs": [
    {
     "data": {
      "text/plain": [
       "\n",
       "Call:\n",
       "glm(formula = W ~ x1, family = binomial, data = dt)\n",
       "\n",
       "Deviance Residuals: \n",
       "     Min        1Q    Median        3Q       Max  \n",
       "-2.41902  -0.39186   0.00031   0.45470   2.96575  \n",
       "\n",
       "Coefficients:\n",
       "            Estimate Std. Error z value Pr(>|z|)    \n",
       "(Intercept)  11.3408     1.6015   7.081 1.43e-12 ***\n",
       "x1           -2.2384     0.3132  -7.148 8.83e-13 ***\n",
       "---\n",
       "Signif. codes:  0 ‘***’ 0.001 ‘**’ 0.01 ‘*’ 0.05 ‘.’ 0.1 ‘ ’ 1\n",
       "\n",
       "(Dispersion parameter for binomial family taken to be 1)\n",
       "\n",
       "    Null deviance: 277.26  on 199  degrees of freedom\n",
       "Residual deviance: 127.42  on 198  degrees of freedom\n",
       "AIC: 131.42\n",
       "\n",
       "Number of Fisher Scoring iterations: 6\n"
      ]
     },
     "metadata": {},
     "output_type": "display_data"
    }
   ],
   "source": [
    "propensity_model <- glm(W ~ x1, data=dt, family=binomial)\n",
    "summary(propensity_model)"
   ]
  },
  {
   "cell_type": "code",
   "execution_count": 56,
   "id": "975386b8",
   "metadata": {},
   "outputs": [
    {
     "name": "stdout",
     "output_type": "stream",
     "text": [
      "           x1 W     epsilon         y           e\n",
      "  1: 3.760527 1 -1.51072213  7.010332 0.948987182\n",
      "  2: 4.445453 1  1.72636152 11.617267 0.800623171\n",
      "  3: 3.836554 1  0.08884246  8.761951 0.940090432\n",
      "  4: 5.141196 1 -0.62732018 10.655072 0.458310651\n",
      "  5: 4.272064 1  0.42563609  9.969764 0.855487248\n",
      " ---                                             \n",
      "196: 6.351417 0 -0.68181245 12.021021 0.053348771\n",
      "197: 6.453167 0  0.68887782 13.595212 0.042949338\n",
      "198: 7.980397 0  1.13695096 17.097744 0.001468042\n",
      "199: 6.811135 0  0.09159354 13.713863 0.019741314\n",
      "200: 6.627745 0  0.61078866 13.866279 0.029466047\n"
     ]
    }
   ],
   "source": [
    "dt[, e := predict(propensity_model, data=dt, type=\"response\")]\n",
    "print(dt)"
   ]
  },
  {
   "cell_type": "markdown",
   "id": "b53264b2",
   "metadata": {},
   "source": [
    "And now we can estimate the propensity weighted means and see what $\\tau$ we get:"
   ]
  },
  {
   "cell_type": "code",
   "execution_count": 57,
   "id": "cd7cbf47",
   "metadata": {},
   "outputs": [
    {
     "name": "stdout",
     "output_type": "stream",
     "text": [
      "mu1: 12.0711781219342 \n",
      "mu0: 11.3319464568447 \n",
      "[1] 0.7392317\n"
     ]
    }
   ],
   "source": [
    "mu1 <- sum(dt$W * dt$y / dt$e) / sum(dt$W / dt$e)\n",
    "mu0 <- sum((1-dt$W) * dt$y / (1-dt$e)) / sum((1 - dt$W) / (1 - dt$e))\n",
    "cat(paste(\"mu1:\", mu1, \"\\n\"))\n",
    "cat(paste(\"mu0:\", mu0, \"\\n\"))\n",
    "ATE_prop <- mu1 - mu0\n",
    "print(ATE_prop)"
   ]
  },
  {
   "cell_type": "markdown",
   "id": "6103f345",
   "metadata": {},
   "source": [
    "So it's fair to say we've done a reasonable job of estimating tau."
   ]
  },
  {
   "cell_type": "markdown",
   "id": "1e87a5de",
   "metadata": {},
   "source": [
    "## Regression"
   ]
  },
  {
   "cell_type": "markdown",
   "id": "18055c72",
   "metadata": {},
   "source": [
    "Now let's look at a second way of approching the problem. Here we estimate directly $\\mu_{0}$\n",
    "and $\\mu_{1}$ from the treatment and control groups, conditional on X.\n",
    "\n",
    "Note the regression is conducted separately on the two groups. It is not:\n",
    "\n",
    "$$Y \\sim X\\beta + W\\tau + \\epsilon$$\n",
    "\n",
    "but instead:\n",
    "\n",
    "$$Y_{1} \\sim X_{1}\\beta_{1} + \\epsilon$$\n",
    "$$Y_{0} \\sim X_{0}\\beta_{1} + \\epsilon$$\n",
    "\n",
    "\"We emphasize that, throughout our analysis, we defined the target estimand τ = E [∆i] before making any modeling assumptions. Linear modeling was only used as a tool to estimate τ , but did not inform the scientific question we tried to answer. In particular, we did not try to estimate τ by direct regression modeling $Y_{i} \\sim X_{i}\\beta + W_{i}\\tau + \\epsilon_{i}$, while claiming that the coefficient on τ is a causal effect. This approach has the vice of tying our scientific question to our regression modeling strategy: τ appears to just have become a coefficient in our linear model, not a fact of nature that’s conceptually prior to modeling decisions.\" (https://web.stanford.edu/~swager/stats361.pdf, page 8)."
   ]
  },
  {
   "cell_type": "code",
   "execution_count": 58,
   "id": "f2508a42",
   "metadata": {},
   "outputs": [
    {
     "data": {
      "text/plain": [
       "\n",
       "Call:\n",
       "lm(formula = y ~ x1, data = dt[W == 1])\n",
       "\n",
       "Residuals:\n",
       "     Min       1Q   Median       3Q      Max \n",
       "-2.44943 -0.83585  0.04776  0.81468  2.37669 \n",
       "\n",
       "Coefficients:\n",
       "            Estimate Std. Error t value Pr(>|t|)    \n",
       "(Intercept)   0.9360     0.4289   2.182   0.0315 *  \n",
       "x1            2.0448     0.1043  19.603   <2e-16 ***\n",
       "---\n",
       "Signif. codes:  0 ‘***’ 0.001 ‘**’ 0.01 ‘*’ 0.05 ‘.’ 0.1 ‘ ’ 1\n",
       "\n",
       "Residual standard error: 1.101 on 98 degrees of freedom\n",
       "Multiple R-squared:  0.7968,\tAdjusted R-squared:  0.7947 \n",
       "F-statistic: 384.3 on 1 and 98 DF,  p-value: < 2.2e-16\n"
      ]
     },
     "metadata": {},
     "output_type": "display_data"
    }
   ],
   "source": [
    "model_mu1 <- lm(y ~ x1, data=dt[W==1])\n",
    "summary(model_mu1)"
   ]
  },
  {
   "cell_type": "code",
   "execution_count": 59,
   "id": "f8474cb4",
   "metadata": {},
   "outputs": [
    {
     "data": {
      "text/plain": [
       "\n",
       "Call:\n",
       "lm(formula = y ~ x1, data = dt[W == 0])\n",
       "\n",
       "Residuals:\n",
       "     Min       1Q   Median       3Q      Max \n",
       "-2.84719 -0.67754  0.05041  0.76461  2.48350 \n",
       "\n",
       "Coefficients:\n",
       "            Estimate Std. Error t value Pr(>|t|)    \n",
       "(Intercept)  -0.5134     0.6915  -0.742     0.46    \n",
       "x1            2.1365     0.1112  19.208   <2e-16 ***\n",
       "---\n",
       "Signif. codes:  0 ‘***’ 0.001 ‘**’ 0.01 ‘*’ 0.05 ‘.’ 0.1 ‘ ’ 1\n",
       "\n",
       "Residual standard error: 1.088 on 98 degrees of freedom\n",
       "Multiple R-squared:  0.7901,\tAdjusted R-squared:  0.788 \n",
       "F-statistic:   369 on 1 and 98 DF,  p-value: < 2.2e-16\n"
      ]
     },
     "metadata": {},
     "output_type": "display_data"
    }
   ],
   "source": [
    "model_mu0 <- lm(y ~ x1, data=dt[W==0])\n",
    "summary(model_mu0)"
   ]
  },
  {
   "cell_type": "markdown",
   "id": "e9892100",
   "metadata": {},
   "source": [
    "Now we've got our models for $\\mu_{1}$, $\\mu_{0}$, we evaluate them conditional on all X:"
   ]
  },
  {
   "cell_type": "code",
   "execution_count": 60,
   "id": "974aa411",
   "metadata": {},
   "outputs": [
    {
     "data": {
      "text/html": [
       "0.985860491995842"
      ],
      "text/latex": [
       "0.985860491995842"
      ],
      "text/markdown": [
       "0.985860491995842"
      ],
      "text/plain": [
       "[1] 0.9858605"
      ]
     },
     "metadata": {},
     "output_type": "display_data"
    }
   ],
   "source": [
    "ATE_reg <- 1/nrow(dt) * sum(predict(model_mu1, dt) - predict(model_mu0, dt))\n",
    "ATE_reg"
   ]
  },
  {
   "cell_type": "markdown",
   "id": "6018df73",
   "metadata": {},
   "source": [
    "## IPW + regression = AIPW"
   ]
  },
  {
   "cell_type": "markdown",
   "id": "c28358a4",
   "metadata": {},
   "source": [
    "We now use both the IPW and the regression to get the Augmented IPW; for this, the idea is to calculate mu0 and mu1, and then to use the IPW on the residuals of the regression instead of directly on the Y."
   ]
  },
  {
   "cell_type": "code",
   "execution_count": 61,
   "id": "20ade264",
   "metadata": {},
   "outputs": [
    {
     "data": {
      "text/html": [
       "1.1239122876494"
      ],
      "text/latex": [
       "1.1239122876494"
      ],
      "text/markdown": [
       "1.1239122876494"
      ],
      "text/plain": [
       "[1] 1.123912"
      ]
     },
     "metadata": {},
     "output_type": "display_data"
    }
   ],
   "source": [
    "ATE_aipw <- 1/nrow(dt) * sum(predict(model_mu1, dt) - predict(model_mu0, dt) + \n",
    "                             dt$W * (dt$y - predict(model_mu1, dt)) / dt$e -\n",
    "                             (1-dt$W) * (dt$y - predict(model_mu0, dt)) / (1-dt$e))\n",
    "ATE_aipw"
   ]
  },
  {
   "cell_type": "markdown",
   "id": "0288c371",
   "metadata": {},
   "source": [
    "## Let's get some confirmation using the package PSweight"
   ]
  },
  {
   "cell_type": "code",
   "execution_count": 62,
   "id": "b722f415",
   "metadata": {},
   "outputs": [
    {
     "data": {
      "text/html": [
       "<strong>1:</strong> 0.739231665089573"
      ],
      "text/latex": [
       "\\textbf{1:} 0.739231665089573"
      ],
      "text/markdown": [
       "**1:** 0.739231665089573"
      ],
      "text/plain": [
       "        1 \n",
       "0.7392317 "
      ]
     },
     "metadata": {},
     "output_type": "display_data"
    }
   ],
   "source": [
    "ipw <- PSweight(W ~ x1, data=dt, yname=\"y\", weight=\"IPW\")\n",
    "ipw$muhat[\"1\"] - ipw$muhat[\"0\"]"
   ]
  },
  {
   "cell_type": "code",
   "execution_count": 63,
   "id": "09f0ec45",
   "metadata": {},
   "outputs": [
    {
     "data": {
      "text/html": [
       "<strong>1:</strong> 1.09538067622224"
      ],
      "text/latex": [
       "\\textbf{1:} 1.09538067622224"
      ],
      "text/markdown": [
       "**1:** 1.09538067622224"
      ],
      "text/plain": [
       "       1 \n",
       "1.095381 "
      ]
     },
     "metadata": {},
     "output_type": "display_data"
    }
   ],
   "source": [
    "aug = PSweight(W ~ x1, data=dt, yname=\"y\", weight=\"IPW\", augmentation = TRUE, out.formula = y ~ x1)\n",
    "aug$muhat[\"1\"] - aug$muhat[\"0\"]"
   ]
  },
  {
   "cell_type": "code",
   "execution_count": null,
   "id": "2c4dd724",
   "metadata": {},
   "outputs": [],
   "source": []
  }
 ],
 "metadata": {
  "kernelspec": {
   "display_name": "R",
   "language": "R",
   "name": "ir"
  },
  "language_info": {
   "codemirror_mode": "r",
   "file_extension": ".r",
   "mimetype": "text/x-r-source",
   "name": "R",
   "pygments_lexer": "r",
   "version": "4.1.2"
  },
  "toc": {
   "base_numbering": 1,
   "nav_menu": {},
   "number_sections": true,
   "sideBar": true,
   "skip_h1_title": false,
   "title_cell": "Table of Contents",
   "title_sidebar": "Contents",
   "toc_cell": false,
   "toc_position": {
    "height": "calc(100% - 180px)",
    "left": "10px",
    "top": "150px",
    "width": "358.4px"
   },
   "toc_section_display": true,
   "toc_window_display": true
  },
  "varInspector": {
   "cols": {
    "lenName": 16,
    "lenType": 16,
    "lenVar": 40
   },
   "kernels_config": {
    "python": {
     "delete_cmd_postfix": "",
     "delete_cmd_prefix": "del ",
     "library": "var_list.py",
     "varRefreshCmd": "print(var_dic_list())"
    },
    "r": {
     "delete_cmd_postfix": ") ",
     "delete_cmd_prefix": "rm(",
     "library": "var_list.r",
     "varRefreshCmd": "cat(var_dic_list()) "
    }
   },
   "types_to_exclude": [
    "module",
    "function",
    "builtin_function_or_method",
    "instance",
    "_Feature"
   ],
   "window_display": false
  }
 },
 "nbformat": 4,
 "nbformat_minor": 5
}
