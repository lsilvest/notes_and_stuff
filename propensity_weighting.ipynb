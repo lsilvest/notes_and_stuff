{
 "cells": [
  {
   "cell_type": "markdown",
   "id": "6d4a745e",
   "metadata": {},
   "source": [
    "# Introduction\n",
    "\n",
    "The context for these problems is that we are trying to understand causality. This causality is understood as a comparison between a set of subjects which have received a specific treatment and a set of sujects that has not received a treatment. The word treatment is commonly used from the medical field, but it can also indicate and specific effect on a group of which we want to measure an outcome. In social sciences, a treatment could be years of college education and the outcome we could be interested in measuring could be a potential the salary increase (see [1]).\n",
    "\n",
    "The gold standard is of course to carry out an experiment. We would then create a treatment and a control group (or more generally any number of groups) where subjects are randomly assigned to one of the groups. With a sufficiently large number of subjects, the randomness implies that the two groups will have sujects with similar starting characteristics and hence that the groups will not have any bias. This means that after treatment, the comparison of the groups will be fair and that we will in particular be able to measure a treatment effect.\n",
    "\n",
    "Propensity score weighting is useful in the context of observational studies when experimental studies are not feasible or practical. In this observational case, we need a methodology to select a control group (propensity score matching) or a methodology to remove the bias between treated and untreated subjects (propensity score weighting).\n",
    "\n",
    "But propensity score weighting is also useful in randomized studies to correct for potential imbalances, handling missing data, reducing variance and studying subgroups.\n"
   ]
  },
  {
   "cell_type": "markdown",
   "id": "528b9781-3095-4a6d-a6bb-2e9a402f9c69",
   "metadata": {},
   "source": [
    "# Fundamental ideas"
   ]
  },
  {
   "cell_type": "markdown",
   "id": "7ddb0259-80f1-4ef2-88c5-e5c38a58121a",
   "metadata": {},
   "source": [
    "Let's take a look at the formulation of the problem, the assumptions and how propensity weighting works."
   ]
  },
  {
   "cell_type": "markdown",
   "id": "2c12db6d-b7d6-4598-98cc-44e36bcba726",
   "metadata": {},
   "source": [
    "## Formulation\n",
    "\n",
    "We are interested in quantifying the average treatment effect which is the difference between the expectation of the subjects that are treated and the expectation of the subjects that are not treated:\n",
    "\\begin{align}\n",
    "\\underbrace{\\mathbb{E}\\left[Y_i \\mid T_i=1\\right] - \\mathbb{E}\\left[Y_i \\mid T_i=0\\right]}_{\\text{Average treatment effect}} \n",
    "&=\\mathbb{E}\\left[Y_{1i} \\mid T_i=1\\right] - \\mathbb{E}\\left[Y_{0i} \\mid T_i=0\\right] \\\\\n",
    "&=\\mathbb{E}\\left[Y_{1i} \\mid T_i=1\\right] - \\mathbb{E}\\left[Y_{0i} \\mid T_i=1\\right] + \\mathbb{E}\\left[Y_{0i} \\mid T_i=1\\right] - \\mathbb{E}\\left[Y_{0i} \\mid T_i=0\\right] \\\\[10pt]\n",
    "&=\\underbrace{\\mathbb{E}\\left[Y_{1i} - Y_{0i} \\mid T_i=1\\right]}_{\\text{Average treatment effect on the treated}} \n",
    "+ \\underbrace{\\mathbb{E}\\left[Y_{0i} \\mid T_i=1\\right] - \\mathbb{E}\\left[Y_{0i} \\mid T_i=0\\right]}_{\\text{Selection bias}}\n",
    "\\end{align}\n",
    "\n",
    "Note the distinction between $Y_{0i}$ and $Y_{1i}$ and the outcome $Y_i$. Indeed, $Y_i$ can only ever take one of the two values, because each subject either receives the treatment or it doesn't. So one of these is always the counterfactual. This is the mathematical expression:\n",
    "\n",
    "$$ Y_i = T \\cdot Y_{1i} + (1 - T) \\cdot Y_{0i} $$\n",
    "\n",
    "Obviously we want to remove the selection bias, and together with a certain number of assumptions, propensity weighting methodologies will help us achieve this goal by, among other things, weighting observations in the treatment and control group."
   ]
  },
  {
   "cell_type": "markdown",
   "id": "6b233558-d20b-45fc-8731-e6f2efb0aa8d",
   "metadata": {},
   "source": [
    "## Conditional independence assumption (CIA)"
   ]
  },
  {
   "cell_type": "markdown",
   "id": "40682a29-2673-4ec6-a947-deb43b224279",
   "metadata": {},
   "source": [
    "The conditional independence assumption (CIA) also referred to as Strong Ignorability or Unconfoundedness, is is given by\n",
    "\n",
    "$$ Y_{0i}, Y_{1i} \\perp \\!\\!\\!\\perp T_i \\mid \\underline{X_i} $$\n",
    "\n",
    "This is the assumption that the outcomes $Y_{0i}$ and $Y_{1i}$ are independent from the group T (treatment or control) conditional on the covariates $X$.\n",
    "\n",
    "It's easier to grasp what the CIA is saying with a small example. Let's imagine that we are interested in the mean weight of a population composed of females and males gorillas. Let's further suppose that there is a treatment group and a control group (although in this example we do not apply a treatment). The treatment group is composed of 25% males and 75% females, whereas the control group is the opposite. In our example the mean weight for males is  374 lbs whereas the mean weight for females is 158 lbs (data for Western Lowland gorillas sourced [here](https://seaworld.org/animals/all-about/gorilla/characteristics/)). Clearly the mean weights $Y_{i0}$ and $Y_{1i}$ are not independent from the treatment assigment $T$. But they are independent conditional on gender covariate $X$ if the female weight and the male weight has the same mean in both groups, because there is no information we can obtain about the treatment if one considers separately the male and female weights.\n",
    "\n",
    "But, as we will see later, if we omit a conditional variable we are at risk again of losing the independence. This would be the case for instance if the control group was not anymore formed only by Western Lowland gorillas, but instead contained a proportion of Eastern Lowland gorillas which are heavier and have mean weights of 484 lbs and 176 lbs for males and females respectively. We could of course, if we knew that we had different types of gorillas in our sample, extend the covariate vector $\\underline{X}$ to contain both weight and gorilla type.\n"
   ]
  },
  {
   "cell_type": "markdown",
   "id": "1526b652-cf0b-4af5-aef7-43ea2e657366",
   "metadata": {},
   "source": [
    "## Why the CIA matters\n",
    "\n",
    "The CIA matters because if the assignment to a treatment group is not independent given the covariates, there is no way to determine if a change in the outcome in the treatment group is the effect of the treatment or if it is due to a conditional dependence. In the gorillas example, if for instance the treatment consisted of a different diet, we would not know if the difference in weight observed between the treatment and control groups was due to the diet or to the (unknown) presence of Lowland gorillas in the treatment group."
   ]
  },
  {
   "cell_type": "markdown",
   "id": "9c8d678b-be62-4438-8dc0-49bf8066a667",
   "metadata": {},
   "source": [
    "## Propensity theorem\n",
    "\n",
    "We define the propensity $\\pi(\\underline{X})$ as the probability based on the information in $\\underline{X}$ of belonging to the treatment group. We will see later that this probability can be estimated for example via logistic or gradient boosted trees regression. The definition of the propensity is then:\n",
    "\n",
    "$$\\pi(X_i) = \\mathbb{E}[T_i \\mid \\underline{X_i}]$$\n",
    "\n",
    "Then under the CIA the following holds\n",
    "\n",
    "$$ Y_{0i}, Y_{1i} \\perp \\!\\!\\!\\perp T_i \\mid \\pi(\\underline{X_i}) $$\n",
    "\n",
    "that is, the propensity is also conditionally independent.\n",
    "\n",
    "Furthermore, the propensity $\\pi(\\underline{X})$ can be used to estimate the average treatment effect in the same way as the vector as covariates $\\underline{X}$.  \n",
    "\n",
    "The reason this theorem is important is that the propensity $\\pi(\\underline{X})$ is a scalar and makes the computation of the average treatment effect tractable.\n",
    "\n",
    "For some intuition behind the equivalence, what we need to show is that $P\\left[T_i=1 \\mid Y_{ji}, \\pi(X_i)\\right]$ does not depends on $Y_{ji}$ :\n",
    "\n",
    "\\begin{align}\n",
    "P\\left[T_i=1 \\mid Y_{ji}, \\pi(X_i)\\right] &=  \\mathbb{E}\\left[T_i \\mid Y_{ji}, \\pi(\\underline{X_i})\\right] \\\\\n",
    "&=\\mathbb{E}\\left[\\mathbb{E}\\left[T_i \\mid Y_{ji}, \\pi(\\underline{X_i}), \\underline{X_i}\\right] \\mid Y_{ji}, \\pi(\\underline{X_i}) \\right] \\\\\n",
    "&=\\mathbb{E}\\left[\\mathbb{E}\\left[T_i \\mid \\underline{X_i}\\right] \\mid Y_{ij}, \\pi(\\underline{X_i}) \\right] \\quad\\quad \\text{(using CIA)} \\\\\n",
    "&=\\mathbb{E}\\left[\\pi(\\underline{X_i}) \\mid Y_{ji}, \\pi(X_i) \\right] \\\\\n",
    "&=\\pi(\\underline{X_i})\n",
    "\\end{align}\n"
   ]
  },
  {
   "cell_type": "markdown",
   "id": "60089d17-20b9-4769-9a55-2bbfae0bb2e2",
   "metadata": {},
   "source": [
    "## Propensity weighting\n",
    "\n",
    "The last piece of the puzzle is the balancing of the treatment and control group which is given by:\n",
    "\n",
    "$$ \\mathbb{E}\\left[Y_{1i} - Y_{0i}\\right] = \\mathbb{E}\\left[\\frac{Y_i D_i}{\\pi(\\underline{X_i})} - \\frac{Y_i (1 - D_i)}{1 - \\pi(\\underline{X_i})}\\right]$$\n",
    "\n",
    "A proof of the equivalence of $\\mathbb{E}\\left[Y_{1i}\\right]$ and $\\mathbb{E}\\left[\\frac{Y_i D_i}{\\pi(\\underline{X_i})}\\right]$:\n",
    "\n",
    "\\begin{align}\n",
    "\\mathbb{E}\\left[\\frac{Y_i T_i}{\\pi(\\underline{X_i})}\\right] &= \\mathbb{E}\\left[\\mathbb{E}\\left[\\frac{Y_i T_i}{\\pi(\\underline{X_i})} \\mid \\underline{X_i}\\right]\\right] \\\\\n",
    "&=\\mathbb{E}\\left[\\frac{\\mathbb{E}\\left[Y_i T_i\\mid \\underline{X_i}\\right]}{\\pi(\\underline{X_i}) }\\right]    \\quad\\quad \\text{(using CIA)} \\\\\n",
    "&=\\mathbb{E}\\left[\\frac{\\mathbb{E}\\left[Y_{1i} \\mid \\underline{X_i}, T=1\\right] \\cdot P(T_i=1 \\mid \\underline{X_i})}{P(T_i=1 \\mid \\underline{X_i})}\\right] \\\\\n",
    "&=\\mathbb{E}\\left[ \\mathbb{E}\\left[Y_{1i} \\mid \\underline{X_i}\\right] \\right] \\\\\n",
    "&=\\mathbb{E}\\left[Y_{1i}\\right]\n",
    "\\end{align}\n",
    "\n",
    "So we see that, under the conditional independence assumption the average treatment effect (ATE) can be estimated from inverse propensity weighted observations.\n",
    "\n",
    "One last piece of the puzzle is that this weighting is not unique. Depending on what we wish to measure, we can choose different weights. A summary can be found in LLL, but we reproduce here the first three:\n",
    "\n",
    "| Target population | Tilt function | Estimand     | Balancing Weights |\n",
    "|-------------------|---------------|--------------|-------------------|\n",
    "| Treatment and control combined | 1                    | ATE     | $(\\frac{1}{\\pi(X)}, \\frac{1}{1 - \\pi(X)})$ |\n",
    "| Treatment                      |  $\\pi(X)$            | ATT     | $(1, \\frac{\\pi(X)}{1 - \\pi(X)})$           |\n",
    "| Overlap                        |  $\\pi(X) (1-\\pi(X))$ | ATO     | $(1 - \\pi(X), \\pi(X))$                     |\n",
    "\n",
    "A first reason for the choice of the target population is of course what the purpose of the study. If for instance the treatment was interventional and we wanted to quantify the intervention, then we'd be interested in the target population, i.e. the ATT. Or we might be interested in the benefit of treating the whole population in which case the ATE would be of interest.\n",
    "\n",
    "But if populations are very different, it becomes more difficult to compare the two populations fairly and the overlap population might be appropriate. When the populations differ a lot, the overlap will also be more stable and yield a smaller variance. \n",
    "\n",
    "Finally, another option is to trim to get rid of the more extreme weights. A trim value (delta) of 0.2 is shown to often be optimal (see LLL)."
   ]
  },
  {
   "cell_type": "markdown",
   "id": "5ac38345-b9d8-47c8-9993-1ecb2bd22149",
   "metadata": {},
   "source": [
    "## A very simple example\n",
    "\n",
    "Let's imagine we have small green balls of weight 2 and large red balls of weight 3; DALL-E is able to imagine this quite well:\n",
    "\n",
    "![green_and_read_balls](./img/red_green_balls.png)\n",
    "\n",
    "Let's say we observe 3 balls in a treatment group (T=1) and 3 ball in a control group (T=0); X is the color and the Y weight:\n",
    "\n",
    "| Y | X | T | $\\pi(X)$| $\\frac{Y_i T_i}{\\pi(X_i)}$ | $\\frac{Y_i (1-T_i)}{1-\\pi(X_i)}$ |\n",
    "|---|---|---|-------------|---|---|\n",
    "|3  |Red| 1 | 2/3         | 4.5  | 0  |\n",
    "|3  |Red| 1 | 2/3         | 4.5  | 0  |\n",
    "|2  |Green| 1 | 1/3       | 6  | 0  |\n",
    "|2  |Green| 0 | 1/3       | 0  | 3  |\n",
    "|2  |Green| 0 | 1/3       | 0  | 3  |\n",
    "|3  |Red| 0 | 2/3         | 0  | 9  |\n",
    "\n",
    "Now, let's calculate $ \\mathbb{E}\\left[Y_{1i}\\right]$ and $ \\mathbb{E}\\left[Y_{0i}\\right]$:\n",
    "\n",
    "$$ \\mathbb{E}\\left[Y_{1i}\\right] ≈ \\frac{4.5 + 4.5 + 6 }{6} = \\frac{5}{2} $$\n",
    "\n",
    "$$ \\mathbb{E}\\left[Y_{0i}\\right] ≈ \\frac{3 + 3 + 9 }{6} = \\frac{5}{2} $$\n",
    "\n",
    "In this case there is no treatment and no variability in Y conditional on X, so the two means are as expected the same."
   ]
  },
  {
   "cell_type": "markdown",
   "id": "c189cf69",
   "metadata": {},
   "source": [
    "# Slightly more complex examples\n",
    "\n",
    "In this section we still use simple examples but this time we generate some random data to show how things work in practice."
   ]
  },
  {
   "cell_type": "markdown",
   "id": "bc212a6f",
   "metadata": {},
   "source": [
    "## A simple univariate case\n",
    "\n",
    "Let's imagine we have patients that have been prescribed a medication. Let's assume these patients are part of two geographical areas, Boston and Chicago. Patients in Boston have a probability of filling this prescription 0.7 whereas patients in Chicago have a probability of filling this prescription of 0.6. We will form a treatment and control group and the treatment will consist of sending a message with medical information about the medication. The effect of this treatment will be to increase the probability of filling by 0.1."
   ]
  },
  {
   "cell_type": "code",
   "execution_count": 10,
   "id": "97251bec",
   "metadata": {},
   "outputs": [],
   "source": [
    "library(data.table)\n",
    "library(PSweight)\n",
    "library(ggplot2)\n",
    "library(MASS)   # for multivariate normal generation"
   ]
  },
  {
   "cell_type": "code",
   "execution_count": 156,
   "id": "23246020",
   "metadata": {},
   "outputs": [],
   "source": [
    "N <- 500      ## nb of patients in each group\n",
    "p_boston <- 0.7\n",
    "p_chicago <- 0.5\n",
    "treatment_effect <- 0.1"
   ]
  },
  {
   "cell_type": "markdown",
   "id": "28e6cdb3-36a5-4567-b1ef-f84c86247582",
   "metadata": {},
   "source": [
    "### Random assignment\n",
    "\n",
    "In this first case we have a random assigment between the groups."
   ]
  },
  {
   "cell_type": "code",
   "execution_count": 157,
   "id": "86c75e25",
   "metadata": {},
   "outputs": [
    {
     "data": {
      "text/html": [
       "<table class=\"dataframe\">\n",
       "<caption>A data.table: 6 × 4</caption>\n",
       "<thead>\n",
       "\t<tr><th scope=col>region</th><th scope=col>T</th><th scope=col>p</th><th scope=col>Y</th></tr>\n",
       "\t<tr><th scope=col>&lt;chr&gt;</th><th scope=col>&lt;lgl&gt;</th><th scope=col>&lt;dbl&gt;</th><th scope=col>&lt;int&gt;</th></tr>\n",
       "</thead>\n",
       "<tbody>\n",
       "\t<tr><td>Boston </td><td>TRUE</td><td>0.8</td><td>1</td></tr>\n",
       "\t<tr><td>Chicago</td><td>TRUE</td><td>0.6</td><td>1</td></tr>\n",
       "\t<tr><td>Chicago</td><td>TRUE</td><td>0.6</td><td>0</td></tr>\n",
       "\t<tr><td>Chicago</td><td>TRUE</td><td>0.6</td><td>1</td></tr>\n",
       "\t<tr><td>Boston </td><td>TRUE</td><td>0.8</td><td>0</td></tr>\n",
       "\t<tr><td>Chicago</td><td>TRUE</td><td>0.6</td><td>1</td></tr>\n",
       "</tbody>\n",
       "</table>\n"
      ],
      "text/latex": [
       "A data.table: 6 × 4\n",
       "\\begin{tabular}{llll}\n",
       " region & T & p & Y\\\\\n",
       " <chr> & <lgl> & <dbl> & <int>\\\\\n",
       "\\hline\n",
       "\t Boston  & TRUE & 0.8 & 1\\\\\n",
       "\t Chicago & TRUE & 0.6 & 1\\\\\n",
       "\t Chicago & TRUE & 0.6 & 0\\\\\n",
       "\t Chicago & TRUE & 0.6 & 1\\\\\n",
       "\t Boston  & TRUE & 0.8 & 0\\\\\n",
       "\t Chicago & TRUE & 0.6 & 1\\\\\n",
       "\\end{tabular}\n"
      ],
      "text/markdown": [
       "\n",
       "A data.table: 6 × 4\n",
       "\n",
       "| region &lt;chr&gt; | T &lt;lgl&gt; | p &lt;dbl&gt; | Y &lt;int&gt; |\n",
       "|---|---|---|---|\n",
       "| Boston  | TRUE | 0.8 | 1 |\n",
       "| Chicago | TRUE | 0.6 | 1 |\n",
       "| Chicago | TRUE | 0.6 | 0 |\n",
       "| Chicago | TRUE | 0.6 | 1 |\n",
       "| Boston  | TRUE | 0.8 | 0 |\n",
       "| Chicago | TRUE | 0.6 | 1 |\n",
       "\n"
      ],
      "text/plain": [
       "  region  T    p   Y\n",
       "1 Boston  TRUE 0.8 1\n",
       "2 Chicago TRUE 0.6 1\n",
       "3 Chicago TRUE 0.6 0\n",
       "4 Chicago TRUE 0.6 1\n",
       "5 Boston  TRUE 0.8 0\n",
       "6 Chicago TRUE 0.6 1"
      ]
     },
     "metadata": {},
     "output_type": "display_data"
    }
   ],
   "source": [
    "# smokers have mean 60 days recovery, non-smokers 30 days\n",
    "set.seed(0)\n",
    "ex1 <- rbind(data.table(region=sample(c(\"Chicago\", \"Boston\"), size=N, replace=TRUE, prob=c(0.8, 0.2)),\n",
    "                        T=TRUE),\n",
    "             data.table(region=sample(c(\"Chicago\", \"Boston\"), size=N, replace=TRUE, prob=c(0.5, 0.5)),\n",
    "                        T=FALSE))\n",
    "ex1[, p := ifelse(region==\"Chicago\", p_chicago, p_boston)]\n",
    "ex1[T==TRUE, p := p + treatment_effect]\n",
    "ex1[, Y := rbinom(1, 1, p), by=1:(2*N)]\n",
    "head(ex1)"
   ]
  },
  {
   "cell_type": "code",
   "execution_count": 158,
   "id": "64428712",
   "metadata": {},
   "outputs": [
    {
     "data": {
      "text/plain": [
       "\n",
       "Call:\n",
       "glm(formula = \"T ~ region\", family = binomial, data = ex1)\n",
       "\n",
       "Deviance Residuals: \n",
       "     Min        1Q    Median        3Q       Max  \n",
       "-1.38683  -0.95136   0.08766   0.98152   1.60131  \n",
       "\n",
       "Coefficients:\n",
       "              Estimate Std. Error z value Pr(>|z|)    \n",
       "(Intercept)    -0.9571     0.1201  -7.971 1.57e-15 ***\n",
       "regionChicago   1.4371     0.1445   9.942  < 2e-16 ***\n",
       "---\n",
       "Signif. codes:  0 ‘***’ 0.001 ‘**’ 0.01 ‘*’ 0.05 ‘.’ 0.1 ‘ ’ 1\n",
       "\n",
       "(Dispersion parameter for binomial family taken to be 1)\n",
       "\n",
       "    Null deviance: 1386.3  on 999  degrees of freedom\n",
       "Residual deviance: 1278.7  on 998  degrees of freedom\n",
       "AIC: 1282.7\n",
       "\n",
       "Number of Fisher Scoring iterations: 4\n"
      ]
     },
     "metadata": {},
     "output_type": "display_data"
    }
   ],
   "source": [
    "logistic_model <- glm(\"T ~ region\", family=binomial, data=ex1)\n",
    "summary(logistic_model)"
   ]
  },
  {
   "cell_type": "code",
   "execution_count": 159,
   "id": "07968d23",
   "metadata": {},
   "outputs": [
    {
     "name": "stdout",
     "output_type": "stream",
     "text": [
      "       region     T   p Y propensity\n",
      "   1:  Boston  TRUE 0.8 1  0.2774566\n",
      "   2: Chicago  TRUE 0.6 1  0.6177370\n",
      "   3: Chicago  TRUE 0.6 0  0.6177370\n",
      "   4: Chicago  TRUE 0.6 1  0.6177370\n",
      "   5:  Boston  TRUE 0.8 0  0.2774566\n",
      "   6: Chicago  TRUE 0.6 1  0.6177370\n",
      "   7:  Boston  TRUE 0.8 1  0.2774566\n",
      "   8:  Boston  TRUE 0.8 1  0.2774566\n",
      "   9: Chicago  TRUE 0.6 1  0.6177370\n",
      "  10: Chicago  TRUE 0.6 0  0.6177370\n",
      "  ---                               \n",
      " 991: Chicago FALSE 0.5 1  0.6177370\n",
      " 992:  Boston FALSE 0.7 1  0.2774566\n",
      " 993:  Boston FALSE 0.7 1  0.2774566\n",
      " 994: Chicago FALSE 0.5 0  0.6177370\n",
      " 995:  Boston FALSE 0.7 0  0.2774566\n",
      " 996:  Boston FALSE 0.7 1  0.2774566\n",
      " 997: Chicago FALSE 0.5 1  0.6177370\n",
      " 998: Chicago FALSE 0.5 0  0.6177370\n",
      " 999:  Boston FALSE 0.7 1  0.2774566\n",
      "1000:  Boston FALSE 0.7 1  0.2774566\n"
     ]
    }
   ],
   "source": [
    "## get the probabilities of belonging to the treatment group, the propensity:\n",
    "ex1[, propensity := predict(logistic_model, ex1[, .(region)], type=\"response\")]\n",
    "print(ex1, topn=10)"
   ]
  },
  {
   "cell_type": "code",
   "execution_count": 160,
   "id": "d17a8012",
   "metadata": {},
   "outputs": [
    {
     "name": "stdout",
     "output_type": "stream",
     "text": [
      "       region     T   p Y propensity   weight\n",
      "   1:  Boston  TRUE 0.8 1  0.2774566 3.604167\n",
      "   2: Chicago  TRUE 0.6 1  0.6177370 1.618812\n",
      "   3: Chicago  TRUE 0.6 0  0.6177370 1.618812\n",
      "   4: Chicago  TRUE 0.6 1  0.6177370 1.618812\n",
      "   5:  Boston  TRUE 0.8 0  0.2774566 3.604167\n",
      "   6: Chicago  TRUE 0.6 1  0.6177370 1.618812\n",
      "   7:  Boston  TRUE 0.8 1  0.2774566 3.604167\n",
      "   8:  Boston  TRUE 0.8 1  0.2774566 3.604167\n",
      "   9: Chicago  TRUE 0.6 1  0.6177370 1.618812\n",
      "  10: Chicago  TRUE 0.6 0  0.6177370 1.618812\n",
      "  ---                                        \n",
      " 991: Chicago FALSE 0.5 1  0.6177370 2.616000\n",
      " 992:  Boston FALSE 0.7 1  0.2774566 1.384000\n",
      " 993:  Boston FALSE 0.7 1  0.2774566 1.384000\n",
      " 994: Chicago FALSE 0.5 0  0.6177370 2.616000\n",
      " 995:  Boston FALSE 0.7 0  0.2774566 1.384000\n",
      " 996:  Boston FALSE 0.7 1  0.2774566 1.384000\n",
      " 997: Chicago FALSE 0.5 1  0.6177370 2.616000\n",
      " 998: Chicago FALSE 0.5 0  0.6177370 2.616000\n",
      " 999:  Boston FALSE 0.7 1  0.2774566 1.384000\n",
      "1000:  Boston FALSE 0.7 1  0.2774566 1.384000\n"
     ]
    }
   ],
   "source": [
    "## now calculate the weights:\n",
    "ex1[T==TRUE, weight := 1 / propensity]\n",
    "ex1[T==FALSE, weight := 1 / (1 - propensity)]\n",
    "print(ex1, topn=10)"
   ]
  },
  {
   "cell_type": "markdown",
   "id": "09e4f955-8c39-4df1-a7d2-49d97da25921",
   "metadata": {},
   "source": [
    "Here are the unweighted means of the two groups:"
   ]
  },
  {
   "cell_type": "code",
   "execution_count": 180,
   "id": "5de6f618",
   "metadata": {},
   "outputs": [
    {
     "name": "stdout",
     "output_type": "stream",
     "text": [
      "treatment group unweighted mean: 0.642 \n",
      "control group unweighted mean: 0.62 \n",
      "average treatment effect: 0.022 \n"
     ]
    }
   ],
   "source": [
    "mu1_unweighted <- sum(ex1[T==TRUE ]$Y) / nrow(ex1[T==TRUE])\n",
    "mu0_unweighted <- sum(ex1[T==FALSE]$Y) / nrow(ex1[T==FALSE])\n",
    "cat(paste(\"treatment group unweighted mean:\", mu1_unweighted, \"\\n\"))\n",
    "cat(paste(\"control group unweighted mean:\", mu0_unweighted, \"\\n\"))\n",
    "cat(paste(\"average treatment effect:\", mu1_unweighted - mu0_unweighted, \"\\n\"))"
   ]
  },
  {
   "cell_type": "markdown",
   "id": "0d718107",
   "metadata": {},
   "source": [
    "Here is the weighted means of the two groups:"
   ]
  },
  {
   "cell_type": "code",
   "execution_count": 174,
   "id": "e7a7eb9f-124f-4914-b215-aaef0a548747",
   "metadata": {},
   "outputs": [
    {
     "name": "stdout",
     "output_type": "stream",
     "text": [
      "treatment group weighted mean: 0.682437706270525 \n",
      "treatment group weighted mean: 0.590432000000028 \n"
     ]
    }
   ],
   "source": [
    "mu1_weighted <- sum(ex1$Y * ex1$weight * ex1$T) / sum(ex1$T * ex1$weight)\n",
    "mu0_weighted <- sum(ex1$Y * ex1$weight * (1-ex1$T)) / sum((1 - ex1$T) * ex1$weight) \n",
    "cat(paste(\"treatment group weighted mean:\", mu0_weighted, \"\\n\"))\n",
    "cat(paste(\"control group weighted mean:\", mu1_weighted, \"\\n\"))"
   ]
  },
  {
   "cell_type": "markdown",
   "id": "93270044",
   "metadata": {},
   "source": [
    "### Checking with PSweight"
   ]
  },
  {
   "cell_type": "code",
   "execution_count": 166,
   "id": "d5b6472e-71d2-421f-9221-f690f110433f",
   "metadata": {},
   "outputs": [
    {
     "data": {
      "image/png": "[encoded data removed]",
      "text/plain": [
       "plot without title"
      ]
     },
     "metadata": {
      "image/png": {
       "height": 420,
       "width": 420
      }
     },
     "output_type": "display_data"
    }
   ],
   "source": [
    "ipw_ss <- SumStat(T ~ region, data=ex1, weight=\"IPW\")\n",
    "plot(ipw_ss)"
   ]
  },
  {
   "cell_type": "code",
   "execution_count": 163,
   "id": "d30b2be8",
   "metadata": {},
   "outputs": [
    {
     "name": "stdout",
     "output_type": "stream",
     "text": [
      "\n",
      "Closed-form inference: \n",
      "\n",
      "Original group value:  FALSE, TRUE \n",
      "\n",
      "Contrast: \n",
      "           FALSE TRUE\n",
      "Contrast 1    -1    1\n",
      "\n",
      "           Estimate Std.Error      lwr     upr Pr(>|z|)   \n",
      "Contrast 1 0.092006  0.030600 0.032031 0.15198 0.002641 **\n",
      "---\n",
      "Signif. codes:  0 ‘***’ 0.001 ‘**’ 0.01 ‘*’ 0.05 ‘.’ 0.1 ‘ ’ 1\n"
     ]
    },
    {
     "data": {
      "text/plain": [
       "Original group value:  FALSE, TRUE \n",
       "\n",
       "Point estimate: \n",
       "0.5904, 0.6824 "
      ]
     },
     "metadata": {},
     "output_type": "display_data"
    }
   ],
   "source": [
    "ipw <- PSweight(T ~ region, data=ex1, yname=\"Y\", weight=\"IPW\")\n",
    "print(summary(ipw))\n",
    "ipw"
   ]
  },
  {
   "cell_type": "markdown",
   "id": "7ef7a699-a707-4872-b4fa-0abe50c5b949",
   "metadata": {},
   "source": [
    "## Multivariate case with interaction\n",
    "\n",
    "Here is a multivariate example with an interaction between the covariates. This example makes the case for fitting using a gradient boosted model rather than a GLM.\n",
    "\n",
    "Here `c1` and `c2` are two boolean variables that interact together: when they are both the same, that is (T, T) or (F, F) we set the mean of 'y' higher; when they are opposite, that\n",
    "is (T,F), (F,T), the mean of 'y' is set lower. In each individual column 'c1' and 'c2', we have equal probability of T, but for (c1,c2) combined, different probabilities of (T,T) in the treatment\n",
    "and control groups.\n",
    "\n",
    "This allows to show that for the 'gbm' method, the 'interaction.depth' (and any other 'gbm' control parameter) is not\n",
    "taken into account in the current implementation. So unless the\n",
    "interaction is explicitly entered in the formula, 'gbm' will not\n",
    "discover the interaction and 'PSweight' will incorrectly conclude\n",
    "that the means differ. In the fixed implementation, these\n",
    "parameters are taken into account and the means do not differ."
   ]
  },
  {
   "cell_type": "code",
   "execution_count": 11,
   "id": "9e20ab95-bb1f-4433-af78-5b2bad8bf680",
   "metadata": {},
   "outputs": [
    {
     "data": {
      "text/html": [
       "<table class=\"dataframe\">\n",
       "<caption>A data.table: 1998 × 4</caption>\n",
       "<thead>\n",
       "\t<tr><th scope=col>c1</th><th scope=col>c2</th><th scope=col>treatment</th><th scope=col>y</th></tr>\n",
       "\t<tr><th scope=col>&lt;int&gt;</th><th scope=col>&lt;int&gt;</th><th scope=col>&lt;lgl&gt;</th><th scope=col>&lt;dbl&gt;</th></tr>\n",
       "</thead>\n",
       "<tbody>\n",
       "\t<tr><td>1</td><td>1</td><td>TRUE</td><td>5.150781</td></tr>\n",
       "\t<tr><td>0</td><td>0</td><td>TRUE</td><td>3.157955</td></tr>\n",
       "\t<tr><td>0</td><td>0</td><td>TRUE</td><td>3.138722</td></tr>\n",
       "\t<tr><td>1</td><td>1</td><td>TRUE</td><td>3.461936</td></tr>\n",
       "\t<tr><td>1</td><td>1</td><td>TRUE</td><td>4.496595</td></tr>\n",
       "\t<tr><td>0</td><td>0</td><td>TRUE</td><td>2.558034</td></tr>\n",
       "\t<tr><td>1</td><td>1</td><td>TRUE</td><td>2.887398</td></tr>\n",
       "\t<tr><td>1</td><td>1</td><td>TRUE</td><td>2.985451</td></tr>\n",
       "\t<tr><td>1</td><td>1</td><td>TRUE</td><td>4.567364</td></tr>\n",
       "\t<tr><td>1</td><td>1</td><td>TRUE</td><td>3.785949</td></tr>\n",
       "\t<tr><td>0</td><td>0</td><td>TRUE</td><td>3.541193</td></tr>\n",
       "\t<tr><td>0</td><td>0</td><td>TRUE</td><td>5.928155</td></tr>\n",
       "\t<tr><td>0</td><td>0</td><td>TRUE</td><td>5.359061</td></tr>\n",
       "\t<tr><td>1</td><td>1</td><td>TRUE</td><td>4.443659</td></tr>\n",
       "\t<tr><td>0</td><td>0</td><td>TRUE</td><td>2.744709</td></tr>\n",
       "\t<tr><td>1</td><td>1</td><td>TRUE</td><td>4.017669</td></tr>\n",
       "\t<tr><td>0</td><td>0</td><td>TRUE</td><td>1.601369</td></tr>\n",
       "\t<tr><td>1</td><td>1</td><td>TRUE</td><td>3.945773</td></tr>\n",
       "\t<tr><td>1</td><td>1</td><td>TRUE</td><td>5.363424</td></tr>\n",
       "\t<tr><td>0</td><td>0</td><td>TRUE</td><td>3.687805</td></tr>\n",
       "\t<tr><td>1</td><td>1</td><td>TRUE</td><td>3.539614</td></tr>\n",
       "\t<tr><td>1</td><td>1</td><td>TRUE</td><td>4.392490</td></tr>\n",
       "\t<tr><td>0</td><td>0</td><td>TRUE</td><td>5.757628</td></tr>\n",
       "\t<tr><td>1</td><td>1</td><td>TRUE</td><td>3.318524</td></tr>\n",
       "\t<tr><td>0</td><td>0</td><td>TRUE</td><td>3.794811</td></tr>\n",
       "\t<tr><td>0</td><td>0</td><td>TRUE</td><td>4.166403</td></tr>\n",
       "\t<tr><td>0</td><td>0</td><td>TRUE</td><td>4.554976</td></tr>\n",
       "\t<tr><td>0</td><td>0</td><td>TRUE</td><td>4.396505</td></tr>\n",
       "\t<tr><td>0</td><td>0</td><td>TRUE</td><td>3.611793</td></tr>\n",
       "\t<tr><td>1</td><td>1</td><td>TRUE</td><td>3.886010</td></tr>\n",
       "\t<tr><td>⋮</td><td>⋮</td><td>⋮</td><td>⋮</td></tr>\n",
       "\t<tr><td>0</td><td>0</td><td>FALSE</td><td>3.454534</td></tr>\n",
       "\t<tr><td>1</td><td>1</td><td>FALSE</td><td>4.762479</td></tr>\n",
       "\t<tr><td>1</td><td>1</td><td>FALSE</td><td>4.064033</td></tr>\n",
       "\t<tr><td>1</td><td>1</td><td>FALSE</td><td>4.128191</td></tr>\n",
       "\t<tr><td>1</td><td>1</td><td>FALSE</td><td>4.493245</td></tr>\n",
       "\t<tr><td>0</td><td>0</td><td>FALSE</td><td>4.394930</td></tr>\n",
       "\t<tr><td>0</td><td>0</td><td>FALSE</td><td>3.463784</td></tr>\n",
       "\t<tr><td>0</td><td>0</td><td>FALSE</td><td>4.282666</td></tr>\n",
       "\t<tr><td>0</td><td>0</td><td>FALSE</td><td>3.997156</td></tr>\n",
       "\t<tr><td>1</td><td>1</td><td>FALSE</td><td>4.206188</td></tr>\n",
       "\t<tr><td>0</td><td>0</td><td>FALSE</td><td>2.618384</td></tr>\n",
       "\t<tr><td>1</td><td>1</td><td>FALSE</td><td>4.016431</td></tr>\n",
       "\t<tr><td>1</td><td>1</td><td>FALSE</td><td>4.106517</td></tr>\n",
       "\t<tr><td>0</td><td>0</td><td>FALSE</td><td>4.223640</td></tr>\n",
       "\t<tr><td>1</td><td>1</td><td>FALSE</td><td>3.700978</td></tr>\n",
       "\t<tr><td>0</td><td>0</td><td>FALSE</td><td>4.848135</td></tr>\n",
       "\t<tr><td>0</td><td>0</td><td>FALSE</td><td>5.493523</td></tr>\n",
       "\t<tr><td>1</td><td>1</td><td>FALSE</td><td>3.346828</td></tr>\n",
       "\t<tr><td>0</td><td>0</td><td>FALSE</td><td>2.663116</td></tr>\n",
       "\t<tr><td>1</td><td>1</td><td>FALSE</td><td>4.821081</td></tr>\n",
       "\t<tr><td>1</td><td>1</td><td>FALSE</td><td>3.511454</td></tr>\n",
       "\t<tr><td>1</td><td>1</td><td>FALSE</td><td>4.257227</td></tr>\n",
       "\t<tr><td>1</td><td>1</td><td>FALSE</td><td>4.116589</td></tr>\n",
       "\t<tr><td>0</td><td>0</td><td>FALSE</td><td>3.880501</td></tr>\n",
       "\t<tr><td>0</td><td>0</td><td>FALSE</td><td>4.467927</td></tr>\n",
       "\t<tr><td>0</td><td>0</td><td>FALSE</td><td>2.563112</td></tr>\n",
       "\t<tr><td>1</td><td>1</td><td>FALSE</td><td>4.531012</td></tr>\n",
       "\t<tr><td>0</td><td>0</td><td>FALSE</td><td>3.137286</td></tr>\n",
       "\t<tr><td>1</td><td>1</td><td>FALSE</td><td>2.754806</td></tr>\n",
       "\t<tr><td>0</td><td>0</td><td>FALSE</td><td>4.645731</td></tr>\n",
       "</tbody>\n",
       "</table>\n"
      ],
      "text/latex": [
       "A data.table: 1998 × 4\n",
       "\\begin{tabular}{llll}\n",
       " c1 & c2 & treatment & y\\\\\n",
       " <int> & <int> & <lgl> & <dbl>\\\\\n",
       "\\hline\n",
       "\t 1 & 1 & TRUE & 5.150781\\\\\n",
       "\t 0 & 0 & TRUE & 3.157955\\\\\n",
       "\t 0 & 0 & TRUE & 3.138722\\\\\n",
       "\t 1 & 1 & TRUE & 3.461936\\\\\n",
       "\t 1 & 1 & TRUE & 4.496595\\\\\n",
       "\t 0 & 0 & TRUE & 2.558034\\\\\n",
       "\t 1 & 1 & TRUE & 2.887398\\\\\n",
       "\t 1 & 1 & TRUE & 2.985451\\\\\n",
       "\t 1 & 1 & TRUE & 4.567364\\\\\n",
       "\t 1 & 1 & TRUE & 3.785949\\\\\n",
       "\t 0 & 0 & TRUE & 3.541193\\\\\n",
       "\t 0 & 0 & TRUE & 5.928155\\\\\n",
       "\t 0 & 0 & TRUE & 5.359061\\\\\n",
       "\t 1 & 1 & TRUE & 4.443659\\\\\n",
       "\t 0 & 0 & TRUE & 2.744709\\\\\n",
       "\t 1 & 1 & TRUE & 4.017669\\\\\n",
       "\t 0 & 0 & TRUE & 1.601369\\\\\n",
       "\t 1 & 1 & TRUE & 3.945773\\\\\n",
       "\t 1 & 1 & TRUE & 5.363424\\\\\n",
       "\t 0 & 0 & TRUE & 3.687805\\\\\n",
       "\t 1 & 1 & TRUE & 3.539614\\\\\n",
       "\t 1 & 1 & TRUE & 4.392490\\\\\n",
       "\t 0 & 0 & TRUE & 5.757628\\\\\n",
       "\t 1 & 1 & TRUE & 3.318524\\\\\n",
       "\t 0 & 0 & TRUE & 3.794811\\\\\n",
       "\t 0 & 0 & TRUE & 4.166403\\\\\n",
       "\t 0 & 0 & TRUE & 4.554976\\\\\n",
       "\t 0 & 0 & TRUE & 4.396505\\\\\n",
       "\t 0 & 0 & TRUE & 3.611793\\\\\n",
       "\t 1 & 1 & TRUE & 3.886010\\\\\n",
       "\t ⋮ & ⋮ & ⋮ & ⋮\\\\\n",
       "\t 0 & 0 & FALSE & 3.454534\\\\\n",
       "\t 1 & 1 & FALSE & 4.762479\\\\\n",
       "\t 1 & 1 & FALSE & 4.064033\\\\\n",
       "\t 1 & 1 & FALSE & 4.128191\\\\\n",
       "\t 1 & 1 & FALSE & 4.493245\\\\\n",
       "\t 0 & 0 & FALSE & 4.394930\\\\\n",
       "\t 0 & 0 & FALSE & 3.463784\\\\\n",
       "\t 0 & 0 & FALSE & 4.282666\\\\\n",
       "\t 0 & 0 & FALSE & 3.997156\\\\\n",
       "\t 1 & 1 & FALSE & 4.206188\\\\\n",
       "\t 0 & 0 & FALSE & 2.618384\\\\\n",
       "\t 1 & 1 & FALSE & 4.016431\\\\\n",
       "\t 1 & 1 & FALSE & 4.106517\\\\\n",
       "\t 0 & 0 & FALSE & 4.223640\\\\\n",
       "\t 1 & 1 & FALSE & 3.700978\\\\\n",
       "\t 0 & 0 & FALSE & 4.848135\\\\\n",
       "\t 0 & 0 & FALSE & 5.493523\\\\\n",
       "\t 1 & 1 & FALSE & 3.346828\\\\\n",
       "\t 0 & 0 & FALSE & 2.663116\\\\\n",
       "\t 1 & 1 & FALSE & 4.821081\\\\\n",
       "\t 1 & 1 & FALSE & 3.511454\\\\\n",
       "\t 1 & 1 & FALSE & 4.257227\\\\\n",
       "\t 1 & 1 & FALSE & 4.116589\\\\\n",
       "\t 0 & 0 & FALSE & 3.880501\\\\\n",
       "\t 0 & 0 & FALSE & 4.467927\\\\\n",
       "\t 0 & 0 & FALSE & 2.563112\\\\\n",
       "\t 1 & 1 & FALSE & 4.531012\\\\\n",
       "\t 0 & 0 & FALSE & 3.137286\\\\\n",
       "\t 1 & 1 & FALSE & 2.754806\\\\\n",
       "\t 0 & 0 & FALSE & 4.645731\\\\\n",
       "\\end{tabular}\n"
      ],
      "text/markdown": [
       "\n",
       "A data.table: 1998 × 4\n",
       "\n",
       "| c1 &lt;int&gt; | c2 &lt;int&gt; | treatment &lt;lgl&gt; | y &lt;dbl&gt; |\n",
       "|---|---|---|---|\n",
       "| 1 | 1 | TRUE | 5.150781 |\n",
       "| 0 | 0 | TRUE | 3.157955 |\n",
       "| 0 | 0 | TRUE | 3.138722 |\n",
       "| 1 | 1 | TRUE | 3.461936 |\n",
       "| 1 | 1 | TRUE | 4.496595 |\n",
       "| 0 | 0 | TRUE | 2.558034 |\n",
       "| 1 | 1 | TRUE | 2.887398 |\n",
       "| 1 | 1 | TRUE | 2.985451 |\n",
       "| 1 | 1 | TRUE | 4.567364 |\n",
       "| 1 | 1 | TRUE | 3.785949 |\n",
       "| 0 | 0 | TRUE | 3.541193 |\n",
       "| 0 | 0 | TRUE | 5.928155 |\n",
       "| 0 | 0 | TRUE | 5.359061 |\n",
       "| 1 | 1 | TRUE | 4.443659 |\n",
       "| 0 | 0 | TRUE | 2.744709 |\n",
       "| 1 | 1 | TRUE | 4.017669 |\n",
       "| 0 | 0 | TRUE | 1.601369 |\n",
       "| 1 | 1 | TRUE | 3.945773 |\n",
       "| 1 | 1 | TRUE | 5.363424 |\n",
       "| 0 | 0 | TRUE | 3.687805 |\n",
       "| 1 | 1 | TRUE | 3.539614 |\n",
       "| 1 | 1 | TRUE | 4.392490 |\n",
       "| 0 | 0 | TRUE | 5.757628 |\n",
       "| 1 | 1 | TRUE | 3.318524 |\n",
       "| 0 | 0 | TRUE | 3.794811 |\n",
       "| 0 | 0 | TRUE | 4.166403 |\n",
       "| 0 | 0 | TRUE | 4.554976 |\n",
       "| 0 | 0 | TRUE | 4.396505 |\n",
       "| 0 | 0 | TRUE | 3.611793 |\n",
       "| 1 | 1 | TRUE | 3.886010 |\n",
       "| ⋮ | ⋮ | ⋮ | ⋮ |\n",
       "| 0 | 0 | FALSE | 3.454534 |\n",
       "| 1 | 1 | FALSE | 4.762479 |\n",
       "| 1 | 1 | FALSE | 4.064033 |\n",
       "| 1 | 1 | FALSE | 4.128191 |\n",
       "| 1 | 1 | FALSE | 4.493245 |\n",
       "| 0 | 0 | FALSE | 4.394930 |\n",
       "| 0 | 0 | FALSE | 3.463784 |\n",
       "| 0 | 0 | FALSE | 4.282666 |\n",
       "| 0 | 0 | FALSE | 3.997156 |\n",
       "| 1 | 1 | FALSE | 4.206188 |\n",
       "| 0 | 0 | FALSE | 2.618384 |\n",
       "| 1 | 1 | FALSE | 4.016431 |\n",
       "| 1 | 1 | FALSE | 4.106517 |\n",
       "| 0 | 0 | FALSE | 4.223640 |\n",
       "| 1 | 1 | FALSE | 3.700978 |\n",
       "| 0 | 0 | FALSE | 4.848135 |\n",
       "| 0 | 0 | FALSE | 5.493523 |\n",
       "| 1 | 1 | FALSE | 3.346828 |\n",
       "| 0 | 0 | FALSE | 2.663116 |\n",
       "| 1 | 1 | FALSE | 4.821081 |\n",
       "| 1 | 1 | FALSE | 3.511454 |\n",
       "| 1 | 1 | FALSE | 4.257227 |\n",
       "| 1 | 1 | FALSE | 4.116589 |\n",
       "| 0 | 0 | FALSE | 3.880501 |\n",
       "| 0 | 0 | FALSE | 4.467927 |\n",
       "| 0 | 0 | FALSE | 2.563112 |\n",
       "| 1 | 1 | FALSE | 4.531012 |\n",
       "| 0 | 0 | FALSE | 3.137286 |\n",
       "| 1 | 1 | FALSE | 2.754806 |\n",
       "| 0 | 0 | FALSE | 4.645731 |\n",
       "\n"
      ],
      "text/plain": [
       "     c1 c2 treatment y       \n",
       "1    1  1  TRUE      5.150781\n",
       "2    0  0  TRUE      3.157955\n",
       "3    0  0  TRUE      3.138722\n",
       "4    1  1  TRUE      3.461936\n",
       "5    1  1  TRUE      4.496595\n",
       "6    0  0  TRUE      2.558034\n",
       "7    1  1  TRUE      2.887398\n",
       "8    1  1  TRUE      2.985451\n",
       "9    1  1  TRUE      4.567364\n",
       "10   1  1  TRUE      3.785949\n",
       "11   0  0  TRUE      3.541193\n",
       "12   0  0  TRUE      5.928155\n",
       "13   0  0  TRUE      5.359061\n",
       "14   1  1  TRUE      4.443659\n",
       "15   0  0  TRUE      2.744709\n",
       "16   1  1  TRUE      4.017669\n",
       "17   0  0  TRUE      1.601369\n",
       "18   1  1  TRUE      3.945773\n",
       "19   1  1  TRUE      5.363424\n",
       "20   0  0  TRUE      3.687805\n",
       "21   1  1  TRUE      3.539614\n",
       "22   1  1  TRUE      4.392490\n",
       "23   0  0  TRUE      5.757628\n",
       "24   1  1  TRUE      3.318524\n",
       "25   0  0  TRUE      3.794811\n",
       "26   0  0  TRUE      4.166403\n",
       "27   0  0  TRUE      4.554976\n",
       "28   0  0  TRUE      4.396505\n",
       "29   0  0  TRUE      3.611793\n",
       "30   1  1  TRUE      3.886010\n",
       "⋮    ⋮  ⋮  ⋮         ⋮       \n",
       "1969 0  0  FALSE     3.454534\n",
       "1970 1  1  FALSE     4.762479\n",
       "1971 1  1  FALSE     4.064033\n",
       "1972 1  1  FALSE     4.128191\n",
       "1973 1  1  FALSE     4.493245\n",
       "1974 0  0  FALSE     4.394930\n",
       "1975 0  0  FALSE     3.463784\n",
       "1976 0  0  FALSE     4.282666\n",
       "1977 0  0  FALSE     3.997156\n",
       "1978 1  1  FALSE     4.206188\n",
       "1979 0  0  FALSE     2.618384\n",
       "1980 1  1  FALSE     4.016431\n",
       "1981 1  1  FALSE     4.106517\n",
       "1982 0  0  FALSE     4.223640\n",
       "1983 1  1  FALSE     3.700978\n",
       "1984 0  0  FALSE     4.848135\n",
       "1985 0  0  FALSE     5.493523\n",
       "1986 1  1  FALSE     3.346828\n",
       "1987 0  0  FALSE     2.663116\n",
       "1988 1  1  FALSE     4.821081\n",
       "1989 1  1  FALSE     3.511454\n",
       "1990 1  1  FALSE     4.257227\n",
       "1991 1  1  FALSE     4.116589\n",
       "1992 0  0  FALSE     3.880501\n",
       "1993 0  0  FALSE     4.467927\n",
       "1994 0  0  FALSE     2.563112\n",
       "1995 1  1  FALSE     4.531012\n",
       "1996 0  0  FALSE     3.137286\n",
       "1997 1  1  FALSE     2.754806\n",
       "1998 0  0  FALSE     4.645731"
      ]
     },
     "metadata": {},
     "output_type": "display_data"
    }
   ],
   "source": [
    "N <- 1000                               # the number of obs in each group\n",
    "\n",
    "set.seed(0)\n",
    "## function to generate (T,T) and (F,F) pairs\n",
    "generate_tt_ff <- function(n) {\n",
    "    c1 <- rbinom(n, 1, 0.5)\n",
    "    data.table(c1, c2=c1)\n",
    "}\n",
    "\n",
    "## function to generate (T,F) and (F,T) pairs\n",
    "generate_tf_ft <- function(n) {\n",
    "    c1 <- rbinom(n, 1, 0.5)\n",
    "    data.table(c1, c2=!c1)\n",
    "}\n",
    "\n",
    "## the probability of having (T,T), (F,F) is 0.8 in the treatment group:\n",
    "p_tt_ff_treatment <- 0.8                \n",
    "treatment <- rbind(generate_tt_ff(p_tt_ff_treatment * N),\n",
    "                   generate_tf_ft((1 - p_tt_ff_treatment) * N))\n",
    "## and 0.2 in the control group:\n",
    "control <- rbind(generate_tf_ft(p_tt_ff_treatment * N),\n",
    "                 generate_tt_ff((1 - p_tt_ff_treatment) * N))\n",
    "\n",
    "dt <- rbind(data.table(treatment, treatment=TRUE),\n",
    "            data.table(control, treatment=FALSE))\n",
    "\n",
    "## construct 'y' conditional on 'c1' and 'c2':\n",
    "y <- rnorm(nrow(dt), 2, 1)\n",
    "idx_tt_ff <- which(!xor(dt$c1, dt$c2))\n",
    "y[idx_tt_ff] <- rnorm(length(idx_tt_ff), 4, 1)\n",
    "dt$y <- y\n",
    "dt"
   ]
  },
  {
   "cell_type": "markdown",
   "id": "e4d86059-f543-4039-b13e-431712ca95e0",
   "metadata": {},
   "source": [
    "We see that we have the same proportions for c1/c2 in both treatment and control group:"
   ]
  },
  {
   "cell_type": "code",
   "execution_count": 15,
   "id": "ed7f8cd9-e4f2-439e-9a01-a7a02321b554",
   "metadata": {},
   "outputs": [
    {
     "data": {
      "text/plain": [
       "       c1               c2         treatment            y         \n",
       " Min.   :0.0000   Min.   :0.0000   Mode:logical   Min.   :-1.045  \n",
       " 1st Qu.:0.0000   1st Qu.:0.0000   TRUE:999       1st Qu.: 2.883  \n",
       " Median :0.0000   Median :0.0000                  Median : 3.703  \n",
       " Mean   :0.4815   Mean   :0.4985                  Mean   : 3.604  \n",
       " 3rd Qu.:1.0000   3rd Qu.:1.0000                  3rd Qu.: 4.513  \n",
       " Max.   :1.0000   Max.   :1.0000                  Max.   : 6.783  "
      ]
     },
     "metadata": {},
     "output_type": "display_data"
    },
    {
     "data": {
      "text/plain": [
       "       c1               c2         treatment             y         \n",
       " Min.   :0.0000   Min.   :0.0000   Mode :logical   Min.   :-1.037  \n",
       " 1st Qu.:0.0000   1st Qu.:0.0000   FALSE:999       1st Qu.: 1.631  \n",
       " Median :0.0000   Median :1.0000                   Median : 2.364  \n",
       " Mean   :0.4805   Mean   :0.5185                   Mean   : 2.458  \n",
       " 3rd Qu.:1.0000   3rd Qu.:1.0000                   3rd Qu.: 3.217  \n",
       " Max.   :1.0000   Max.   :1.0000                   Max.   : 6.601  "
      ]
     },
     "metadata": {},
     "output_type": "display_data"
    }
   ],
   "source": [
    "summary(dt[treatment==TRUE])\n",
    "summary(dt[treatment==FALSE])"
   ]
  },
  {
   "cell_type": "code",
   "execution_count": 17,
   "id": "122f1c6e-fe0e-4a34-bb8f-be66f44623bb",
   "metadata": {},
   "outputs": [
    {
     "data": {
      "text/plain": [
       "Original group value:  FALSE, TRUE \n",
       "\n",
       "Point estimate: \n",
       "2.4571, 3.6026 "
      ]
     },
     "metadata": {},
     "output_type": "display_data"
    }
   ],
   "source": [
    "## now fit two models, p1 with the default 'gbm' parameters that will\n",
    "## have 'interaction.depth' set to 1 as default and will thus not be\n",
    "## able to learn the interaction between 'c1' and 'c2'.\n",
    "set.seed(0)\n",
    "p1 <- PSweight(treatment ~ c1 + c2, yname=\"y\", data=dt, ps.method=\"gbm\")\n",
    "p1"
   ]
  },
  {
   "cell_type": "code",
   "execution_count": 18,
   "id": "84d3e8f7-d3e8-409b-9a08-d2b5b1d2d9a4",
   "metadata": {},
   "outputs": [
    {
     "data": {
      "text/plain": [
       "Original group value:  FALSE, TRUE \n",
       "\n",
       "Point estimate: \n",
       "3.0164, 2.9907 "
      ]
     },
     "metadata": {},
     "output_type": "display_data"
    }
   ],
   "source": [
    "## and 'p2' with 'interaction.depth' set to 2, that will learn\n",
    "## correctly and allow the method to correctly conclude that the means\n",
    "## are the same:\n",
    "set.seed(0)\n",
    "p2 <- PSweight(treatment ~ c1 + c2, yname=\"y\", data=dt, ps.method=\"gbm\",\n",
    "               ps.control=list(interaction.depth=2))\n",
    "p2"
   ]
  },
  {
   "cell_type": "code",
   "execution_count": 19,
   "id": "2d6c8734-66f1-43a0-b314-c703ce0276ce",
   "metadata": {},
   "outputs": [
    {
     "data": {
      "text/html": [
       "<table class=\"dataframe\">\n",
       "<caption>A matrix: 6 × 2 of type dbl</caption>\n",
       "<thead>\n",
       "\t<tr><th scope=col>FALSE</th><th scope=col>TRUE</th></tr>\n",
       "</thead>\n",
       "<tbody>\n",
       "\t<tr><td>0.5122574</td><td>0.4877426</td></tr>\n",
       "\t<tr><td>0.4941118</td><td>0.5058882</td></tr>\n",
       "\t<tr><td>0.4941118</td><td>0.5058882</td></tr>\n",
       "\t<tr><td>0.5122574</td><td>0.4877426</td></tr>\n",
       "\t<tr><td>0.5122574</td><td>0.4877426</td></tr>\n",
       "\t<tr><td>0.4941118</td><td>0.5058882</td></tr>\n",
       "</tbody>\n",
       "</table>\n"
      ],
      "text/latex": [
       "A matrix: 6 × 2 of type dbl\n",
       "\\begin{tabular}{ll}\n",
       " FALSE & TRUE\\\\\n",
       "\\hline\n",
       "\t 0.5122574 & 0.4877426\\\\\n",
       "\t 0.4941118 & 0.5058882\\\\\n",
       "\t 0.4941118 & 0.5058882\\\\\n",
       "\t 0.5122574 & 0.4877426\\\\\n",
       "\t 0.5122574 & 0.4877426\\\\\n",
       "\t 0.4941118 & 0.5058882\\\\\n",
       "\\end{tabular}\n"
      ],
      "text/markdown": [
       "\n",
       "A matrix: 6 × 2 of type dbl\n",
       "\n",
       "| FALSE | TRUE |\n",
       "|---|---|\n",
       "| 0.5122574 | 0.4877426 |\n",
       "| 0.4941118 | 0.5058882 |\n",
       "| 0.4941118 | 0.5058882 |\n",
       "| 0.5122574 | 0.4877426 |\n",
       "| 0.5122574 | 0.4877426 |\n",
       "| 0.4941118 | 0.5058882 |\n",
       "\n"
      ],
      "text/plain": [
       "     FALSE     TRUE     \n",
       "[1,] 0.5122574 0.4877426\n",
       "[2,] 0.4941118 0.5058882\n",
       "[3,] 0.4941118 0.5058882\n",
       "[4,] 0.5122574 0.4877426\n",
       "[5,] 0.5122574 0.4877426\n",
       "[6,] 0.4941118 0.5058882"
      ]
     },
     "metadata": {},
     "output_type": "display_data"
    },
    {
     "data": {
      "text/html": [
       "<table class=\"dataframe\">\n",
       "<caption>A matrix: 6 × 2 of type dbl</caption>\n",
       "<thead>\n",
       "\t<tr><th scope=col>FALSE</th><th scope=col>TRUE</th></tr>\n",
       "</thead>\n",
       "<tbody>\n",
       "\t<tr><td>0.2066791</td><td>0.7933209</td></tr>\n",
       "\t<tr><td>0.2001336</td><td>0.7998664</td></tr>\n",
       "\t<tr><td>0.2001336</td><td>0.7998664</td></tr>\n",
       "\t<tr><td>0.2066791</td><td>0.7933209</td></tr>\n",
       "\t<tr><td>0.2066791</td><td>0.7933209</td></tr>\n",
       "\t<tr><td>0.2001336</td><td>0.7998664</td></tr>\n",
       "</tbody>\n",
       "</table>\n"
      ],
      "text/latex": [
       "A matrix: 6 × 2 of type dbl\n",
       "\\begin{tabular}{ll}\n",
       " FALSE & TRUE\\\\\n",
       "\\hline\n",
       "\t 0.2066791 & 0.7933209\\\\\n",
       "\t 0.2001336 & 0.7998664\\\\\n",
       "\t 0.2001336 & 0.7998664\\\\\n",
       "\t 0.2066791 & 0.7933209\\\\\n",
       "\t 0.2066791 & 0.7933209\\\\\n",
       "\t 0.2001336 & 0.7998664\\\\\n",
       "\\end{tabular}\n"
      ],
      "text/markdown": [
       "\n",
       "A matrix: 6 × 2 of type dbl\n",
       "\n",
       "| FALSE | TRUE |\n",
       "|---|---|\n",
       "| 0.2066791 | 0.7933209 |\n",
       "| 0.2001336 | 0.7998664 |\n",
       "| 0.2001336 | 0.7998664 |\n",
       "| 0.2066791 | 0.7933209 |\n",
       "| 0.2066791 | 0.7933209 |\n",
       "| 0.2001336 | 0.7998664 |\n",
       "\n"
      ],
      "text/plain": [
       "     FALSE     TRUE     \n",
       "[1,] 0.2066791 0.7933209\n",
       "[2,] 0.2001336 0.7998664\n",
       "[3,] 0.2001336 0.7998664\n",
       "[4,] 0.2066791 0.7933209\n",
       "[5,] 0.2066791 0.7933209\n",
       "[6,] 0.2001336 0.7998664"
      ]
     },
     "metadata": {},
     "output_type": "display_data"
    }
   ],
   "source": [
    "head(p1$propensity)\n",
    "head(p2$propensity)"
   ]
  },
  {
   "cell_type": "markdown",
   "id": "e72c8beb",
   "metadata": {},
   "source": [
    "## Problems"
   ]
  },
  {
   "cell_type": "markdown",
   "id": "9caefef7",
   "metadata": {},
   "source": [
    "### Missing propensity variable"
   ]
  },
  {
   "cell_type": "code",
   "execution_count": null,
   "id": "b930d728",
   "metadata": {},
   "outputs": [],
   "source": []
  },
  {
   "cell_type": "markdown",
   "id": "41b9203f",
   "metadata": {},
   "source": [
    "### Small divisors\n",
    "\n",
    "We introduce a new covariate `new_surgery`. In the test group, we assign all smokers to new_surgery and all non-smokers to non-new_surgerys; in the control group, we assign the new_surgerys randomly to the whole population with the same probability as the probability of being smoker in the control group (0.75)."
   ]
  },
  {
   "cell_type": "code",
   "execution_count": 13,
   "id": "222ac569",
   "metadata": {},
   "outputs": [],
   "source": [
    "ex2 <- copy(ex1)\n",
    "ex2[test==TRUE, new_surgery := smoker]\n",
    "#ex2[test & smoker, new_surgery := rbinom(nrow(ex2[test & smoker]), 1, 0.9)]\n",
    "#ex2[test & !smoker, new_surgery := rbinom(nrow(ex2[test & !smoker]), 1, 0.1)]\n",
    "ex2[test==FALSE, new_surgery := rbinom(nrow(ex2[test==FALSE]), 1, p_s)]"
   ]
  },
  {
   "cell_type": "code",
   "execution_count": 14,
   "id": "444de3f6",
   "metadata": {},
   "outputs": [
    {
     "data": {
      "text/html": [
       "1"
      ],
      "text/latex": [
       "1"
      ],
      "text/markdown": [
       "1"
      ],
      "text/plain": [
       "[1] 1"
      ]
     },
     "metadata": {},
     "output_type": "display_data"
    }
   ],
   "source": [
    "## percent smoker new_surgerys:\n",
    "nrow(ex2[test & smoker & new_surgery])/nrow(ex2[test & smoker])"
   ]
  },
  {
   "cell_type": "code",
   "execution_count": 15,
   "id": "4e0317f0",
   "metadata": {},
   "outputs": [
    {
     "data": {
      "text/html": [
       "0"
      ],
      "text/latex": [
       "0"
      ],
      "text/markdown": [
       "0"
      ],
      "text/plain": [
       "[1] 0"
      ]
     },
     "metadata": {},
     "output_type": "display_data"
    }
   ],
   "source": [
    "## percent male new_surgerys:\n",
    "nrow(ex2[test & !smoker & new_surgery])/nrow(ex2[test & !smoker])"
   ]
  },
  {
   "cell_type": "code",
   "execution_count": 16,
   "id": "b7c1356a",
   "metadata": {},
   "outputs": [
    {
     "data": {
      "text/plain": [
       "\n",
       "Call:\n",
       "glm(formula = \"test ~ smoker + new_surgery\", family = binomial, \n",
       "    data = ex2)\n",
       "\n",
       "Deviance Residuals: \n",
       "    Min       1Q   Median       3Q      Max  \n",
       "-2.1666  -0.5623   0.1421   0.7636   1.5948  \n",
       "\n",
       "Coefficients:\n",
       "                Estimate Std. Error z value Pr(>|z|)    \n",
       "(Intercept)      -0.9427     0.2436  -3.870 0.000109 ***\n",
       "smokerTRUE        3.1892     0.3381   9.432  < 2e-16 ***\n",
       "new_surgeryTRUE  -1.1632     0.3771  -3.085 0.002038 ** \n",
       "---\n",
       "Signif. codes:  0 ‘***’ 0.001 ‘**’ 0.01 ‘*’ 0.05 ‘.’ 0.1 ‘ ’ 1\n",
       "\n",
       "(Dispersion parameter for binomial family taken to be 1)\n",
       "\n",
       "    Null deviance: 554.52  on 399  degrees of freedom\n",
       "Residual deviance: 406.36  on 397  degrees of freedom\n",
       "AIC: 412.36\n",
       "\n",
       "Number of Fisher Scoring iterations: 4\n"
      ]
     },
     "metadata": {},
     "output_type": "display_data"
    }
   ],
   "source": [
    "logistic_model <- glm(\"test ~ smoker + new_surgery\", family=binomial, data=ex2)\n",
    "summary(logistic_model)"
   ]
  },
  {
   "cell_type": "code",
   "execution_count": 17,
   "id": "69170cd2",
   "metadata": {},
   "outputs": [
    {
     "name": "stdout",
     "output_type": "stream",
     "text": [
      "      test smoker recovery propensity    weight new_surgery\n",
      "  1:  TRUE   TRUE 63.06242  0.7471187  1.338475        TRUE\n",
      "  2:  TRUE   TRUE 68.18916  0.7471187  1.338475        TRUE\n",
      "  3:  TRUE   TRUE 58.01755  0.7471187  1.338475        TRUE\n",
      "  4:  TRUE   TRUE 53.95745  0.7471187  1.338475        TRUE\n",
      "  5:  TRUE   TRUE 56.49341  0.7471187  1.338475        TRUE\n",
      "  6:  TRUE   TRUE 53.02463  0.7471187  1.338475        TRUE\n",
      "  7:  TRUE   TRUE 72.37134  0.7471187  1.338475        TRUE\n",
      "  8:  TRUE   TRUE 59.56458  0.7471187  1.338475        TRUE\n",
      "  9:  TRUE   TRUE 59.36989  0.7471187  1.338475        TRUE\n",
      " 10:  TRUE   TRUE 66.38388  0.7471187  1.338475        TRUE\n",
      " ---                                                       \n",
      "391: FALSE  FALSE 28.65694  0.1085219  1.121733        TRUE\n",
      "392: FALSE  FALSE 28.81966  0.1085219  1.121733        TRUE\n",
      "393: FALSE  FALSE 31.95770  0.1085219  1.121733        TRUE\n",
      "394: FALSE  FALSE 27.46349  0.2803520  1.389568       FALSE\n",
      "395: FALSE  FALSE 31.36934  0.1085219  1.121733        TRUE\n",
      "396: FALSE   TRUE 59.27232  0.9043496 10.454736       FALSE\n",
      "397: FALSE   TRUE 60.75216  0.7471187  3.954424        TRUE\n",
      "398: FALSE  FALSE 31.32790  0.1085219  1.121733        TRUE\n",
      "399: FALSE   TRUE 68.95851  0.7471187  3.954424        TRUE\n",
      "400: FALSE   TRUE 61.58575  0.7471187  3.954424        TRUE\n"
     ]
    }
   ],
   "source": [
    "ex2[, propensity := predict(logistic_model, ex2, type=\"response\")]\n",
    "ex2[test==TRUE, weight := 1 / propensity]\n",
    "ex2[test==FALSE, weight := 1 / (1 - propensity)]\n",
    "print(ex2, topn=10)"
   ]
  },
  {
   "cell_type": "code",
   "execution_count": 18,
   "id": "56d2ebae",
   "metadata": {},
   "outputs": [
    {
     "data": {
      "text/plain": [
       "             Df Sum Sq Mean Sq F value Pr(>F)    \n",
       "test          1  29495   29495   167.6 <2e-16 ***\n",
       "Residuals   398  70042     176                   \n",
       "---\n",
       "Signif. codes:  0 ‘***’ 0.001 ‘**’ 0.01 ‘*’ 0.05 ‘.’ 0.1 ‘ ’ 1"
      ]
     },
     "metadata": {},
     "output_type": "display_data"
    }
   ],
   "source": [
    "summary(aov(recovery ~ test, data=ex2))"
   ]
  },
  {
   "cell_type": "code",
   "execution_count": 19,
   "id": "66006963",
   "metadata": {},
   "outputs": [
    {
     "data": {
      "text/plain": [
       "             Df Sum Sq Mean Sq F value Pr(>F)\n",
       "test          1    530   529.6   1.136  0.287\n",
       "Residuals   398 185619   466.4               "
      ]
     },
     "metadata": {},
     "output_type": "display_data"
    }
   ],
   "source": [
    "summary(aov(recovery ~ test, data=ex2, weights=ex2$weight))"
   ]
  },
  {
   "cell_type": "code",
   "execution_count": 20,
   "id": "5e13cd9a",
   "metadata": {},
   "outputs": [
    {
     "name": "stdout",
     "output_type": "stream",
     "text": [
      "[1] 0.835\n",
      "[1] 0.27\n",
      "[1] 0.6550491\n",
      "[1] 0.6234392\n"
     ]
    }
   ],
   "source": [
    "print(sum(ex2[test==TRUE]$smoker)/nrow(ex2[test==TRUE]))\n",
    "print(sum(ex2[test==FALSE]$smoker)/nrow(ex2[test==FALSE]))\n",
    "print(sum(ex2[test &  smoker]$weight)/sum(ex2[test==TRUE]$weight))\n",
    "print(sum(ex2[!test & smoker]$weight)/sum(ex2[test==FALSE]$weight))"
   ]
  },
  {
   "cell_type": "code",
   "execution_count": 21,
   "id": "87607464",
   "metadata": {},
   "outputs": [
    {
     "name": "stdout",
     "output_type": "stream",
     "text": [
      "[1] 0.835\n",
      "[1] 0.71\n",
      "[1] 0.6550491\n",
      "[1] 0.5950334\n"
     ]
    }
   ],
   "source": [
    "print(sum(ex2[test==TRUE]$new_surgery)/nrow(ex2[test==TRUE]))\n",
    "print(sum(ex2[test==FALSE]$new_surgery)/nrow(ex2[test==FALSE]))\n",
    "print(sum(ex2[test &  new_surgery]$weight)/sum(ex2[test==TRUE]$weight))\n",
    "print(sum(ex2[!test & new_surgery]$weight)/sum(ex2[test==FALSE]$weight))"
   ]
  },
  {
   "cell_type": "markdown",
   "id": "9e96288b",
   "metadata": {},
   "source": [
    "Now let's imagine new_surgery has an effect, if you're a new_surgery, you're 15 recovery lighter:"
   ]
  },
  {
   "cell_type": "code",
   "execution_count": 22,
   "id": "f39bc11a",
   "metadata": {},
   "outputs": [],
   "source": [
    "ex2[new_surgery==TRUE, recovery := recovery + 50]"
   ]
  },
  {
   "cell_type": "code",
   "execution_count": 23,
   "id": "4cd67ed1",
   "metadata": {},
   "outputs": [
    {
     "data": {
      "text/plain": [
       "             Df Sum Sq Mean Sq F value   Pr(>F)    \n",
       "test          1  54870   54870   64.38 1.16e-14 ***\n",
       "Residuals   398 339207     852                     \n",
       "---\n",
       "Signif. codes:  0 ‘***’ 0.001 ‘**’ 0.01 ‘*’ 0.05 ‘.’ 0.1 ‘ ’ 1"
      ]
     },
     "metadata": {},
     "output_type": "display_data"
    }
   ],
   "source": [
    "summary(aov(recovery ~ test, data=ex2))"
   ]
  },
  {
   "cell_type": "markdown",
   "id": "7dd9e4b1",
   "metadata": {},
   "source": [
    "We find then with these weights that the test group is significantly different from the control group, which we know by design of this simulation is not true:"
   ]
  },
  {
   "cell_type": "code",
   "execution_count": 24,
   "id": "98ea6f1b",
   "metadata": {},
   "outputs": [
    {
     "data": {
      "text/plain": [
       "             Df Sum Sq Mean Sq F value Pr(>F)\n",
       "test          1   4246    4246   1.892   0.17\n",
       "Residuals   398 893078    2244               "
      ]
     },
     "metadata": {},
     "output_type": "display_data"
    }
   ],
   "source": [
    "summary(aov(recovery ~ test, data=ex2, weights=ex2$weight))"
   ]
  },
  {
   "cell_type": "markdown",
   "id": "604173f1",
   "metadata": {},
   "source": [
    "### Running PSweight"
   ]
  },
  {
   "cell_type": "code",
   "execution_count": 25,
   "id": "b3951af5",
   "metadata": {},
   "outputs": [
    {
     "name": "stdout",
     "output_type": "stream",
     "text": [
      "Original group value:  FALSE, TRUE \n",
      "\n",
      "Point estimate: \n",
      "77.8015, 82.4408 \n"
     ]
    },
    {
     "data": {
      "text/plain": [
       "\n",
       "Closed-form inference: \n",
       "\n",
       "Original group value:  FALSE, TRUE \n",
       "\n",
       "Contrast: \n",
       "           FALSE TRUE\n",
       "Contrast 1    -1    1\n",
       "\n",
       "           Estimate Std.Error     lwr   upr Pr(>|z|)\n",
       "Contrast 1   4.6393    3.4292 -2.0819 11.36   0.1761"
      ]
     },
     "metadata": {},
     "output_type": "display_data"
    }
   ],
   "source": [
    "ipw <- PSweight(test ~ smoker + new_surgery, data=ex2, yname=\"recovery\", weight=\"IPW\")\n",
    "print(ipw)\n",
    "summary(ipw)"
   ]
  },
  {
   "cell_type": "code",
   "execution_count": 26,
   "id": "0388f476",
   "metadata": {},
   "outputs": [
    {
     "data": {
      "text/plain": [
       "unweighted result\n",
       "                Mean FALSE Mean TRUE   SMD\n",
       "smokerTRUE            0.27     0.835 1.377\n",
       "new_surgeryTRUE       0.71     0.835 0.301\n",
       "\n",
       "IPW result\n",
       "                Mean FALSE Mean TRUE   SMD\n",
       "smokerTRUE           0.623     0.655 0.077\n",
       "new_surgeryTRUE      0.595     0.655 0.144\n"
      ]
     },
     "metadata": {},
     "output_type": "display_data"
    }
   ],
   "source": [
    "ipw_ss <- SumStat(test ~ smoker + new_surgery, data=ex2, weight=\"IPW\")\n",
    "summary(ipw_ss)"
   ]
  },
  {
   "cell_type": "code",
   "execution_count": 27,
   "id": "3f1526d4",
   "metadata": {},
   "outputs": [
    {
     "data": {
      "image/png": "[encoded data removed]",
      "text/plain": [
       "plot without title"
      ]
     },
     "metadata": {
      "image/png": {
       "height": 420,
       "width": 420
      }
     },
     "output_type": "display_data"
    }
   ],
   "source": [
    "plot(ipw_ss)"
   ]
  },
  {
   "cell_type": "code",
   "execution_count": 28,
   "id": "dd745d8e",
   "metadata": {},
   "outputs": [
    {
     "name": "stderr",
     "output_type": "stream",
     "text": [
      "Warning message in predict.lm(fitglm, type = \"response\", dataout):\n",
      "“prediction from a rank-deficient fit may be misleading”\n"
     ]
    },
    {
     "data": {
      "text/plain": [
       "\n",
       "Closed-form inference: \n",
       "\n",
       "Original group value:  FALSE, TRUE \n",
       "\n",
       "Contrast: \n",
       "           FALSE TRUE\n",
       "Contrast 1    -1    1\n",
       "\n",
       "           Estimate Std.Error     lwr   upr Pr(>|z|)\n",
       "Contrast 1   4.6393    3.4292 -2.0819 11.36   0.1761"
      ]
     },
     "metadata": {},
     "output_type": "display_data"
    }
   ],
   "source": [
    "aipw <- PSweight(test ~ smoker + new_surgery, data=ex2, yname=\"recovery\", weight=\"IPW\", \n",
    "                augmentation = TRUE, out.formula = recovery ~ smoker + new_surgery)\n",
    "summary(ipw)"
   ]
  },
  {
   "cell_type": "markdown",
   "id": "e4565646",
   "metadata": {},
   "source": [
    "# AIPW"
   ]
  },
  {
   "cell_type": "markdown",
   "id": "d652613f",
   "metadata": {},
   "source": [
    "Let's examine the Augmented Inverse Propensity Weighting. We start by simulating a simple treatment/control group with a couple of covariates.\n",
    "\n",
    "$$Y_{i} \\sim X_{i}\\beta + W_{i}\\tau + \\epsilon$$\n",
    "\n",
    "To add some realism, we'll have our treatment have a different range of X and fix $\\beta$ and $\\tau$.\n",
    "\n",
    "$$X_{treat} \\sim Normal(\\mu=4, \\sigma=1)$$\n",
    "$$X_{cntl} \\sim Normal(\\mu=6, \\sigma=1)$$\n",
    "$$\\beta = 2$$\n",
    "$$\\tau = 1$$\n",
    "$$\\epsilon \\sim Normal(\\mu=0.1, \\sigma=1)$$"
   ]
  },
  {
   "cell_type": "code",
   "execution_count": 65,
   "id": "c8dbb285",
   "metadata": {},
   "outputs": [
    {
     "name": "stdout",
     "output_type": "stream",
     "text": [
      "       x1               W        epsilon              y         \n",
      " Min.   :0.7636   Min.   :1   Min.   :-3.0884   Min.   : 1.783  \n",
      " 1st Qu.:3.3042   1st Qu.:1   1st Qu.:-0.5677   1st Qu.: 7.595  \n",
      " Median :3.9824   Median :1   Median : 0.1165   Median : 9.068  \n",
      " Mean   :3.9941   Mean   :1   Mean   : 0.1049   Mean   : 9.093  \n",
      " 3rd Qu.:4.7024   3rd Qu.:1   3rd Qu.: 0.7653   3rd Qu.:10.647  \n",
      " Max.   :7.2664   Max.   :1   Max.   : 3.6681   Max.   :16.590  \n",
      "       x1              W        epsilon              y         \n",
      " Min.   :2.297   Min.   :0   Min.   :-3.3593   Min.   : 4.552  \n",
      " 1st Qu.:5.360   1st Qu.:0   1st Qu.:-0.6009   1st Qu.:10.675  \n",
      " Median :6.015   Median :0   Median : 0.1319   Median :12.130  \n",
      " Mean   :6.020   Mean   :0   Mean   : 0.1232   Mean   :12.162  \n",
      " 3rd Qu.:6.677   3rd Qu.:0   3rd Qu.: 0.8067   3rd Qu.:13.664  \n",
      " Max.   :8.922   Max.   :0   Max.   : 3.4768   Max.   :19.044  \n"
     ]
    }
   ],
   "source": [
    "set.seed(0)\n",
    "sz <- 2500\n",
    "beta1 <- 2\n",
    "tau <- 1\n",
    "mu_epsilon <- 0.1\n",
    "dt <- data.table(x1=c(rnorm(sz, 4, 1), rnorm(sz, 6, 1)), \n",
    "                 W=c(rep(1, sz), rep(0, sz)),\n",
    "                 epsilon=rnorm(sz*2, mu_epsilon, 1))\n",
    "dt[, y := x1 * beta1 + W * tau + epsilon]\n",
    "print(summary(dt[W==1]))\n",
    "print(summary(dt[W==0]))"
   ]
  },
  {
   "cell_type": "code",
   "execution_count": 66,
   "id": "1bb63953",
   "metadata": {},
   "outputs": [
    {
     "data": {
      "image/png": "[encoded data removed]",
      "text/plain": [
       "plot without title"
      ]
     },
     "metadata": {
      "image/png": {
       "height": 420,
       "width": 420
      }
     },
     "output_type": "display_data"
    }
   ],
   "source": [
    "ggplot(dt, aes(x1, y, color=factor(W))) +\n",
    "    geom_point()"
   ]
  },
  {
   "cell_type": "markdown",
   "id": "49ef30da",
   "metadata": {},
   "source": [
    "## IPW"
   ]
  },
  {
   "cell_type": "markdown",
   "id": "b3d5815a",
   "metadata": {},
   "source": [
    "First we use a logistic regression to figure out the propensity score $e_i$:"
   ]
  },
  {
   "cell_type": "code",
   "execution_count": 67,
   "id": "23d9724c",
   "metadata": {},
   "outputs": [
    {
     "data": {
      "text/plain": [
       "\n",
       "Call:\n",
       "glm(formula = W ~ x1, family = binomial, data = dt)\n",
       "\n",
       "Deviance Residuals: \n",
       "    Min       1Q   Median       3Q      Max  \n",
       "-3.3240  -0.5003  -0.0041   0.4795   3.0202  \n",
       "\n",
       "Coefficients:\n",
       "            Estimate Std. Error z value Pr(>|z|)    \n",
       "(Intercept)  10.1749     0.2833   35.92   <2e-16 ***\n",
       "x1           -2.0265     0.0556  -36.44   <2e-16 ***\n",
       "---\n",
       "Signif. codes:  0 ‘***’ 0.001 ‘**’ 0.01 ‘*’ 0.05 ‘.’ 0.1 ‘ ’ 1\n",
       "\n",
       "(Dispersion parameter for binomial family taken to be 1)\n",
       "\n",
       "    Null deviance: 6931.5  on 4999  degrees of freedom\n",
       "Residual deviance: 3499.9  on 4998  degrees of freedom\n",
       "AIC: 3503.9\n",
       "\n",
       "Number of Fisher Scoring iterations: 6\n"
      ]
     },
     "metadata": {},
     "output_type": "display_data"
    }
   ],
   "source": [
    "propensity_model <- glm(W ~ x1, data=dt, family=binomial)\n",
    "summary(propensity_model)"
   ]
  },
  {
   "cell_type": "code",
   "execution_count": 68,
   "id": "9525cc43",
   "metadata": {},
   "outputs": [
    {
     "name": "stdout",
     "output_type": "stream",
     "text": [
      "Index: <W>\n",
      "            x1     W    epsilon        y           e\n",
      "         <num> <num>      <num>    <num>       <num>\n",
      "   1: 5.262954     1  0.4925581 12.01847 0.379829337\n",
      "   2: 3.673767     1  0.5582467  8.90578 0.938782155\n",
      "   3: 5.329799     1 -1.1196454 10.53995 0.348479148\n",
      "   4: 5.272429     1 -1.0220983 10.52276 0.375316981\n",
      "   5: 4.414641     1  1.0933303 10.92261 0.773607642\n",
      "  ---                                               \n",
      "4996: 7.863367     0  0.3136543 16.04039 0.003141551\n",
      "4997: 8.162363     0  0.8330922 17.15782 0.001716424\n",
      "4998: 7.175956     0  0.8570839 15.20900 0.012531669\n",
      "4999: 6.619077     0  0.8986270 14.13678 0.037746158\n",
      "5000: 6.008463     0  0.0443967 12.06132 0.119096601\n"
     ]
    }
   ],
   "source": [
    "dt[, e := predict(propensity_model, data=dt, type=\"response\")]\n",
    "print(dt)"
   ]
  },
  {
   "cell_type": "markdown",
   "id": "583b28ec",
   "metadata": {},
   "source": [
    "And now we can estimate the propensity weighted means and see what $\\tau$ we get:"
   ]
  },
  {
   "cell_type": "code",
   "execution_count": 69,
   "id": "426b9a84",
   "metadata": {},
   "outputs": [
    {
     "name": "stdout",
     "output_type": "stream",
     "text": [
      "mu1: 10.8842605617515 \n",
      "mu0: 10.271564796472 \n",
      "[1] 0.6126958\n"
     ]
    }
   ],
   "source": [
    "mu1 <- sum(dt$W * dt$y / dt$e) / sum(dt$W / dt$e)\n",
    "mu0 <- sum((1-dt$W) * dt$y / (1-dt$e)) / sum((1 - dt$W) / (1 - dt$e))\n",
    "cat(paste(\"mu1:\", mu1, \"\\n\"))\n",
    "cat(paste(\"mu0:\", mu0, \"\\n\"))\n",
    "ATE_prop <- mu1 - mu0\n",
    "print(ATE_prop)"
   ]
  },
  {
   "cell_type": "markdown",
   "id": "a3462031",
   "metadata": {},
   "source": [
    "## Regression"
   ]
  },
  {
   "cell_type": "markdown",
   "id": "c332ee5f",
   "metadata": {},
   "source": [
    "Now let's look at a second way of approching the problem. Here we estimate directly $\\mu_{0}$\n",
    "and $\\mu_{1}$ from the treatment and control groups, conditional on X.\n",
    "\n",
    "Note the regression is conducted separately on the two groups. It is not:\n",
    "\n",
    "$$Y \\sim X\\beta + W\\tau + \\epsilon$$\n",
    "\n",
    "but instead:\n",
    "\n",
    "$$Y_{1} \\sim X_{1}\\beta_{1} + \\epsilon$$\n",
    "$$Y_{0} \\sim X_{0}\\beta_{0} + \\epsilon$$\n",
    "\n",
    "One explanation of the serparate regression:\n",
    "\n",
    "\"We emphasize that, throughout our analysis, we defined the target estimand τ = E [∆i] before making any modeling assumptions. Linear modeling was only used as a tool to estimate τ , but did not inform the scientific question we tried to answer. In particular, we did not try to estimate τ by direct regression modeling $Y_{i} \\sim X_{i}\\beta + W_{i}\\tau + \\epsilon_{i}$, while claiming that the coefficient on τ is a causal effect. This approach has the vice of tying our scientific question to our regression modeling strategy: τ appears to just have become a coefficient in our linear model, not a fact of nature that’s conceptually prior to modeling decisions.\" (https://web.stanford.edu/~swager/stats361.pdf, page 8).\n",
    "\n",
    "But another less philosophical is that one cannot make the assumption that both the treatment group and the control group have the exact same relationship between covariates and outcome."
   ]
  },
  {
   "cell_type": "code",
   "execution_count": 70,
   "id": "7c948d32",
   "metadata": {},
   "outputs": [
    {
     "data": {
      "text/plain": [
       "\n",
       "Call:\n",
       "lm(formula = y ~ x1, data = dt[W == 1])\n",
       "\n",
       "Residuals:\n",
       "    Min      1Q  Median      3Q     Max \n",
       "-3.1967 -0.6734  0.0109  0.6597  3.5647 \n",
       "\n",
       "Coefficients:\n",
       "            Estimate Std. Error t value Pr(>|t|)    \n",
       "(Intercept)  1.11934    0.08020   13.96   <2e-16 ***\n",
       "x1           1.99639    0.01946  102.57   <2e-16 ***\n",
       "---\n",
       "Signif. codes:  0 ‘***’ 0.001 ‘**’ 0.01 ‘*’ 0.05 ‘.’ 0.1 ‘ ’ 1\n",
       "\n",
       "Residual standard error: 0.9846 on 2498 degrees of freedom\n",
       "Multiple R-squared:  0.8081,\tAdjusted R-squared:  0.808 \n",
       "F-statistic: 1.052e+04 on 1 and 2498 DF,  p-value: < 2.2e-16\n"
      ]
     },
     "metadata": {},
     "output_type": "display_data"
    }
   ],
   "source": [
    "model_mu1 <- lm(y ~ x1, data=dt[W==1])\n",
    "summary(model_mu1)"
   ]
  },
  {
   "cell_type": "code",
   "execution_count": 71,
   "id": "fdcfa92d",
   "metadata": {},
   "outputs": [
    {
     "data": {
      "text/plain": [
       "\n",
       "Call:\n",
       "lm(formula = y ~ x1, data = dt[W == 0])\n",
       "\n",
       "Residuals:\n",
       "    Min      1Q  Median      3Q     Max \n",
       "-3.4456 -0.7236  0.0143  0.6865  3.3276 \n",
       "\n",
       "Coefficients:\n",
       "            Estimate Std. Error t value Pr(>|t|)    \n",
       "(Intercept) -0.10244    0.12589  -0.814    0.416    \n",
       "x1           2.03749    0.02064  98.705   <2e-16 ***\n",
       "---\n",
       "Signif. codes:  0 ‘***’ 0.001 ‘**’ 0.01 ‘*’ 0.05 ‘.’ 0.1 ‘ ’ 1\n",
       "\n",
       "Residual standard error: 1.01 on 2498 degrees of freedom\n",
       "Multiple R-squared:  0.7959,\tAdjusted R-squared:  0.7958 \n",
       "F-statistic:  9743 on 1 and 2498 DF,  p-value: < 2.2e-16\n"
      ]
     },
     "metadata": {},
     "output_type": "display_data"
    }
   ],
   "source": [
    "model_mu0 <- lm(y ~ x1, data=dt[W==0])\n",
    "summary(model_mu0)"
   ]
  },
  {
   "cell_type": "markdown",
   "id": "d59c8532",
   "metadata": {},
   "source": [
    "Now we've got our models for $\\mu_{1}$, $\\mu_{0}$, we evaluate them conditional on all X:"
   ]
  },
  {
   "cell_type": "code",
   "execution_count": 72,
   "id": "84667194",
   "metadata": {},
   "outputs": [
    {
     "data": {
      "text/html": [
       "1.01601234919936"
      ],
      "text/latex": [
       "1.01601234919936"
      ],
      "text/markdown": [
       "1.01601234919936"
      ],
      "text/plain": [
       "[1] 1.016012"
      ]
     },
     "metadata": {},
     "output_type": "display_data"
    }
   ],
   "source": [
    "ATE_reg <- 1/nrow(dt) * sum(predict(model_mu1, dt) - predict(model_mu0, dt))\n",
    "ATE_reg"
   ]
  },
  {
   "cell_type": "markdown",
   "id": "9f2c6afc-a771-4d33-adeb-eee445d7c702",
   "metadata": {},
   "source": [
    "Note that in this case we have the same generating process, so the combined regression gives a similar results for the ATE:"
   ]
  },
  {
   "cell_type": "code",
   "execution_count": 73,
   "id": "ac55948d-a4d8-4b63-9938-b3e29f6d7bc3",
   "metadata": {},
   "outputs": [
    {
     "data": {
      "text/plain": [
       "\n",
       "Call:\n",
       "lm(formula = y ~ x1 + W, data = dt)\n",
       "\n",
       "Residuals:\n",
       "    Min      1Q  Median      3Q     Max \n",
       "-3.4586 -0.6994  0.0146  0.6739  3.5563 \n",
       "\n",
       "Coefficients:\n",
       "            Estimate Std. Error t value Pr(>|t|)    \n",
       "(Intercept)  0.02542    0.08762    0.29    0.772    \n",
       "x1           2.01625    0.01417  142.26   <2e-16 ***\n",
       "W            1.01461    0.04025   25.21   <2e-16 ***\n",
       "---\n",
       "Signif. codes:  0 ‘***’ 0.001 ‘**’ 0.01 ‘*’ 0.05 ‘.’ 0.1 ‘ ’ 1\n",
       "\n",
       "Residual standard error: 0.9973 on 4997 degrees of freedom\n",
       "Multiple R-squared:  0.8652,\tAdjusted R-squared:  0.8652 \n",
       "F-statistic: 1.604e+04 on 2 and 4997 DF,  p-value: < 2.2e-16\n"
      ]
     },
     "metadata": {},
     "output_type": "display_data"
    }
   ],
   "source": [
    "model_t <- lm(y ~ x1 + W, data=dt)\n",
    "summary(model_t)"
   ]
  },
  {
   "cell_type": "markdown",
   "id": "2bb9c306",
   "metadata": {},
   "source": [
    "## IPW + regression = AIPW"
   ]
  },
  {
   "cell_type": "markdown",
   "id": "74e2d7be",
   "metadata": {},
   "source": [
    "We now use both the IPW and the regression to get the Augmented IPW; for this, the idea is to calculate $\\mu_0$ and $\\mu_1$, and then to use the IPW on the residuals of the regression instead of directly on the Y.\n",
    "\n",
    "$$\\tau_{\\text{AIPW}} = \\frac{1}{n} \\sum_{i=1}^{n} \\left( \\hat{\\mu}(1)(X_i) - \\hat{\\mu}(0)(X_i) + \\frac{T_i(Y_i - \\hat{\\mu}(1)(X_i))}{\\hat{e}(X_i)} - \\frac{(1 - T_i)(Y_i - \\hat{\\mu}(0)(X_i))}{1 - \\hat{e}(X_i)} \\right)$$\n"
   ]
  },
  {
   "cell_type": "code",
   "execution_count": 74,
   "id": "74dbf63c",
   "metadata": {},
   "outputs": [
    {
     "data": {
      "text/html": [
       "0.957675006921489"
      ],
      "text/latex": [
       "0.957675006921489"
      ],
      "text/markdown": [
       "0.957675006921489"
      ],
      "text/plain": [
       "[1] 0.957675"
      ]
     },
     "metadata": {},
     "output_type": "display_data"
    }
   ],
   "source": [
    "ATE_aipw <- 1/nrow(dt) * sum(predict(model_mu1, dt) - predict(model_mu0, dt) + \n",
    "                             dt$W * (dt$y - predict(model_mu1, dt)) / dt$e -\n",
    "                             (1-dt$W) * (dt$y - predict(model_mu0, dt)) / (1-dt$e))\n",
    "ATE_aipw"
   ]
  },
  {
   "cell_type": "markdown",
   "id": "523dda74",
   "metadata": {},
   "source": [
    "## Let's get some confirmation using the package PSweight"
   ]
  },
  {
   "cell_type": "code",
   "execution_count": 79,
   "id": "d0be4ece",
   "metadata": {},
   "outputs": [
    {
     "data": {
      "text/html": [
       "<strong>1:</strong> 0.612695765279518"
      ],
      "text/latex": [
       "\\textbf{1:} 0.612695765279518"
      ],
      "text/markdown": [
       "**1:** 0.612695765279518"
      ],
      "text/plain": [
       "        1 \n",
       "0.6126958 "
      ]
     },
     "metadata": {},
     "output_type": "display_data"
    },
    {
     "data": {
      "text/plain": [
       "Original group value:  0, 1 \n",
       "\n",
       "Point estimate: \n",
       "10.2716, 10.8843 "
      ]
     },
     "metadata": {},
     "output_type": "display_data"
    },
    {
     "data": {
      "text/plain": [
       "\n",
       "Closed-form inference: \n",
       "\n",
       "Original group value:  0, 1 \n",
       "\n",
       "Contrast: \n",
       "            0 1\n",
       "Contrast 1 -1 1\n",
       "\n",
       "           Estimate Std.Error      lwr    upr Pr(>|z|)  \n",
       "Contrast 1 0.612696  0.306027 0.012893 1.2125  0.04527 *\n",
       "---\n",
       "Signif. codes:  0 ‘***’ 0.001 ‘**’ 0.01 ‘*’ 0.05 ‘.’ 0.1 ‘ ’ 1"
      ]
     },
     "metadata": {},
     "output_type": "display_data"
    }
   ],
   "source": [
    "ipw <- PSweight(W ~ x1, data=dt, yname=\"y\", weight=\"IPW\")\n",
    "ipw$muhat[\"1\"] - ipw$muhat[\"0\"]\n",
    "ipw\n",
    "summary(ipw)"
   ]
  },
  {
   "cell_type": "code",
   "execution_count": 78,
   "id": "153d9681",
   "metadata": {},
   "outputs": [
    {
     "data": {
      "text/html": [
       "<strong>1:</strong> 0.956499270291012"
      ],
      "text/latex": [
       "\\textbf{1:} 0.956499270291012"
      ],
      "text/markdown": [
       "**1:** 0.956499270291012"
      ],
      "text/plain": [
       "        1 \n",
       "0.9564993 "
      ]
     },
     "metadata": {},
     "output_type": "display_data"
    },
    {
     "data": {
      "text/plain": [
       "Original group value:  0, 1 \n",
       "\n",
       "Point estimate: \n",
       "10.1628, 11.1193 "
      ]
     },
     "metadata": {},
     "output_type": "display_data"
    },
    {
     "data": {
      "text/plain": [
       "\n",
       "Closed-form inference: \n",
       "\n",
       "Original group value:  0, 1 \n",
       "\n",
       "Contrast: \n",
       "            0 1\n",
       "Contrast 1 -1 1\n",
       "\n",
       "           Estimate Std.Error      lwr    upr  Pr(>|z|)    \n",
       "Contrast 1 0.956499  0.054664 0.849361 1.0636 < 2.2e-16 ***\n",
       "---\n",
       "Signif. codes:  0 ‘***’ 0.001 ‘**’ 0.01 ‘*’ 0.05 ‘.’ 0.1 ‘ ’ 1"
      ]
     },
     "metadata": {},
     "output_type": "display_data"
    }
   ],
   "source": [
    "aug = PSweight(W ~ x1, data=dt, yname=\"y\", weight=\"IPW\", augmentation = TRUE, out.formula = y ~ x1)\n",
    "aug$muhat[\"1\"] - aug$muhat[\"0\"]\n",
    "aug\n",
    "summary(aug)"
   ]
  },
  {
   "cell_type": "markdown",
   "id": "13faebe6-5758-4b9a-ac42-6d691648a94f",
   "metadata": {},
   "source": [
    "# Variance considerations\n",
    "\n",
    "The derivation of the exact variance is complex and involves m-estimators. Asymptotic variances are easier, but can be off - it's not clear to me by how much. `PSweight` provides additinally a boostrap calculation of the variance, and maybe in the end that is the wisest, but the default of 50 iterations is in my experience way too small, and multiple runs show large differences.\n",
    "\n",
    "Still in `PSweight`, there is an explicit note that says that if the propensity is not obtained with a GLM model, the variance is calculated without the component linked to the estimation of the propensity score, that is as if the propensity scores were fixed.\n",
    "\n",
    "Let's play around with the estimation of the variance as provided by the `PSweight` package."
   ]
  },
  {
   "cell_type": "code",
   "execution_count": 97,
   "id": "7ee8f0a2-0c64-4cb4-a05a-8c41d56584d8",
   "metadata": {},
   "outputs": [],
   "source": [
    "set.seed(0)\n",
    "N <-1000\n",
    "vex <- data.table(x0=rep(1, N), x4=rbinom(N, 1, 0.5))\n",
    "vex[, x3 := rbinom(1, 1, 0.6*x4 + 0.4*(1 - x4)), by=1:N]\n",
    "vex[, c(\"x1\", \"x2\") := as.list(mvrnorm(1, \n",
    "                                       c(-x3 + x4 + 0.5*x3*x4, x3-x4+x3*x4),\n",
    "                                       x3 * matrix(c(1, 0.5, 0.5, 1), 2, 2) + (1-x3)*matrix(c(2, 0.25, 0.25, 2), 2, 2))), by=1:N]\n",
    "vex[, e_good := plogis(-1.5*x0 + 0.5*x1 -0.75*x2 + 2*x3 -0.5*x4)]  # good overlap\n",
    "vex[, e_poor := plogis(-1  *x0 + 0.4*x1 -1.5 *x2 + 2*x3 -1.5*x4)]  # poor overlap\n",
    "vex[, delta := 1]  # homogenous treatment effect\n",
    "vex[, Tgood := rbinom(1, 1, e_good), by=1:N]\n",
    "vex[, Tpoor := rbinom(1, 1, e_poor), by=1:N]\n",
    "vex[, Ygood := delta*Tgood + 0.5*x0 + 1*x1 + 0.6*x2 + 2.2*x3 -1.2*x4 + rnorm(N, 0, 1)]\n",
    "vex[, Ypoor := delta*Tpoor + 0.5*x0 + 1*x1 + 0.6*x2 + 2.2*x3 -1.2*x4 + rnorm(N, 0, 1)]"
   ]
  },
  {
   "cell_type": "code",
   "execution_count": 31,
   "id": "cafdc436-e0d0-4d64-9bdd-d91d12a27e27",
   "metadata": {
    "scrolled": true
   },
   "outputs": [
    {
     "data": {
      "text/html": [
       "<table class=\"dataframe\">\n",
       "<caption>A data.table: 1000 × 12</caption>\n",
       "<thead>\n",
       "\t<tr><th scope=col>x0</th><th scope=col>x4</th><th scope=col>x3</th><th scope=col>x1</th><th scope=col>x2</th><th scope=col>e_good</th><th scope=col>e_poor</th><th scope=col>delta</th><th scope=col>Tgood</th><th scope=col>Tpoor</th><th scope=col>Ygood</th><th scope=col>Ypoor</th></tr>\n",
       "\t<tr><th scope=col>&lt;dbl&gt;</th><th scope=col>&lt;int&gt;</th><th scope=col>&lt;int&gt;</th><th scope=col>&lt;dbl&gt;</th><th scope=col>&lt;dbl&gt;</th><th scope=col>&lt;dbl&gt;</th><th scope=col>&lt;dbl&gt;</th><th scope=col>&lt;dbl&gt;</th><th scope=col>&lt;int&gt;</th><th scope=col>&lt;int&gt;</th><th scope=col>&lt;dbl&gt;</th><th scope=col>&lt;dbl&gt;</th></tr>\n",
       "</thead>\n",
       "<tbody>\n",
       "\t<tr><td>1</td><td>1</td><td>0</td><td>-0.17220629</td><td> 0.753593685</td><td>0.06590903</td><td>0.02414414</td><td>1</td><td>0</td><td>0</td><td> 0.71304847</td><td>-0.9905393</td></tr>\n",
       "\t<tr><td>1</td><td>1</td><td>1</td><td> 1.72246373</td><td> 2.214939748</td><td>0.31003131</td><td>0.04174940</td><td>1</td><td>0</td><td>0</td><td> 3.59487991</td><td> 6.8654144</td></tr>\n",
       "\t<tr><td>1</td><td>0</td><td>1</td><td>-0.92576006</td><td> 2.594926542</td><td>0.12908481</td><td>0.03687342</td><td>1</td><td>1</td><td>0</td><td> 5.21245917</td><td> 3.6077666</td></tr>\n",
       "\t<tr><td>1</td><td>1</td><td>1</td><td> 1.65565919</td><td> 2.339295684</td><td>0.28360644</td><td>0.03400406</td><td>1</td><td>1</td><td>0</td><td> 5.90923724</td><td> 4.2983244</td></tr>\n",
       "\t<tr><td>1</td><td>0</td><td>1</td><td>-1.58273625</td><td> 0.667351954</td><td>0.31176469</td><td>0.34657638</td><td>1</td><td>0</td><td>1</td><td> 2.05359414</td><td> 3.6759713</td></tr>\n",
       "\t<tr><td>1</td><td>0</td><td>0</td><td>-1.31954053</td><td> 0.022523379</td><td>0.10186584</td><td>0.17341699</td><td>1</td><td>0</td><td>0</td><td> 0.15571441</td><td>-1.2550524</td></tr>\n",
       "\t<tr><td>1</td><td>1</td><td>1</td><td> 0.24539895</td><td> 1.524057512</td><td>0.26496047</td><td>0.06368954</td><td>1</td><td>0</td><td>0</td><td> 1.76016674</td><td> 1.8054792</td></tr>\n",
       "\t<tr><td>1</td><td>1</td><td>1</td><td>-0.81269811</td><td> 0.974337128</td><td>0.24285285</td><td>0.09224010</td><td>1</td><td>1</td><td>0</td><td> 4.12444034</td><td> 0.6636942</td></tr>\n",
       "\t<tr><td>1</td><td>1</td><td>0</td><td> 3.69640397</td><td> 0.876239669</td><td>0.30810837</td><td>0.08820127</td><td>1</td><td>0</td><td>0</td><td> 2.52203306</td><td> 4.8031806</td></tr>\n",
       "\t<tr><td>1</td><td>1</td><td>1</td><td>-0.79927517</td><td> 1.023727411</td><td>0.23731927</td><td>0.08664533</td><td>1</td><td>0</td><td>0</td><td> 2.49893354</td><td> 1.3116614</td></tr>\n",
       "\t<tr><td>1</td><td>1</td><td>1</td><td> 1.35282003</td><td> 1.791313543</td><td>0.33915207</td><td>0.06624573</td><td>1</td><td>0</td><td>0</td><td> 4.56430431</td><td> 2.2037567</td></tr>\n",
       "\t<tr><td>1</td><td>0</td><td>0</td><td>-0.70391037</td><td>-0.755437506</td><td>0.21663632</td><td>0.46296597</td><td>1</td><td>0</td><td>1</td><td> 0.01679628</td><td> 0.7270131</td></tr>\n",
       "\t<tr><td>1</td><td>1</td><td>0</td><td> 1.29737321</td><td>-4.659787032</td><td>0.89506234</td><td>0.99336428</td><td>1</td><td>1</td><td>1</td><td>-0.65911863</td><td>-0.8151753</td></tr>\n",
       "\t<tr><td>1</td><td>0</td><td>1</td><td>-0.28942598</td><td> 3.063019364</td><td>0.12543077</td><td>0.02388571</td><td>1</td><td>0</td><td>0</td><td> 3.84760449</td><td> 4.0130819</td></tr>\n",
       "\t<tr><td>1</td><td>0</td><td>0</td><td>-1.78259041</td><td>-2.289065673</td><td>0.33749085</td><td>0.84820126</td><td>1</td><td>0</td><td>1</td><td>-2.07027226</td><td>-2.7253086</td></tr>\n",
       "\t<tr><td>1</td><td>0</td><td>1</td><td> 0.04582208</td><td> 1.132420048</td><td>0.41911584</td><td>0.33619407</td><td>1</td><td>0</td><td>1</td><td> 3.48958777</td><td> 4.1809058</td></tr>\n",
       "\t<tr><td>1</td><td>1</td><td>1</td><td> 1.50535274</td><td> 1.189894726</td><td>0.46512057</td><td>0.15673814</td><td>1</td><td>1</td><td>0</td><td> 4.77619898</td><td> 4.7557256</td></tr>\n",
       "\t<tr><td>1</td><td>1</td><td>0</td><td> 4.43944843</td><td>-0.783374089</td><td>0.69152421</td><td>0.61083905</td><td>1</td><td>0</td><td>1</td><td> 2.62239084</td><td> 3.1091938</td></tr>\n",
       "\t<tr><td>1</td><td>0</td><td>1</td><td>-1.24288964</td><td> 0.735352642</td><td>0.33783452</td><td>0.35430141</td><td>1</td><td>0</td><td>0</td><td> 0.24110327</td><td> 1.3963345</td></tr>\n",
       "\t<tr><td>1</td><td>1</td><td>1</td><td> 0.69599573</td><td> 1.545236107</td><td>0.30769252</td><td>0.07313805</td><td>1</td><td>0</td><td>0</td><td> 2.91101758</td><td> 3.0953349</td></tr>\n",
       "\t<tr><td>1</td><td>0</td><td>0</td><td>-3.92161301</td><td> 0.619299603</td><td>0.01935459</td><td>0.02938075</td><td>1</td><td>0</td><td>0</td><td>-4.01652169</td><td>-2.8628186</td></tr>\n",
       "\t<tr><td>1</td><td>1</td><td>1</td><td> 0.21096430</td><td>-0.482291480</td><td>0.61472100</td><td>0.57635378</td><td>1</td><td>0</td><td>0</td><td> 0.86818993</td><td> 0.5753008</td></tr>\n",
       "\t<tr><td>1</td><td>0</td><td>0</td><td> 0.75508757</td><td> 0.265564268</td><td>0.21054733</td><td>0.25043167</td><td>1</td><td>0</td><td>0</td><td> 2.82373120</td><td>-0.4859721</td></tr>\n",
       "\t<tr><td>1</td><td>1</td><td>1</td><td> 0.35260140</td><td>-0.001258133</td><td>0.54419543</td><td>0.41166848</td><td>1</td><td>0</td><td>0</td><td> 3.15382571</td><td> 3.1806334</td></tr>\n",
       "\t<tr><td>1</td><td>0</td><td>1</td><td>-1.21828408</td><td> 1.570373734</td><td>0.21637419</td><td>0.13671172</td><td>1</td><td>0</td><td>0</td><td> 3.53846655</td><td> 2.0897545</td></tr>\n",
       "\t<tr><td>1</td><td>0</td><td>0</td><td>-1.70068650</td><td> 0.835064811</td><td>0.04849234</td><td>0.05055231</td><td>1</td><td>0</td><td>1</td><td>-0.12959288</td><td> 0.4143652</td></tr>\n",
       "\t<tr><td>1</td><td>0</td><td>0</td><td>-0.94876183</td><td> 1.096017793</td><td>0.05751933</td><td>0.04637405</td><td>1</td><td>0</td><td>0</td><td>-0.31716360</td><td> 0.5686480</td></tr>\n",
       "\t<tr><td>1</td><td>1</td><td>1</td><td> 0.69711361</td><td> 0.595186304</td><td>0.47556126</td><td>0.24713819</td><td>1</td><td>1</td><td>0</td><td> 2.21068971</td><td> 2.9900799</td></tr>\n",
       "\t<tr><td>1</td><td>1</td><td>1</td><td> 0.84190767</td><td> 1.127828546</td><td>0.39534062</td><td>0.13528928</td><td>1</td><td>1</td><td>0</td><td> 4.68154174</td><td> 1.2326236</td></tr>\n",
       "\t<tr><td>1</td><td>1</td><td>1</td><td> 0.29220291</td><td> 1.723263126</td><td>0.24115715</td><td>0.04889201</td><td>1</td><td>0</td><td>0</td><td> 2.64830204</td><td> 3.4383947</td></tr>\n",
       "\t<tr><td>⋮</td><td>⋮</td><td>⋮</td><td>⋮</td><td>⋮</td><td>⋮</td><td>⋮</td><td>⋮</td><td>⋮</td><td>⋮</td><td>⋮</td><td>⋮</td></tr>\n",
       "\t<tr><td>1</td><td>0</td><td>1</td><td> 0.80283326</td><td> 2.8826172</td><td>0.22087986</td><td>0.047299874</td><td>1</td><td>0</td><td>0</td><td> 5.3945112</td><td> 5.0994659</td></tr>\n",
       "\t<tr><td>1</td><td>0</td><td>1</td><td>-0.91310264</td><td> 2.1316394</td><td>0.17432486</td><td>0.071577898</td><td>1</td><td>0</td><td>0</td><td> 0.9226851</td><td> 1.7494436</td></tr>\n",
       "\t<tr><td>1</td><td>1</td><td>0</td><td> 3.59339916</td><td>-0.2318864</td><td>0.49265413</td><td>0.328536731</td><td>1</td><td>0</td><td>0</td><td> 3.9229063</td><td> 2.6153407</td></tr>\n",
       "\t<tr><td>1</td><td>1</td><td>1</td><td> 0.52085954</td><td> 1.4964496</td><td>0.29694098</td><td>0.073350190</td><td>1</td><td>0</td><td>0</td><td> 2.8625286</td><td> 2.5868375</td></tr>\n",
       "\t<tr><td>1</td><td>1</td><td>1</td><td>-0.50948374</td><td> 1.1340374</td><td>0.24875378</td><td>0.082803641</td><td>1</td><td>0</td><td>0</td><td> 1.3096907</td><td>-0.4902307</td></tr>\n",
       "\t<tr><td>1</td><td>1</td><td>1</td><td>-0.26386281</td><td>-0.3732598</td><td>0.53693595</td><td>0.488588120</td><td>1</td><td>1</td><td>0</td><td> 1.8038643</td><td> 0.7585984</td></tr>\n",
       "\t<tr><td>1</td><td>0</td><td>0</td><td> 0.82132715</td><td>-1.4990764</td><td>0.50874182</td><td>0.828799857</td><td>1</td><td>0</td><td>0</td><td> 1.3002880</td><td>-1.0596853</td></tr>\n",
       "\t<tr><td>1</td><td>1</td><td>1</td><td> 0.07136040</td><td> 1.4785436</td><td>0.25478978</td><td>0.063609410</td><td>1</td><td>1</td><td>0</td><td> 4.6138795</td><td> 1.7396370</td></tr>\n",
       "\t<tr><td>1</td><td>0</td><td>0</td><td> 0.10927215</td><td> 0.8837436</td><td>0.10830512</td><td>0.092632587</td><td>1</td><td>0</td><td>0</td><td> 0.3622116</td><td> 1.3403413</td></tr>\n",
       "\t<tr><td>1</td><td>0</td><td>1</td><td>-1.74168562</td><td>-0.6918991</td><td>0.53695287</td><td>0.792682994</td><td>1</td><td>1</td><td>1</td><td> 0.9075603</td><td> 2.6816079</td></tr>\n",
       "\t<tr><td>1</td><td>1</td><td>0</td><td>-1.06017222</td><td> 1.8557704</td><td>0.01941861</td><td>0.003309232</td><td>1</td><td>0</td><td>0</td><td> 0.2240187</td><td>-1.3385858</td></tr>\n",
       "\t<tr><td>1</td><td>1</td><td>1</td><td> 2.19724507</td><td> 1.3868352</td><td>0.51461987</td><td>0.154288415</td><td>1</td><td>0</td><td>0</td><td> 6.1538444</td><td> 3.9945245</td></tr>\n",
       "\t<tr><td>1</td><td>1</td><td>1</td><td>-1.41083509</td><td>-0.8094578</td><td>0.47543873</td><td>0.537393208</td><td>1</td><td>1</td><td>1</td><td> 0.9851928</td><td> 1.9319051</td></tr>\n",
       "\t<tr><td>1</td><td>1</td><td>1</td><td> 0.72135405</td><td> 1.9490615</td><td>0.24953027</td><td>0.041684383</td><td>1</td><td>1</td><td>0</td><td> 4.4191911</td><td> 3.7812321</td></tr>\n",
       "\t<tr><td>1</td><td>0</td><td>0</td><td>-0.90980304</td><td> 1.9215190</td><td>0.03241943</td><td>0.014116418</td><td>1</td><td>0</td><td>0</td><td> 0.1485565</td><td> 0.6241444</td></tr>\n",
       "\t<tr><td>1</td><td>1</td><td>1</td><td> 0.74492154</td><td> 0.7028711</td><td>0.46140379</td><td>0.221604916</td><td>1</td><td>0</td><td>0</td><td> 2.1071496</td><td> 1.7959924</td></tr>\n",
       "\t<tr><td>1</td><td>1</td><td>0</td><td>-1.03229617</td><td>-1.2193559</td><td>0.16775376</td><td>0.252771597</td><td>1</td><td>0</td><td>0</td><td>-1.2013768</td><td>-1.6347326</td></tr>\n",
       "\t<tr><td>1</td><td>0</td><td>0</td><td>-1.08051786</td><td>-1.5477091</td><td>0.29328614</td><td>0.708757351</td><td>1</td><td>0</td><td>0</td><td>-0.5810226</td><td>-1.3234920</td></tr>\n",
       "\t<tr><td>1</td><td>1</td><td>1</td><td>-0.31352753</td><td> 2.3904949</td><td>0.12459317</td><td>0.014612562</td><td>1</td><td>0</td><td>0</td><td> 1.7142713</td><td> 3.7902123</td></tr>\n",
       "\t<tr><td>1</td><td>0</td><td>0</td><td> 0.20977433</td><td> 2.0008923</td><td>0.05236246</td><td>0.019504195</td><td>1</td><td>0</td><td>0</td><td> 3.1567582</td><td> 1.1091721</td></tr>\n",
       "\t<tr><td>1</td><td>1</td><td>1</td><td> 0.98462202</td><td>-0.1624116</td><td>0.64887999</td><td>0.534312546</td><td>1</td><td>1</td><td>1</td><td> 4.6864020</td><td> 4.0515098</td></tr>\n",
       "\t<tr><td>1</td><td>1</td><td>1</td><td>-1.30413020</td><td>-1.3057013</td><td>0.58108059</td><td>0.718473025</td><td>1</td><td>1</td><td>1</td><td> 0.5176388</td><td>-0.7775702</td></tr>\n",
       "\t<tr><td>1</td><td>1</td><td>0</td><td>-0.54470807</td><td>-2.3806243</td><td>0.38062746</td><td>0.701207232</td><td>1</td><td>0</td><td>1</td><td>-2.2814831</td><td>-1.8275017</td></tr>\n",
       "\t<tr><td>1</td><td>1</td><td>1</td><td> 0.03821217</td><td> 0.0390043</td><td>0.49746324</td><td>0.367438481</td><td>1</td><td>0</td><td>1</td><td> 1.2563766</td><td> 2.7987881</td></tr>\n",
       "\t<tr><td>1</td><td>0</td><td>1</td><td>-0.10778752</td><td> 2.0688769</td><td>0.24870117</td><td>0.104665261</td><td>1</td><td>0</td><td>0</td><td> 3.9770556</td><td> 3.5409876</td></tr>\n",
       "\t<tr><td>1</td><td>0</td><td>0</td><td> 0.13037346</td><td> 0.1478542</td><td>0.17570762</td><td>0.236921514</td><td>1</td><td>1</td><td>0</td><td> 1.3060931</td><td> 0.4335340</td></tr>\n",
       "\t<tr><td>1</td><td>1</td><td>1</td><td> 0.41599140</td><td> 2.9072355</td><td>0.12212802</td><td>0.009062947</td><td>1</td><td>1</td><td>0</td><td> 4.9936820</td><td> 6.1881666</td></tr>\n",
       "\t<tr><td>1</td><td>1</td><td>1</td><td> 2.63637447</td><td> 3.8156215</td><td>0.17602287</td><td>0.005658722</td><td>1</td><td>0</td><td>0</td><td> 7.6164509</td><td> 6.0284838</td></tr>\n",
       "\t<tr><td>1</td><td>1</td><td>1</td><td> 0.28626357</td><td> 0.8929407</td><td>0.37131636</td><td>0.151240364</td><td>1</td><td>0</td><td>0</td><td> 1.4747011</td><td> 2.9600597</td></tr>\n",
       "\t<tr><td>1</td><td>1</td><td>0</td><td> 0.60249478</td><td>-2.3632928</td><td>0.51842091</td><td>0.783458719</td><td>1</td><td>0</td><td>1</td><td>-1.6506892</td><td>-1.1945561</td></tr>\n",
       "</tbody>\n",
       "</table>\n"
      ],
      "text/latex": [
       "A data.table: 1000 × 12\n",
       "\\begin{tabular}{llllllllllll}\n",
       " x0 & x4 & x3 & x1 & x2 & e\\_good & e\\_poor & delta & Tgood & Tpoor & Ygood & Ypoor\\\\\n",
       " <dbl> & <int> & <int> & <dbl> & <dbl> & <dbl> & <dbl> & <dbl> & <int> & <int> & <dbl> & <dbl>\\\\\n",
       "\\hline\n",
       "\t 1 & 1 & 0 & -0.17220629 &  0.753593685 & 0.06590903 & 0.02414414 & 1 & 0 & 0 &  0.71304847 & -0.9905393\\\\\n",
       "\t 1 & 1 & 1 &  1.72246373 &  2.214939748 & 0.31003131 & 0.04174940 & 1 & 0 & 0 &  3.59487991 &  6.8654144\\\\\n",
       "\t 1 & 0 & 1 & -0.92576006 &  2.594926542 & 0.12908481 & 0.03687342 & 1 & 1 & 0 &  5.21245917 &  3.6077666\\\\\n",
       "\t 1 & 1 & 1 &  1.65565919 &  2.339295684 & 0.28360644 & 0.03400406 & 1 & 1 & 0 &  5.90923724 &  4.2983244\\\\\n",
       "\t 1 & 0 & 1 & -1.58273625 &  0.667351954 & 0.31176469 & 0.34657638 & 1 & 0 & 1 &  2.05359414 &  3.6759713\\\\\n",
       "\t 1 & 0 & 0 & -1.31954053 &  0.022523379 & 0.10186584 & 0.17341699 & 1 & 0 & 0 &  0.15571441 & -1.2550524\\\\\n",
       "\t 1 & 1 & 1 &  0.24539895 &  1.524057512 & 0.26496047 & 0.06368954 & 1 & 0 & 0 &  1.76016674 &  1.8054792\\\\\n",
       "\t 1 & 1 & 1 & -0.81269811 &  0.974337128 & 0.24285285 & 0.09224010 & 1 & 1 & 0 &  4.12444034 &  0.6636942\\\\\n",
       "\t 1 & 1 & 0 &  3.69640397 &  0.876239669 & 0.30810837 & 0.08820127 & 1 & 0 & 0 &  2.52203306 &  4.8031806\\\\\n",
       "\t 1 & 1 & 1 & -0.79927517 &  1.023727411 & 0.23731927 & 0.08664533 & 1 & 0 & 0 &  2.49893354 &  1.3116614\\\\\n",
       "\t 1 & 1 & 1 &  1.35282003 &  1.791313543 & 0.33915207 & 0.06624573 & 1 & 0 & 0 &  4.56430431 &  2.2037567\\\\\n",
       "\t 1 & 0 & 0 & -0.70391037 & -0.755437506 & 0.21663632 & 0.46296597 & 1 & 0 & 1 &  0.01679628 &  0.7270131\\\\\n",
       "\t 1 & 1 & 0 &  1.29737321 & -4.659787032 & 0.89506234 & 0.99336428 & 1 & 1 & 1 & -0.65911863 & -0.8151753\\\\\n",
       "\t 1 & 0 & 1 & -0.28942598 &  3.063019364 & 0.12543077 & 0.02388571 & 1 & 0 & 0 &  3.84760449 &  4.0130819\\\\\n",
       "\t 1 & 0 & 0 & -1.78259041 & -2.289065673 & 0.33749085 & 0.84820126 & 1 & 0 & 1 & -2.07027226 & -2.7253086\\\\\n",
       "\t 1 & 0 & 1 &  0.04582208 &  1.132420048 & 0.41911584 & 0.33619407 & 1 & 0 & 1 &  3.48958777 &  4.1809058\\\\\n",
       "\t 1 & 1 & 1 &  1.50535274 &  1.189894726 & 0.46512057 & 0.15673814 & 1 & 1 & 0 &  4.77619898 &  4.7557256\\\\\n",
       "\t 1 & 1 & 0 &  4.43944843 & -0.783374089 & 0.69152421 & 0.61083905 & 1 & 0 & 1 &  2.62239084 &  3.1091938\\\\\n",
       "\t 1 & 0 & 1 & -1.24288964 &  0.735352642 & 0.33783452 & 0.35430141 & 1 & 0 & 0 &  0.24110327 &  1.3963345\\\\\n",
       "\t 1 & 1 & 1 &  0.69599573 &  1.545236107 & 0.30769252 & 0.07313805 & 1 & 0 & 0 &  2.91101758 &  3.0953349\\\\\n",
       "\t 1 & 0 & 0 & -3.92161301 &  0.619299603 & 0.01935459 & 0.02938075 & 1 & 0 & 0 & -4.01652169 & -2.8628186\\\\\n",
       "\t 1 & 1 & 1 &  0.21096430 & -0.482291480 & 0.61472100 & 0.57635378 & 1 & 0 & 0 &  0.86818993 &  0.5753008\\\\\n",
       "\t 1 & 0 & 0 &  0.75508757 &  0.265564268 & 0.21054733 & 0.25043167 & 1 & 0 & 0 &  2.82373120 & -0.4859721\\\\\n",
       "\t 1 & 1 & 1 &  0.35260140 & -0.001258133 & 0.54419543 & 0.41166848 & 1 & 0 & 0 &  3.15382571 &  3.1806334\\\\\n",
       "\t 1 & 0 & 1 & -1.21828408 &  1.570373734 & 0.21637419 & 0.13671172 & 1 & 0 & 0 &  3.53846655 &  2.0897545\\\\\n",
       "\t 1 & 0 & 0 & -1.70068650 &  0.835064811 & 0.04849234 & 0.05055231 & 1 & 0 & 1 & -0.12959288 &  0.4143652\\\\\n",
       "\t 1 & 0 & 0 & -0.94876183 &  1.096017793 & 0.05751933 & 0.04637405 & 1 & 0 & 0 & -0.31716360 &  0.5686480\\\\\n",
       "\t 1 & 1 & 1 &  0.69711361 &  0.595186304 & 0.47556126 & 0.24713819 & 1 & 1 & 0 &  2.21068971 &  2.9900799\\\\\n",
       "\t 1 & 1 & 1 &  0.84190767 &  1.127828546 & 0.39534062 & 0.13528928 & 1 & 1 & 0 &  4.68154174 &  1.2326236\\\\\n",
       "\t 1 & 1 & 1 &  0.29220291 &  1.723263126 & 0.24115715 & 0.04889201 & 1 & 0 & 0 &  2.64830204 &  3.4383947\\\\\n",
       "\t ⋮ & ⋮ & ⋮ & ⋮ & ⋮ & ⋮ & ⋮ & ⋮ & ⋮ & ⋮ & ⋮ & ⋮\\\\\n",
       "\t 1 & 0 & 1 &  0.80283326 &  2.8826172 & 0.22087986 & 0.047299874 & 1 & 0 & 0 &  5.3945112 &  5.0994659\\\\\n",
       "\t 1 & 0 & 1 & -0.91310264 &  2.1316394 & 0.17432486 & 0.071577898 & 1 & 0 & 0 &  0.9226851 &  1.7494436\\\\\n",
       "\t 1 & 1 & 0 &  3.59339916 & -0.2318864 & 0.49265413 & 0.328536731 & 1 & 0 & 0 &  3.9229063 &  2.6153407\\\\\n",
       "\t 1 & 1 & 1 &  0.52085954 &  1.4964496 & 0.29694098 & 0.073350190 & 1 & 0 & 0 &  2.8625286 &  2.5868375\\\\\n",
       "\t 1 & 1 & 1 & -0.50948374 &  1.1340374 & 0.24875378 & 0.082803641 & 1 & 0 & 0 &  1.3096907 & -0.4902307\\\\\n",
       "\t 1 & 1 & 1 & -0.26386281 & -0.3732598 & 0.53693595 & 0.488588120 & 1 & 1 & 0 &  1.8038643 &  0.7585984\\\\\n",
       "\t 1 & 0 & 0 &  0.82132715 & -1.4990764 & 0.50874182 & 0.828799857 & 1 & 0 & 0 &  1.3002880 & -1.0596853\\\\\n",
       "\t 1 & 1 & 1 &  0.07136040 &  1.4785436 & 0.25478978 & 0.063609410 & 1 & 1 & 0 &  4.6138795 &  1.7396370\\\\\n",
       "\t 1 & 0 & 0 &  0.10927215 &  0.8837436 & 0.10830512 & 0.092632587 & 1 & 0 & 0 &  0.3622116 &  1.3403413\\\\\n",
       "\t 1 & 0 & 1 & -1.74168562 & -0.6918991 & 0.53695287 & 0.792682994 & 1 & 1 & 1 &  0.9075603 &  2.6816079\\\\\n",
       "\t 1 & 1 & 0 & -1.06017222 &  1.8557704 & 0.01941861 & 0.003309232 & 1 & 0 & 0 &  0.2240187 & -1.3385858\\\\\n",
       "\t 1 & 1 & 1 &  2.19724507 &  1.3868352 & 0.51461987 & 0.154288415 & 1 & 0 & 0 &  6.1538444 &  3.9945245\\\\\n",
       "\t 1 & 1 & 1 & -1.41083509 & -0.8094578 & 0.47543873 & 0.537393208 & 1 & 1 & 1 &  0.9851928 &  1.9319051\\\\\n",
       "\t 1 & 1 & 1 &  0.72135405 &  1.9490615 & 0.24953027 & 0.041684383 & 1 & 1 & 0 &  4.4191911 &  3.7812321\\\\\n",
       "\t 1 & 0 & 0 & -0.90980304 &  1.9215190 & 0.03241943 & 0.014116418 & 1 & 0 & 0 &  0.1485565 &  0.6241444\\\\\n",
       "\t 1 & 1 & 1 &  0.74492154 &  0.7028711 & 0.46140379 & 0.221604916 & 1 & 0 & 0 &  2.1071496 &  1.7959924\\\\\n",
       "\t 1 & 1 & 0 & -1.03229617 & -1.2193559 & 0.16775376 & 0.252771597 & 1 & 0 & 0 & -1.2013768 & -1.6347326\\\\\n",
       "\t 1 & 0 & 0 & -1.08051786 & -1.5477091 & 0.29328614 & 0.708757351 & 1 & 0 & 0 & -0.5810226 & -1.3234920\\\\\n",
       "\t 1 & 1 & 1 & -0.31352753 &  2.3904949 & 0.12459317 & 0.014612562 & 1 & 0 & 0 &  1.7142713 &  3.7902123\\\\\n",
       "\t 1 & 0 & 0 &  0.20977433 &  2.0008923 & 0.05236246 & 0.019504195 & 1 & 0 & 0 &  3.1567582 &  1.1091721\\\\\n",
       "\t 1 & 1 & 1 &  0.98462202 & -0.1624116 & 0.64887999 & 0.534312546 & 1 & 1 & 1 &  4.6864020 &  4.0515098\\\\\n",
       "\t 1 & 1 & 1 & -1.30413020 & -1.3057013 & 0.58108059 & 0.718473025 & 1 & 1 & 1 &  0.5176388 & -0.7775702\\\\\n",
       "\t 1 & 1 & 0 & -0.54470807 & -2.3806243 & 0.38062746 & 0.701207232 & 1 & 0 & 1 & -2.2814831 & -1.8275017\\\\\n",
       "\t 1 & 1 & 1 &  0.03821217 &  0.0390043 & 0.49746324 & 0.367438481 & 1 & 0 & 1 &  1.2563766 &  2.7987881\\\\\n",
       "\t 1 & 0 & 1 & -0.10778752 &  2.0688769 & 0.24870117 & 0.104665261 & 1 & 0 & 0 &  3.9770556 &  3.5409876\\\\\n",
       "\t 1 & 0 & 0 &  0.13037346 &  0.1478542 & 0.17570762 & 0.236921514 & 1 & 1 & 0 &  1.3060931 &  0.4335340\\\\\n",
       "\t 1 & 1 & 1 &  0.41599140 &  2.9072355 & 0.12212802 & 0.009062947 & 1 & 1 & 0 &  4.9936820 &  6.1881666\\\\\n",
       "\t 1 & 1 & 1 &  2.63637447 &  3.8156215 & 0.17602287 & 0.005658722 & 1 & 0 & 0 &  7.6164509 &  6.0284838\\\\\n",
       "\t 1 & 1 & 1 &  0.28626357 &  0.8929407 & 0.37131636 & 0.151240364 & 1 & 0 & 0 &  1.4747011 &  2.9600597\\\\\n",
       "\t 1 & 1 & 0 &  0.60249478 & -2.3632928 & 0.51842091 & 0.783458719 & 1 & 0 & 1 & -1.6506892 & -1.1945561\\\\\n",
       "\\end{tabular}\n"
      ],
      "text/markdown": [
       "\n",
       "A data.table: 1000 × 12\n",
       "\n",
       "| x0 &lt;dbl&gt; | x4 &lt;int&gt; | x3 &lt;int&gt; | x1 &lt;dbl&gt; | x2 &lt;dbl&gt; | e_good &lt;dbl&gt; | e_poor &lt;dbl&gt; | delta &lt;dbl&gt; | Tgood &lt;int&gt; | Tpoor &lt;int&gt; | Ygood &lt;dbl&gt; | Ypoor &lt;dbl&gt; |\n",
       "|---|---|---|---|---|---|---|---|---|---|---|---|\n",
       "| 1 | 1 | 0 | -0.17220629 |  0.753593685 | 0.06590903 | 0.02414414 | 1 | 0 | 0 |  0.71304847 | -0.9905393 |\n",
       "| 1 | 1 | 1 |  1.72246373 |  2.214939748 | 0.31003131 | 0.04174940 | 1 | 0 | 0 |  3.59487991 |  6.8654144 |\n",
       "| 1 | 0 | 1 | -0.92576006 |  2.594926542 | 0.12908481 | 0.03687342 | 1 | 1 | 0 |  5.21245917 |  3.6077666 |\n",
       "| 1 | 1 | 1 |  1.65565919 |  2.339295684 | 0.28360644 | 0.03400406 | 1 | 1 | 0 |  5.90923724 |  4.2983244 |\n",
       "| 1 | 0 | 1 | -1.58273625 |  0.667351954 | 0.31176469 | 0.34657638 | 1 | 0 | 1 |  2.05359414 |  3.6759713 |\n",
       "| 1 | 0 | 0 | -1.31954053 |  0.022523379 | 0.10186584 | 0.17341699 | 1 | 0 | 0 |  0.15571441 | -1.2550524 |\n",
       "| 1 | 1 | 1 |  0.24539895 |  1.524057512 | 0.26496047 | 0.06368954 | 1 | 0 | 0 |  1.76016674 |  1.8054792 |\n",
       "| 1 | 1 | 1 | -0.81269811 |  0.974337128 | 0.24285285 | 0.09224010 | 1 | 1 | 0 |  4.12444034 |  0.6636942 |\n",
       "| 1 | 1 | 0 |  3.69640397 |  0.876239669 | 0.30810837 | 0.08820127 | 1 | 0 | 0 |  2.52203306 |  4.8031806 |\n",
       "| 1 | 1 | 1 | -0.79927517 |  1.023727411 | 0.23731927 | 0.08664533 | 1 | 0 | 0 |  2.49893354 |  1.3116614 |\n",
       "| 1 | 1 | 1 |  1.35282003 |  1.791313543 | 0.33915207 | 0.06624573 | 1 | 0 | 0 |  4.56430431 |  2.2037567 |\n",
       "| 1 | 0 | 0 | -0.70391037 | -0.755437506 | 0.21663632 | 0.46296597 | 1 | 0 | 1 |  0.01679628 |  0.7270131 |\n",
       "| 1 | 1 | 0 |  1.29737321 | -4.659787032 | 0.89506234 | 0.99336428 | 1 | 1 | 1 | -0.65911863 | -0.8151753 |\n",
       "| 1 | 0 | 1 | -0.28942598 |  3.063019364 | 0.12543077 | 0.02388571 | 1 | 0 | 0 |  3.84760449 |  4.0130819 |\n",
       "| 1 | 0 | 0 | -1.78259041 | -2.289065673 | 0.33749085 | 0.84820126 | 1 | 0 | 1 | -2.07027226 | -2.7253086 |\n",
       "| 1 | 0 | 1 |  0.04582208 |  1.132420048 | 0.41911584 | 0.33619407 | 1 | 0 | 1 |  3.48958777 |  4.1809058 |\n",
       "| 1 | 1 | 1 |  1.50535274 |  1.189894726 | 0.46512057 | 0.15673814 | 1 | 1 | 0 |  4.77619898 |  4.7557256 |\n",
       "| 1 | 1 | 0 |  4.43944843 | -0.783374089 | 0.69152421 | 0.61083905 | 1 | 0 | 1 |  2.62239084 |  3.1091938 |\n",
       "| 1 | 0 | 1 | -1.24288964 |  0.735352642 | 0.33783452 | 0.35430141 | 1 | 0 | 0 |  0.24110327 |  1.3963345 |\n",
       "| 1 | 1 | 1 |  0.69599573 |  1.545236107 | 0.30769252 | 0.07313805 | 1 | 0 | 0 |  2.91101758 |  3.0953349 |\n",
       "| 1 | 0 | 0 | -3.92161301 |  0.619299603 | 0.01935459 | 0.02938075 | 1 | 0 | 0 | -4.01652169 | -2.8628186 |\n",
       "| 1 | 1 | 1 |  0.21096430 | -0.482291480 | 0.61472100 | 0.57635378 | 1 | 0 | 0 |  0.86818993 |  0.5753008 |\n",
       "| 1 | 0 | 0 |  0.75508757 |  0.265564268 | 0.21054733 | 0.25043167 | 1 | 0 | 0 |  2.82373120 | -0.4859721 |\n",
       "| 1 | 1 | 1 |  0.35260140 | -0.001258133 | 0.54419543 | 0.41166848 | 1 | 0 | 0 |  3.15382571 |  3.1806334 |\n",
       "| 1 | 0 | 1 | -1.21828408 |  1.570373734 | 0.21637419 | 0.13671172 | 1 | 0 | 0 |  3.53846655 |  2.0897545 |\n",
       "| 1 | 0 | 0 | -1.70068650 |  0.835064811 | 0.04849234 | 0.05055231 | 1 | 0 | 1 | -0.12959288 |  0.4143652 |\n",
       "| 1 | 0 | 0 | -0.94876183 |  1.096017793 | 0.05751933 | 0.04637405 | 1 | 0 | 0 | -0.31716360 |  0.5686480 |\n",
       "| 1 | 1 | 1 |  0.69711361 |  0.595186304 | 0.47556126 | 0.24713819 | 1 | 1 | 0 |  2.21068971 |  2.9900799 |\n",
       "| 1 | 1 | 1 |  0.84190767 |  1.127828546 | 0.39534062 | 0.13528928 | 1 | 1 | 0 |  4.68154174 |  1.2326236 |\n",
       "| 1 | 1 | 1 |  0.29220291 |  1.723263126 | 0.24115715 | 0.04889201 | 1 | 0 | 0 |  2.64830204 |  3.4383947 |\n",
       "| ⋮ | ⋮ | ⋮ | ⋮ | ⋮ | ⋮ | ⋮ | ⋮ | ⋮ | ⋮ | ⋮ | ⋮ |\n",
       "| 1 | 0 | 1 |  0.80283326 |  2.8826172 | 0.22087986 | 0.047299874 | 1 | 0 | 0 |  5.3945112 |  5.0994659 |\n",
       "| 1 | 0 | 1 | -0.91310264 |  2.1316394 | 0.17432486 | 0.071577898 | 1 | 0 | 0 |  0.9226851 |  1.7494436 |\n",
       "| 1 | 1 | 0 |  3.59339916 | -0.2318864 | 0.49265413 | 0.328536731 | 1 | 0 | 0 |  3.9229063 |  2.6153407 |\n",
       "| 1 | 1 | 1 |  0.52085954 |  1.4964496 | 0.29694098 | 0.073350190 | 1 | 0 | 0 |  2.8625286 |  2.5868375 |\n",
       "| 1 | 1 | 1 | -0.50948374 |  1.1340374 | 0.24875378 | 0.082803641 | 1 | 0 | 0 |  1.3096907 | -0.4902307 |\n",
       "| 1 | 1 | 1 | -0.26386281 | -0.3732598 | 0.53693595 | 0.488588120 | 1 | 1 | 0 |  1.8038643 |  0.7585984 |\n",
       "| 1 | 0 | 0 |  0.82132715 | -1.4990764 | 0.50874182 | 0.828799857 | 1 | 0 | 0 |  1.3002880 | -1.0596853 |\n",
       "| 1 | 1 | 1 |  0.07136040 |  1.4785436 | 0.25478978 | 0.063609410 | 1 | 1 | 0 |  4.6138795 |  1.7396370 |\n",
       "| 1 | 0 | 0 |  0.10927215 |  0.8837436 | 0.10830512 | 0.092632587 | 1 | 0 | 0 |  0.3622116 |  1.3403413 |\n",
       "| 1 | 0 | 1 | -1.74168562 | -0.6918991 | 0.53695287 | 0.792682994 | 1 | 1 | 1 |  0.9075603 |  2.6816079 |\n",
       "| 1 | 1 | 0 | -1.06017222 |  1.8557704 | 0.01941861 | 0.003309232 | 1 | 0 | 0 |  0.2240187 | -1.3385858 |\n",
       "| 1 | 1 | 1 |  2.19724507 |  1.3868352 | 0.51461987 | 0.154288415 | 1 | 0 | 0 |  6.1538444 |  3.9945245 |\n",
       "| 1 | 1 | 1 | -1.41083509 | -0.8094578 | 0.47543873 | 0.537393208 | 1 | 1 | 1 |  0.9851928 |  1.9319051 |\n",
       "| 1 | 1 | 1 |  0.72135405 |  1.9490615 | 0.24953027 | 0.041684383 | 1 | 1 | 0 |  4.4191911 |  3.7812321 |\n",
       "| 1 | 0 | 0 | -0.90980304 |  1.9215190 | 0.03241943 | 0.014116418 | 1 | 0 | 0 |  0.1485565 |  0.6241444 |\n",
       "| 1 | 1 | 1 |  0.74492154 |  0.7028711 | 0.46140379 | 0.221604916 | 1 | 0 | 0 |  2.1071496 |  1.7959924 |\n",
       "| 1 | 1 | 0 | -1.03229617 | -1.2193559 | 0.16775376 | 0.252771597 | 1 | 0 | 0 | -1.2013768 | -1.6347326 |\n",
       "| 1 | 0 | 0 | -1.08051786 | -1.5477091 | 0.29328614 | 0.708757351 | 1 | 0 | 0 | -0.5810226 | -1.3234920 |\n",
       "| 1 | 1 | 1 | -0.31352753 |  2.3904949 | 0.12459317 | 0.014612562 | 1 | 0 | 0 |  1.7142713 |  3.7902123 |\n",
       "| 1 | 0 | 0 |  0.20977433 |  2.0008923 | 0.05236246 | 0.019504195 | 1 | 0 | 0 |  3.1567582 |  1.1091721 |\n",
       "| 1 | 1 | 1 |  0.98462202 | -0.1624116 | 0.64887999 | 0.534312546 | 1 | 1 | 1 |  4.6864020 |  4.0515098 |\n",
       "| 1 | 1 | 1 | -1.30413020 | -1.3057013 | 0.58108059 | 0.718473025 | 1 | 1 | 1 |  0.5176388 | -0.7775702 |\n",
       "| 1 | 1 | 0 | -0.54470807 | -2.3806243 | 0.38062746 | 0.701207232 | 1 | 0 | 1 | -2.2814831 | -1.8275017 |\n",
       "| 1 | 1 | 1 |  0.03821217 |  0.0390043 | 0.49746324 | 0.367438481 | 1 | 0 | 1 |  1.2563766 |  2.7987881 |\n",
       "| 1 | 0 | 1 | -0.10778752 |  2.0688769 | 0.24870117 | 0.104665261 | 1 | 0 | 0 |  3.9770556 |  3.5409876 |\n",
       "| 1 | 0 | 0 |  0.13037346 |  0.1478542 | 0.17570762 | 0.236921514 | 1 | 1 | 0 |  1.3060931 |  0.4335340 |\n",
       "| 1 | 1 | 1 |  0.41599140 |  2.9072355 | 0.12212802 | 0.009062947 | 1 | 1 | 0 |  4.9936820 |  6.1881666 |\n",
       "| 1 | 1 | 1 |  2.63637447 |  3.8156215 | 0.17602287 | 0.005658722 | 1 | 0 | 0 |  7.6164509 |  6.0284838 |\n",
       "| 1 | 1 | 1 |  0.28626357 |  0.8929407 | 0.37131636 | 0.151240364 | 1 | 0 | 0 |  1.4747011 |  2.9600597 |\n",
       "| 1 | 1 | 0 |  0.60249478 | -2.3632928 | 0.51842091 | 0.783458719 | 1 | 0 | 1 | -1.6506892 | -1.1945561 |\n",
       "\n"
      ],
      "text/plain": [
       "     x0 x4 x3 x1          x2           e_good     e_poor      delta Tgood Tpoor\n",
       "1    1  1  0  -0.17220629  0.753593685 0.06590903 0.02414414  1     0     0    \n",
       "2    1  1  1   1.72246373  2.214939748 0.31003131 0.04174940  1     0     0    \n",
       "3    1  0  1  -0.92576006  2.594926542 0.12908481 0.03687342  1     1     0    \n",
       "4    1  1  1   1.65565919  2.339295684 0.28360644 0.03400406  1     1     0    \n",
       "5    1  0  1  -1.58273625  0.667351954 0.31176469 0.34657638  1     0     1    \n",
       "6    1  0  0  -1.31954053  0.022523379 0.10186584 0.17341699  1     0     0    \n",
       "7    1  1  1   0.24539895  1.524057512 0.26496047 0.06368954  1     0     0    \n",
       "8    1  1  1  -0.81269811  0.974337128 0.24285285 0.09224010  1     1     0    \n",
       "9    1  1  0   3.69640397  0.876239669 0.30810837 0.08820127  1     0     0    \n",
       "10   1  1  1  -0.79927517  1.023727411 0.23731927 0.08664533  1     0     0    \n",
       "11   1  1  1   1.35282003  1.791313543 0.33915207 0.06624573  1     0     0    \n",
       "12   1  0  0  -0.70391037 -0.755437506 0.21663632 0.46296597  1     0     1    \n",
       "13   1  1  0   1.29737321 -4.659787032 0.89506234 0.99336428  1     1     1    \n",
       "14   1  0  1  -0.28942598  3.063019364 0.12543077 0.02388571  1     0     0    \n",
       "15   1  0  0  -1.78259041 -2.289065673 0.33749085 0.84820126  1     0     1    \n",
       "16   1  0  1   0.04582208  1.132420048 0.41911584 0.33619407  1     0     1    \n",
       "17   1  1  1   1.50535274  1.189894726 0.46512057 0.15673814  1     1     0    \n",
       "18   1  1  0   4.43944843 -0.783374089 0.69152421 0.61083905  1     0     1    \n",
       "19   1  0  1  -1.24288964  0.735352642 0.33783452 0.35430141  1     0     0    \n",
       "20   1  1  1   0.69599573  1.545236107 0.30769252 0.07313805  1     0     0    \n",
       "21   1  0  0  -3.92161301  0.619299603 0.01935459 0.02938075  1     0     0    \n",
       "22   1  1  1   0.21096430 -0.482291480 0.61472100 0.57635378  1     0     0    \n",
       "23   1  0  0   0.75508757  0.265564268 0.21054733 0.25043167  1     0     0    \n",
       "24   1  1  1   0.35260140 -0.001258133 0.54419543 0.41166848  1     0     0    \n",
       "25   1  0  1  -1.21828408  1.570373734 0.21637419 0.13671172  1     0     0    \n",
       "26   1  0  0  -1.70068650  0.835064811 0.04849234 0.05055231  1     0     1    \n",
       "27   1  0  0  -0.94876183  1.096017793 0.05751933 0.04637405  1     0     0    \n",
       "28   1  1  1   0.69711361  0.595186304 0.47556126 0.24713819  1     1     0    \n",
       "29   1  1  1   0.84190767  1.127828546 0.39534062 0.13528928  1     1     0    \n",
       "30   1  1  1   0.29220291  1.723263126 0.24115715 0.04889201  1     0     0    \n",
       "⋮    ⋮  ⋮  ⋮  ⋮           ⋮            ⋮          ⋮           ⋮     ⋮     ⋮    \n",
       "971  1  0  1   0.80283326  2.8826172   0.22087986 0.047299874 1     0     0    \n",
       "972  1  0  1  -0.91310264  2.1316394   0.17432486 0.071577898 1     0     0    \n",
       "973  1  1  0   3.59339916 -0.2318864   0.49265413 0.328536731 1     0     0    \n",
       "974  1  1  1   0.52085954  1.4964496   0.29694098 0.073350190 1     0     0    \n",
       "975  1  1  1  -0.50948374  1.1340374   0.24875378 0.082803641 1     0     0    \n",
       "976  1  1  1  -0.26386281 -0.3732598   0.53693595 0.488588120 1     1     0    \n",
       "977  1  0  0   0.82132715 -1.4990764   0.50874182 0.828799857 1     0     0    \n",
       "978  1  1  1   0.07136040  1.4785436   0.25478978 0.063609410 1     1     0    \n",
       "979  1  0  0   0.10927215  0.8837436   0.10830512 0.092632587 1     0     0    \n",
       "980  1  0  1  -1.74168562 -0.6918991   0.53695287 0.792682994 1     1     1    \n",
       "981  1  1  0  -1.06017222  1.8557704   0.01941861 0.003309232 1     0     0    \n",
       "982  1  1  1   2.19724507  1.3868352   0.51461987 0.154288415 1     0     0    \n",
       "983  1  1  1  -1.41083509 -0.8094578   0.47543873 0.537393208 1     1     1    \n",
       "984  1  1  1   0.72135405  1.9490615   0.24953027 0.041684383 1     1     0    \n",
       "985  1  0  0  -0.90980304  1.9215190   0.03241943 0.014116418 1     0     0    \n",
       "986  1  1  1   0.74492154  0.7028711   0.46140379 0.221604916 1     0     0    \n",
       "987  1  1  0  -1.03229617 -1.2193559   0.16775376 0.252771597 1     0     0    \n",
       "988  1  0  0  -1.08051786 -1.5477091   0.29328614 0.708757351 1     0     0    \n",
       "989  1  1  1  -0.31352753  2.3904949   0.12459317 0.014612562 1     0     0    \n",
       "990  1  0  0   0.20977433  2.0008923   0.05236246 0.019504195 1     0     0    \n",
       "991  1  1  1   0.98462202 -0.1624116   0.64887999 0.534312546 1     1     1    \n",
       "992  1  1  1  -1.30413020 -1.3057013   0.58108059 0.718473025 1     1     1    \n",
       "993  1  1  0  -0.54470807 -2.3806243   0.38062746 0.701207232 1     0     1    \n",
       "994  1  1  1   0.03821217  0.0390043   0.49746324 0.367438481 1     0     1    \n",
       "995  1  0  1  -0.10778752  2.0688769   0.24870117 0.104665261 1     0     0    \n",
       "996  1  0  0   0.13037346  0.1478542   0.17570762 0.236921514 1     1     0    \n",
       "997  1  1  1   0.41599140  2.9072355   0.12212802 0.009062947 1     1     0    \n",
       "998  1  1  1   2.63637447  3.8156215   0.17602287 0.005658722 1     0     0    \n",
       "999  1  1  1   0.28626357  0.8929407   0.37131636 0.151240364 1     0     0    \n",
       "1000 1  1  0   0.60249478 -2.3632928   0.51842091 0.783458719 1     0     1    \n",
       "     Ygood       Ypoor     \n",
       "1     0.71304847 -0.9905393\n",
       "2     3.59487991  6.8654144\n",
       "3     5.21245917  3.6077666\n",
       "4     5.90923724  4.2983244\n",
       "5     2.05359414  3.6759713\n",
       "6     0.15571441 -1.2550524\n",
       "7     1.76016674  1.8054792\n",
       "8     4.12444034  0.6636942\n",
       "9     2.52203306  4.8031806\n",
       "10    2.49893354  1.3116614\n",
       "11    4.56430431  2.2037567\n",
       "12    0.01679628  0.7270131\n",
       "13   -0.65911863 -0.8151753\n",
       "14    3.84760449  4.0130819\n",
       "15   -2.07027226 -2.7253086\n",
       "16    3.48958777  4.1809058\n",
       "17    4.77619898  4.7557256\n",
       "18    2.62239084  3.1091938\n",
       "19    0.24110327  1.3963345\n",
       "20    2.91101758  3.0953349\n",
       "21   -4.01652169 -2.8628186\n",
       "22    0.86818993  0.5753008\n",
       "23    2.82373120 -0.4859721\n",
       "24    3.15382571  3.1806334\n",
       "25    3.53846655  2.0897545\n",
       "26   -0.12959288  0.4143652\n",
       "27   -0.31716360  0.5686480\n",
       "28    2.21068971  2.9900799\n",
       "29    4.68154174  1.2326236\n",
       "30    2.64830204  3.4383947\n",
       "⋮    ⋮           ⋮         \n",
       "971   5.3945112   5.0994659\n",
       "972   0.9226851   1.7494436\n",
       "973   3.9229063   2.6153407\n",
       "974   2.8625286   2.5868375\n",
       "975   1.3096907  -0.4902307\n",
       "976   1.8038643   0.7585984\n",
       "977   1.3002880  -1.0596853\n",
       "978   4.6138795   1.7396370\n",
       "979   0.3622116   1.3403413\n",
       "980   0.9075603   2.6816079\n",
       "981   0.2240187  -1.3385858\n",
       "982   6.1538444   3.9945245\n",
       "983   0.9851928   1.9319051\n",
       "984   4.4191911   3.7812321\n",
       "985   0.1485565   0.6241444\n",
       "986   2.1071496   1.7959924\n",
       "987  -1.2013768  -1.6347326\n",
       "988  -0.5810226  -1.3234920\n",
       "989   1.7142713   3.7902123\n",
       "990   3.1567582   1.1091721\n",
       "991   4.6864020   4.0515098\n",
       "992   0.5176388  -0.7775702\n",
       "993  -2.2814831  -1.8275017\n",
       "994   1.2563766   2.7987881\n",
       "995   3.9770556   3.5409876\n",
       "996   1.3060931   0.4335340\n",
       "997   4.9936820   6.1881666\n",
       "998   7.6164509   6.0284838\n",
       "999   1.4747011   2.9600597\n",
       "1000 -1.6506892  -1.1945561"
      ]
     },
     "metadata": {},
     "output_type": "display_data"
    }
   ],
   "source": [
    "vex"
   ]
  },
  {
   "cell_type": "code",
   "execution_count": 88,
   "id": "74bc8d42-9051-4dc2-b452-d35cc7ce8f7f",
   "metadata": {},
   "outputs": [
    {
     "data": {
      "text/plain": [
       "\n",
       "Call:  glm(formula = Tgood ~ x1 + x2 + x3 + x4, family = \"binomial\", \n",
       "    data = vex)\n",
       "\n",
       "Coefficients:\n",
       "(Intercept)           x1           x2           x3           x4  \n",
       "    -1.3395       0.4441      -0.6517       1.7539      -0.4976  \n",
       "\n",
       "Degrees of Freedom: 499 Total (i.e. Null);  495 Residual\n",
       "Null Deviance:\t    634.2 \n",
       "Residual Deviance: 562.2 \tAIC: 572.2"
      ]
     },
     "metadata": {},
     "output_type": "display_data"
    }
   ],
   "source": [
    "glm(Tgood ~ x1 + x2 + x3 + x4, data=vex, family=\"binomial\")"
   ]
  },
  {
   "cell_type": "code",
   "execution_count": 89,
   "id": "7382a553-24e7-4765-8ed3-ee0c1415443e",
   "metadata": {},
   "outputs": [
    {
     "data": {
      "text/plain": [
       "\n",
       "Closed-form inference: \n",
       "\n",
       "Original group value:  0, 1 \n",
       "\n",
       "Contrast: \n",
       "            0 1\n",
       "Contrast 1 -1 1\n",
       "\n",
       "           Estimate Std.Error     lwr    upr  Pr(>|z|)    \n",
       "Contrast 1  0.83539   0.12202 0.59624 1.0745 7.569e-12 ***\n",
       "---\n",
       "Signif. codes:  0 ‘***’ 0.001 ‘**’ 0.01 ‘*’ 0.05 ‘.’ 0.1 ‘ ’ 1"
      ]
     },
     "metadata": {},
     "output_type": "display_data"
    }
   ],
   "source": [
    "vex_IPW <- PSweight(ps.formula=Tgood ~ x1 + x2 + x3 + x4, \n",
    "                    out.formula=Ygood ~  x1 + x2 + x3 + x4,\n",
    "                    data=vex, yname=\"Ygood\", weight=\"IPW\")\n",
    "summary(vex_IPW)"
   ]
  },
  {
   "cell_type": "code",
   "execution_count": 93,
   "id": "d8bcc62a-ff6d-46bd-b6b0-9bf709e27dfb",
   "metadata": {},
   "outputs": [
    {
     "name": "stderr",
     "output_type": "stream",
     "text": [
      "bootstrap 50 samples\n",
      "\n",
      "bootstrap 100 samples\n",
      "\n",
      "bootstrap 150 samples\n",
      "\n",
      "bootstrap 200 samples\n",
      "\n",
      "bootstrap 250 samples\n",
      "\n",
      "bootstrap 300 samples\n",
      "\n",
      "bootstrap 350 samples\n",
      "\n",
      "bootstrap 400 samples\n",
      "\n",
      "bootstrap 450 samples\n",
      "\n",
      "bootstrap 500 samples\n",
      "\n"
     ]
    },
    {
     "data": {
      "text/plain": [
       "\n",
       "Use Bootstrap sample for inference: \n",
       "\n",
       "Original group value:  0, 1 \n",
       "\n",
       "Contrast: \n",
       "            0 1\n",
       "Contrast 1 -1 1\n",
       "\n",
       "           Estimate Std.Error     lwr    upr  Pr(>|z|)    \n",
       "Contrast 1  0.83539   0.12663 0.57998 1.0774 < 2.2e-16 ***\n",
       "---\n",
       "Signif. codes:  0 ‘***’ 0.001 ‘**’ 0.01 ‘*’ 0.05 ‘.’ 0.1 ‘ ’ 1"
      ]
     },
     "metadata": {},
     "output_type": "display_data"
    }
   ],
   "source": [
    "vex_IPW <- PSweight(ps.formula=Tgood ~ x1 + x2 + x3 + x4, \n",
    "                    out.formula=Ygood ~  x1 + x2 + x3 + x4,\n",
    "                    bootstrap=TRUE, R=500,\n",
    "                    data=vex, yname=\"Ygood\", weight=\"IPW\")\n",
    "summary(vex_IPW)"
   ]
  },
  {
   "cell_type": "code",
   "execution_count": 94,
   "id": "c77bfe99-60fa-4d48-aab1-e226a5cefe96",
   "metadata": {},
   "outputs": [
    {
     "data": {
      "text/plain": [
       "\n",
       "Closed-form inference: \n",
       "\n",
       "Original group value:  0, 1 \n",
       "\n",
       "Contrast: \n",
       "            0 1\n",
       "Contrast 1 -1 1\n",
       "\n",
       "           Estimate Std.Error      lwr     upr Pr(>|z|)\n",
       "Contrast 1  0.20428   0.31562 -0.41432 0.82289   0.5175"
      ]
     },
     "metadata": {},
     "output_type": "display_data"
    }
   ],
   "source": [
    "vex_IPW <- PSweight(ps.formula=Tpoor ~ x1 + x2 + x3 + x4, \n",
    "                    data=vex, yname=\"Ygood\", weight=\"IPW\")\n",
    "summary(vex_IPW)"
   ]
  },
  {
   "cell_type": "markdown",
   "id": "281fb5b4",
   "metadata": {},
   "source": [
    "# Weight distributions"
   ]
  },
  {
   "cell_type": "raw",
   "id": "debd187c",
   "metadata": {},
   "source": [
    "Here we want to look at what the distributions in the treatment and control group tell us about similarities and differences between the groups."
   ]
  },
  {
   "cell_type": "markdown",
   "id": "03c5b61a",
   "metadata": {},
   "source": [
    "## Treatment and control share the same distribution"
   ]
  },
  {
   "cell_type": "code",
   "execution_count": 40,
   "id": "9bc752b6",
   "metadata": {},
   "outputs": [
    {
     "data": {
      "text/html": [
       "<table class=\"dataframe\">\n",
       "<caption>A data.table: 6 × 2</caption>\n",
       "<thead>\n",
       "\t<tr><th scope=col>x</th><th scope=col>treatment</th></tr>\n",
       "\t<tr><th scope=col>&lt;dbl&gt;</th><th scope=col>&lt;lgl&gt;</th></tr>\n",
       "</thead>\n",
       "<tbody>\n",
       "\t<tr><td>-0.09229613</td><td>FALSE</td></tr>\n",
       "\t<tr><td>-0.41156662</td><td>FALSE</td></tr>\n",
       "\t<tr><td> 0.28969536</td><td>FALSE</td></tr>\n",
       "\t<tr><td>-0.37152085</td><td>FALSE</td></tr>\n",
       "\t<tr><td> 1.05408623</td><td>FALSE</td></tr>\n",
       "\t<tr><td> 0.23795018</td><td>FALSE</td></tr>\n",
       "</tbody>\n",
       "</table>\n"
      ],
      "text/latex": [
       "A data.table: 6 × 2\n",
       "\\begin{tabular}{ll}\n",
       " x & treatment\\\\\n",
       " <dbl> & <lgl>\\\\\n",
       "\\hline\n",
       "\t -0.09229613 & FALSE\\\\\n",
       "\t -0.41156662 & FALSE\\\\\n",
       "\t  0.28969536 & FALSE\\\\\n",
       "\t -0.37152085 & FALSE\\\\\n",
       "\t  1.05408623 & FALSE\\\\\n",
       "\t  0.23795018 & FALSE\\\\\n",
       "\\end{tabular}\n"
      ],
      "text/markdown": [
       "\n",
       "A data.table: 6 × 2\n",
       "\n",
       "| x &lt;dbl&gt; | treatment &lt;lgl&gt; |\n",
       "|---|---|\n",
       "| -0.09229613 | FALSE |\n",
       "| -0.41156662 | FALSE |\n",
       "|  0.28969536 | FALSE |\n",
       "| -0.37152085 | FALSE |\n",
       "|  1.05408623 | FALSE |\n",
       "|  0.23795018 | FALSE |\n",
       "\n"
      ],
      "text/plain": [
       "  x           treatment\n",
       "1 -0.09229613 FALSE    \n",
       "2 -0.41156662 FALSE    \n",
       "3  0.28969536 FALSE    \n",
       "4 -0.37152085 FALSE    \n",
       "5  1.05408623 FALSE    \n",
       "6  0.23795018 FALSE    "
      ]
     },
     "metadata": {},
     "output_type": "display_data"
    }
   ],
   "source": [
    "N <- 1000\n",
    "tc_same <- data.table(x=rnorm(N*2, 0, 1), treatment=c(rep(FALSE, N), rep(TRUE, N)))\n",
    "head(tc_same)"
   ]
  },
  {
   "cell_type": "code",
   "execution_count": 41,
   "id": "f8740fb4",
   "metadata": {},
   "outputs": [],
   "source": [
    "model_tc_same <- SumStat(treatment ~ x, data=tc_same)"
   ]
  },
  {
   "cell_type": "code",
   "execution_count": 99,
   "id": "8f99ef33",
   "metadata": {},
   "outputs": [],
   "source": [
    "mirror_plot <- function(data, model) {\n",
    "    data <- copy(data)\n",
    "    data[, weight := model$propensity[, 2]]\n",
    "    p <- ggplot() +\n",
    "      # Top\n",
    "      geom_density(data=data[treatment==TRUE], aes(x = weight, y = after_stat(density)), fill=\"#69b3a2\" ) +\n",
    "      geom_label( aes(x=1, y=1, label=\"treatment\"), color=\"#69b3a2\") +\n",
    "      # Bottom\n",
    "      geom_density(data=data[treatment==FALSE], aes(x = weight, y = after_stat(-density)), fill= \"#404080\") +\n",
    "      geom_label( aes(x=1, y=-1, label=\"control\"), color=\"#404080\") +\n",
    "      xlim(x=c(0,1)) +\n",
    "      xlab(\"weight\")\n",
    "    p\n",
    "}"
   ]
  },
  {
   "cell_type": "code",
   "execution_count": 53,
   "id": "33bc660c",
   "metadata": {},
   "outputs": [
    {
     "data": {
      "image/png": "[encoded data removed]",
      "text/plain": [
       "plot without title"
      ]
     },
     "metadata": {
      "image/png": {
       "height": 420,
       "width": 420
      }
     },
     "output_type": "display_data"
    }
   ],
   "source": [
    "mirror_plot(tc_same, model_tc_same)"
   ]
  },
  {
   "cell_type": "markdown",
   "id": "6d435580",
   "metadata": {},
   "source": [
    "## Distributions differ only in mean"
   ]
  },
  {
   "cell_type": "code",
   "execution_count": 100,
   "id": "92d50c75",
   "metadata": {},
   "outputs": [
    {
     "data": {
      "image/png": "[encoded data removed]",
      "text/plain": [
       "plot without title"
      ]
     },
     "metadata": {
      "image/png": {
       "height": 420,
       "width": 420
      }
     },
     "output_type": "display_data"
    }
   ],
   "source": [
    "tc_diff_means <- data.table(x=c(rnorm(N, 0, 1), rnorm(N, 2, 1)),\n",
    "                                treatment=c(rep(FALSE, N), rep(TRUE, N)))\n",
    "model_diff_means <- SumStat(treatment ~ x, data=tc_diff_means, method=\"gbm\")\n",
    "mirror_plot(tc_diff_means, model_diff_means)"
   ]
  },
  {
   "cell_type": "markdown",
   "id": "c2fea60c",
   "metadata": {},
   "source": [
    "## Distributions differ only in variance"
   ]
  },
  {
   "cell_type": "code",
   "execution_count": 45,
   "id": "53c6672b",
   "metadata": {},
   "outputs": [
    {
     "name": "stderr",
     "output_type": "stream",
     "text": [
      "Warning message in geom_density(data = data[treatment == TRUE], aes(x = weight, :\n",
      "“\u001b[1m\u001b[22mIgnoring unknown parameters: `binwidth`”\n",
      "Warning message in geom_density(data = data[treatment == FALSE], aes(x = weight, :\n",
      "“\u001b[1m\u001b[22mIgnoring unknown parameters: `binwidth`”\n"
     ]
    },
    {
     "data": {
      "image/png": "[encoded data removed]",
      "text/plain": [
       "plot without title"
      ]
     },
     "metadata": {
      "image/png": {
       "height": 420,
       "width": 420
      }
     },
     "output_type": "display_data"
    }
   ],
   "source": [
    "tc_diff_vars <- data.table(x=c(rnorm(N, 0, 1), rnorm(N, 0, 4)),\n",
    "                                treatment=c(rep(FALSE, N), rep(TRUE, N)))\n",
    "model_diff_vars <- SumStat(treatment ~ x, data=tc_diff_vars, method=\"gbm\")\n",
    "mirror_plot(tc_diff_vars, model_diff_vars)"
   ]
  },
  {
   "cell_type": "markdown",
   "id": "0ab3d6a0",
   "metadata": {},
   "source": [
    "## inflation at one end\n",
    "Here we try something that variance itself can't give us. We artificially inflate with a large number of values that are most exclusive to the control group than the treatment group."
   ]
  },
  {
   "cell_type": "code",
   "execution_count": 101,
   "id": "1f06be5a",
   "metadata": {},
   "outputs": [
    {
     "data": {
      "image/png": "[encoded data removed]",
      "text/plain": [
       "plot without title"
      ]
     },
     "metadata": {
      "image/png": {
       "height": 420,
       "width": 420
      }
     },
     "output_type": "display_data"
    }
   ],
   "source": [
    "tc_inflation <- data.table(x=c(rpois(N, 20), rpois(N, 20)),\n",
    "                                treatment=c(rep(FALSE, N), rep(TRUE, N)))\n",
    "tc_inflation[0:(N/20), x := 0]\n",
    "tc_inflation[N:(N - N/2), x := 0]\n",
    "model_inflation <- SumStat(treatment ~ x, data=tc_inflation, method=\"gbm\")\n",
    "mirror_plot(tc_inflation, model_inflation)"
   ]
  },
  {
   "cell_type": "code",
   "execution_count": 47,
   "id": "4cd4936f",
   "metadata": {},
   "outputs": [
    {
     "name": "stderr",
     "output_type": "stream",
     "text": [
      "Warning message in hist.default(tc_inflation[treatment == FALSE]$weight, breaks = 20, :\n",
      "“argument ‘freq’ is not made use of”\n"
     ]
    },
    {
     "data": {
      "text/plain": [
       "$breaks\n",
       " [1] 0.00 0.05 0.10 0.15 0.20 0.25 0.30 0.35 0.40 0.45 0.50 0.55 0.60 0.65 0.70\n",
       "[16] 0.75\n",
       "\n",
       "$counts\n",
       " [1] 551   0   0   0   0   0   0   0   1   2   3   0  19 381  43\n",
       "\n",
       "$density\n",
       " [1] 11.02  0.00  0.00  0.00  0.00  0.00  0.00  0.00  0.02  0.04  0.06  0.00\n",
       "[13]  0.38  7.62  0.86\n",
       "\n",
       "$mids\n",
       " [1] 0.025 0.075 0.125 0.175 0.225 0.275 0.325 0.375 0.425 0.475 0.525 0.575\n",
       "[13] 0.625 0.675 0.725\n",
       "\n",
       "$xname\n",
       "[1] \"tc_inflation[treatment == FALSE]$weight\"\n",
       "\n",
       "$equidist\n",
       "[1] TRUE\n",
       "\n",
       "attr(,\"class\")\n",
       "[1] \"histogram\""
      ]
     },
     "metadata": {},
     "output_type": "display_data"
    }
   ],
   "source": [
    "tc_inflation[, weight := model_inflation$propensity[, 2]]\n",
    "\n",
    "hist(tc_inflation[treatment==FALSE]$weight, breaks=20, plot=FALSE, freq=FALSE)"
   ]
  },
  {
   "cell_type": "markdown",
   "id": "4b7bac91",
   "metadata": {
    "jp-MarkdownHeadingCollapsed": true
   },
   "source": [
    "# Bibliography\n",
    "[1] [Angrist, J. D., & Pischke, J.-S. (2008). Mostly harmless econometrics. Princeton University Press.](https://jonnyphillips.github.io/FLS6415/Class_3/Angrist%20&%20Pischke.pdf)\n",
    "\n",
    "[2] [Steve Howard. Augmented Inverse Propensity Weighting for Randomized Experiments](https://www.stevehoward.org/blog/augmented-inverse-propensity-weighting-for-randomized-experiments.html)\n",
    "\n",
    "[3] [Stefan Wager. STATS 361 notes](https://web.stanford.edu/~swager/stats361.pdf)\n",
    "\n",
    "[4] Huzhang Mao, Liang Li, Tom Greene. Propensity score weighting analysis and treatment effect discovery (2019)\n",
    "\n"
   ]
  }
 ],
 "metadata": {
  "kernelspec": {
   "display_name": "R",
   "language": "R",
   "name": "ir"
  },
  "language_info": {
   "codemirror_mode": "r",
   "file_extension": ".r",
   "mimetype": "text/x-r-source",
   "name": "R",
   "pygments_lexer": "r",
   "version": "4.1.2"
  },
  "toc": {
   "base_numbering": 1,
   "nav_menu": {},
   "number_sections": true,
   "sideBar": true,
   "skip_h1_title": false,
   "title_cell": "Table of Contents",
   "title_sidebar": "Contents",
   "toc_cell": false,
   "toc_position": {
    "height": "calc(100% - 180px)",
    "left": "10px",
    "top": "150px",
    "width": "358.4px"
   },
   "toc_section_display": true,
   "toc_window_display": true
  },
  "varInspector": {
   "cols": {
    "lenName": 16,
    "lenType": 16,
    "lenVar": 40
   },
   "kernels_config": {
    "python": {
     "delete_cmd_postfix": "",
     "delete_cmd_prefix": "del ",
     "library": "var_list.py",
     "varRefreshCmd": "print(var_dic_list())"
    },
    "r": {
     "delete_cmd_postfix": ") ",
     "delete_cmd_prefix": "rm(",
     "library": "var_list.r",
     "varRefreshCmd": "cat(var_dic_list()) "
    }
   },
   "types_to_exclude": [
    "module",
    "function",
    "builtin_function_or_method",
    "instance",
    "_Feature"
   ],
   "window_display": false
  }
 },
 "nbformat": 4,
 "nbformat_minor": 5
}
