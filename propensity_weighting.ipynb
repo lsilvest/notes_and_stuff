{
 "cells": [
  {
   "cell_type": "markdown",
   "id": "6d4a745e",
   "metadata": {},
   "source": [
    "# Introduction\n",
    "\n",
    "The context for these problems is that we are trying to understand causality. This causality is understood as a comparison between a set of subjects which have received a specific treatment and a set of sujects that has not received a treatment. The word treatment is commonly used from the medical field, but it can also indicate and specific effect on a group of which we want to measure an outcome. In social sciences, a treatment could be years of college education and the outcome we could be interested in measuring could be a potential the salary increase (see).\n",
    "\n",
    "The gold standard is of course to carry out an experiment. We would then create a treatment and a control group (or more generally any number of groups) where subjects are randomly assigned to one of the groups. With a sufficiently large number of subjects, the randomness implies that the two groups will have sujects with similar starting characteristics and hence that the groups will not have any bias. This means that after treatment, the comparison of the groups will be fair and that we will in particular be able to measure a treatment effect.\n",
    "\n",
    "Propensity score weighting is useful in the context of observational studies when experimental studies are not feasible or practical.\n",
    "\n",
    "In this observational case, we need a methodology to select a control group (propensity score matching) or a methodology to remove the bias between treated and untreated subjects (propensity score weighting).\n"
   ]
  },
  {
   "cell_type": "markdown",
   "id": "528b9781-3095-4a6d-a6bb-2e9a402f9c69",
   "metadata": {},
   "source": [
    "# Fundamental ideas"
   ]
  },
  {
   "cell_type": "markdown",
   "id": "7ddb0259-80f1-4ef2-88c5-e5c38a58121a",
   "metadata": {},
   "source": [
    "Let's take a look at the assumptions and how propensity weighting works."
   ]
  },
  {
   "cell_type": "markdown",
   "id": "6b233558-d20b-45fc-8731-e6f2efb0aa8d",
   "metadata": {},
   "source": [
    "## Conditional independence assumption (CIA)"
   ]
  },
  {
   "cell_type": "markdown",
   "id": "40682a29-2673-4ec6-a947-deb43b224279",
   "metadata": {},
   "source": [
    "The conditional independence assumption (CIA) also referred to as Strong Ignorability or Unconfoundedness, is is given by\n",
    "\n",
    "$$ Y_{0i}, Y_{1i} \\perp \\!\\!\\!\\perp T_i \\mid \\underline{X_i} $$\n",
    "\n",
    "This is the assumption that the outcomes $Y_{0i}$ and $Y_{1i}$ are independent from the treatment, $T$ conditional on the covariates $X$. First it should be noted that $Y_{0i}$ and $Y_{1i}$ are not directly the outcome $Y$. Indeed, $Y$ can only ever take one of the two values, because each subject either receives the treatment or it doesn't. So one of these is always the counterfactual. \n",
    "\n",
    "It's easier to grasp what the CIA is saying with a small example. Let's imagine that we are interested in the mean weight of a population composed of females and males gorillas. Let's further suppose that there is a treatment group and a control group (although in this example we do not apply a treatment). The treatment group is composed of 25% males and 75% females, whereas the control group is the opposite. In our example the mean weight for males is  374 lbs whereas the mean weight for females is 158 lbs (data for Western Lowland gorillas sourced [here](https://seaworld.org/animals/all-about/gorilla/characteristics/). Clearly the mean weights $Y_{i0}$ and $Y_{1i}$ are not independent from the treatment assigment $T$. But they are independent conditional on gender covariate $X$ if the female weight and the male weight has the same mean in both groups, because there is no information we can obtain about the treatment if one considers separately the male and female weights.\n",
    "\n",
    "But, as we will see later, if we omit a conditional variable we are at risk again of losing the independence. This would be the case for instance if the control group was not anymore formed only by Western Lowland gorillas, but instead contained a proportion of Eastern Lowland gorillas which have mean weights of 484 lbs and 176 lbs for males and females respectively. We could of course, if we knew that we had different types of gorillas in our sample, extend the covariate vector $\\underline{X}$ to contain both weight and gorilla type.\n"
   ]
  },
  {
   "cell_type": "markdown",
   "id": "1526b652-cf0b-4af5-aef7-43ea2e657366",
   "metadata": {},
   "source": [
    "## Why the CIA matters\n",
    "\n",
    "The CIA matters because if the assignment to a treatment group is not independent given the covariates, there is no way to determine if a change in the outcome in the treatment group is the effect of the treatment or if it is due to a conditional dependence. In the gorillas examples, if for instance the treatment consisted of a different diet, we would not know if the difference in weight observed between the treatment and control groups would be due to the diet or to the (unknown) presence of Lowland gorillas in the treatment group.\n",
    "\n",
    "We can see this better mathematically:\n",
    "\n",
    "$$ $$\n",
    "\n"
   ]
  },
  {
   "cell_type": "markdown",
   "id": "9c8d678b-be62-4438-8dc0-49bf8066a667",
   "metadata": {},
   "source": [
    "## Propensity theorem\n",
    "\n",
    "We define the propensity $\\pi(\\underline{X})$ as the probability based on the information in $\\underline{X}$ of belonging to the treatment group. We will see later that this probability can be estimated for example via logistic or \n",
    "gradient boosted trees regression.\n",
    "\n",
    "Then under the CIA the following holds\n",
    "\n",
    "$$ Y_{0i}, Y_{1i} \\perp \\!\\!\\!\\perp T_i \\mid \\pi(\\underline{X_i}) $$\n",
    "\n",
    "that is, the propensity is also conditionally independent.\n",
    "\n",
    "Furthermore, the propensity $\\pi(\\underline{X})$ can be used to estimate the average treatment effect in the same way as the vector as covariates $\\underline{X}$.  \n",
    "\n",
    "The reason this theorem is important is that the propensity $\\pi(\\underline{X})$ is a scalar and makes the computation of the average treatment effect tractable.\n",
    "\n",
    "For some intuition behind the equivalence, what we need to show is that:\n",
    "\n",
    "\\begin{align}\n",
    "P\\left(D_i=1 \\mid Y_{ij}, P(X_i)\\right) &=  \\mathbb{E}\\left[D_i \\mid Y_{ij}, P(X_i)\\right] \\\\\n",
    "&=\\mathbb{E}\\left[\\mathbb{E}\\left[D_i \\mid Y_{ij}, P(X_i), X_i\\right] \\mid Y_{ij}, P(X_i) \\right] \\\\\n",
    "&=\\mathbb{E}\\left[\\mathbb{E}\\left[D_i \\mid X_i\\right] \\mid Y_{ij}, P(X_i) \\right] \\quad\\quad \\text{(using CIA)} \\\\\n",
    "&=\\mathbb{E}\\left[P(X_i) \\mid Y_{ij}, P(X_i) \\right] \\\\\n",
    "&=P(X_i)\n",
    "\\end{align}\n"
   ]
  },
  {
   "cell_type": "markdown",
   "id": "60089d17-20b9-4769-9a55-2bbfae0bb2e2",
   "metadata": {},
   "source": []
  },
  {
   "cell_type": "markdown",
   "id": "c189cf69",
   "metadata": {},
   "source": [
    "# Trying out some stuff"
   ]
  },
  {
   "cell_type": "markdown",
   "id": "bc212a6f",
   "metadata": {},
   "source": [
    "## A simple univariate case\n",
    "\n",
    "From ChatGPT:\n",
    "\n",
    "**Background**: A local hospital is trying to understand factors that might influence the recovery speed (measured as the number of days spent in the hospital) after undergoing a specific surgery. The surgical procedure is common and is performed on both patients who are smokers and those who are non-smokers. Moreover, patients have the option of undergoing either a traditional surgical method or a newer, minimally invasive method.\n",
    "\n",
    "**Research Question**: Does smoking status and the type of surgical method influence the recovery time of patients?\n",
    "\n",
    "**Binary Variables**:\n",
    "\n",
    "- Smoking Status:\n",
    "\n",
    "    - 0: Non-Smoker\n",
    "    - 1: Smoker\n",
    "\n",
    "- Surgical Method:\n",
    "\n",
    "    - 0: Traditional Surgery    \n",
    "    - 1: Minimally Invasive Surgery (new surgery)\n",
    "\n",
    "**Outcome Variable**: Recovery time: A continuous variable representing the number of days a patient spends in the hospital post-surgery.\n",
    "\n",
    "**Data Collection**:\n",
    "The hospital collects data over a year from patients who underwent the procedure, noting down their smoking status, the type of surgical method, and their recovery time.\n",
    "\n",
    "**Regression Story**:\n",
    "- Smokers who undergo traditional surgery have a significantly longer recovery time compared to non-smokers who undergo the same traditional method. This could be due to the overall decreased lung efficiency and increased risk of post-surgical complications in smokers.\n",
    "\n",
    "- However, when opting for the minimally invasive method, the difference in recovery time between smokers and non-smokers narrows down. The minimally invasive procedure, being less taxing on the body, might be reducing the impact of smoking on recovery.\n",
    "\n",
    "- On its own, the minimally invasive surgery results in faster recovery times compared to the traditional method for both smokers and non-smokers. Yet, the advantage of the minimally invasive method seems even more pronounced for smokers, making it a favorable option for this group.\n",
    "\n",
    "**Conclusion**:\n",
    "The hospital might consider recommending the minimally invasive surgical method, especially for smokers, to ensure faster recovery times. Additionally, pre-surgical counseling for smokers about the risks and benefits associated with each method could be beneficial."
   ]
  },
  {
   "cell_type": "code",
   "execution_count": 1,
   "id": "97251bec",
   "metadata": {},
   "outputs": [],
   "source": [
    "library(data.table)\n",
    "library(PSweight)\n",
    "library(ggplot2)"
   ]
  },
  {
   "cell_type": "code",
   "execution_count": 2,
   "id": "23246020",
   "metadata": {},
   "outputs": [],
   "source": [
    "N <- 200      ## nb of patients in each group\n",
    "p_s <- 0.75   ## pct smokers in treatment group"
   ]
  },
  {
   "cell_type": "code",
   "execution_count": 3,
   "id": "7c10fa8b",
   "metadata": {},
   "outputs": [
    {
     "name": "stdout",
     "output_type": "stream",
     "text": [
      "      test smoker\n",
      "  1:  TRUE   TRUE\n",
      "  2:  TRUE   TRUE\n",
      "  3:  TRUE   TRUE\n",
      "  4:  TRUE   TRUE\n",
      "  5:  TRUE   TRUE\n",
      " ---             \n",
      "396: FALSE   TRUE\n",
      "397: FALSE   TRUE\n",
      "398: FALSE  FALSE\n",
      "399: FALSE   TRUE\n",
      "400: FALSE   TRUE\n"
     ]
    }
   ],
   "source": [
    "## 75% percent smoker in the test group, 25% in the control group:\n",
    "ex1 <- data.table(test=rep(c(TRUE, FALSE), each=N), \n",
    "                  smoker=c(as.logical(rbinom(N, 1, p_s)), as.logical(rbinom(N, 1, 1 - p_s))))\n",
    "print(ex1)"
   ]
  },
  {
   "cell_type": "code",
   "execution_count": 4,
   "id": "86c75e25",
   "metadata": {},
   "outputs": [
    {
     "name": "stdout",
     "output_type": "stream",
     "text": [
      "      test smoker recovery\n",
      "  1:  TRUE   TRUE 63.06242\n",
      "  2:  TRUE   TRUE 68.18916\n",
      "  3:  TRUE   TRUE 58.01755\n",
      "  4:  TRUE   TRUE 53.95745\n",
      "  5:  TRUE   TRUE 56.49341\n",
      "  6:  TRUE   TRUE 53.02463\n",
      "  7:  TRUE   TRUE 72.37134\n",
      "  8:  TRUE   TRUE 59.56458\n",
      "  9:  TRUE   TRUE 59.36989\n",
      " 10:  TRUE   TRUE 66.38388\n",
      " ---                      \n",
      "391: FALSE  FALSE 28.65694\n",
      "392: FALSE  FALSE 28.81966\n",
      "393: FALSE  FALSE 31.95770\n",
      "394: FALSE  FALSE 27.46349\n",
      "395: FALSE  FALSE 31.36934\n",
      "396: FALSE   TRUE 59.27232\n",
      "397: FALSE   TRUE 60.75216\n",
      "398: FALSE  FALSE 31.32790\n",
      "399: FALSE   TRUE 68.95851\n",
      "400: FALSE   TRUE 61.58575\n"
     ]
    }
   ],
   "source": [
    "# smokers have mean 60 days recovery, non-smokers 30 days\n",
    "ex1[smoker==TRUE, recovery := rnorm(sum(ex1$smoker), 60, 6)]\n",
    "ex1[smoker==FALSE, recovery := rnorm(sum(!ex1$smoker), 30, 3)]\n",
    "print(ex1, topn=10)"
   ]
  },
  {
   "cell_type": "code",
   "execution_count": 5,
   "id": "64428712",
   "metadata": {},
   "outputs": [
    {
     "data": {
      "text/plain": [
       "\n",
       "Call:\n",
       "glm(formula = \"test ~ smoker\", family = binomial, data = ex1)\n",
       "\n",
       "Deviance Residuals: \n",
       "     Min        1Q    Median        3Q       Max  \n",
       "-1.67880  -0.63840   0.05508   0.74856   1.83896  \n",
       "\n",
       "Coefficients:\n",
       "            Estimate Std. Error z value Pr(>|z|)    \n",
       "(Intercept)  -1.4871     0.1927  -7.715 1.21e-14 ***\n",
       "smokerTRUE    2.6161     0.2483  10.536  < 2e-16 ***\n",
       "---\n",
       "Signif. codes:  0 ‘***’ 0.001 ‘**’ 0.01 ‘*’ 0.05 ‘.’ 0.1 ‘ ’ 1\n",
       "\n",
       "(Dispersion parameter for binomial family taken to be 1)\n",
       "\n",
       "    Null deviance: 554.52  on 399  degrees of freedom\n",
       "Residual deviance: 416.87  on 398  degrees of freedom\n",
       "AIC: 420.87\n",
       "\n",
       "Number of Fisher Scoring iterations: 4\n"
      ]
     },
     "metadata": {},
     "output_type": "display_data"
    }
   ],
   "source": [
    "logistic_model <- glm(\"test ~ smoker\", family=binomial, data=ex1)\n",
    "summary(logistic_model)"
   ]
  },
  {
   "cell_type": "code",
   "execution_count": 6,
   "id": "07968d23",
   "metadata": {},
   "outputs": [
    {
     "name": "stdout",
     "output_type": "stream",
     "text": [
      "      test smoker recovery propensity\n",
      "  1:  TRUE   TRUE 63.06242  0.7556561\n",
      "  2:  TRUE   TRUE 68.18916  0.7556561\n",
      "  3:  TRUE   TRUE 58.01755  0.7556561\n",
      "  4:  TRUE   TRUE 53.95745  0.7556561\n",
      "  5:  TRUE   TRUE 56.49341  0.7556561\n",
      "  6:  TRUE   TRUE 53.02463  0.7556561\n",
      "  7:  TRUE   TRUE 72.37134  0.7556561\n",
      "  8:  TRUE   TRUE 59.56458  0.7556561\n",
      "  9:  TRUE   TRUE 59.36989  0.7556561\n",
      " 10:  TRUE   TRUE 66.38388  0.7556561\n",
      " ---                                 \n",
      "391: FALSE  FALSE 28.65694  0.1843575\n",
      "392: FALSE  FALSE 28.81966  0.1843575\n",
      "393: FALSE  FALSE 31.95770  0.1843575\n",
      "394: FALSE  FALSE 27.46349  0.1843575\n",
      "395: FALSE  FALSE 31.36934  0.1843575\n",
      "396: FALSE   TRUE 59.27232  0.7556561\n",
      "397: FALSE   TRUE 60.75216  0.7556561\n",
      "398: FALSE  FALSE 31.32790  0.1843575\n",
      "399: FALSE   TRUE 68.95851  0.7556561\n",
      "400: FALSE   TRUE 61.58575  0.7556561\n"
     ]
    }
   ],
   "source": [
    "## get the probabilities of belonging to the treatment group, the propensity:\n",
    "ex1[, propensity := predict(logistic_model, ex1[, .(smoker)], type=\"response\")]\n",
    "print(ex1, topn=10)"
   ]
  },
  {
   "cell_type": "code",
   "execution_count": 7,
   "id": "d17a8012",
   "metadata": {},
   "outputs": [
    {
     "name": "stdout",
     "output_type": "stream",
     "text": [
      "      test smoker recovery propensity   weight\n",
      "  1:  TRUE   TRUE 63.06242  0.7556561 1.323353\n",
      "  2:  TRUE   TRUE 68.18916  0.7556561 1.323353\n",
      "  3:  TRUE   TRUE 58.01755  0.7556561 1.323353\n",
      "  4:  TRUE   TRUE 53.95745  0.7556561 1.323353\n",
      "  5:  TRUE   TRUE 56.49341  0.7556561 1.323353\n",
      "  6:  TRUE   TRUE 53.02463  0.7556561 1.323353\n",
      "  7:  TRUE   TRUE 72.37134  0.7556561 1.323353\n",
      "  8:  TRUE   TRUE 59.56458  0.7556561 1.323353\n",
      "  9:  TRUE   TRUE 59.36989  0.7556561 1.323353\n",
      " 10:  TRUE   TRUE 66.38388  0.7556561 1.323353\n",
      " ---                                          \n",
      "391: FALSE  FALSE 28.65694  0.1843575 1.226027\n",
      "392: FALSE  FALSE 28.81966  0.1843575 1.226027\n",
      "393: FALSE  FALSE 31.95770  0.1843575 1.226027\n",
      "394: FALSE  FALSE 27.46349  0.1843575 1.226027\n",
      "395: FALSE  FALSE 31.36934  0.1843575 1.226027\n",
      "396: FALSE   TRUE 59.27232  0.7556561 4.092593\n",
      "397: FALSE   TRUE 60.75216  0.7556561 4.092593\n",
      "398: FALSE  FALSE 31.32790  0.1843575 1.226027\n",
      "399: FALSE   TRUE 68.95851  0.7556561 4.092593\n",
      "400: FALSE   TRUE 61.58575  0.7556561 4.092593\n"
     ]
    }
   ],
   "source": [
    "## now calculate the weights:\n",
    "ex1[test==TRUE, weight := 1 / propensity]\n",
    "ex1[test==FALSE, weight := 1 / (1 - propensity)]\n",
    "print(ex1, topn=10)"
   ]
  },
  {
   "cell_type": "code",
   "execution_count": 8,
   "id": "5de6f618",
   "metadata": {},
   "outputs": [
    {
     "name": "stdout",
     "output_type": "stream",
     "text": [
      "[1] 0.835\n",
      "[1] 0.27\n",
      "[1] 0.5525\n",
      "[1] 0.5525\n"
     ]
    }
   ],
   "source": [
    "print(sum(ex1[test==TRUE ]$smoker)    / nrow(ex1[test==TRUE]))\n",
    "print(sum(ex1[test==FALSE]$smoker)    / nrow(ex1[test==FALSE]))\n",
    "print(sum(ex1[test  & smoker]$weight) / sum(ex1[test==TRUE]$weight))\n",
    "print(sum(ex1[!test & smoker]$weight) / sum(ex1[test==FALSE]$weight))"
   ]
  },
  {
   "cell_type": "markdown",
   "id": "0d718107",
   "metadata": {},
   "source": [
    "Without the propensity weights, we see that the difference between test and control group is significant:"
   ]
  },
  {
   "cell_type": "code",
   "execution_count": 9,
   "id": "70560dae",
   "metadata": {},
   "outputs": [
    {
     "data": {
      "text/plain": [
       "             Df Sum Sq Mean Sq F value Pr(>F)    \n",
       "test          1  29495   29495   167.6 <2e-16 ***\n",
       "Residuals   398  70042     176                   \n",
       "---\n",
       "Signif. codes:  0 ‘***’ 0.001 ‘**’ 0.01 ‘*’ 0.05 ‘.’ 0.1 ‘ ’ 1"
      ]
     },
     "metadata": {},
     "output_type": "display_data"
    }
   ],
   "source": [
    "summary(aov(recovery ~ test, data=ex1))"
   ]
  },
  {
   "cell_type": "markdown",
   "id": "8909995d",
   "metadata": {},
   "source": [
    "But when we use the weights, we see that this difference is not significant, because it is entirely explained by the higher percentage of smokers in the test group, which is \"matched\" out when we use the weights:"
   ]
  },
  {
   "cell_type": "code",
   "execution_count": 10,
   "id": "80c90c40",
   "metadata": {},
   "outputs": [
    {
     "data": {
      "text/plain": [
       "             Df Sum Sq Mean Sq F value Pr(>F)\n",
       "test          1     15    15.4   0.031   0.86\n",
       "Residuals   398 195662   491.6               "
      ]
     },
     "metadata": {},
     "output_type": "display_data"
    }
   ],
   "source": [
    "summary(aov(recovery ~ test, data=ex1, weights=ex1$weight))"
   ]
  },
  {
   "cell_type": "markdown",
   "id": "93270044",
   "metadata": {},
   "source": [
    "### Checking with PSweight"
   ]
  },
  {
   "cell_type": "code",
   "execution_count": 11,
   "id": "d30b2be8",
   "metadata": {},
   "outputs": [
    {
     "name": "stdout",
     "output_type": "stream",
     "text": [
      "\n",
      "Closed-form inference: \n",
      "\n",
      "Original group value:  FALSE, TRUE \n",
      "\n",
      "Contrast: \n",
      "           FALSE TRUE\n",
      "Contrast 1    -1    1\n",
      "\n",
      "           Estimate Std.Error      lwr    upr Pr(>|z|)\n",
      "Contrast 1  0.27714   0.55019 -0.80121 1.3555   0.6145\n"
     ]
    },
    {
     "data": {
      "text/plain": [
       "Original group value:  FALSE, TRUE \n",
       "\n",
       "Point estimate: \n",
       "46.3485, 46.6256 "
      ]
     },
     "metadata": {},
     "output_type": "display_data"
    }
   ],
   "source": [
    "ipw <- PSweight(test ~ smoker, data=ex1, yname=\"recovery\", weight=\"IPW\")\n",
    "print(summary(ipw))\n",
    "ipw"
   ]
  },
  {
   "cell_type": "code",
   "execution_count": 12,
   "id": "562feba2",
   "metadata": {},
   "outputs": [
    {
     "data": {
      "text/plain": [
       "\n",
       "Closed-form inference: \n",
       "\n",
       "Original group value:  FALSE, TRUE \n",
       "\n",
       "Contrast: \n",
       "           FALSE TRUE\n",
       "Contrast 1    -1    1\n",
       "\n",
       "           Estimate Std.Error      lwr    upr Pr(>|z|)\n",
       "Contrast 1  0.27714   0.55019 -0.80121 1.3555   0.6145"
      ]
     },
     "metadata": {},
     "output_type": "display_data"
    }
   ],
   "source": [
    "summary(ipw)"
   ]
  },
  {
   "cell_type": "markdown",
   "id": "e72c8beb",
   "metadata": {},
   "source": [
    "## Problems"
   ]
  },
  {
   "cell_type": "markdown",
   "id": "9caefef7",
   "metadata": {},
   "source": [
    "### Missing propensity variable"
   ]
  },
  {
   "cell_type": "code",
   "execution_count": null,
   "id": "b930d728",
   "metadata": {},
   "outputs": [],
   "source": []
  },
  {
   "cell_type": "markdown",
   "id": "41b9203f",
   "metadata": {},
   "source": [
    "### Small divisors\n",
    "\n",
    "We introduce a new covariate `new_surgery`. In the test group, we assign all smokers to new_surgery and all non-smokers to non-new_surgerys; in the control group, we assign the new_surgerys randomly to the whole population with the same probability as the probability of being smoker in the control group (0.75)."
   ]
  },
  {
   "cell_type": "code",
   "execution_count": 13,
   "id": "222ac569",
   "metadata": {},
   "outputs": [],
   "source": [
    "ex2 <- copy(ex1)\n",
    "ex2[test==TRUE, new_surgery := smoker]\n",
    "#ex2[test & smoker, new_surgery := rbinom(nrow(ex2[test & smoker]), 1, 0.9)]\n",
    "#ex2[test & !smoker, new_surgery := rbinom(nrow(ex2[test & !smoker]), 1, 0.1)]\n",
    "ex2[test==FALSE, new_surgery := rbinom(nrow(ex2[test==FALSE]), 1, p_s)]"
   ]
  },
  {
   "cell_type": "code",
   "execution_count": 14,
   "id": "444de3f6",
   "metadata": {},
   "outputs": [
    {
     "data": {
      "text/html": [
       "1"
      ],
      "text/latex": [
       "1"
      ],
      "text/markdown": [
       "1"
      ],
      "text/plain": [
       "[1] 1"
      ]
     },
     "metadata": {},
     "output_type": "display_data"
    }
   ],
   "source": [
    "## percent smoker new_surgerys:\n",
    "nrow(ex2[test & smoker & new_surgery])/nrow(ex2[test & smoker])"
   ]
  },
  {
   "cell_type": "code",
   "execution_count": 15,
   "id": "4e0317f0",
   "metadata": {},
   "outputs": [
    {
     "data": {
      "text/html": [
       "0"
      ],
      "text/latex": [
       "0"
      ],
      "text/markdown": [
       "0"
      ],
      "text/plain": [
       "[1] 0"
      ]
     },
     "metadata": {},
     "output_type": "display_data"
    }
   ],
   "source": [
    "## percent male new_surgerys:\n",
    "nrow(ex2[test & !smoker & new_surgery])/nrow(ex2[test & !smoker])"
   ]
  },
  {
   "cell_type": "code",
   "execution_count": 16,
   "id": "b7c1356a",
   "metadata": {},
   "outputs": [
    {
     "data": {
      "text/plain": [
       "\n",
       "Call:\n",
       "glm(formula = \"test ~ smoker + new_surgery\", family = binomial, \n",
       "    data = ex2)\n",
       "\n",
       "Deviance Residuals: \n",
       "    Min       1Q   Median       3Q      Max  \n",
       "-2.1666  -0.5623   0.1421   0.7636   1.5948  \n",
       "\n",
       "Coefficients:\n",
       "                Estimate Std. Error z value Pr(>|z|)    \n",
       "(Intercept)      -0.9427     0.2436  -3.870 0.000109 ***\n",
       "smokerTRUE        3.1892     0.3381   9.432  < 2e-16 ***\n",
       "new_surgeryTRUE  -1.1632     0.3771  -3.085 0.002038 ** \n",
       "---\n",
       "Signif. codes:  0 ‘***’ 0.001 ‘**’ 0.01 ‘*’ 0.05 ‘.’ 0.1 ‘ ’ 1\n",
       "\n",
       "(Dispersion parameter for binomial family taken to be 1)\n",
       "\n",
       "    Null deviance: 554.52  on 399  degrees of freedom\n",
       "Residual deviance: 406.36  on 397  degrees of freedom\n",
       "AIC: 412.36\n",
       "\n",
       "Number of Fisher Scoring iterations: 4\n"
      ]
     },
     "metadata": {},
     "output_type": "display_data"
    }
   ],
   "source": [
    "logistic_model <- glm(\"test ~ smoker + new_surgery\", family=binomial, data=ex2)\n",
    "summary(logistic_model)"
   ]
  },
  {
   "cell_type": "code",
   "execution_count": 17,
   "id": "69170cd2",
   "metadata": {},
   "outputs": [
    {
     "name": "stdout",
     "output_type": "stream",
     "text": [
      "      test smoker recovery propensity    weight new_surgery\n",
      "  1:  TRUE   TRUE 63.06242  0.7471187  1.338475        TRUE\n",
      "  2:  TRUE   TRUE 68.18916  0.7471187  1.338475        TRUE\n",
      "  3:  TRUE   TRUE 58.01755  0.7471187  1.338475        TRUE\n",
      "  4:  TRUE   TRUE 53.95745  0.7471187  1.338475        TRUE\n",
      "  5:  TRUE   TRUE 56.49341  0.7471187  1.338475        TRUE\n",
      "  6:  TRUE   TRUE 53.02463  0.7471187  1.338475        TRUE\n",
      "  7:  TRUE   TRUE 72.37134  0.7471187  1.338475        TRUE\n",
      "  8:  TRUE   TRUE 59.56458  0.7471187  1.338475        TRUE\n",
      "  9:  TRUE   TRUE 59.36989  0.7471187  1.338475        TRUE\n",
      " 10:  TRUE   TRUE 66.38388  0.7471187  1.338475        TRUE\n",
      " ---                                                       \n",
      "391: FALSE  FALSE 28.65694  0.1085219  1.121733        TRUE\n",
      "392: FALSE  FALSE 28.81966  0.1085219  1.121733        TRUE\n",
      "393: FALSE  FALSE 31.95770  0.1085219  1.121733        TRUE\n",
      "394: FALSE  FALSE 27.46349  0.2803520  1.389568       FALSE\n",
      "395: FALSE  FALSE 31.36934  0.1085219  1.121733        TRUE\n",
      "396: FALSE   TRUE 59.27232  0.9043496 10.454736       FALSE\n",
      "397: FALSE   TRUE 60.75216  0.7471187  3.954424        TRUE\n",
      "398: FALSE  FALSE 31.32790  0.1085219  1.121733        TRUE\n",
      "399: FALSE   TRUE 68.95851  0.7471187  3.954424        TRUE\n",
      "400: FALSE   TRUE 61.58575  0.7471187  3.954424        TRUE\n"
     ]
    }
   ],
   "source": [
    "ex2[, propensity := predict(logistic_model, ex2, type=\"response\")]\n",
    "ex2[test==TRUE, weight := 1 / propensity]\n",
    "ex2[test==FALSE, weight := 1 / (1 - propensity)]\n",
    "print(ex2, topn=10)"
   ]
  },
  {
   "cell_type": "code",
   "execution_count": 18,
   "id": "56d2ebae",
   "metadata": {},
   "outputs": [
    {
     "data": {
      "text/plain": [
       "             Df Sum Sq Mean Sq F value Pr(>F)    \n",
       "test          1  29495   29495   167.6 <2e-16 ***\n",
       "Residuals   398  70042     176                   \n",
       "---\n",
       "Signif. codes:  0 ‘***’ 0.001 ‘**’ 0.01 ‘*’ 0.05 ‘.’ 0.1 ‘ ’ 1"
      ]
     },
     "metadata": {},
     "output_type": "display_data"
    }
   ],
   "source": [
    "summary(aov(recovery ~ test, data=ex2))"
   ]
  },
  {
   "cell_type": "code",
   "execution_count": 19,
   "id": "66006963",
   "metadata": {},
   "outputs": [
    {
     "data": {
      "text/plain": [
       "             Df Sum Sq Mean Sq F value Pr(>F)\n",
       "test          1    530   529.6   1.136  0.287\n",
       "Residuals   398 185619   466.4               "
      ]
     },
     "metadata": {},
     "output_type": "display_data"
    }
   ],
   "source": [
    "summary(aov(recovery ~ test, data=ex2, weights=ex2$weight))"
   ]
  },
  {
   "cell_type": "code",
   "execution_count": 20,
   "id": "5e13cd9a",
   "metadata": {},
   "outputs": [
    {
     "name": "stdout",
     "output_type": "stream",
     "text": [
      "[1] 0.835\n",
      "[1] 0.27\n",
      "[1] 0.6550491\n",
      "[1] 0.6234392\n"
     ]
    }
   ],
   "source": [
    "print(sum(ex2[test==TRUE]$smoker)/nrow(ex2[test==TRUE]))\n",
    "print(sum(ex2[test==FALSE]$smoker)/nrow(ex2[test==FALSE]))\n",
    "print(sum(ex2[test &  smoker]$weight)/sum(ex2[test==TRUE]$weight))\n",
    "print(sum(ex2[!test & smoker]$weight)/sum(ex2[test==FALSE]$weight))"
   ]
  },
  {
   "cell_type": "code",
   "execution_count": 21,
   "id": "87607464",
   "metadata": {},
   "outputs": [
    {
     "name": "stdout",
     "output_type": "stream",
     "text": [
      "[1] 0.835\n",
      "[1] 0.71\n",
      "[1] 0.6550491\n",
      "[1] 0.5950334\n"
     ]
    }
   ],
   "source": [
    "print(sum(ex2[test==TRUE]$new_surgery)/nrow(ex2[test==TRUE]))\n",
    "print(sum(ex2[test==FALSE]$new_surgery)/nrow(ex2[test==FALSE]))\n",
    "print(sum(ex2[test &  new_surgery]$weight)/sum(ex2[test==TRUE]$weight))\n",
    "print(sum(ex2[!test & new_surgery]$weight)/sum(ex2[test==FALSE]$weight))"
   ]
  },
  {
   "cell_type": "markdown",
   "id": "9e96288b",
   "metadata": {},
   "source": [
    "Now let's imagine new_surgery has an effect, if you're a new_surgery, you're 15 recovery lighter:"
   ]
  },
  {
   "cell_type": "code",
   "execution_count": 22,
   "id": "f39bc11a",
   "metadata": {},
   "outputs": [],
   "source": [
    "ex2[new_surgery==TRUE, recovery := recovery + 50]"
   ]
  },
  {
   "cell_type": "code",
   "execution_count": 23,
   "id": "4cd67ed1",
   "metadata": {},
   "outputs": [
    {
     "data": {
      "text/plain": [
       "             Df Sum Sq Mean Sq F value   Pr(>F)    \n",
       "test          1  54870   54870   64.38 1.16e-14 ***\n",
       "Residuals   398 339207     852                     \n",
       "---\n",
       "Signif. codes:  0 ‘***’ 0.001 ‘**’ 0.01 ‘*’ 0.05 ‘.’ 0.1 ‘ ’ 1"
      ]
     },
     "metadata": {},
     "output_type": "display_data"
    }
   ],
   "source": [
    "summary(aov(recovery ~ test, data=ex2))"
   ]
  },
  {
   "cell_type": "markdown",
   "id": "7dd9e4b1",
   "metadata": {},
   "source": [
    "We find then with these weights that the test group is significantly different from the control group, which we know by design of this simulation is not true:"
   ]
  },
  {
   "cell_type": "code",
   "execution_count": 24,
   "id": "98ea6f1b",
   "metadata": {},
   "outputs": [
    {
     "data": {
      "text/plain": [
       "             Df Sum Sq Mean Sq F value Pr(>F)\n",
       "test          1   4246    4246   1.892   0.17\n",
       "Residuals   398 893078    2244               "
      ]
     },
     "metadata": {},
     "output_type": "display_data"
    }
   ],
   "source": [
    "summary(aov(recovery ~ test, data=ex2, weights=ex2$weight))"
   ]
  },
  {
   "cell_type": "markdown",
   "id": "604173f1",
   "metadata": {},
   "source": [
    "### Running PSweight"
   ]
  },
  {
   "cell_type": "code",
   "execution_count": 25,
   "id": "b3951af5",
   "metadata": {},
   "outputs": [
    {
     "name": "stdout",
     "output_type": "stream",
     "text": [
      "Original group value:  FALSE, TRUE \n",
      "\n",
      "Point estimate: \n",
      "77.8015, 82.4408 \n"
     ]
    },
    {
     "data": {
      "text/plain": [
       "\n",
       "Closed-form inference: \n",
       "\n",
       "Original group value:  FALSE, TRUE \n",
       "\n",
       "Contrast: \n",
       "           FALSE TRUE\n",
       "Contrast 1    -1    1\n",
       "\n",
       "           Estimate Std.Error     lwr   upr Pr(>|z|)\n",
       "Contrast 1   4.6393    3.4292 -2.0819 11.36   0.1761"
      ]
     },
     "metadata": {},
     "output_type": "display_data"
    }
   ],
   "source": [
    "ipw <- PSweight(test ~ smoker + new_surgery, data=ex2, yname=\"recovery\", weight=\"IPW\")\n",
    "print(ipw)\n",
    "summary(ipw)"
   ]
  },
  {
   "cell_type": "code",
   "execution_count": 26,
   "id": "0388f476",
   "metadata": {},
   "outputs": [
    {
     "data": {
      "text/plain": [
       "unweighted result\n",
       "                Mean FALSE Mean TRUE   SMD\n",
       "smokerTRUE            0.27     0.835 1.377\n",
       "new_surgeryTRUE       0.71     0.835 0.301\n",
       "\n",
       "IPW result\n",
       "                Mean FALSE Mean TRUE   SMD\n",
       "smokerTRUE           0.623     0.655 0.077\n",
       "new_surgeryTRUE      0.595     0.655 0.144\n"
      ]
     },
     "metadata": {},
     "output_type": "display_data"
    }
   ],
   "source": [
    "ipw_ss <- SumStat(test ~ smoker + new_surgery, data=ex2, weight=\"IPW\")\n",
    "summary(ipw_ss)"
   ]
  },
  {
   "cell_type": "code",
   "execution_count": 27,
   "id": "3f1526d4",
   "metadata": {},
   "outputs": [
    {
     "data": {
      "image/png": "[encoded data removed]",
      "text/plain": [
       "plot without title"
      ]
     },
     "metadata": {
      "image/png": {
       "height": 420,
       "width": 420
      }
     },
     "output_type": "display_data"
    }
   ],
   "source": [
    "plot(ipw_ss)"
   ]
  },
  {
   "cell_type": "code",
   "execution_count": 28,
   "id": "dd745d8e",
   "metadata": {},
   "outputs": [
    {
     "name": "stderr",
     "output_type": "stream",
     "text": [
      "Warning message in predict.lm(fitglm, type = \"response\", dataout):\n",
      "“prediction from a rank-deficient fit may be misleading”\n"
     ]
    },
    {
     "data": {
      "text/plain": [
       "\n",
       "Closed-form inference: \n",
       "\n",
       "Original group value:  FALSE, TRUE \n",
       "\n",
       "Contrast: \n",
       "           FALSE TRUE\n",
       "Contrast 1    -1    1\n",
       "\n",
       "           Estimate Std.Error     lwr   upr Pr(>|z|)\n",
       "Contrast 1   4.6393    3.4292 -2.0819 11.36   0.1761"
      ]
     },
     "metadata": {},
     "output_type": "display_data"
    }
   ],
   "source": [
    "aipw <- PSweight(test ~ smoker + new_surgery, data=ex2, yname=\"recovery\", weight=\"IPW\", \n",
    "                augmentation = TRUE, out.formula = recovery ~ smoker + new_surgery)\n",
    "summary(ipw)"
   ]
  },
  {
   "cell_type": "markdown",
   "id": "e4565646",
   "metadata": {},
   "source": [
    "# AIPW"
   ]
  },
  {
   "cell_type": "markdown",
   "id": "d652613f",
   "metadata": {},
   "source": [
    "Let's examine the Augmented Inverse Propensity Weighting. We start by simulating a simple treatment/control group with a couple of covariates.\n",
    "\n",
    "$$Y_{i} \\sim X_{i}\\beta + W_{i}\\tau + \\epsilon$$\n",
    "\n",
    "To add some realism, we'll have our treatment have a different range of X and fix $\\beta$ and $\\tau$.\n",
    "\n",
    "$$X_{treat} \\sim Normal(\\mu=4, \\sigma=1)$$\n",
    "$$X_{cntl} \\sim Normal(\\mu=6, \\sigma=1)$$\n",
    "$$\\beta = 2$$\n",
    "$$\\tau = 1$$\n",
    "$$\\epsilon \\sim Normal(\\mu=0.2, \\sigma=1)$$"
   ]
  },
  {
   "cell_type": "code",
   "execution_count": 29,
   "id": "c8dbb285",
   "metadata": {},
   "outputs": [
    {
     "name": "stdout",
     "output_type": "stream",
     "text": [
      "       x1                 W        epsilon               y          \n",
      " Min.   :-0.03698   Min.   :1   Min.   :-3.48520   Min.   : 0.4376  \n",
      " 1st Qu.: 3.38471   1st Qu.:1   1st Qu.:-0.72864   1st Qu.: 7.7401  \n",
      " Median : 4.01342   Median :1   Median :-0.02724   Median : 9.0459  \n",
      " Mean   : 4.03029   Mean   :1   Mean   : 0.04855   Mean   : 9.1091  \n",
      " 3rd Qu.: 4.71283   3rd Qu.:1   3rd Qu.: 0.79827   3rd Qu.:10.6091  \n",
      " Max.   : 6.82759   Max.   :1   Max.   : 3.85429   Max.   :16.1020  \n",
      "       x1              W        epsilon              y         \n",
      " Min.   :3.490   Min.   :0   Min.   :-2.4758   Min.   : 6.415  \n",
      " 1st Qu.:5.355   1st Qu.:0   1st Qu.:-0.4860   1st Qu.:10.771  \n",
      " Median :6.032   Median :0   Median : 0.1646   Median :12.359  \n",
      " Mean   :6.032   Mean   :0   Mean   : 0.1672   Mean   :12.232  \n",
      " 3rd Qu.:6.682   3rd Qu.:0   3rd Qu.: 0.8656   3rd Qu.:13.676  \n",
      " Max.   :8.893   Max.   :0   Max.   : 2.3247   Max.   :18.288  \n"
     ]
    }
   ],
   "source": [
    "sz <- 250\n",
    "beta1 <- 2\n",
    "tau <- 1\n",
    "mu_epsilon <- 0.1\n",
    "dt <- data.table(x1=c(rnorm(sz, 4, 1), rnorm(sz, 6, 1)), \n",
    "                 W=c(rep(1, sz), rep(0, sz)),\n",
    "                 epsilon=rnorm(sz*2, mu_epsilon, 1))\n",
    "dt[, y := x1 * beta1 + W * tau + epsilon]\n",
    "print(summary(dt[W==1]))\n",
    "print(summary(dt[W==0]))"
   ]
  },
  {
   "cell_type": "code",
   "execution_count": 30,
   "id": "1bb63953",
   "metadata": {},
   "outputs": [
    {
     "data": {
      "image/png": "[encoded data removed]",
      "text/plain": [
       "plot without title"
      ]
     },
     "metadata": {
      "image/png": {
       "height": 420,
       "width": 420
      }
     },
     "output_type": "display_data"
    }
   ],
   "source": [
    "ggplot(dt, aes(x1, y, color=factor(W))) +\n",
    "    geom_point()"
   ]
  },
  {
   "cell_type": "markdown",
   "id": "49ef30da",
   "metadata": {},
   "source": [
    "## IPW"
   ]
  },
  {
   "cell_type": "markdown",
   "id": "b3d5815a",
   "metadata": {},
   "source": [
    "First we use a logistic regression to figure out the propensity score *e(i)*"
   ]
  },
  {
   "cell_type": "code",
   "execution_count": 31,
   "id": "23d9724c",
   "metadata": {},
   "outputs": [
    {
     "data": {
      "text/plain": [
       "\n",
       "Call:\n",
       "glm(formula = W ~ x1, family = binomial, data = dt)\n",
       "\n",
       "Deviance Residuals: \n",
       "     Min        1Q    Median        3Q       Max  \n",
       "-2.47826  -0.50966  -0.01093   0.50283   2.67179  \n",
       "\n",
       "Coefficients:\n",
       "            Estimate Std. Error z value Pr(>|z|)    \n",
       "(Intercept)   9.8890     0.8572   11.54   <2e-16 ***\n",
       "x1           -1.9670     0.1686  -11.67   <2e-16 ***\n",
       "---\n",
       "Signif. codes:  0 ‘***’ 0.001 ‘**’ 0.01 ‘*’ 0.05 ‘.’ 0.1 ‘ ’ 1\n",
       "\n",
       "(Dispersion parameter for binomial family taken to be 1)\n",
       "\n",
       "    Null deviance: 693.15  on 499  degrees of freedom\n",
       "Residual deviance: 357.44  on 498  degrees of freedom\n",
       "AIC: 361.44\n",
       "\n",
       "Number of Fisher Scoring iterations: 6\n"
      ]
     },
     "metadata": {},
     "output_type": "display_data"
    }
   ],
   "source": [
    "propensity_model <- glm(W ~ x1, data=dt, family=binomial)\n",
    "summary(propensity_model)"
   ]
  },
  {
   "cell_type": "code",
   "execution_count": 32,
   "id": "9525cc43",
   "metadata": {},
   "outputs": [
    {
     "name": "stdout",
     "output_type": "stream",
     "text": [
      "           x1 W     epsilon         y          e\n",
      "  1: 5.376376 1 -0.16994889 11.582803 0.33488426\n",
      "  2: 4.659048 1 -1.28155370  9.036543 0.67365895\n",
      "  3: 3.937517 1 -1.05665188  7.818381 0.89510745\n",
      "  4: 4.304643 1 -1.83448416  7.774801 0.80563358\n",
      "  5: 4.834769 1  0.07472833 10.744267 0.59366668\n",
      " ---                                            \n",
      "496: 7.317620 0  0.33106009 14.966301 0.01093779\n",
      "497: 6.037196 0  1.47111847 13.545511 0.12068215\n",
      "498: 5.372362 0  0.53278655 11.277511 0.33664489\n",
      "499: 6.174783 0 -0.61498169 11.734585 0.09478040\n",
      "500: 6.049840 0 -2.17497558  9.924705 0.11806775\n"
     ]
    }
   ],
   "source": [
    "dt[, e := predict(propensity_model, data=dt, type=\"response\")]\n",
    "print(dt)"
   ]
  },
  {
   "cell_type": "markdown",
   "id": "583b28ec",
   "metadata": {},
   "source": [
    "And now we can estimate the propensity weighted means and see what $\\tau$ we get:"
   ]
  },
  {
   "cell_type": "code",
   "execution_count": 33,
   "id": "426b9a84",
   "metadata": {},
   "outputs": [
    {
     "name": "stdout",
     "output_type": "stream",
     "text": [
      "mu1: 10.8416659423644 \n",
      "mu0: 10.7628082430946 \n",
      "[1] 0.0788577\n"
     ]
    }
   ],
   "source": [
    "mu1 <- sum(dt$W * dt$y / dt$e) / sum(dt$W / dt$e)\n",
    "mu0 <- sum((1-dt$W) * dt$y / (1-dt$e)) / sum((1 - dt$W) / (1 - dt$e))\n",
    "cat(paste(\"mu1:\", mu1, \"\\n\"))\n",
    "cat(paste(\"mu0:\", mu0, \"\\n\"))\n",
    "ATE_prop <- mu1 - mu0\n",
    "print(ATE_prop)"
   ]
  },
  {
   "cell_type": "markdown",
   "id": "8dba8d4a",
   "metadata": {},
   "source": [
    "So it's fair to say we've done a reasonable job of estimating tau."
   ]
  },
  {
   "cell_type": "markdown",
   "id": "a3462031",
   "metadata": {},
   "source": [
    "## Regression"
   ]
  },
  {
   "cell_type": "markdown",
   "id": "c332ee5f",
   "metadata": {},
   "source": [
    "Now let's look at a second way of approching the problem. Here we estimate directly $\\mu_{0}$\n",
    "and $\\mu_{1}$ from the treatment and control groups, conditional on X.\n",
    "\n",
    "Note the regression is conducted separately on the two groups. It is not:\n",
    "\n",
    "$$Y \\sim X\\beta + W\\tau + \\epsilon$$\n",
    "\n",
    "but instead:\n",
    "\n",
    "$$Y_{1} \\sim X_{1}\\beta_{1} + \\epsilon$$\n",
    "$$Y_{0} \\sim X_{0}\\beta_{0} + \\epsilon$$\n",
    "\n",
    "\"We emphasize that, throughout our analysis, we defined the target estimand τ = E [∆i] before making any modeling assumptions. Linear modeling was only used as a tool to estimate τ , but did not inform the scientific question we tried to answer. In particular, we did not try to estimate τ by direct regression modeling $Y_{i} \\sim X_{i}\\beta + W_{i}\\tau + \\epsilon_{i}$, while claiming that the coefficient on τ is a causal effect. This approach has the vice of tying our scientific question to our regression modeling strategy: τ appears to just have become a coefficient in our linear model, not a fact of nature that’s conceptually prior to modeling decisions.\" (https://web.stanford.edu/~swager/stats361.pdf, page 8)."
   ]
  },
  {
   "cell_type": "code",
   "execution_count": 34,
   "id": "7c948d32",
   "metadata": {},
   "outputs": [
    {
     "data": {
      "text/plain": [
       "\n",
       "Call:\n",
       "lm(formula = y ~ x1, data = dt[W == 1])\n",
       "\n",
       "Residuals:\n",
       "    Min      1Q  Median      3Q     Max \n",
       "-3.4636 -0.7723 -0.0817  0.7178  3.8501 \n",
       "\n",
       "Coefficients:\n",
       "            Estimate Std. Error t value Pr(>|t|)    \n",
       "(Intercept)  0.86607    0.28271   3.064  0.00243 ** \n",
       "x1           2.04528    0.06803  30.066  < 2e-16 ***\n",
       "---\n",
       "Signif. codes:  0 ‘***’ 0.001 ‘**’ 0.01 ‘*’ 0.05 ‘.’ 0.1 ‘ ’ 1\n",
       "\n",
       "Residual standard error: 1.09 on 248 degrees of freedom\n",
       "Multiple R-squared:  0.7847,\tAdjusted R-squared:  0.7838 \n",
       "F-statistic: 903.9 on 1 and 248 DF,  p-value: < 2.2e-16\n"
      ]
     },
     "metadata": {},
     "output_type": "display_data"
    }
   ],
   "source": [
    "model_mu1 <- lm(y ~ x1, data=dt[W==1])\n",
    "summary(model_mu1)"
   ]
  },
  {
   "cell_type": "code",
   "execution_count": 35,
   "id": "fdcfa92d",
   "metadata": {},
   "outputs": [
    {
     "data": {
      "text/plain": [
       "\n",
       "Call:\n",
       "lm(formula = y ~ x1, data = dt[W == 0])\n",
       "\n",
       "Residuals:\n",
       "     Min       1Q   Median       3Q      Max \n",
       "-2.63419 -0.65226 -0.00326  0.68334  2.15929 \n",
       "\n",
       "Coefficients:\n",
       "            Estimate Std. Error t value Pr(>|t|)    \n",
       "(Intercept)  0.13030    0.37498   0.347    0.729    \n",
       "x1           2.00611    0.06134  32.707   <2e-16 ***\n",
       "---\n",
       "Signif. codes:  0 ‘***’ 0.001 ‘**’ 0.01 ‘*’ 0.05 ‘.’ 0.1 ‘ ’ 1\n",
       "\n",
       "Residual standard error: 0.9635 on 248 degrees of freedom\n",
       "Multiple R-squared:  0.8118,\tAdjusted R-squared:  0.811 \n",
       "F-statistic:  1070 on 1 and 248 DF,  p-value: < 2.2e-16\n"
      ]
     },
     "metadata": {},
     "output_type": "display_data"
    }
   ],
   "source": [
    "model_mu0 <- lm(y ~ x1, data=dt[W==0])\n",
    "summary(model_mu0)"
   ]
  },
  {
   "cell_type": "markdown",
   "id": "d59c8532",
   "metadata": {},
   "source": [
    "Now we've got our models for $\\mu_{1}$, $\\mu_{0}$, we evaluate them conditional on all X:"
   ]
  },
  {
   "cell_type": "code",
   "execution_count": 36,
   "id": "84667194",
   "metadata": {},
   "outputs": [
    {
     "data": {
      "text/html": [
       "0.932828784459234"
      ],
      "text/latex": [
       "0.932828784459234"
      ],
      "text/markdown": [
       "0.932828784459234"
      ],
      "text/plain": [
       "[1] 0.9328288"
      ]
     },
     "metadata": {},
     "output_type": "display_data"
    }
   ],
   "source": [
    "ATE_reg <- 1/nrow(dt) * sum(predict(model_mu1, dt) - predict(model_mu0, dt))\n",
    "ATE_reg"
   ]
  },
  {
   "cell_type": "markdown",
   "id": "2bb9c306",
   "metadata": {},
   "source": [
    "## IPW + regression = AIPW"
   ]
  },
  {
   "cell_type": "markdown",
   "id": "74e2d7be",
   "metadata": {},
   "source": [
    "We now use both the IPW and the regression to get the Augmented IPW; for this, the idea is to calculate mu0 and mu1, and then to use the IPW on the residuals of the regression instead of directly on the Y."
   ]
  },
  {
   "cell_type": "code",
   "execution_count": 37,
   "id": "74dbf63c",
   "metadata": {},
   "outputs": [
    {
     "data": {
      "text/html": [
       "1.0695503561272"
      ],
      "text/latex": [
       "1.0695503561272"
      ],
      "text/markdown": [
       "1.0695503561272"
      ],
      "text/plain": [
       "[1] 1.06955"
      ]
     },
     "metadata": {},
     "output_type": "display_data"
    }
   ],
   "source": [
    "ATE_aipw <- 1/nrow(dt) * sum(predict(model_mu1, dt) - predict(model_mu0, dt) + \n",
    "                             dt$W * (dt$y - predict(model_mu1, dt)) / dt$e -\n",
    "                             (1-dt$W) * (dt$y - predict(model_mu0, dt)) / (1-dt$e))\n",
    "ATE_aipw"
   ]
  },
  {
   "cell_type": "markdown",
   "id": "523dda74",
   "metadata": {},
   "source": [
    "## Let's get some confirmation using the package PSweight"
   ]
  },
  {
   "cell_type": "code",
   "execution_count": 50,
   "id": "d0be4ece",
   "metadata": {},
   "outputs": [
    {
     "data": {
      "text/html": [
       "<strong>1:</strong> 0.0788576992697809"
      ],
      "text/latex": [
       "\\textbf{1:} 0.0788576992697809"
      ],
      "text/markdown": [
       "**1:** 0.0788576992697809"
      ],
      "text/plain": [
       "        1 \n",
       "0.0788577 "
      ]
     },
     "metadata": {},
     "output_type": "display_data"
    },
    {
     "data": {
      "text/plain": [
       "Original group value:  0, 1 \n",
       "\n",
       "Point estimate: \n",
       "10.7628, 10.8417 "
      ]
     },
     "metadata": {},
     "output_type": "display_data"
    },
    {
     "data": {
      "text/plain": [
       "\n",
       "Closed-form inference: \n",
       "\n",
       "Original group value:  0, 1 \n",
       "\n",
       "Contrast: \n",
       "            0 1\n",
       "Contrast 1 -1 1\n",
       "\n",
       "            Estimate Std.Error       lwr     upr Pr(>|z|)\n",
       "Contrast 1  0.078858  0.339807 -0.587153 0.74487   0.8165"
      ]
     },
     "metadata": {},
     "output_type": "display_data"
    }
   ],
   "source": [
    "ipw <- PSweight(W ~ x1, data=dt, yname=\"y\", weight=\"IPW\")\n",
    "ipw$muhat[\"1\"] - ipw$muhat[\"0\"]\n",
    "ipw\n",
    "summary(ipw)"
   ]
  },
  {
   "cell_type": "code",
   "execution_count": 51,
   "id": "153d9681",
   "metadata": {},
   "outputs": [
    {
     "data": {
      "text/html": [
       "<strong>1:</strong> 1.0817170046451"
      ],
      "text/latex": [
       "\\textbf{1:} 1.0817170046451"
      ],
      "text/markdown": [
       "**1:** 1.0817170046451"
      ],
      "text/plain": [
       "       1 \n",
       "1.081717 "
      ]
     },
     "metadata": {},
     "output_type": "display_data"
    },
    {
     "data": {
      "text/plain": [
       "Original group value:  0, 1 \n",
       "\n",
       "Point estimate: \n",
       "10.1615, 11.2432 "
      ]
     },
     "metadata": {},
     "output_type": "display_data"
    },
    {
     "data": {
      "text/plain": [
       "\n",
       "Closed-form inference: \n",
       "\n",
       "Original group value:  0, 1 \n",
       "\n",
       "Contrast: \n",
       "            0 1\n",
       "Contrast 1 -1 1\n",
       "\n",
       "           Estimate Std.Error     lwr    upr  Pr(>|z|)    \n",
       "Contrast 1  1.08172   0.15231 0.78320 1.3802 1.228e-12 ***\n",
       "---\n",
       "Signif. codes:  0 ‘***’ 0.001 ‘**’ 0.01 ‘*’ 0.05 ‘.’ 0.1 ‘ ’ 1"
      ]
     },
     "metadata": {},
     "output_type": "display_data"
    }
   ],
   "source": [
    "aug = PSweight(W ~ x1, data=dt, yname=\"y\", weight=\"IPW\", augmentation = TRUE, out.formula = y ~ x1)\n",
    "aug$muhat[\"1\"] - aug$muhat[\"0\"]\n",
    "aug\n",
    "summary(aug)"
   ]
  },
  {
   "cell_type": "markdown",
   "id": "281fb5b4",
   "metadata": {},
   "source": [
    "# Weight distributions"
   ]
  },
  {
   "cell_type": "raw",
   "id": "debd187c",
   "metadata": {},
   "source": [
    "Here we want to look at what the distributions in the treatment and control group tell us about similarities and differences between the groups."
   ]
  },
  {
   "cell_type": "markdown",
   "id": "03c5b61a",
   "metadata": {},
   "source": [
    "## Treatment and control share the same distribution"
   ]
  },
  {
   "cell_type": "code",
   "execution_count": 40,
   "id": "9bc752b6",
   "metadata": {},
   "outputs": [
    {
     "data": {
      "text/html": [
       "<table class=\"dataframe\">\n",
       "<caption>A data.table: 6 × 2</caption>\n",
       "<thead>\n",
       "\t<tr><th scope=col>x</th><th scope=col>treatment</th></tr>\n",
       "\t<tr><th scope=col>&lt;dbl&gt;</th><th scope=col>&lt;lgl&gt;</th></tr>\n",
       "</thead>\n",
       "<tbody>\n",
       "\t<tr><td>-0.09229613</td><td>FALSE</td></tr>\n",
       "\t<tr><td>-0.41156662</td><td>FALSE</td></tr>\n",
       "\t<tr><td> 0.28969536</td><td>FALSE</td></tr>\n",
       "\t<tr><td>-0.37152085</td><td>FALSE</td></tr>\n",
       "\t<tr><td> 1.05408623</td><td>FALSE</td></tr>\n",
       "\t<tr><td> 0.23795018</td><td>FALSE</td></tr>\n",
       "</tbody>\n",
       "</table>\n"
      ],
      "text/latex": [
       "A data.table: 6 × 2\n",
       "\\begin{tabular}{ll}\n",
       " x & treatment\\\\\n",
       " <dbl> & <lgl>\\\\\n",
       "\\hline\n",
       "\t -0.09229613 & FALSE\\\\\n",
       "\t -0.41156662 & FALSE\\\\\n",
       "\t  0.28969536 & FALSE\\\\\n",
       "\t -0.37152085 & FALSE\\\\\n",
       "\t  1.05408623 & FALSE\\\\\n",
       "\t  0.23795018 & FALSE\\\\\n",
       "\\end{tabular}\n"
      ],
      "text/markdown": [
       "\n",
       "A data.table: 6 × 2\n",
       "\n",
       "| x &lt;dbl&gt; | treatment &lt;lgl&gt; |\n",
       "|---|---|\n",
       "| -0.09229613 | FALSE |\n",
       "| -0.41156662 | FALSE |\n",
       "|  0.28969536 | FALSE |\n",
       "| -0.37152085 | FALSE |\n",
       "|  1.05408623 | FALSE |\n",
       "|  0.23795018 | FALSE |\n",
       "\n"
      ],
      "text/plain": [
       "  x           treatment\n",
       "1 -0.09229613 FALSE    \n",
       "2 -0.41156662 FALSE    \n",
       "3  0.28969536 FALSE    \n",
       "4 -0.37152085 FALSE    \n",
       "5  1.05408623 FALSE    \n",
       "6  0.23795018 FALSE    "
      ]
     },
     "metadata": {},
     "output_type": "display_data"
    }
   ],
   "source": [
    "N <- 1000\n",
    "tc_same <- data.table(x=rnorm(N*2, 0, 1), treatment=c(rep(FALSE, N), rep(TRUE, N)))\n",
    "head(tc_same)"
   ]
  },
  {
   "cell_type": "code",
   "execution_count": 41,
   "id": "f8740fb4",
   "metadata": {},
   "outputs": [],
   "source": [
    "model_tc_same <- SumStat(treatment ~ x, data=tc_same)"
   ]
  },
  {
   "cell_type": "code",
   "execution_count": 42,
   "id": "8f99ef33",
   "metadata": {},
   "outputs": [],
   "source": [
    "mirror_plot <- function(data, model) {\n",
    "    data <- copy(data)\n",
    "    data[, weight := model$propensity[, 2]]\n",
    "    p <- ggplot() +\n",
    "      # Top\n",
    "      geom_density(data=data[treatment==TRUE], aes(x = weight, y = after_stat(density)), binwidth=0.05, fill=\"#69b3a2\" ) +\n",
    "      geom_label( aes(x=1, y=1, label=\"treatment\"), color=\"#69b3a2\") +\n",
    "      # Bottom\n",
    "      geom_density(data=data[treatment==FALSE], aes(x = weight, y = after_stat(-density)), binwidth=0.05, fill= \"#404080\") +\n",
    "      geom_label( aes(x=1, y=-1, label=\"control\"), color=\"#404080\") +\n",
    "      xlim(x=c(0,1)) +\n",
    "      xlab(\"weight\")\n",
    "    p\n",
    "}"
   ]
  },
  {
   "cell_type": "code",
   "execution_count": 43,
   "id": "33bc660c",
   "metadata": {},
   "outputs": [
    {
     "name": "stderr",
     "output_type": "stream",
     "text": [
      "Warning message in geom_density(data = data[treatment == TRUE], aes(x = weight, :\n",
      "“\u001b[1m\u001b[22mIgnoring unknown parameters: `binwidth`”\n",
      "Warning message in geom_density(data = data[treatment == FALSE], aes(x = weight, :\n",
      "“\u001b[1m\u001b[22mIgnoring unknown parameters: `binwidth`”\n"
     ]
    },
    {
     "data": {
      "image/png": "[encoded data removed]",
      "text/plain": [
       "plot without title"
      ]
     },
     "metadata": {
      "image/png": {
       "height": 420,
       "width": 420
      }
     },
     "output_type": "display_data"
    }
   ],
   "source": [
    "mirror_plot(tc_same, model_tc_same)"
   ]
  },
  {
   "cell_type": "markdown",
   "id": "6d435580",
   "metadata": {},
   "source": [
    "## Distributions differ only in mean"
   ]
  },
  {
   "cell_type": "code",
   "execution_count": 44,
   "id": "92d50c75",
   "metadata": {},
   "outputs": [
    {
     "name": "stderr",
     "output_type": "stream",
     "text": [
      "Warning message in geom_density(data = data[treatment == TRUE], aes(x = weight, :\n",
      "“\u001b[1m\u001b[22mIgnoring unknown parameters: `binwidth`”\n",
      "Warning message in geom_density(data = data[treatment == FALSE], aes(x = weight, :\n",
      "“\u001b[1m\u001b[22mIgnoring unknown parameters: `binwidth`”\n"
     ]
    },
    {
     "data": {
      "image/png": "[encoded data removed]",
      "text/plain": [
       "plot without title"
      ]
     },
     "metadata": {
      "image/png": {
       "height": 420,
       "width": 420
      }
     },
     "output_type": "display_data"
    }
   ],
   "source": [
    "tc_diff_means <- data.table(x=c(rnorm(N, 0, 1), rnorm(N, 2, 1)),\n",
    "                                treatment=c(rep(FALSE, N), rep(TRUE, N)))\n",
    "model_diff_means <- SumStat(treatment ~ x, data=tc_diff_means, method=\"gbm\")\n",
    "mirror_plot(tc_diff_means, model_diff_means)"
   ]
  },
  {
   "cell_type": "markdown",
   "id": "c2fea60c",
   "metadata": {},
   "source": [
    "## Distributions differ only in variance"
   ]
  },
  {
   "cell_type": "code",
   "execution_count": 45,
   "id": "53c6672b",
   "metadata": {},
   "outputs": [
    {
     "name": "stderr",
     "output_type": "stream",
     "text": [
      "Warning message in geom_density(data = data[treatment == TRUE], aes(x = weight, :\n",
      "“\u001b[1m\u001b[22mIgnoring unknown parameters: `binwidth`”\n",
      "Warning message in geom_density(data = data[treatment == FALSE], aes(x = weight, :\n",
      "“\u001b[1m\u001b[22mIgnoring unknown parameters: `binwidth`”\n"
     ]
    },
    {
     "data": {
      "image/png": "[encoded data removed]",
      "text/plain": [
       "plot without title"
      ]
     },
     "metadata": {
      "image/png": {
       "height": 420,
       "width": 420
      }
     },
     "output_type": "display_data"
    }
   ],
   "source": [
    "tc_diff_vars <- data.table(x=c(rnorm(N, 0, 1), rnorm(N, 0, 4)),\n",
    "                                treatment=c(rep(FALSE, N), rep(TRUE, N)))\n",
    "model_diff_vars <- SumStat(treatment ~ x, data=tc_diff_vars, method=\"gbm\")\n",
    "mirror_plot(tc_diff_vars, model_diff_vars)"
   ]
  },
  {
   "cell_type": "markdown",
   "id": "0ab3d6a0",
   "metadata": {},
   "source": [
    "## inflation at one end\n",
    "Here we try something that variance itself can't give us. We artificially inflate with a large number of values that are most exclusive to the control group than the treatment group."
   ]
  },
  {
   "cell_type": "code",
   "execution_count": 46,
   "id": "1f06be5a",
   "metadata": {},
   "outputs": [
    {
     "name": "stderr",
     "output_type": "stream",
     "text": [
      "Warning message in geom_density(data = data[treatment == TRUE], aes(x = weight, :\n",
      "“\u001b[1m\u001b[22mIgnoring unknown parameters: `binwidth`”\n",
      "Warning message in geom_density(data = data[treatment == FALSE], aes(x = weight, :\n",
      "“\u001b[1m\u001b[22mIgnoring unknown parameters: `binwidth`”\n"
     ]
    },
    {
     "data": {
      "image/png": "[encoded data removed]",
      "text/plain": [
       "plot without title"
      ]
     },
     "metadata": {
      "image/png": {
       "height": 420,
       "width": 420
      }
     },
     "output_type": "display_data"
    }
   ],
   "source": [
    "tc_inflation <- data.table(x=c(rpois(N, 20), rpois(N, 20)),\n",
    "                                treatment=c(rep(FALSE, N), rep(TRUE, N)))\n",
    "tc_inflation[0:(N/20), x := 0]\n",
    "tc_inflation[N:(N - N/2), x := 0]\n",
    "model_inflation <- SumStat(treatment ~ x, data=tc_inflation, method=\"gbm\")\n",
    "mirror_plot(tc_inflation, model_inflation)"
   ]
  },
  {
   "cell_type": "code",
   "execution_count": 47,
   "id": "4cd4936f",
   "metadata": {},
   "outputs": [
    {
     "name": "stderr",
     "output_type": "stream",
     "text": [
      "Warning message in hist.default(tc_inflation[treatment == FALSE]$weight, breaks = 20, :\n",
      "“argument ‘freq’ is not made use of”\n"
     ]
    },
    {
     "data": {
      "text/plain": [
       "$breaks\n",
       " [1] 0.00 0.05 0.10 0.15 0.20 0.25 0.30 0.35 0.40 0.45 0.50 0.55 0.60 0.65 0.70\n",
       "[16] 0.75\n",
       "\n",
       "$counts\n",
       " [1] 551   0   0   0   0   0   0   0   1   2   3   0  19 381  43\n",
       "\n",
       "$density\n",
       " [1] 11.02  0.00  0.00  0.00  0.00  0.00  0.00  0.00  0.02  0.04  0.06  0.00\n",
       "[13]  0.38  7.62  0.86\n",
       "\n",
       "$mids\n",
       " [1] 0.025 0.075 0.125 0.175 0.225 0.275 0.325 0.375 0.425 0.475 0.525 0.575\n",
       "[13] 0.625 0.675 0.725\n",
       "\n",
       "$xname\n",
       "[1] \"tc_inflation[treatment == FALSE]$weight\"\n",
       "\n",
       "$equidist\n",
       "[1] TRUE\n",
       "\n",
       "attr(,\"class\")\n",
       "[1] \"histogram\""
      ]
     },
     "metadata": {},
     "output_type": "display_data"
    }
   ],
   "source": [
    "tc_inflation[, weight := model_inflation$propensity[, 2]]\n",
    "\n",
    "hist(tc_inflation[treatment==FALSE]$weight, breaks=20, plot=FALSE, freq=FALSE)"
   ]
  },
  {
   "cell_type": "markdown",
   "id": "4b7bac91",
   "metadata": {},
   "source": [
    "# Bibliography\n",
    "[Steve Howard, Augmented Inverse Propensity Weighting for Randomized Experiments](https://www.stevehoward.org/blog/augmented-inverse-propensity-weighting-for-randomized-experiments.html)\n",
    "\n",
    "[Stefan Wager’s STATS 361 notes](https://web.stanford.edu/~swager/stats361.pdf)\n",
    "\n",
    "\n",
    "Huzhang Mao, Liang Li, Tom Greene, Propensity score weighting analysis and treatment effect discovery, 2019\n",
    "\n"
   ]
  }
 ],
 "metadata": {
  "kernelspec": {
   "display_name": "R",
   "language": "R",
   "name": "ir"
  },
  "language_info": {
   "codemirror_mode": "r",
   "file_extension": ".r",
   "mimetype": "text/x-r-source",
   "name": "R",
   "pygments_lexer": "r",
   "version": "4.1.2"
  },
  "toc": {
   "base_numbering": 1,
   "nav_menu": {},
   "number_sections": true,
   "sideBar": true,
   "skip_h1_title": false,
   "title_cell": "Table of Contents",
   "title_sidebar": "Contents",
   "toc_cell": false,
   "toc_position": {
    "height": "calc(100% - 180px)",
    "left": "10px",
    "top": "150px",
    "width": "358.4px"
   },
   "toc_section_display": true,
   "toc_window_display": true
  },
  "varInspector": {
   "cols": {
    "lenName": 16,
    "lenType": 16,
    "lenVar": 40
   },
   "kernels_config": {
    "python": {
     "delete_cmd_postfix": "",
     "delete_cmd_prefix": "del ",
     "library": "var_list.py",
     "varRefreshCmd": "print(var_dic_list())"
    },
    "r": {
     "delete_cmd_postfix": ") ",
     "delete_cmd_prefix": "rm(",
     "library": "var_list.r",
     "varRefreshCmd": "cat(var_dic_list()) "
    }
   },
   "types_to_exclude": [
    "module",
    "function",
    "builtin_function_or_method",
    "instance",
    "_Feature"
   ],
   "window_display": false
  }
 },
 "nbformat": 4,
 "nbformat_minor": 5
}
