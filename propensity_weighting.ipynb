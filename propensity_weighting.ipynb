{
 "cells": [
  {
   "cell_type": "markdown",
   "id": "6d4a745e",
   "metadata": {},
   "source": [
    "# Summary"
   ]
  },
  {
   "cell_type": "markdown",
   "id": "c189cf69",
   "metadata": {},
   "source": [
    "# Trying out some stuff"
   ]
  },
  {
   "cell_type": "markdown",
   "id": "bc212a6f",
   "metadata": {},
   "source": [
    "## A simple univariate case\n",
    "\n",
    "From ChatGPT:\n",
    "\n",
    "**Background**: A local hospital is trying to understand factors that might influence the recovery speed (measured as the number of days spent in the hospital) after undergoing a specific surgery. The surgical procedure is common and is performed on both patients who are smokers and those who are non-smokers. Moreover, patients have the option of undergoing either a traditional surgical method or a newer, minimally invasive method.\n",
    "\n",
    "**Research Question**: Does smoking status and the type of surgical method influence the recovery time of patients?\n",
    "\n",
    "**Binary Variables**:\n",
    "\n",
    "- Smoking Status:\n",
    "\n",
    "    - 0: Non-Smoker\n",
    "    - 1: Smoker\n",
    "\n",
    "- Surgical Method:\n",
    "\n",
    "    - 0: Traditional Surgery    \n",
    "    - 1: Minimally Invasive Surgery (new surgery)\n",
    "\n",
    "**Outcome Variable**: Recovery time: A continuous variable representing the number of days a patient spends in the hospital post-surgery.\n",
    "\n",
    "**Data Collection**:\n",
    "The hospital collects data over a year from patients who underwent the procedure, noting down their smoking status, the type of surgical method, and their recovery time.\n",
    "\n",
    "**Regression Story**:\n",
    "- Smokers who undergo traditional surgery have a significantly longer recovery time compared to non-smokers who undergo the same traditional method. This could be due to the overall decreased lung efficiency and increased risk of post-surgical complications in smokers.\n",
    "\n",
    "- However, when opting for the minimally invasive method, the difference in recovery time between smokers and non-smokers narrows down. The minimally invasive procedure, being less taxing on the body, might be reducing the impact of smoking on recovery.\n",
    "\n",
    "- On its own, the minimally invasive surgery results in faster recovery times compared to the traditional method for both smokers and non-smokers. Yet, the advantage of the minimally invasive method seems even more pronounced for smokers, making it a favorable option for this group.\n",
    "\n",
    "**Conclusion**:\n",
    "The hospital might consider recommending the minimally invasive surgical method, especially for smokers, to ensure faster recovery times. Additionally, pre-surgical counseling for smokers about the risks and benefits associated with each method could be beneficial."
   ]
  },
  {
   "cell_type": "code",
   "execution_count": 1,
   "id": "97251bec",
   "metadata": {},
   "outputs": [],
   "source": [
    "library(data.table)\n",
    "library(PSweight)\n",
    "library(ggplot2)"
   ]
  },
  {
   "cell_type": "code",
   "execution_count": 2,
   "id": "23246020",
   "metadata": {},
   "outputs": [],
   "source": [
    "N <- 200      ## nb of patients in each group\n",
    "p_s <- 0.75   ## pct smokers in treatment group"
   ]
  },
  {
   "cell_type": "code",
   "execution_count": 3,
   "id": "7c10fa8b",
   "metadata": {},
   "outputs": [
    {
     "name": "stdout",
     "output_type": "stream",
     "text": [
      "      test smoker\n",
      "  1:  TRUE  FALSE\n",
      "  2:  TRUE   TRUE\n",
      "  3:  TRUE  FALSE\n",
      "  4:  TRUE   TRUE\n",
      "  5:  TRUE   TRUE\n",
      " ---             \n",
      "396: FALSE  FALSE\n",
      "397: FALSE  FALSE\n",
      "398: FALSE  FALSE\n",
      "399: FALSE  FALSE\n",
      "400: FALSE   TRUE\n"
     ]
    }
   ],
   "source": [
    "## 75% percent smoker in the test group, 25% in the control group:\n",
    "ex1 <- data.table(test=rep(c(TRUE, FALSE), each=N), \n",
    "                  smoker=c(as.logical(rbinom(N, 1, p_s)), as.logical(rbinom(N, 1, 1 - p_s))))\n",
    "print(ex1)"
   ]
  },
  {
   "cell_type": "code",
   "execution_count": 4,
   "id": "86c75e25",
   "metadata": {},
   "outputs": [
    {
     "name": "stdout",
     "output_type": "stream",
     "text": [
      "      test smoker recovery\n",
      "  1:  TRUE  FALSE 33.28927\n",
      "  2:  TRUE   TRUE 62.00643\n",
      "  3:  TRUE  FALSE 36.13550\n",
      "  4:  TRUE   TRUE 63.31164\n",
      "  5:  TRUE   TRUE 61.32759\n",
      "  6:  TRUE   TRUE 71.70983\n",
      "  7:  TRUE   TRUE 63.70314\n",
      "  8:  TRUE   TRUE 65.27186\n",
      "  9:  TRUE   TRUE 53.15921\n",
      " 10:  TRUE   TRUE 64.25257\n",
      " ---                      \n",
      "391: FALSE  FALSE 29.32898\n",
      "392: FALSE  FALSE 33.08611\n",
      "393: FALSE  FALSE 32.15553\n",
      "394: FALSE  FALSE 33.60305\n",
      "395: FALSE  FALSE 30.04794\n",
      "396: FALSE  FALSE 29.48005\n",
      "397: FALSE  FALSE 33.81306\n",
      "398: FALSE  FALSE 36.35417\n",
      "399: FALSE  FALSE 30.39727\n",
      "400: FALSE   TRUE 65.11594\n"
     ]
    }
   ],
   "source": [
    "# smokers have mean 60 days recovery, non-smokers 30 days\n",
    "ex1[smoker==TRUE, recovery := rnorm(sum(ex1$smoker), 60, 6)]\n",
    "ex1[smoker==FALSE, recovery := rnorm(sum(!ex1$smoker), 30, 3)]\n",
    "print(ex1, topn=10)"
   ]
  },
  {
   "cell_type": "code",
   "execution_count": 5,
   "id": "64428712",
   "metadata": {},
   "outputs": [
    {
     "data": {
      "text/plain": [
       "\n",
       "Call:\n",
       "glm(formula = \"test ~ smoker\", family = binomial, data = ex1)\n",
       "\n",
       "Deviance Residuals: \n",
       "     Min        1Q    Median        3Q       Max  \n",
       "-1.59347  -0.77235   0.01992   0.81219   1.64633  \n",
       "\n",
       "Coefficients:\n",
       "            Estimate Std. Error z value Pr(>|z|)    \n",
       "(Intercept)  -1.0569     0.1658  -6.374 1.85e-10 ***\n",
       "smokerTRUE    1.9967     0.2260   8.835  < 2e-16 ***\n",
       "---\n",
       "Signif. codes:  0 ‘***’ 0.001 ‘**’ 0.01 ‘*’ 0.05 ‘.’ 0.1 ‘ ’ 1\n",
       "\n",
       "(Dispersion parameter for binomial family taken to be 1)\n",
       "\n",
       "    Null deviance: 554.52  on 399  degrees of freedom\n",
       "Residual deviance: 466.34  on 398  degrees of freedom\n",
       "AIC: 470.34\n",
       "\n",
       "Number of Fisher Scoring iterations: 4\n"
      ]
     },
     "metadata": {},
     "output_type": "display_data"
    }
   ],
   "source": [
    "logistic_model <- glm(\"test ~ smoker\", family=binomial, data=ex1)\n",
    "summary(logistic_model)"
   ]
  },
  {
   "cell_type": "code",
   "execution_count": 6,
   "id": "07968d23",
   "metadata": {},
   "outputs": [
    {
     "name": "stdout",
     "output_type": "stream",
     "text": [
      "      test smoker recovery propensity\n",
      "  1:  TRUE  FALSE 33.28927  0.2578947\n",
      "  2:  TRUE   TRUE 62.00643  0.7190476\n",
      "  3:  TRUE  FALSE 36.13550  0.2578947\n",
      "  4:  TRUE   TRUE 63.31164  0.7190476\n",
      "  5:  TRUE   TRUE 61.32759  0.7190476\n",
      "  6:  TRUE   TRUE 71.70983  0.7190476\n",
      "  7:  TRUE   TRUE 63.70314  0.7190476\n",
      "  8:  TRUE   TRUE 65.27186  0.7190476\n",
      "  9:  TRUE   TRUE 53.15921  0.7190476\n",
      " 10:  TRUE   TRUE 64.25257  0.7190476\n",
      " ---                                 \n",
      "391: FALSE  FALSE 29.32898  0.2578947\n",
      "392: FALSE  FALSE 33.08611  0.2578947\n",
      "393: FALSE  FALSE 32.15553  0.2578947\n",
      "394: FALSE  FALSE 33.60305  0.2578947\n",
      "395: FALSE  FALSE 30.04794  0.2578947\n",
      "396: FALSE  FALSE 29.48005  0.2578947\n",
      "397: FALSE  FALSE 33.81306  0.2578947\n",
      "398: FALSE  FALSE 36.35417  0.2578947\n",
      "399: FALSE  FALSE 30.39727  0.2578947\n",
      "400: FALSE   TRUE 65.11594  0.7190476\n"
     ]
    }
   ],
   "source": [
    "## get the probabilities of belonging to the treatment group, the propensity:\n",
    "ex1[, propensity := predict(logistic_model, ex1[, .(smoker)], type=\"response\")]\n",
    "print(ex1, topn=10)"
   ]
  },
  {
   "cell_type": "code",
   "execution_count": 7,
   "id": "d17a8012",
   "metadata": {},
   "outputs": [
    {
     "name": "stdout",
     "output_type": "stream",
     "text": [
      "      test smoker recovery propensity   weight\n",
      "  1:  TRUE  FALSE 33.28927  0.2578947 3.877551\n",
      "  2:  TRUE   TRUE 62.00643  0.7190476 1.390728\n",
      "  3:  TRUE  FALSE 36.13550  0.2578947 3.877551\n",
      "  4:  TRUE   TRUE 63.31164  0.7190476 1.390728\n",
      "  5:  TRUE   TRUE 61.32759  0.7190476 1.390728\n",
      "  6:  TRUE   TRUE 71.70983  0.7190476 1.390728\n",
      "  7:  TRUE   TRUE 63.70314  0.7190476 1.390728\n",
      "  8:  TRUE   TRUE 65.27186  0.7190476 1.390728\n",
      "  9:  TRUE   TRUE 53.15921  0.7190476 1.390728\n",
      " 10:  TRUE   TRUE 64.25257  0.7190476 1.390728\n",
      " ---                                          \n",
      "391: FALSE  FALSE 29.32898  0.2578947 1.347518\n",
      "392: FALSE  FALSE 33.08611  0.2578947 1.347518\n",
      "393: FALSE  FALSE 32.15553  0.2578947 1.347518\n",
      "394: FALSE  FALSE 33.60305  0.2578947 1.347518\n",
      "395: FALSE  FALSE 30.04794  0.2578947 1.347518\n",
      "396: FALSE  FALSE 29.48005  0.2578947 1.347518\n",
      "397: FALSE  FALSE 33.81306  0.2578947 1.347518\n",
      "398: FALSE  FALSE 36.35417  0.2578947 1.347518\n",
      "399: FALSE  FALSE 30.39727  0.2578947 1.347518\n",
      "400: FALSE   TRUE 65.11594  0.7190476 3.559322\n"
     ]
    }
   ],
   "source": [
    "## now calculate the weights:\n",
    "ex1[test==TRUE, weight := 1 / propensity]\n",
    "ex1[test==FALSE, weight := 1 / (1 - propensity)]\n",
    "print(ex1, topn=10)"
   ]
  },
  {
   "cell_type": "code",
   "execution_count": 8,
   "id": "5de6f618",
   "metadata": {},
   "outputs": [
    {
     "name": "stdout",
     "output_type": "stream",
     "text": [
      "[1] 0.755\n",
      "[1] 0.295\n",
      "[1] 0.525\n",
      "[1] 0.525\n"
     ]
    }
   ],
   "source": [
    "print(sum(ex1[test==TRUE ]$smoker)    / nrow(ex1[test==TRUE]))\n",
    "print(sum(ex1[test==FALSE]$smoker)    / nrow(ex1[test==FALSE]))\n",
    "print(sum(ex1[test  & smoker]$weight) / sum(ex1[test==TRUE]$weight))\n",
    "print(sum(ex1[!test & smoker]$weight) / sum(ex1[test==FALSE]$weight))"
   ]
  },
  {
   "cell_type": "markdown",
   "id": "0d718107",
   "metadata": {},
   "source": [
    "Without the propensity weights, we see that the difference between test and control group is significant:"
   ]
  },
  {
   "cell_type": "code",
   "execution_count": 9,
   "id": "70560dae",
   "metadata": {},
   "outputs": [
    {
     "data": {
      "text/plain": [
       "             Df Sum Sq Mean Sq F value Pr(>F)    \n",
       "test          1  16269   16269   76.27 <2e-16 ***\n",
       "Residuals   398  84893     213                   \n",
       "---\n",
       "Signif. codes:  0 ‘***’ 0.001 ‘**’ 0.01 ‘*’ 0.05 ‘.’ 0.1 ‘ ’ 1"
      ]
     },
     "metadata": {},
     "output_type": "display_data"
    }
   ],
   "source": [
    "summary(aov(recovery ~ test, data=ex1))"
   ]
  },
  {
   "cell_type": "markdown",
   "id": "8909995d",
   "metadata": {},
   "source": [
    "But when we use the weights, we see that this difference is not significant, because it is entirely explained by the higher percentage of smokers in the test group, which is \"matched\" out when we use the weights:"
   ]
  },
  {
   "cell_type": "code",
   "execution_count": 10,
   "id": "80c90c40",
   "metadata": {},
   "outputs": [
    {
     "data": {
      "text/plain": [
       "             Df Sum Sq Mean Sq F value Pr(>F)\n",
       "test          1    382   382.2    0.73  0.394\n",
       "Residuals   398 208474   523.8               "
      ]
     },
     "metadata": {},
     "output_type": "display_data"
    }
   ],
   "source": [
    "summary(aov(recovery ~ test, data=ex1, weights=ex1$weight))"
   ]
  },
  {
   "cell_type": "markdown",
   "id": "93270044",
   "metadata": {},
   "source": [
    "### Checking with PSweight"
   ]
  },
  {
   "cell_type": "code",
   "execution_count": 11,
   "id": "d30b2be8",
   "metadata": {},
   "outputs": [
    {
     "name": "stdout",
     "output_type": "stream",
     "text": [
      "\n",
      "Closed-form inference: \n",
      "\n",
      "Original group value:  FALSE, TRUE \n",
      "\n",
      "Contrast: \n",
      "           FALSE TRUE\n",
      "Contrast 1    -1    1\n",
      "\n",
      "           Estimate Std.Error     lwr      upr Pr(>|z|)  \n",
      "Contrast 1  -1.3823    0.5448 -2.4501 -0.31452  0.01117 *\n",
      "---\n",
      "Signif. codes:  0 ‘***’ 0.001 ‘**’ 0.01 ‘*’ 0.05 ‘.’ 0.1 ‘ ’ 1\n"
     ]
    },
    {
     "data": {
      "text/plain": [
       "Original group value:  FALSE, TRUE \n",
       "\n",
       "Point estimate: \n",
       "46.8693, 45.487 "
      ]
     },
     "metadata": {},
     "output_type": "display_data"
    }
   ],
   "source": [
    "ipw <- PSweight(test ~ smoker, data=ex1, yname=\"recovery\", weight=\"IPW\")\n",
    "print(summary(ipw))\n",
    "ipw"
   ]
  },
  {
   "cell_type": "code",
   "execution_count": 12,
   "id": "562feba2",
   "metadata": {},
   "outputs": [
    {
     "data": {
      "text/plain": [
       "\n",
       "Closed-form inference: \n",
       "\n",
       "Original group value:  FALSE, TRUE \n",
       "\n",
       "Contrast: \n",
       "           FALSE TRUE\n",
       "Contrast 1    -1    1\n",
       "\n",
       "           Estimate Std.Error     lwr      upr Pr(>|z|)  \n",
       "Contrast 1  -1.3823    0.5448 -2.4501 -0.31452  0.01117 *\n",
       "---\n",
       "Signif. codes:  0 ‘***’ 0.001 ‘**’ 0.01 ‘*’ 0.05 ‘.’ 0.1 ‘ ’ 1"
      ]
     },
     "metadata": {},
     "output_type": "display_data"
    }
   ],
   "source": [
    "summary(ipw)"
   ]
  },
  {
   "cell_type": "markdown",
   "id": "e72c8beb",
   "metadata": {},
   "source": [
    "## Problems"
   ]
  },
  {
   "cell_type": "markdown",
   "id": "9caefef7",
   "metadata": {},
   "source": [
    "### Missing propensity variable"
   ]
  },
  {
   "cell_type": "code",
   "execution_count": null,
   "id": "b930d728",
   "metadata": {},
   "outputs": [],
   "source": []
  },
  {
   "cell_type": "markdown",
   "id": "41b9203f",
   "metadata": {},
   "source": [
    "### Small divisors\n",
    "\n",
    "We introduce a new covariate `new_surgery`. In the test group, we assign all smokers to new_surgery and all non-smokers to non-new_surgerys; in the control group, we assign the new_surgerys randomly to the whole population with the same probability as the probability of being smoker in the control group (0.75)."
   ]
  },
  {
   "cell_type": "code",
   "execution_count": 13,
   "id": "222ac569",
   "metadata": {},
   "outputs": [],
   "source": [
    "ex2 <- copy(ex1)\n",
    "ex2[test==TRUE, new_surgery := smoker]\n",
    "#ex2[test & smoker, new_surgery := rbinom(nrow(ex2[test & smoker]), 1, 0.9)]\n",
    "#ex2[test & !smoker, new_surgery := rbinom(nrow(ex2[test & !smoker]), 1, 0.1)]\n",
    "ex2[test==FALSE, new_surgery := rbinom(nrow(ex2[test==FALSE]), 1, p_s)]"
   ]
  },
  {
   "cell_type": "code",
   "execution_count": 14,
   "id": "444de3f6",
   "metadata": {},
   "outputs": [
    {
     "data": {
      "text/html": [
       "1"
      ],
      "text/latex": [
       "1"
      ],
      "text/markdown": [
       "1"
      ],
      "text/plain": [
       "[1] 1"
      ]
     },
     "metadata": {},
     "output_type": "display_data"
    }
   ],
   "source": [
    "## percent smoker new_surgerys:\n",
    "nrow(ex2[test & smoker & new_surgery])/nrow(ex2[test & smoker])"
   ]
  },
  {
   "cell_type": "code",
   "execution_count": 15,
   "id": "4e0317f0",
   "metadata": {},
   "outputs": [
    {
     "data": {
      "text/html": [
       "0"
      ],
      "text/latex": [
       "0"
      ],
      "text/markdown": [
       "0"
      ],
      "text/plain": [
       "[1] 0"
      ]
     },
     "metadata": {},
     "output_type": "display_data"
    }
   ],
   "source": [
    "## percent male new_surgerys:\n",
    "nrow(ex2[test & !smoker & new_surgery])/nrow(ex2[test & !smoker])"
   ]
  },
  {
   "cell_type": "code",
   "execution_count": 16,
   "id": "b7c1356a",
   "metadata": {},
   "outputs": [
    {
     "data": {
      "text/plain": [
       "\n",
       "Call:\n",
       "glm(formula = \"test ~ smoker + new_surgery\", family = binomial, \n",
       "    data = ex2)\n",
       "\n",
       "Deviance Residuals: \n",
       "    Min       1Q   Median       3Q      Max  \n",
       "-2.3252  -0.5142   0.1630   0.8402   1.2556  \n",
       "\n",
       "Coefficients:\n",
       "                Estimate Std. Error z value Pr(>|z|)    \n",
       "(Intercept)      -0.1821     0.2239  -0.813    0.416    \n",
       "smokerTRUE        2.8161     0.3113   9.046  < 2e-16 ***\n",
       "new_surgeryTRUE  -1.7744     0.3454  -5.137 2.79e-07 ***\n",
       "---\n",
       "Signif. codes:  0 ‘***’ 0.001 ‘**’ 0.01 ‘*’ 0.05 ‘.’ 0.1 ‘ ’ 1\n",
       "\n",
       "(Dispersion parameter for binomial family taken to be 1)\n",
       "\n",
       "    Null deviance: 554.52  on 399  degrees of freedom\n",
       "Residual deviance: 435.50  on 397  degrees of freedom\n",
       "AIC: 441.5\n",
       "\n",
       "Number of Fisher Scoring iterations: 4\n"
      ]
     },
     "metadata": {},
     "output_type": "display_data"
    }
   ],
   "source": [
    "logistic_model <- glm(\"test ~ smoker + new_surgery\", family=binomial, data=ex2)\n",
    "summary(logistic_model)"
   ]
  },
  {
   "cell_type": "code",
   "execution_count": 17,
   "id": "69170cd2",
   "metadata": {},
   "outputs": [
    {
     "name": "stdout",
     "output_type": "stream",
     "text": [
      "      test smoker recovery propensity   weight new_surgery\n",
      "  1:  TRUE  FALSE 33.28927  0.4546066 2.199704       FALSE\n",
      "  2:  TRUE   TRUE 62.00643  0.7025882 1.423309        TRUE\n",
      "  3:  TRUE  FALSE 36.13550  0.4546066 2.199704       FALSE\n",
      "  4:  TRUE   TRUE 63.31164  0.7025882 1.423309        TRUE\n",
      "  5:  TRUE   TRUE 61.32759  0.7025882 1.423309        TRUE\n",
      "  6:  TRUE   TRUE 71.70983  0.7025882 1.423309        TRUE\n",
      "  7:  TRUE   TRUE 63.70314  0.7025882 1.423309        TRUE\n",
      "  8:  TRUE   TRUE 65.27186  0.7025882 1.423309        TRUE\n",
      "  9:  TRUE   TRUE 53.15921  0.7025882 1.423309        TRUE\n",
      " 10:  TRUE   TRUE 64.25257  0.7025882 1.423309        TRUE\n",
      " ---                                                      \n",
      "391: FALSE  FALSE 29.32898  0.1238521 1.141360        TRUE\n",
      "392: FALSE  FALSE 33.08611  0.1238521 1.141360        TRUE\n",
      "393: FALSE  FALSE 32.15553  0.1238521 1.141360        TRUE\n",
      "394: FALSE  FALSE 33.60305  0.1238521 1.141360        TRUE\n",
      "395: FALSE  FALSE 30.04794  0.1238521 1.141360        TRUE\n",
      "396: FALSE  FALSE 29.48005  0.1238521 1.141360        TRUE\n",
      "397: FALSE  FALSE 33.81306  0.1238521 1.141360        TRUE\n",
      "398: FALSE  FALSE 36.35417  0.1238521 1.141360        TRUE\n",
      "399: FALSE  FALSE 30.39727  0.1238521 1.141360        TRUE\n",
      "400: FALSE   TRUE 65.11594  0.7025882 3.362342        TRUE\n"
     ]
    }
   ],
   "source": [
    "ex2[, propensity := predict(logistic_model, ex2, type=\"response\")]\n",
    "ex2[test==TRUE, weight := 1 / propensity]\n",
    "ex2[test==FALSE, weight := 1 / (1 - propensity)]\n",
    "print(ex2, topn=10)"
   ]
  },
  {
   "cell_type": "code",
   "execution_count": 18,
   "id": "56d2ebae",
   "metadata": {},
   "outputs": [
    {
     "data": {
      "text/plain": [
       "             Df Sum Sq Mean Sq F value Pr(>F)    \n",
       "test          1  16269   16269   76.27 <2e-16 ***\n",
       "Residuals   398  84893     213                   \n",
       "---\n",
       "Signif. codes:  0 ‘***’ 0.001 ‘**’ 0.01 ‘*’ 0.05 ‘.’ 0.1 ‘ ’ 1"
      ]
     },
     "metadata": {},
     "output_type": "display_data"
    }
   ],
   "source": [
    "summary(aov(recovery ~ test, data=ex2))"
   ]
  },
  {
   "cell_type": "code",
   "execution_count": 19,
   "id": "66006963",
   "metadata": {},
   "outputs": [
    {
     "data": {
      "text/plain": [
       "             Df Sum Sq Mean Sq F value Pr(>F)\n",
       "test          1    324   324.5   0.643  0.423\n",
       "Residuals   398 200983   505.0               "
      ]
     },
     "metadata": {},
     "output_type": "display_data"
    }
   ],
   "source": [
    "summary(aov(recovery ~ test, data=ex2, weights=ex2$weight))"
   ]
  },
  {
   "cell_type": "code",
   "execution_count": 20,
   "id": "5e13cd9a",
   "metadata": {},
   "outputs": [
    {
     "name": "stdout",
     "output_type": "stream",
     "text": [
      "[1] 0.755\n",
      "[1] 0.295\n",
      "[1] 0.6659938\n",
      "[1] 0.6734657\n"
     ]
    }
   ],
   "source": [
    "print(sum(ex2[test==TRUE]$smoker)/nrow(ex2[test==TRUE]))\n",
    "print(sum(ex2[test==FALSE]$smoker)/nrow(ex2[test==FALSE]))\n",
    "print(sum(ex2[test &  smoker]$weight)/sum(ex2[test==TRUE]$weight))\n",
    "print(sum(ex2[!test & smoker]$weight)/sum(ex2[test==FALSE]$weight))"
   ]
  },
  {
   "cell_type": "code",
   "execution_count": 21,
   "id": "87607464",
   "metadata": {},
   "outputs": [
    {
     "name": "stdout",
     "output_type": "stream",
     "text": [
      "[1] 0.755\n",
      "[1] 0.785\n",
      "[1] 0.6659938\n",
      "[1] 0.5014775\n"
     ]
    }
   ],
   "source": [
    "print(sum(ex2[test==TRUE]$new_surgery)/nrow(ex2[test==TRUE]))\n",
    "print(sum(ex2[test==FALSE]$new_surgery)/nrow(ex2[test==FALSE]))\n",
    "print(sum(ex2[test &  new_surgery]$weight)/sum(ex2[test==TRUE]$weight))\n",
    "print(sum(ex2[!test & new_surgery]$weight)/sum(ex2[test==FALSE]$weight))"
   ]
  },
  {
   "cell_type": "markdown",
   "id": "9e96288b",
   "metadata": {},
   "source": [
    "Now let's imagine new_surgery has an effect, if you're a new_surgery, you're 15 recovery lighter:"
   ]
  },
  {
   "cell_type": "code",
   "execution_count": 22,
   "id": "f39bc11a",
   "metadata": {},
   "outputs": [],
   "source": [
    "ex2[new_surgery==TRUE, recovery := recovery + 50]"
   ]
  },
  {
   "cell_type": "code",
   "execution_count": 23,
   "id": "4cd67ed1",
   "metadata": {},
   "outputs": [
    {
     "data": {
      "text/plain": [
       "             Df Sum Sq Mean Sq F value   Pr(>F)    \n",
       "test          1  12668   12668   13.67 0.000248 ***\n",
       "Residuals   398 368759     927                     \n",
       "---\n",
       "Signif. codes:  0 ‘***’ 0.001 ‘**’ 0.01 ‘*’ 0.05 ‘.’ 0.1 ‘ ’ 1"
      ]
     },
     "metadata": {},
     "output_type": "display_data"
    }
   ],
   "source": [
    "summary(aov(recovery ~ test, data=ex2))"
   ]
  },
  {
   "cell_type": "markdown",
   "id": "7dd9e4b1",
   "metadata": {},
   "source": [
    "We find then with these weights that the test group is significantly different from the control group, which we know by design of this simulation is not true:"
   ]
  },
  {
   "cell_type": "code",
   "execution_count": 24,
   "id": "98ea6f1b",
   "metadata": {},
   "outputs": [
    {
     "data": {
      "text/plain": [
       "             Df Sum Sq Mean Sq F value Pr(>F)  \n",
       "test          1   9877    9877   4.658 0.0315 *\n",
       "Residuals   398 843977    2121                 \n",
       "---\n",
       "Signif. codes:  0 ‘***’ 0.001 ‘**’ 0.01 ‘*’ 0.05 ‘.’ 0.1 ‘ ’ 1"
      ]
     },
     "metadata": {},
     "output_type": "display_data"
    }
   ],
   "source": [
    "summary(aov(recovery ~ test, data=ex2, weights=ex2$weight))"
   ]
  },
  {
   "cell_type": "markdown",
   "id": "604173f1",
   "metadata": {},
   "source": [
    "### Running PSweight"
   ]
  },
  {
   "cell_type": "code",
   "execution_count": 25,
   "id": "b3951af5",
   "metadata": {},
   "outputs": [
    {
     "name": "stdout",
     "output_type": "stream",
     "text": [
      "Original group value:  FALSE, TRUE \n",
      "\n",
      "Point estimate: \n",
      "76.0809, 83.0445 \n"
     ]
    },
    {
     "data": {
      "text/plain": [
       "\n",
       "Closed-form inference: \n",
       "\n",
       "Original group value:  FALSE, TRUE \n",
       "\n",
       "Contrast: \n",
       "           FALSE TRUE\n",
       "Contrast 1    -1    1\n",
       "\n",
       "           Estimate Std.Error     lwr    upr Pr(>|z|)  \n",
       "Contrast 1  6.96366   3.09046 0.90646 13.021  0.02424 *\n",
       "---\n",
       "Signif. codes:  0 ‘***’ 0.001 ‘**’ 0.01 ‘*’ 0.05 ‘.’ 0.1 ‘ ’ 1"
      ]
     },
     "metadata": {},
     "output_type": "display_data"
    }
   ],
   "source": [
    "ipw <- PSweight(test ~ smoker + new_surgery, data=ex2, yname=\"recovery\", weight=\"IPW\")\n",
    "print(ipw)\n",
    "summary(ipw)"
   ]
  },
  {
   "cell_type": "code",
   "execution_count": 26,
   "id": "0388f476",
   "metadata": {},
   "outputs": [
    {
     "data": {
      "text/plain": [
       "unweighted result\n",
       "                Mean FALSE Mean TRUE   SMD\n",
       "smokerTRUE           0.295     0.755 1.035\n",
       "new_surgeryTRUE      0.785     0.755 0.071\n",
       "\n",
       "IPW result\n",
       "                Mean FALSE Mean TRUE   SMD\n",
       "smokerTRUE           0.673     0.666 0.017\n",
       "new_surgeryTRUE      0.501     0.666 0.390\n"
      ]
     },
     "metadata": {},
     "output_type": "display_data"
    }
   ],
   "source": [
    "ipw_ss <- SumStat(test ~ smoker + new_surgery, data=ex2, weight=\"IPW\")\n",
    "summary(ipw_ss)"
   ]
  },
  {
   "cell_type": "code",
   "execution_count": 27,
   "id": "3f1526d4",
   "metadata": {},
   "outputs": [
    {
     "data": {
      "image/png": "[encoded data removed]",
      "text/plain": [
       "plot without title"
      ]
     },
     "metadata": {
      "image/png": {
       "height": 420,
       "width": 420
      }
     },
     "output_type": "display_data"
    }
   ],
   "source": [
    "plot(ipw_ss)"
   ]
  },
  {
   "cell_type": "code",
   "execution_count": 28,
   "id": "dd745d8e",
   "metadata": {},
   "outputs": [
    {
     "name": "stderr",
     "output_type": "stream",
     "text": [
      "Warning message in predict.lm(fitglm, type = \"response\", dataout):\n",
      "“prediction from a rank-deficient fit may be misleading”\n"
     ]
    },
    {
     "data": {
      "text/plain": [
       "\n",
       "Closed-form inference: \n",
       "\n",
       "Original group value:  FALSE, TRUE \n",
       "\n",
       "Contrast: \n",
       "           FALSE TRUE\n",
       "Contrast 1    -1    1\n",
       "\n",
       "           Estimate Std.Error     lwr    upr Pr(>|z|)  \n",
       "Contrast 1  6.96366   3.09046 0.90646 13.021  0.02424 *\n",
       "---\n",
       "Signif. codes:  0 ‘***’ 0.001 ‘**’ 0.01 ‘*’ 0.05 ‘.’ 0.1 ‘ ’ 1"
      ]
     },
     "metadata": {},
     "output_type": "display_data"
    }
   ],
   "source": [
    "aipw <- PSweight(test ~ smoker + new_surgery, data=ex2, yname=\"recovery\", weight=\"IPW\", \n",
    "                augmentation = TRUE, out.formula = recovery ~ smoker + new_surgery)\n",
    "summary(ipw)"
   ]
  },
  {
   "cell_type": "markdown",
   "id": "e4565646",
   "metadata": {},
   "source": [
    "# AIPW"
   ]
  },
  {
   "cell_type": "markdown",
   "id": "d652613f",
   "metadata": {},
   "source": [
    "Let's examine the Augmented Inverse Propensity Weighting. We start by simulating a simple treatment/control group with a couple of covariates.\n",
    "\n",
    "$$Y_{i} \\sim X_{i}\\beta + W_{i}\\tau + \\epsilon$$\n",
    "\n",
    "To add some realism, we'll have our treatment have a different range of X and fix $\\beta$ and $\\tau$.\n",
    "\n",
    "$$X_{treat} \\sim Normal(\\mu=4, \\sigma=1)$$\n",
    "$$X_{cntl} \\sim Normal(\\mu=6, \\sigma=1)$$\n",
    "$$\\beta = 2$$\n",
    "$$\\tau = 1$$\n",
    "$$\\epsilon \\sim Normal(\\mu=0.2, \\sigma=1)$$"
   ]
  },
  {
   "cell_type": "code",
   "execution_count": 29,
   "id": "c8dbb285",
   "metadata": {},
   "outputs": [
    {
     "name": "stdout",
     "output_type": "stream",
     "text": [
      "       x1              W        epsilon               y         \n",
      " Min.   :1.050   Min.   :1   Min.   :-3.14863   Min.   : 1.549  \n",
      " 1st Qu.:3.223   1st Qu.:1   1st Qu.:-0.58325   1st Qu.: 7.413  \n",
      " Median :3.991   Median :1   Median : 0.07615   Median : 9.019  \n",
      " Mean   :3.895   Mean   :1   Mean   : 0.10692   Mean   : 8.896  \n",
      " 3rd Qu.:4.526   3rd Qu.:1   3rd Qu.: 0.71406   3rd Qu.:10.344  \n",
      " Max.   :6.965   Max.   :1   Max.   : 3.26845   Max.   :14.830  \n",
      "       x1              W        epsilon               y         \n",
      " Min.   :3.728   Min.   :0   Min.   :-2.69898   Min.   : 6.271  \n",
      " 1st Qu.:5.469   1st Qu.:0   1st Qu.:-0.60568   1st Qu.:10.727  \n",
      " Median :5.966   Median :0   Median : 0.05101   Median :12.165  \n",
      " Mean   :6.033   Mean   :0   Mean   : 0.07778   Mean   :12.144  \n",
      " 3rd Qu.:6.662   3rd Qu.:0   3rd Qu.: 0.75870   3rd Qu.:13.484  \n",
      " Max.   :9.676   Max.   :0   Max.   : 3.32238   Max.   :19.146  \n"
     ]
    }
   ],
   "source": [
    "sz <- 250\n",
    "beta1 <- 2\n",
    "tau <- 1\n",
    "mu_epsilon <- 0.1\n",
    "dt <- data.table(x1=c(rnorm(sz, 4, 1), rnorm(sz, 6, 1)), \n",
    "                 W=c(rep(1, sz), rep(0, sz)),\n",
    "                 epsilon=rnorm(sz*2, mu_epsilon, 1))\n",
    "dt[, y := x1 * beta1 + W * tau + epsilon]\n",
    "print(summary(dt[W==1]))\n",
    "print(summary(dt[W==0]))"
   ]
  },
  {
   "cell_type": "code",
   "execution_count": 30,
   "id": "1bb63953",
   "metadata": {},
   "outputs": [
    {
     "data": {
      "image/png": "[encoded data removed]",
      "text/plain": [
       "plot without title"
      ]
     },
     "metadata": {
      "image/png": {
       "height": 420,
       "width": 420
      }
     },
     "output_type": "display_data"
    }
   ],
   "source": [
    "ggplot(dt, aes(x1, y, color=factor(W))) +\n",
    "    geom_point()"
   ]
  },
  {
   "cell_type": "markdown",
   "id": "49ef30da",
   "metadata": {},
   "source": [
    "## IPW"
   ]
  },
  {
   "cell_type": "markdown",
   "id": "b3d5815a",
   "metadata": {},
   "source": [
    "First we use a logistic regression to figure out the propensity score *e(i)*"
   ]
  },
  {
   "cell_type": "code",
   "execution_count": 31,
   "id": "23d9724c",
   "metadata": {},
   "outputs": [
    {
     "data": {
      "text/plain": [
       "\n",
       "Call:\n",
       "glm(formula = W ~ x1, family = binomial, data = dt)\n",
       "\n",
       "Deviance Residuals: \n",
       "    Min       1Q   Median       3Q      Max  \n",
       "-2.5201  -0.3894   0.0031   0.4030   3.1863  \n",
       "\n",
       "Coefficients:\n",
       "            Estimate Std. Error z value Pr(>|z|)    \n",
       "(Intercept)  12.5832     1.1255   11.18   <2e-16 ***\n",
       "x1           -2.5347     0.2249  -11.27   <2e-16 ***\n",
       "---\n",
       "Signif. codes:  0 ‘***’ 0.001 ‘**’ 0.01 ‘*’ 0.05 ‘.’ 0.1 ‘ ’ 1\n",
       "\n",
       "(Dispersion parameter for binomial family taken to be 1)\n",
       "\n",
       "    Null deviance: 693.15  on 499  degrees of freedom\n",
       "Residual deviance: 291.30  on 498  degrees of freedom\n",
       "AIC: 295.3\n",
       "\n",
       "Number of Fisher Scoring iterations: 6\n"
      ]
     },
     "metadata": {},
     "output_type": "display_data"
    }
   ],
   "source": [
    "propensity_model <- glm(W ~ x1, data=dt, family=binomial)\n",
    "summary(propensity_model)"
   ]
  },
  {
   "cell_type": "code",
   "execution_count": 32,
   "id": "9525cc43",
   "metadata": {},
   "outputs": [
    {
     "name": "stdout",
     "output_type": "stream",
     "text": [
      "           x1 W    epsilon         y            e\n",
      "  1: 5.323266 1  3.1835314 14.830064 0.2870958157\n",
      "  2: 5.374271 1 -0.3677916 11.380751 0.2613793333\n",
      "  3: 4.065872 1 -0.8352748  8.296470 0.9070007383\n",
      "  4: 4.460830 1  1.3554561 11.277116 0.7818470657\n",
      "  5: 2.457577 1  0.1301001  6.045255 0.9982633418\n",
      " ---                                             \n",
      "496: 6.948340 0 -2.0440498 11.852630 0.0065056255\n",
      "497: 6.400904 0 -2.6989842 10.102823 0.0255561266\n",
      "498: 7.825675 0 -0.6868572 14.964493 0.0007080273\n",
      "499: 3.983302 0  0.6466926  8.613298 0.9232140547\n",
      "500: 5.599824 0 -1.3608747  9.838774 0.1665170864\n"
     ]
    }
   ],
   "source": [
    "dt[, e := predict(propensity_model, data=dt, type=\"response\")]\n",
    "print(dt)"
   ]
  },
  {
   "cell_type": "markdown",
   "id": "583b28ec",
   "metadata": {},
   "source": [
    "And now we can estimate the propensity weighted means and see what $\\tau$ we get:"
   ]
  },
  {
   "cell_type": "code",
   "execution_count": 33,
   "id": "426b9a84",
   "metadata": {},
   "outputs": [
    {
     "name": "stdout",
     "output_type": "stream",
     "text": [
      "mu1: 11.3937031862549 \n",
      "mu0: 10.6911328619948 \n",
      "[1] 0.7025703\n"
     ]
    }
   ],
   "source": [
    "mu1 <- sum(dt$W * dt$y / dt$e) / sum(dt$W / dt$e)\n",
    "mu0 <- sum((1-dt$W) * dt$y / (1-dt$e)) / sum((1 - dt$W) / (1 - dt$e))\n",
    "cat(paste(\"mu1:\", mu1, \"\\n\"))\n",
    "cat(paste(\"mu0:\", mu0, \"\\n\"))\n",
    "ATE_prop <- mu1 - mu0\n",
    "print(ATE_prop)"
   ]
  },
  {
   "cell_type": "markdown",
   "id": "8dba8d4a",
   "metadata": {},
   "source": [
    "So it's fair to say we've done a reasonable job of estimating tau."
   ]
  },
  {
   "cell_type": "markdown",
   "id": "a3462031",
   "metadata": {},
   "source": [
    "## Regression"
   ]
  },
  {
   "cell_type": "markdown",
   "id": "c332ee5f",
   "metadata": {},
   "source": [
    "Now let's look at a second way of approching the problem. Here we estimate directly $\\mu_{0}$\n",
    "and $\\mu_{1}$ from the treatment and control groups, conditional on X.\n",
    "\n",
    "Note the regression is conducted separately on the two groups. It is not:\n",
    "\n",
    "$$Y \\sim X\\beta + W\\tau + \\epsilon$$\n",
    "\n",
    "but instead:\n",
    "\n",
    "$$Y_{1} \\sim X_{1}\\beta_{1} + \\epsilon$$\n",
    "$$Y_{0} \\sim X_{0}\\beta_{0} + \\epsilon$$\n",
    "\n",
    "\"We emphasize that, throughout our analysis, we defined the target estimand τ = E [∆i] before making any modeling assumptions. Linear modeling was only used as a tool to estimate τ , but did not inform the scientific question we tried to answer. In particular, we did not try to estimate τ by direct regression modeling $Y_{i} \\sim X_{i}\\beta + W_{i}\\tau + \\epsilon_{i}$, while claiming that the coefficient on τ is a causal effect. This approach has the vice of tying our scientific question to our regression modeling strategy: τ appears to just have become a coefficient in our linear model, not a fact of nature that’s conceptually prior to modeling decisions.\" (https://web.stanford.edu/~swager/stats361.pdf, page 8)."
   ]
  },
  {
   "cell_type": "code",
   "execution_count": 34,
   "id": "7c948d32",
   "metadata": {},
   "outputs": [
    {
     "data": {
      "text/plain": [
       "\n",
       "Call:\n",
       "lm(formula = y ~ x1, data = dt[W == 1])\n",
       "\n",
       "Residuals:\n",
       "    Min      1Q  Median      3Q     Max \n",
       "-3.2485 -0.6985 -0.0218  0.5936  3.1769 \n",
       "\n",
       "Coefficients:\n",
       "            Estimate Std. Error t value Pr(>|t|)    \n",
       "(Intercept)  1.16055    0.27180    4.27 2.79e-05 ***\n",
       "x1           1.98623    0.06777   29.31  < 2e-16 ***\n",
       "---\n",
       "Signif. codes:  0 ‘***’ 0.001 ‘**’ 0.01 ‘*’ 0.05 ‘.’ 0.1 ‘ ’ 1\n",
       "\n",
       "Residual standard error: 1.026 on 248 degrees of freedom\n",
       "Multiple R-squared:  0.776,\tAdjusted R-squared:  0.7751 \n",
       "F-statistic:   859 on 1 and 248 DF,  p-value: < 2.2e-16\n"
      ]
     },
     "metadata": {},
     "output_type": "display_data"
    }
   ],
   "source": [
    "model_mu1 <- lm(y ~ x1, data=dt[W==1])\n",
    "summary(model_mu1)"
   ]
  },
  {
   "cell_type": "code",
   "execution_count": 35,
   "id": "fdcfa92d",
   "metadata": {},
   "outputs": [
    {
     "data": {
      "text/plain": [
       "\n",
       "Call:\n",
       "lm(formula = y ~ x1, data = dt[W == 0])\n",
       "\n",
       "Residuals:\n",
       "    Min      1Q  Median      3Q     Max \n",
       "-2.7894 -0.7203 -0.0390  0.6878  3.2234 \n",
       "\n",
       "Coefficients:\n",
       "            Estimate Std. Error t value Pr(>|t|)    \n",
       "(Intercept)  -0.1299     0.3971  -0.327    0.744    \n",
       "x1            2.0344     0.0650  31.297   <2e-16 ***\n",
       "---\n",
       "Signif. codes:  0 ‘***’ 0.001 ‘**’ 0.01 ‘*’ 0.05 ‘.’ 0.1 ‘ ’ 1\n",
       "\n",
       "Residual standard error: 0.9824 on 248 degrees of freedom\n",
       "Multiple R-squared:  0.798,\tAdjusted R-squared:  0.7971 \n",
       "F-statistic: 979.5 on 1 and 248 DF,  p-value: < 2.2e-16\n"
      ]
     },
     "metadata": {},
     "output_type": "display_data"
    }
   ],
   "source": [
    "model_mu0 <- lm(y ~ x1, data=dt[W==0])\n",
    "summary(model_mu0)"
   ]
  },
  {
   "cell_type": "markdown",
   "id": "d59c8532",
   "metadata": {},
   "source": [
    "Now we've got our models for $\\mu_{1}$, $\\mu_{0}$, we evaluate them conditional on all X:"
   ]
  },
  {
   "cell_type": "code",
   "execution_count": 36,
   "id": "84667194",
   "metadata": {},
   "outputs": [
    {
     "data": {
      "text/html": [
       "1.05121839424054"
      ],
      "text/latex": [
       "1.05121839424054"
      ],
      "text/markdown": [
       "1.05121839424054"
      ],
      "text/plain": [
       "[1] 1.051218"
      ]
     },
     "metadata": {},
     "output_type": "display_data"
    }
   ],
   "source": [
    "ATE_reg <- 1/nrow(dt) * sum(predict(model_mu1, dt) - predict(model_mu0, dt))\n",
    "ATE_reg"
   ]
  },
  {
   "cell_type": "markdown",
   "id": "2bb9c306",
   "metadata": {},
   "source": [
    "## IPW + regression = AIPW"
   ]
  },
  {
   "cell_type": "markdown",
   "id": "74e2d7be",
   "metadata": {},
   "source": [
    "We now use both the IPW and the regression to get the Augmented IPW; for this, the idea is to calculate mu0 and mu1, and then to use the IPW on the residuals of the regression instead of directly on the Y."
   ]
  },
  {
   "cell_type": "code",
   "execution_count": 37,
   "id": "74dbf63c",
   "metadata": {},
   "outputs": [
    {
     "data": {
      "text/html": [
       "0.94902349336313"
      ],
      "text/latex": [
       "0.94902349336313"
      ],
      "text/markdown": [
       "0.94902349336313"
      ],
      "text/plain": [
       "[1] 0.9490235"
      ]
     },
     "metadata": {},
     "output_type": "display_data"
    }
   ],
   "source": [
    "ATE_aipw <- 1/nrow(dt) * sum(predict(model_mu1, dt) - predict(model_mu0, dt) + \n",
    "                             dt$W * (dt$y - predict(model_mu1, dt)) / dt$e -\n",
    "                             (1-dt$W) * (dt$y - predict(model_mu0, dt)) / (1-dt$e))\n",
    "ATE_aipw"
   ]
  },
  {
   "cell_type": "markdown",
   "id": "523dda74",
   "metadata": {},
   "source": [
    "## Let's get some confirmation using the package PSweight"
   ]
  },
  {
   "cell_type": "code",
   "execution_count": 38,
   "id": "d0be4ece",
   "metadata": {},
   "outputs": [
    {
     "data": {
      "text/html": [
       "<strong>1:</strong> 0.702570324260098"
      ],
      "text/latex": [
       "\\textbf{1:} 0.702570324260098"
      ],
      "text/markdown": [
       "**1:** 0.702570324260098"
      ],
      "text/plain": [
       "        1 \n",
       "0.7025703 "
      ]
     },
     "metadata": {},
     "output_type": "display_data"
    }
   ],
   "source": [
    "ipw <- PSweight(W ~ x1, data=dt, yname=\"y\", weight=\"IPW\")\n",
    "ipw$muhat[\"1\"] - ipw$muhat[\"0\"]"
   ]
  },
  {
   "cell_type": "code",
   "execution_count": 39,
   "id": "153d9681",
   "metadata": {},
   "outputs": [
    {
     "data": {
      "text/html": [
       "<strong>1:</strong> 0.967179574116869"
      ],
      "text/latex": [
       "\\textbf{1:} 0.967179574116869"
      ],
      "text/markdown": [
       "**1:** 0.967179574116869"
      ],
      "text/plain": [
       "        1 \n",
       "0.9671796 "
      ]
     },
     "metadata": {},
     "output_type": "display_data"
    }
   ],
   "source": [
    "aug = PSweight(W ~ x1, data=dt, yname=\"y\", weight=\"IPW\", augmentation = TRUE, out.formula = y ~ x1)\n",
    "aug$muhat[\"1\"] - aug$muhat[\"0\"]"
   ]
  },
  {
   "cell_type": "markdown",
   "id": "4b7bac91",
   "metadata": {},
   "source": [
    "# Bibliography\n",
    "[Steve Howard, Augmented Inverse Propensity Weighting for Randomized Experiments](https://www.stevehoward.org/blog/augmented-inverse-propensity-weighting-for-randomized-experiments.html)\n",
    "\n",
    "[Stefan Wager’s STATS 361 notes](https://web.stanford.edu/~swager/stats361.pdf)\n",
    "\n",
    "\n",
    "Huzhang Mao, Liang Li, Tom Greene, Propensity score weighting analysis and treatment effect discovery, 2019\n",
    "\n"
   ]
  }
 ],
 "metadata": {
  "kernelspec": {
   "display_name": "R",
   "language": "R",
   "name": "ir"
  },
  "language_info": {
   "codemirror_mode": "r",
   "file_extension": ".r",
   "mimetype": "text/x-r-source",
   "name": "R",
   "pygments_lexer": "r",
   "version": "4.1.2"
  },
  "toc": {
   "base_numbering": 1,
   "nav_menu": {},
   "number_sections": true,
   "sideBar": true,
   "skip_h1_title": false,
   "title_cell": "Table of Contents",
   "title_sidebar": "Contents",
   "toc_cell": false,
   "toc_position": {
    "height": "calc(100% - 180px)",
    "left": "10px",
    "top": "150px",
    "width": "358.4px"
   },
   "toc_section_display": true,
   "toc_window_display": true
  },
  "varInspector": {
   "cols": {
    "lenName": 16,
    "lenType": 16,
    "lenVar": 40
   },
   "kernels_config": {
    "python": {
     "delete_cmd_postfix": "",
     "delete_cmd_prefix": "del ",
     "library": "var_list.py",
     "varRefreshCmd": "print(var_dic_list())"
    },
    "r": {
     "delete_cmd_postfix": ") ",
     "delete_cmd_prefix": "rm(",
     "library": "var_list.r",
     "varRefreshCmd": "cat(var_dic_list()) "
    }
   },
   "types_to_exclude": [
    "module",
    "function",
    "builtin_function_or_method",
    "instance",
    "_Feature"
   ],
   "window_display": false
  }
 },
 "nbformat": 4,
 "nbformat_minor": 5
}
