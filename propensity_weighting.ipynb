{
 "cells": [
  {
   "cell_type": "markdown",
   "id": "6d4a745e",
   "metadata": {},
   "source": [
    "# Introduction\n",
    "\n",
    "The context for these problems is that we are trying to understand causality. This causality is understood as a comparison between a set of subjects which have received a specific treatment and a set of sujects that has not received a treatment. The word treatment is commonly used from the medical field, but it can also indicate and specific effect on a group of which we want to measure an outcome. In social sciences, a treatment could be years of college education and the outcome we could be interested in measuring could be a potential the salary increase (see [1]).\n",
    "\n",
    "The gold standard is of course to carry out an experiment. We would then create a treatment and a control group (or more generally any number of groups) where subjects are randomly assigned to one of the groups. With a sufficiently large number of subjects, the randomness implies that the two groups will have sujects with similar starting characteristics and hence that the groups will not have any bias. This means that after treatment, the comparison of the groups will be fair and that we will in particular be able to measure a treatment effect.\n",
    "\n",
    "Propensity score weighting is useful in the context of observational studies when experimental studies are not feasible or practical. In this observational case, we need a methodology to select a control group (propensity score matching) or a methodology to remove the bias between treated and untreated subjects (propensity score weighting).\n",
    "\n",
    "But propensity score weighting is also useful in randomized studies to correct for potential imbalances, handling missing data, reducing variance and studying subgroups.\n"
   ]
  },
  {
   "cell_type": "markdown",
   "id": "528b9781-3095-4a6d-a6bb-2e9a402f9c69",
   "metadata": {},
   "source": [
    "# Fundamental ideas"
   ]
  },
  {
   "cell_type": "markdown",
   "id": "7ddb0259-80f1-4ef2-88c5-e5c38a58121a",
   "metadata": {},
   "source": [
    "Let's take a look at the formulation of the problem, the assumptions and how propensity weighting works."
   ]
  },
  {
   "cell_type": "markdown",
   "id": "2c12db6d-b7d6-4598-98cc-44e36bcba726",
   "metadata": {},
   "source": [
    "## Formulation\n",
    "\n",
    "We are interested in quantifying the average treatment effect which is the difference between the expectation of the subjects that are treated and the expectation of the subjects that are not treated:\n",
    "\\begin{align}\n",
    "\\underbrace{\\mathbb{E}\\left[Y_i \\mid T_i=1\\right] - \\mathbb{E}\\left[Y_i \\mid T_i=0\\right]}_{\\text{Average treatment effect}} \n",
    "&=\\mathbb{E}\\left[Y_{1i} \\mid T_i=1\\right] - \\mathbb{E}\\left[Y_{0i} \\mid T_i=0\\right] \\\\\n",
    "&=\\mathbb{E}\\left[Y_{1i} \\mid T_i=1\\right] - \\mathbb{E}\\left[Y_{0i} \\mid T_i=1\\right] + \\mathbb{E}\\left[Y_{0i} \\mid T_i=1\\right] - \\mathbb{E}\\left[Y_{0i} \\mid T_i=0\\right] \\\\[10pt]\n",
    "&=\\underbrace{\\mathbb{E}\\left[Y_{1i} - Y_{0i} \\mid T_i=1\\right]}_{\\text{Average treatment effect on the treated}} \n",
    "+ \\underbrace{\\mathbb{E}\\left[Y_{0i} \\mid T_i=1\\right] - \\mathbb{E}\\left[Y_{0i} \\mid T_i=0\\right]}_{\\text{Selection bias}}\n",
    "\\end{align}\n",
    "\n",
    "Note the distinction between $Y_{0i}$ and $Y_{1i}$ and the outcome $Y_i$. Indeed, $Y_i$ can only ever take one of the two values, because each subject either receives the treatment or it doesn't. So one of these is always the counterfactual. This is the mathematical expression:\n",
    "\n",
    "$$ Y_i = T \\cdot Y_{1i} + (1 - T) \\cdot Y_{0i} $$\n",
    "\n",
    "Obviously we want to remove the selection bias, and together with a certain number of assumptions, propensity weighting methodologies will help us achieve this goal by, among other things, weighting observations in the treatment and control group."
   ]
  },
  {
   "cell_type": "markdown",
   "id": "6b233558-d20b-45fc-8731-e6f2efb0aa8d",
   "metadata": {},
   "source": [
    "## Conditional independence assumption (CIA)"
   ]
  },
  {
   "cell_type": "markdown",
   "id": "40682a29-2673-4ec6-a947-deb43b224279",
   "metadata": {},
   "source": [
    "The conditional independence assumption (CIA) also referred to as Strong Ignorability or Unconfoundedness, is is given by\n",
    "\n",
    "$$ Y_{0i}, Y_{1i} \\perp \\!\\!\\!\\perp T_i \\mid \\underline{X_i} $$\n",
    "\n",
    "This is the assumption that the outcomes $Y_{0i}$ and $Y_{1i}$ are independent from the group T (treatment or control) conditional on the covariates $X$.\n",
    "\n",
    "It's easier to grasp what the CIA is saying with a small example. Let's imagine that we are interested in the mean weight of a population composed of females and males gorillas. Let's further suppose that there is a treatment group and a control group (although in this example we do not apply a treatment). The treatment group is composed of 25% males and 75% females, whereas the control group is the opposite. In our example the mean weight for males is  374 lbs whereas the mean weight for females is 158 lbs (data for Western Lowland gorillas sourced [here](https://seaworld.org/animals/all-about/gorilla/characteristics/)). Clearly the mean weights $Y_{i0}$ and $Y_{1i}$ are not independent from the treatment assigment $T$. But they are independent conditional on gender covariate $X$ if the female weight and the male weight has the same mean in both groups, because there is no information we can obtain about the treatment $T_i$ if one considers separately the male and female weights.\n",
    "\n",
    "But, as we will see later, if we omit a conditional variable we are at risk again of losing the independence. This would be the case for instance if the control group was not anymore formed only by Western Lowland gorillas, but instead contained a proportion of Eastern Lowland gorillas which are heavier and have mean weights of 484 lbs and 176 lbs for males and females respectively. We could of course, if we knew that we had different types of gorillas in our sample, extend the covariate vector $\\underline{X}$ to contain both weight and gorilla type.\n"
   ]
  },
  {
   "cell_type": "markdown",
   "id": "1526b652-cf0b-4af5-aef7-43ea2e657366",
   "metadata": {},
   "source": [
    "## Why the CIA matters\n",
    "\n",
    "The CIA matters because if the assignment to a treatment group is not independent given the covariates, there is no way to determine if a change in the outcome in the treatment group is the effect of the treatment or if it is due to a conditional dependence. In the gorillas example, if for instance the treatment consisted of a different diet, we would not know if the difference in weight observed between the treatment and control groups was due to the diet or to the (unknown) presence of Lowland gorillas in the treatment group."
   ]
  },
  {
   "cell_type": "markdown",
   "id": "9c8d678b-be62-4438-8dc0-49bf8066a667",
   "metadata": {},
   "source": [
    "## Propensity theorem\n",
    "\n",
    "We define the propensity $e(\\underline{X})$ as the probability based on the information in $\\underline{X}$ of belonging to the treatment group. We will see later that this probability can be estimated for example via logistic or gradient boosted trees regression. The definition of the propensity is then:\n",
    "\n",
    "$$e(X_i) = \\mathbb{E}[T_i \\mid \\underline{X_i}]$$\n",
    "\n",
    "Then under the CIA the following holds\n",
    "\n",
    "$$ Y_{0i}, Y_{1i} \\perp \\!\\!\\!\\perp T_i \\mid e(\\underline{X_i}) $$\n",
    "\n",
    "that is, the propensity is also conditionally independent.\n",
    "\n",
    "Furthermore, the propensity $e(\\underline{X})$ can be used to estimate the average treatment effect in the same way as the vector as covariates $\\underline{X}$.  \n",
    "\n",
    "The reason this theorem is important is that the propensity $e(\\underline{X})$ is a scalar and makes the computation of the average treatment effect tractable.\n",
    "\n",
    "For some intuition behind the equivalence, what we need to show is that $P\\left[T_i=1 \\mid Y_{ji}, e(X_i)\\right]$ does not depends on $Y_{ji}$ :\n",
    "\n",
    "\\begin{align}\n",
    "P\\left[T_i=1 \\mid Y_{ji}, e(X_i)\\right] &=  \\mathbb{E}\\left[T_i \\mid Y_{ji}, e(\\underline{X_i})\\right] \\\\\n",
    "&=\\mathbb{E}\\left[\\mathbb{E}\\left[T_i \\mid Y_{ji}, e(\\underline{X_i}), \\underline{X_i}\\right] \\mid Y_{ji}, e(\\underline{X_i}) \\right] \\\\\n",
    "&=\\mathbb{E}\\left[\\mathbb{E}\\left[T_i \\mid \\underline{X_i}\\right] \\mid Y_{ij}, e(\\underline{X_i}) \\right] \\quad\\quad \\text{(using CIA)} \\\\\n",
    "&=\\mathbb{E}\\left[e(\\underline{X_i}) \\mid Y_{ji}, e(X_i) \\right] \\\\\n",
    "&=e(\\underline{X_i})\n",
    "\\end{align}\n"
   ]
  },
  {
   "cell_type": "markdown",
   "id": "60089d17-20b9-4769-9a55-2bbfae0bb2e2",
   "metadata": {},
   "source": [
    "## Propensity weighting\n",
    "\n",
    "The last piece of the puzzle is the balancing of the treatment and control group which is given by:\n",
    "\n",
    "$$ \\mathbb{E}\\left[Y_{1i} - Y_{0i}\\right] = \\mathbb{E}\\left[\\frac{Y_i D_i}{e(\\underline{X_i})} - \\frac{Y_i (1 - D_i)}{1 - e(\\underline{X_i})}\\right]$$\n",
    "\n",
    "A proof of the equivalence of $\\mathbb{E}\\left[Y_{1i}\\right]$ and $\\mathbb{E}\\left[\\frac{Y_i D_i}{e(\\underline{X_i})}\\right]$:\n",
    "\n",
    "\\begin{align}\n",
    "\\mathbb{E}\\left[\\frac{Y_i T_i}{e(\\underline{X_i})}\\right] &= \\mathbb{E}\\left[\\mathbb{E}\\left[\\frac{Y_i T_i}{e(\\underline{X_i})} \\mid \\underline{X_i}\\right]\\right] \\\\\n",
    "&=\\mathbb{E}\\left[\\frac{\\mathbb{E}\\left[Y_i T_i\\mid \\underline{X_i}\\right]}{e(\\underline{X_i}) }\\right]    \\quad\\quad \\text{(using CIA)} \\\\\n",
    "&=\\mathbb{E}\\left[\\frac{\\mathbb{E}\\left[Y_{1i} \\mid \\underline{X_i}, T=1\\right] \\cdot P(T_i=1 \\mid \\underline{X_i})}{P(T_i=1 \\mid \\underline{X_i})}\\right] \\\\\n",
    "&=\\mathbb{E}\\left[ \\mathbb{E}\\left[Y_{1i} \\mid \\underline{X_i}\\right] \\right] \\\\\n",
    "&=\\mathbb{E}\\left[Y_{1i}\\right]\n",
    "\\end{align}\n",
    "\n",
    "So we see that, under the conditional independence assumption the average treatment effect (ATE) can be estimated from inverse propensity weighted observations.\n",
    "\n",
    "One last piece of the puzzle is that this weighting is not unique. Depending on what we wish to measure, we can choose different weights. A summary can be found in LLL, but we reproduce here the first three:\n",
    "\n",
    "| Target population | Tilt function | Estimand     | Balancing Weights |\n",
    "|-------------------|---------------|--------------|-------------------|\n",
    "| Treatment and control combined | 1                    | ATE     | $(\\frac{1}{e(X)}, \\frac{1}{1 - e(X)})$ |\n",
    "| Treatment                      |  $e(X)$            | ATT     | $(1, \\frac{e(X)}{1 - e(X)})$           |\n",
    "| Overlap                        |  $e(X) (1-e(X))$ | ATO     | $(1 - e(X), e(X))$                     |\n",
    "\n",
    "A first reason for the choice of the target population is of course what the purpose of the study. If for instance the treatment was interventional and we wanted to quantify the intervention, then we'd be interested in the target population, i.e. the ATT. Or we might be interested in the benefit of treating the whole population in which case the ATE would be of interest.\n",
    "\n",
    "But if populations are very different, it becomes more difficult to compare the two populations fairly and the overlap population might be appropriate. When the populations differ a lot, the overlap will also be more stable and yield a smaller variance. \n",
    "\n",
    "Finally, another option is to trim to get rid of the more extreme weights. A trim value (delta) of 0.2 is shown to often be optimal (see LLL)."
   ]
  },
  {
   "cell_type": "markdown",
   "id": "5ac38345-b9d8-47c8-9993-1ecb2bd22149",
   "metadata": {},
   "source": [
    "## A very simple example\n",
    "\n",
    "Let's imagine we have small green balls of weight 2 and large red balls of weight 3; DALL-E is able to imagine this quite well:\n",
    "\n",
    "![green_and_read_balls](./img/red_green_balls.png)\n",
    "\n",
    "Let's say we observe 3 balls in a treatment group (T=1) and 3 ball in a control group (T=0); X is the color and the Y weight:\n",
    "\n",
    "| Y | X | T | $e(X)$| $1-e(X)$| $\\frac{Y_i T_i}{e(X_i)}$ | $\\frac{Y_i (1-T_i)}{1-e(X_i)}$ |\n",
    "|---|---|---|-------------|---|---|---|\n",
    "|3  |Red| 1 | 2/3         |1/3| 4.5  | 0  |\n",
    "|3  |Red| 1 | 2/3         |1/3| 4.5  | 0  |\n",
    "|2  |Green| 1 | 1/3       |2/3| 6  | 0  |\n",
    "|2  |Green| 0 | 1/3       |2/3| 0  | 3  |\n",
    "|2  |Green| 0 | 1/3       |2/3| 0  | 3  |\n",
    "|3  |Red| 0 | 2/3         |1/3| 0  | 9  |\n",
    "\n",
    "Now, let's calculate $ \\mathbb{E}\\left[Y_{1i}\\right]$ and $ \\mathbb{E}\\left[Y_{0i}\\right]$:\n",
    "\n",
    "$$ \\mathbb{E}\\left[Y_{1i}\\right] ≈ \\frac{4.5 + 4.5 + 6 }{6} = \\frac{5}{2} $$\n",
    "\n",
    "$$ \\mathbb{E}\\left[Y_{0i}\\right] ≈ \\frac{3 + 3 + 9 }{6} = \\frac{5}{2} $$\n",
    "\n",
    "In this case there is no treatment and no variability in Y conditional on X, so the two means are as expected the same."
   ]
  },
  {
   "cell_type": "markdown",
   "id": "c189cf69",
   "metadata": {},
   "source": [
    "# Slightly more complex examples\n",
    "\n",
    "In this section we still use simple examples but this time we generate some random data to show how things work in practice."
   ]
  },
  {
   "cell_type": "markdown",
   "id": "bc212a6f",
   "metadata": {},
   "source": [
    "## A simple univariate case\n",
    "\n",
    "Let's imagine we have patients that have been prescribed a medication. Let's assume these patients are part of two geographical areas, Boston and Chicago. Patients in Boston have a probability of filling this prescription 0.7 whereas patients in Chicago have a probability of filling this prescription of 0.6. We will form a treatment and control group and the treatment will consist of sending a message with medical information about the medication. The effect of this treatment will be to increase the probability of filling by 0.1."
   ]
  },
  {
   "cell_type": "code",
   "execution_count": 1,
   "id": "97251bec",
   "metadata": {},
   "outputs": [],
   "source": [
    "library(data.table)\n",
    "library(PSweight)\n",
    "library(ggplot2)\n",
    "library(MASS)   # for multivariate normal generation"
   ]
  },
  {
   "cell_type": "code",
   "execution_count": 2,
   "id": "23246020",
   "metadata": {},
   "outputs": [],
   "source": [
    "N <- 500      ## nb of patients in each group\n",
    "p_boston <- 0.7\n",
    "p_chicago <- 0.5\n",
    "treatment_effect <- 0.1"
   ]
  },
  {
   "cell_type": "markdown",
   "id": "28e6cdb3-36a5-4567-b1ef-f84c86247582",
   "metadata": {},
   "source": [
    "### Random assignment\n",
    "\n",
    "In this first case we have a random assigment between the groups."
   ]
  },
  {
   "cell_type": "code",
   "execution_count": 3,
   "id": "86c75e25",
   "metadata": {},
   "outputs": [
    {
     "data": {
      "text/html": [
       "<table class=\"dataframe\">\n",
       "<caption>A data.table: 6 × 4</caption>\n",
       "<thead>\n",
       "\t<tr><th scope=col>region</th><th scope=col>T</th><th scope=col>p</th><th scope=col>Y</th></tr>\n",
       "\t<tr><th scope=col>&lt;chr&gt;</th><th scope=col>&lt;lgl&gt;</th><th scope=col>&lt;dbl&gt;</th><th scope=col>&lt;int&gt;</th></tr>\n",
       "</thead>\n",
       "<tbody>\n",
       "\t<tr><td>Boston </td><td>TRUE</td><td>0.8</td><td>1</td></tr>\n",
       "\t<tr><td>Chicago</td><td>TRUE</td><td>0.6</td><td>1</td></tr>\n",
       "\t<tr><td>Chicago</td><td>TRUE</td><td>0.6</td><td>0</td></tr>\n",
       "\t<tr><td>Chicago</td><td>TRUE</td><td>0.6</td><td>1</td></tr>\n",
       "\t<tr><td>Boston </td><td>TRUE</td><td>0.8</td><td>0</td></tr>\n",
       "\t<tr><td>Chicago</td><td>TRUE</td><td>0.6</td><td>1</td></tr>\n",
       "</tbody>\n",
       "</table>\n"
      ],
      "text/latex": [
       "A data.table: 6 × 4\n",
       "\\begin{tabular}{llll}\n",
       " region & T & p & Y\\\\\n",
       " <chr> & <lgl> & <dbl> & <int>\\\\\n",
       "\\hline\n",
       "\t Boston  & TRUE & 0.8 & 1\\\\\n",
       "\t Chicago & TRUE & 0.6 & 1\\\\\n",
       "\t Chicago & TRUE & 0.6 & 0\\\\\n",
       "\t Chicago & TRUE & 0.6 & 1\\\\\n",
       "\t Boston  & TRUE & 0.8 & 0\\\\\n",
       "\t Chicago & TRUE & 0.6 & 1\\\\\n",
       "\\end{tabular}\n"
      ],
      "text/markdown": [
       "\n",
       "A data.table: 6 × 4\n",
       "\n",
       "| region &lt;chr&gt; | T &lt;lgl&gt; | p &lt;dbl&gt; | Y &lt;int&gt; |\n",
       "|---|---|---|---|\n",
       "| Boston  | TRUE | 0.8 | 1 |\n",
       "| Chicago | TRUE | 0.6 | 1 |\n",
       "| Chicago | TRUE | 0.6 | 0 |\n",
       "| Chicago | TRUE | 0.6 | 1 |\n",
       "| Boston  | TRUE | 0.8 | 0 |\n",
       "| Chicago | TRUE | 0.6 | 1 |\n",
       "\n"
      ],
      "text/plain": [
       "  region  T    p   Y\n",
       "1 Boston  TRUE 0.8 1\n",
       "2 Chicago TRUE 0.6 1\n",
       "3 Chicago TRUE 0.6 0\n",
       "4 Chicago TRUE 0.6 1\n",
       "5 Boston  TRUE 0.8 0\n",
       "6 Chicago TRUE 0.6 1"
      ]
     },
     "metadata": {},
     "output_type": "display_data"
    }
   ],
   "source": [
    "# smokers have mean 60 days recovery, non-smokers 30 days\n",
    "set.seed(0)\n",
    "ex1 <- rbind(data.table(region=sample(c(\"Chicago\", \"Boston\"), size=N, replace=TRUE, prob=c(0.8, 0.2)),\n",
    "                        T=TRUE),\n",
    "             data.table(region=sample(c(\"Chicago\", \"Boston\"), size=N, replace=TRUE, prob=c(0.5, 0.5)),\n",
    "                        T=FALSE))\n",
    "ex1[, p := ifelse(region==\"Chicago\", p_chicago, p_boston)]\n",
    "ex1[T==TRUE, p := p + treatment_effect]\n",
    "ex1[, Y := rbinom(1, 1, p), by=1:(2*N)]\n",
    "head(ex1)"
   ]
  },
  {
   "cell_type": "code",
   "execution_count": 4,
   "id": "64428712",
   "metadata": {},
   "outputs": [
    {
     "data": {
      "text/plain": [
       "\n",
       "Call:\n",
       "glm(formula = \"T ~ region\", family = binomial, data = ex1)\n",
       "\n",
       "Deviance Residuals: \n",
       "     Min        1Q    Median        3Q       Max  \n",
       "-1.38683  -0.95136   0.08766   0.98152   1.60131  \n",
       "\n",
       "Coefficients:\n",
       "              Estimate Std. Error z value Pr(>|z|)    \n",
       "(Intercept)    -0.9571     0.1201  -7.971 1.57e-15 ***\n",
       "regionChicago   1.4371     0.1445   9.942  < 2e-16 ***\n",
       "---\n",
       "Signif. codes:  0 ‘***’ 0.001 ‘**’ 0.01 ‘*’ 0.05 ‘.’ 0.1 ‘ ’ 1\n",
       "\n",
       "(Dispersion parameter for binomial family taken to be 1)\n",
       "\n",
       "    Null deviance: 1386.3  on 999  degrees of freedom\n",
       "Residual deviance: 1278.7  on 998  degrees of freedom\n",
       "AIC: 1282.7\n",
       "\n",
       "Number of Fisher Scoring iterations: 4\n"
      ]
     },
     "metadata": {},
     "output_type": "display_data"
    }
   ],
   "source": [
    "logistic_model <- glm(\"T ~ region\", family=binomial, data=ex1)\n",
    "summary(logistic_model)"
   ]
  },
  {
   "cell_type": "code",
   "execution_count": 5,
   "id": "07968d23",
   "metadata": {},
   "outputs": [
    {
     "name": "stdout",
     "output_type": "stream",
     "text": [
      "Index: <T>\n",
      "       region      T     p     Y propensity\n",
      "       <char> <lgcl> <num> <int>      <num>\n",
      "   1:  Boston   TRUE   0.8     1  0.2774566\n",
      "   2: Chicago   TRUE   0.6     1  0.6177370\n",
      "   3: Chicago   TRUE   0.6     0  0.6177370\n",
      "   4: Chicago   TRUE   0.6     1  0.6177370\n",
      "   5:  Boston   TRUE   0.8     0  0.2774566\n",
      "   6: Chicago   TRUE   0.6     1  0.6177370\n",
      "   7:  Boston   TRUE   0.8     1  0.2774566\n",
      "   8:  Boston   TRUE   0.8     1  0.2774566\n",
      "   9: Chicago   TRUE   0.6     1  0.6177370\n",
      "  10: Chicago   TRUE   0.6     0  0.6177370\n",
      "  ---                                      \n",
      " 991: Chicago  FALSE   0.5     1  0.6177370\n",
      " 992:  Boston  FALSE   0.7     1  0.2774566\n",
      " 993:  Boston  FALSE   0.7     1  0.2774566\n",
      " 994: Chicago  FALSE   0.5     0  0.6177370\n",
      " 995:  Boston  FALSE   0.7     0  0.2774566\n",
      " 996:  Boston  FALSE   0.7     1  0.2774566\n",
      " 997: Chicago  FALSE   0.5     1  0.6177370\n",
      " 998: Chicago  FALSE   0.5     0  0.6177370\n",
      " 999:  Boston  FALSE   0.7     1  0.2774566\n",
      "1000:  Boston  FALSE   0.7     1  0.2774566\n"
     ]
    }
   ],
   "source": [
    "## get the probabilities of belonging to the treatment group, the propensity:\n",
    "ex1[, propensity := predict(logistic_model, ex1[, .(region)], type=\"response\")]\n",
    "print(ex1, topn=10)"
   ]
  },
  {
   "cell_type": "code",
   "execution_count": 6,
   "id": "d17a8012",
   "metadata": {},
   "outputs": [
    {
     "name": "stdout",
     "output_type": "stream",
     "text": [
      "Index: <T>\n",
      "       region      T     p     Y propensity   weight\n",
      "       <char> <lgcl> <num> <int>      <num>    <num>\n",
      "   1:  Boston   TRUE   0.8     1  0.2774566 3.604167\n",
      "   2: Chicago   TRUE   0.6     1  0.6177370 1.618812\n",
      "   3: Chicago   TRUE   0.6     0  0.6177370 1.618812\n",
      "   4: Chicago   TRUE   0.6     1  0.6177370 1.618812\n",
      "   5:  Boston   TRUE   0.8     0  0.2774566 3.604167\n",
      "   6: Chicago   TRUE   0.6     1  0.6177370 1.618812\n",
      "   7:  Boston   TRUE   0.8     1  0.2774566 3.604167\n",
      "   8:  Boston   TRUE   0.8     1  0.2774566 3.604167\n",
      "   9: Chicago   TRUE   0.6     1  0.6177370 1.618812\n",
      "  10: Chicago   TRUE   0.6     0  0.6177370 1.618812\n",
      "  ---                                               \n",
      " 991: Chicago  FALSE   0.5     1  0.6177370 2.616000\n",
      " 992:  Boston  FALSE   0.7     1  0.2774566 1.384000\n",
      " 993:  Boston  FALSE   0.7     1  0.2774566 1.384000\n",
      " 994: Chicago  FALSE   0.5     0  0.6177370 2.616000\n",
      " 995:  Boston  FALSE   0.7     0  0.2774566 1.384000\n",
      " 996:  Boston  FALSE   0.7     1  0.2774566 1.384000\n",
      " 997: Chicago  FALSE   0.5     1  0.6177370 2.616000\n",
      " 998: Chicago  FALSE   0.5     0  0.6177370 2.616000\n",
      " 999:  Boston  FALSE   0.7     1  0.2774566 1.384000\n",
      "1000:  Boston  FALSE   0.7     1  0.2774566 1.384000\n"
     ]
    }
   ],
   "source": [
    "## now calculate the weights:\n",
    "ex1[T==TRUE, weight := 1 / propensity]\n",
    "ex1[T==FALSE, weight := 1 / (1 - propensity)]\n",
    "print(ex1, topn=10)"
   ]
  },
  {
   "cell_type": "markdown",
   "id": "09e4f955-8c39-4df1-a7d2-49d97da25921",
   "metadata": {},
   "source": [
    "Here are the unweighted means of the two groups:"
   ]
  },
  {
   "cell_type": "code",
   "execution_count": 7,
   "id": "5de6f618",
   "metadata": {},
   "outputs": [
    {
     "name": "stdout",
     "output_type": "stream",
     "text": [
      "treatment group unweighted mean: 0.642 \n",
      "control group unweighted mean: 0.62 \n",
      "average treatment effect: 0.022 \n"
     ]
    }
   ],
   "source": [
    "mu1_unweighted <- sum(ex1[T==TRUE ]$Y) / nrow(ex1[T==TRUE])\n",
    "mu0_unweighted <- sum(ex1[T==FALSE]$Y) / nrow(ex1[T==FALSE])\n",
    "cat(paste(\"treatment group unweighted mean:\", mu1_unweighted, \"\\n\"))\n",
    "cat(paste(\"control group unweighted mean:\", mu0_unweighted, \"\\n\"))\n",
    "cat(paste(\"average treatment effect:\", mu1_unweighted - mu0_unweighted, \"\\n\"))"
   ]
  },
  {
   "cell_type": "markdown",
   "id": "0d718107",
   "metadata": {},
   "source": [
    "Here is the weighted means of the two groups:"
   ]
  },
  {
   "cell_type": "code",
   "execution_count": 8,
   "id": "e7a7eb9f-124f-4914-b215-aaef0a548747",
   "metadata": {},
   "outputs": [
    {
     "name": "stdout",
     "output_type": "stream",
     "text": [
      "treatment group weighted mean: 0.590432000000028 \n",
      "control group weighted mean: 0.682437706270525 \n"
     ]
    }
   ],
   "source": [
    "mu1_weighted <- sum(ex1$Y * ex1$weight * ex1$T) / sum(ex1$T * ex1$weight)\n",
    "mu0_weighted <- sum(ex1$Y * ex1$weight * (1-ex1$T)) / sum((1 - ex1$T) * ex1$weight) \n",
    "cat(paste(\"treatment group weighted mean:\", mu0_weighted, \"\\n\"))\n",
    "cat(paste(\"control group weighted mean:\", mu1_weighted, \"\\n\"))"
   ]
  },
  {
   "cell_type": "markdown",
   "id": "93270044",
   "metadata": {},
   "source": [
    "### Checking with PSweight"
   ]
  },
  {
   "cell_type": "code",
   "execution_count": 9,
   "id": "d5b6472e-71d2-421f-9221-f690f110433f",
   "metadata": {},
   "outputs": [
    {
     "data": {
      "image/png": "[encoded data removed]",
      "text/plain": [
       "plot without title"
      ]
     },
     "metadata": {
      "image/png": {
       "height": 560,
       "width": 560
      }
     },
     "output_type": "display_data"
    }
   ],
   "source": [
    "options(jupyter.plot_scale=1.5)\n",
    "ipw_ss <- SumStat(T ~ region, data=ex1, weight=\"IPW\")\n",
    "plot(ipw_ss)"
   ]
  },
  {
   "cell_type": "code",
   "execution_count": 10,
   "id": "d30b2be8",
   "metadata": {},
   "outputs": [
    {
     "name": "stdout",
     "output_type": "stream",
     "text": [
      "\n",
      "Closed-form inference: \n",
      "\n",
      "Original group value:  FALSE, TRUE \n",
      "\n",
      "Contrast: \n",
      "           FALSE TRUE\n",
      "Contrast 1    -1    1\n",
      "\n",
      "           Estimate Std.Error      lwr     upr Pr(>|z|)   \n",
      "Contrast 1 0.092006  0.030600 0.032031 0.15198 0.002641 **\n",
      "---\n",
      "Signif. codes:  0 ‘***’ 0.001 ‘**’ 0.01 ‘*’ 0.05 ‘.’ 0.1 ‘ ’ 1\n"
     ]
    },
    {
     "data": {
      "text/plain": [
       "Original group value:  FALSE, TRUE \n",
       "\n",
       "Point estimate: \n",
       "0.5904, 0.6824 "
      ]
     },
     "metadata": {},
     "output_type": "display_data"
    }
   ],
   "source": [
    "ipw <- PSweight(T ~ region, data=ex1, yname=\"Y\", weight=\"IPW\")\n",
    "print(summary(ipw))\n",
    "ipw"
   ]
  },
  {
   "cell_type": "markdown",
   "id": "7ef7a699-a707-4872-b4fa-0abe50c5b949",
   "metadata": {},
   "source": [
    "## Multivariate case with interaction\n",
    "\n",
    "Here is a multivariate example with an interaction between the covariates. This example makes the case for fitting using a gradient boosted model rather than a GLM.\n",
    "\n",
    "Here `c1` and `c2` are two boolean variables that interact together: when they are both the same, that is (T, T) or (F, F) we set the mean of 'y' higher; when they are opposite, that\n",
    "is (T,F), (F,T), the mean of 'y' is set lower. In each individual column 'c1' and 'c2', we have equal probability of T, but for (c1,c2) combined, different probabilities of (T,T) in the treatment\n",
    "and control groups.\n",
    "\n",
    "This allows to show that for the 'gbm' method, the 'interaction.depth' (and any other 'gbm' control parameter) is not\n",
    "taken into account in the current implementation. So unless the\n",
    "interaction is explicitly entered in the formula, 'gbm' will not\n",
    "discover the interaction and 'PSweight' will incorrectly conclude\n",
    "that the means differ. In the fixed implementation, these\n",
    "parameters are taken into account and the means do not differ."
   ]
  },
  {
   "cell_type": "code",
   "execution_count": 11,
   "id": "9e20ab95-bb1f-4433-af78-5b2bad8bf680",
   "metadata": {},
   "outputs": [
    {
     "data": {
      "text/html": [
       "<table class=\"dataframe\">\n",
       "<caption>A data.table: 1998 × 4</caption>\n",
       "<thead>\n",
       "\t<tr><th scope=col>c1</th><th scope=col>c2</th><th scope=col>treatment</th><th scope=col>y</th></tr>\n",
       "\t<tr><th scope=col>&lt;int&gt;</th><th scope=col>&lt;int&gt;</th><th scope=col>&lt;lgl&gt;</th><th scope=col>&lt;dbl&gt;</th></tr>\n",
       "</thead>\n",
       "<tbody>\n",
       "\t<tr><td>1</td><td>1</td><td>TRUE</td><td>5.150781</td></tr>\n",
       "\t<tr><td>0</td><td>0</td><td>TRUE</td><td>3.157955</td></tr>\n",
       "\t<tr><td>0</td><td>0</td><td>TRUE</td><td>3.138722</td></tr>\n",
       "\t<tr><td>1</td><td>1</td><td>TRUE</td><td>3.461936</td></tr>\n",
       "\t<tr><td>1</td><td>1</td><td>TRUE</td><td>4.496595</td></tr>\n",
       "\t<tr><td>0</td><td>0</td><td>TRUE</td><td>2.558034</td></tr>\n",
       "\t<tr><td>1</td><td>1</td><td>TRUE</td><td>2.887398</td></tr>\n",
       "\t<tr><td>1</td><td>1</td><td>TRUE</td><td>2.985451</td></tr>\n",
       "\t<tr><td>1</td><td>1</td><td>TRUE</td><td>4.567364</td></tr>\n",
       "\t<tr><td>1</td><td>1</td><td>TRUE</td><td>3.785949</td></tr>\n",
       "\t<tr><td>0</td><td>0</td><td>TRUE</td><td>3.541193</td></tr>\n",
       "\t<tr><td>0</td><td>0</td><td>TRUE</td><td>5.928155</td></tr>\n",
       "\t<tr><td>0</td><td>0</td><td>TRUE</td><td>5.359061</td></tr>\n",
       "\t<tr><td>1</td><td>1</td><td>TRUE</td><td>4.443659</td></tr>\n",
       "\t<tr><td>0</td><td>0</td><td>TRUE</td><td>2.744709</td></tr>\n",
       "\t<tr><td>1</td><td>1</td><td>TRUE</td><td>4.017669</td></tr>\n",
       "\t<tr><td>0</td><td>0</td><td>TRUE</td><td>1.601369</td></tr>\n",
       "\t<tr><td>1</td><td>1</td><td>TRUE</td><td>3.945773</td></tr>\n",
       "\t<tr><td>1</td><td>1</td><td>TRUE</td><td>5.363424</td></tr>\n",
       "\t<tr><td>0</td><td>0</td><td>TRUE</td><td>3.687805</td></tr>\n",
       "\t<tr><td>1</td><td>1</td><td>TRUE</td><td>3.539614</td></tr>\n",
       "\t<tr><td>1</td><td>1</td><td>TRUE</td><td>4.392490</td></tr>\n",
       "\t<tr><td>0</td><td>0</td><td>TRUE</td><td>5.757628</td></tr>\n",
       "\t<tr><td>1</td><td>1</td><td>TRUE</td><td>3.318524</td></tr>\n",
       "\t<tr><td>0</td><td>0</td><td>TRUE</td><td>3.794811</td></tr>\n",
       "\t<tr><td>0</td><td>0</td><td>TRUE</td><td>4.166403</td></tr>\n",
       "\t<tr><td>0</td><td>0</td><td>TRUE</td><td>4.554976</td></tr>\n",
       "\t<tr><td>0</td><td>0</td><td>TRUE</td><td>4.396505</td></tr>\n",
       "\t<tr><td>0</td><td>0</td><td>TRUE</td><td>3.611793</td></tr>\n",
       "\t<tr><td>1</td><td>1</td><td>TRUE</td><td>3.886010</td></tr>\n",
       "\t<tr><td>⋮</td><td>⋮</td><td>⋮</td><td>⋮</td></tr>\n",
       "\t<tr><td>0</td><td>0</td><td>FALSE</td><td>3.454534</td></tr>\n",
       "\t<tr><td>1</td><td>1</td><td>FALSE</td><td>4.762479</td></tr>\n",
       "\t<tr><td>1</td><td>1</td><td>FALSE</td><td>4.064033</td></tr>\n",
       "\t<tr><td>1</td><td>1</td><td>FALSE</td><td>4.128191</td></tr>\n",
       "\t<tr><td>1</td><td>1</td><td>FALSE</td><td>4.493245</td></tr>\n",
       "\t<tr><td>0</td><td>0</td><td>FALSE</td><td>4.394930</td></tr>\n",
       "\t<tr><td>0</td><td>0</td><td>FALSE</td><td>3.463784</td></tr>\n",
       "\t<tr><td>0</td><td>0</td><td>FALSE</td><td>4.282666</td></tr>\n",
       "\t<tr><td>0</td><td>0</td><td>FALSE</td><td>3.997156</td></tr>\n",
       "\t<tr><td>1</td><td>1</td><td>FALSE</td><td>4.206188</td></tr>\n",
       "\t<tr><td>0</td><td>0</td><td>FALSE</td><td>2.618384</td></tr>\n",
       "\t<tr><td>1</td><td>1</td><td>FALSE</td><td>4.016431</td></tr>\n",
       "\t<tr><td>1</td><td>1</td><td>FALSE</td><td>4.106517</td></tr>\n",
       "\t<tr><td>0</td><td>0</td><td>FALSE</td><td>4.223640</td></tr>\n",
       "\t<tr><td>1</td><td>1</td><td>FALSE</td><td>3.700978</td></tr>\n",
       "\t<tr><td>0</td><td>0</td><td>FALSE</td><td>4.848135</td></tr>\n",
       "\t<tr><td>0</td><td>0</td><td>FALSE</td><td>5.493523</td></tr>\n",
       "\t<tr><td>1</td><td>1</td><td>FALSE</td><td>3.346828</td></tr>\n",
       "\t<tr><td>0</td><td>0</td><td>FALSE</td><td>2.663116</td></tr>\n",
       "\t<tr><td>1</td><td>1</td><td>FALSE</td><td>4.821081</td></tr>\n",
       "\t<tr><td>1</td><td>1</td><td>FALSE</td><td>3.511454</td></tr>\n",
       "\t<tr><td>1</td><td>1</td><td>FALSE</td><td>4.257227</td></tr>\n",
       "\t<tr><td>1</td><td>1</td><td>FALSE</td><td>4.116589</td></tr>\n",
       "\t<tr><td>0</td><td>0</td><td>FALSE</td><td>3.880501</td></tr>\n",
       "\t<tr><td>0</td><td>0</td><td>FALSE</td><td>4.467927</td></tr>\n",
       "\t<tr><td>0</td><td>0</td><td>FALSE</td><td>2.563112</td></tr>\n",
       "\t<tr><td>1</td><td>1</td><td>FALSE</td><td>4.531012</td></tr>\n",
       "\t<tr><td>0</td><td>0</td><td>FALSE</td><td>3.137286</td></tr>\n",
       "\t<tr><td>1</td><td>1</td><td>FALSE</td><td>2.754806</td></tr>\n",
       "\t<tr><td>0</td><td>0</td><td>FALSE</td><td>4.645731</td></tr>\n",
       "</tbody>\n",
       "</table>\n"
      ],
      "text/latex": [
       "A data.table: 1998 × 4\n",
       "\\begin{tabular}{llll}\n",
       " c1 & c2 & treatment & y\\\\\n",
       " <int> & <int> & <lgl> & <dbl>\\\\\n",
       "\\hline\n",
       "\t 1 & 1 & TRUE & 5.150781\\\\\n",
       "\t 0 & 0 & TRUE & 3.157955\\\\\n",
       "\t 0 & 0 & TRUE & 3.138722\\\\\n",
       "\t 1 & 1 & TRUE & 3.461936\\\\\n",
       "\t 1 & 1 & TRUE & 4.496595\\\\\n",
       "\t 0 & 0 & TRUE & 2.558034\\\\\n",
       "\t 1 & 1 & TRUE & 2.887398\\\\\n",
       "\t 1 & 1 & TRUE & 2.985451\\\\\n",
       "\t 1 & 1 & TRUE & 4.567364\\\\\n",
       "\t 1 & 1 & TRUE & 3.785949\\\\\n",
       "\t 0 & 0 & TRUE & 3.541193\\\\\n",
       "\t 0 & 0 & TRUE & 5.928155\\\\\n",
       "\t 0 & 0 & TRUE & 5.359061\\\\\n",
       "\t 1 & 1 & TRUE & 4.443659\\\\\n",
       "\t 0 & 0 & TRUE & 2.744709\\\\\n",
       "\t 1 & 1 & TRUE & 4.017669\\\\\n",
       "\t 0 & 0 & TRUE & 1.601369\\\\\n",
       "\t 1 & 1 & TRUE & 3.945773\\\\\n",
       "\t 1 & 1 & TRUE & 5.363424\\\\\n",
       "\t 0 & 0 & TRUE & 3.687805\\\\\n",
       "\t 1 & 1 & TRUE & 3.539614\\\\\n",
       "\t 1 & 1 & TRUE & 4.392490\\\\\n",
       "\t 0 & 0 & TRUE & 5.757628\\\\\n",
       "\t 1 & 1 & TRUE & 3.318524\\\\\n",
       "\t 0 & 0 & TRUE & 3.794811\\\\\n",
       "\t 0 & 0 & TRUE & 4.166403\\\\\n",
       "\t 0 & 0 & TRUE & 4.554976\\\\\n",
       "\t 0 & 0 & TRUE & 4.396505\\\\\n",
       "\t 0 & 0 & TRUE & 3.611793\\\\\n",
       "\t 1 & 1 & TRUE & 3.886010\\\\\n",
       "\t ⋮ & ⋮ & ⋮ & ⋮\\\\\n",
       "\t 0 & 0 & FALSE & 3.454534\\\\\n",
       "\t 1 & 1 & FALSE & 4.762479\\\\\n",
       "\t 1 & 1 & FALSE & 4.064033\\\\\n",
       "\t 1 & 1 & FALSE & 4.128191\\\\\n",
       "\t 1 & 1 & FALSE & 4.493245\\\\\n",
       "\t 0 & 0 & FALSE & 4.394930\\\\\n",
       "\t 0 & 0 & FALSE & 3.463784\\\\\n",
       "\t 0 & 0 & FALSE & 4.282666\\\\\n",
       "\t 0 & 0 & FALSE & 3.997156\\\\\n",
       "\t 1 & 1 & FALSE & 4.206188\\\\\n",
       "\t 0 & 0 & FALSE & 2.618384\\\\\n",
       "\t 1 & 1 & FALSE & 4.016431\\\\\n",
       "\t 1 & 1 & FALSE & 4.106517\\\\\n",
       "\t 0 & 0 & FALSE & 4.223640\\\\\n",
       "\t 1 & 1 & FALSE & 3.700978\\\\\n",
       "\t 0 & 0 & FALSE & 4.848135\\\\\n",
       "\t 0 & 0 & FALSE & 5.493523\\\\\n",
       "\t 1 & 1 & FALSE & 3.346828\\\\\n",
       "\t 0 & 0 & FALSE & 2.663116\\\\\n",
       "\t 1 & 1 & FALSE & 4.821081\\\\\n",
       "\t 1 & 1 & FALSE & 3.511454\\\\\n",
       "\t 1 & 1 & FALSE & 4.257227\\\\\n",
       "\t 1 & 1 & FALSE & 4.116589\\\\\n",
       "\t 0 & 0 & FALSE & 3.880501\\\\\n",
       "\t 0 & 0 & FALSE & 4.467927\\\\\n",
       "\t 0 & 0 & FALSE & 2.563112\\\\\n",
       "\t 1 & 1 & FALSE & 4.531012\\\\\n",
       "\t 0 & 0 & FALSE & 3.137286\\\\\n",
       "\t 1 & 1 & FALSE & 2.754806\\\\\n",
       "\t 0 & 0 & FALSE & 4.645731\\\\\n",
       "\\end{tabular}\n"
      ],
      "text/markdown": [
       "\n",
       "A data.table: 1998 × 4\n",
       "\n",
       "| c1 &lt;int&gt; | c2 &lt;int&gt; | treatment &lt;lgl&gt; | y &lt;dbl&gt; |\n",
       "|---|---|---|---|\n",
       "| 1 | 1 | TRUE | 5.150781 |\n",
       "| 0 | 0 | TRUE | 3.157955 |\n",
       "| 0 | 0 | TRUE | 3.138722 |\n",
       "| 1 | 1 | TRUE | 3.461936 |\n",
       "| 1 | 1 | TRUE | 4.496595 |\n",
       "| 0 | 0 | TRUE | 2.558034 |\n",
       "| 1 | 1 | TRUE | 2.887398 |\n",
       "| 1 | 1 | TRUE | 2.985451 |\n",
       "| 1 | 1 | TRUE | 4.567364 |\n",
       "| 1 | 1 | TRUE | 3.785949 |\n",
       "| 0 | 0 | TRUE | 3.541193 |\n",
       "| 0 | 0 | TRUE | 5.928155 |\n",
       "| 0 | 0 | TRUE | 5.359061 |\n",
       "| 1 | 1 | TRUE | 4.443659 |\n",
       "| 0 | 0 | TRUE | 2.744709 |\n",
       "| 1 | 1 | TRUE | 4.017669 |\n",
       "| 0 | 0 | TRUE | 1.601369 |\n",
       "| 1 | 1 | TRUE | 3.945773 |\n",
       "| 1 | 1 | TRUE | 5.363424 |\n",
       "| 0 | 0 | TRUE | 3.687805 |\n",
       "| 1 | 1 | TRUE | 3.539614 |\n",
       "| 1 | 1 | TRUE | 4.392490 |\n",
       "| 0 | 0 | TRUE | 5.757628 |\n",
       "| 1 | 1 | TRUE | 3.318524 |\n",
       "| 0 | 0 | TRUE | 3.794811 |\n",
       "| 0 | 0 | TRUE | 4.166403 |\n",
       "| 0 | 0 | TRUE | 4.554976 |\n",
       "| 0 | 0 | TRUE | 4.396505 |\n",
       "| 0 | 0 | TRUE | 3.611793 |\n",
       "| 1 | 1 | TRUE | 3.886010 |\n",
       "| ⋮ | ⋮ | ⋮ | ⋮ |\n",
       "| 0 | 0 | FALSE | 3.454534 |\n",
       "| 1 | 1 | FALSE | 4.762479 |\n",
       "| 1 | 1 | FALSE | 4.064033 |\n",
       "| 1 | 1 | FALSE | 4.128191 |\n",
       "| 1 | 1 | FALSE | 4.493245 |\n",
       "| 0 | 0 | FALSE | 4.394930 |\n",
       "| 0 | 0 | FALSE | 3.463784 |\n",
       "| 0 | 0 | FALSE | 4.282666 |\n",
       "| 0 | 0 | FALSE | 3.997156 |\n",
       "| 1 | 1 | FALSE | 4.206188 |\n",
       "| 0 | 0 | FALSE | 2.618384 |\n",
       "| 1 | 1 | FALSE | 4.016431 |\n",
       "| 1 | 1 | FALSE | 4.106517 |\n",
       "| 0 | 0 | FALSE | 4.223640 |\n",
       "| 1 | 1 | FALSE | 3.700978 |\n",
       "| 0 | 0 | FALSE | 4.848135 |\n",
       "| 0 | 0 | FALSE | 5.493523 |\n",
       "| 1 | 1 | FALSE | 3.346828 |\n",
       "| 0 | 0 | FALSE | 2.663116 |\n",
       "| 1 | 1 | FALSE | 4.821081 |\n",
       "| 1 | 1 | FALSE | 3.511454 |\n",
       "| 1 | 1 | FALSE | 4.257227 |\n",
       "| 1 | 1 | FALSE | 4.116589 |\n",
       "| 0 | 0 | FALSE | 3.880501 |\n",
       "| 0 | 0 | FALSE | 4.467927 |\n",
       "| 0 | 0 | FALSE | 2.563112 |\n",
       "| 1 | 1 | FALSE | 4.531012 |\n",
       "| 0 | 0 | FALSE | 3.137286 |\n",
       "| 1 | 1 | FALSE | 2.754806 |\n",
       "| 0 | 0 | FALSE | 4.645731 |\n",
       "\n"
      ],
      "text/plain": [
       "     c1 c2 treatment y       \n",
       "1    1  1  TRUE      5.150781\n",
       "2    0  0  TRUE      3.157955\n",
       "3    0  0  TRUE      3.138722\n",
       "4    1  1  TRUE      3.461936\n",
       "5    1  1  TRUE      4.496595\n",
       "6    0  0  TRUE      2.558034\n",
       "7    1  1  TRUE      2.887398\n",
       "8    1  1  TRUE      2.985451\n",
       "9    1  1  TRUE      4.567364\n",
       "10   1  1  TRUE      3.785949\n",
       "11   0  0  TRUE      3.541193\n",
       "12   0  0  TRUE      5.928155\n",
       "13   0  0  TRUE      5.359061\n",
       "14   1  1  TRUE      4.443659\n",
       "15   0  0  TRUE      2.744709\n",
       "16   1  1  TRUE      4.017669\n",
       "17   0  0  TRUE      1.601369\n",
       "18   1  1  TRUE      3.945773\n",
       "19   1  1  TRUE      5.363424\n",
       "20   0  0  TRUE      3.687805\n",
       "21   1  1  TRUE      3.539614\n",
       "22   1  1  TRUE      4.392490\n",
       "23   0  0  TRUE      5.757628\n",
       "24   1  1  TRUE      3.318524\n",
       "25   0  0  TRUE      3.794811\n",
       "26   0  0  TRUE      4.166403\n",
       "27   0  0  TRUE      4.554976\n",
       "28   0  0  TRUE      4.396505\n",
       "29   0  0  TRUE      3.611793\n",
       "30   1  1  TRUE      3.886010\n",
       "⋮    ⋮  ⋮  ⋮         ⋮       \n",
       "1969 0  0  FALSE     3.454534\n",
       "1970 1  1  FALSE     4.762479\n",
       "1971 1  1  FALSE     4.064033\n",
       "1972 1  1  FALSE     4.128191\n",
       "1973 1  1  FALSE     4.493245\n",
       "1974 0  0  FALSE     4.394930\n",
       "1975 0  0  FALSE     3.463784\n",
       "1976 0  0  FALSE     4.282666\n",
       "1977 0  0  FALSE     3.997156\n",
       "1978 1  1  FALSE     4.206188\n",
       "1979 0  0  FALSE     2.618384\n",
       "1980 1  1  FALSE     4.016431\n",
       "1981 1  1  FALSE     4.106517\n",
       "1982 0  0  FALSE     4.223640\n",
       "1983 1  1  FALSE     3.700978\n",
       "1984 0  0  FALSE     4.848135\n",
       "1985 0  0  FALSE     5.493523\n",
       "1986 1  1  FALSE     3.346828\n",
       "1987 0  0  FALSE     2.663116\n",
       "1988 1  1  FALSE     4.821081\n",
       "1989 1  1  FALSE     3.511454\n",
       "1990 1  1  FALSE     4.257227\n",
       "1991 1  1  FALSE     4.116589\n",
       "1992 0  0  FALSE     3.880501\n",
       "1993 0  0  FALSE     4.467927\n",
       "1994 0  0  FALSE     2.563112\n",
       "1995 1  1  FALSE     4.531012\n",
       "1996 0  0  FALSE     3.137286\n",
       "1997 1  1  FALSE     2.754806\n",
       "1998 0  0  FALSE     4.645731"
      ]
     },
     "metadata": {},
     "output_type": "display_data"
    }
   ],
   "source": [
    "N <- 1000                               # the number of obs in each group\n",
    "\n",
    "set.seed(0)\n",
    "## function to generate (T,T) and (F,F) pairs\n",
    "generate_tt_ff <- function(n) {\n",
    "    c1 <- rbinom(n, 1, 0.5)\n",
    "    data.table(c1, c2=c1)\n",
    "}\n",
    "\n",
    "## function to generate (T,F) and (F,T) pairs\n",
    "generate_tf_ft <- function(n) {\n",
    "    c1 <- rbinom(n, 1, 0.5)\n",
    "    data.table(c1, c2=!c1)\n",
    "}\n",
    "\n",
    "## the probability of having (T,T), (F,F) is 0.8 in the treatment group:\n",
    "p_tt_ff_treatment <- 0.8                \n",
    "treatment <- rbind(generate_tt_ff(p_tt_ff_treatment * N),\n",
    "                   generate_tf_ft((1 - p_tt_ff_treatment) * N))\n",
    "## and 0.2 in the control group:\n",
    "control <- rbind(generate_tf_ft(p_tt_ff_treatment * N),\n",
    "                 generate_tt_ff((1 - p_tt_ff_treatment) * N))\n",
    "\n",
    "dt <- rbind(data.table(treatment, treatment=TRUE),\n",
    "            data.table(control, treatment=FALSE))\n",
    "\n",
    "## construct 'y' conditional on 'c1' and 'c2':\n",
    "y <- rnorm(nrow(dt), 2, 1)\n",
    "idx_tt_ff <- which(!xor(dt$c1, dt$c2))\n",
    "y[idx_tt_ff] <- rnorm(length(idx_tt_ff), 4, 1)\n",
    "dt$y <- y\n",
    "dt"
   ]
  },
  {
   "cell_type": "markdown",
   "id": "e4d86059-f543-4039-b13e-431712ca95e0",
   "metadata": {},
   "source": [
    "We see that we have the same proportions for c1/c2 in both treatment and control group:"
   ]
  },
  {
   "cell_type": "code",
   "execution_count": 12,
   "id": "ed7f8cd9-e4f2-439e-9a01-a7a02321b554",
   "metadata": {},
   "outputs": [
    {
     "data": {
      "text/plain": [
       "       c1               c2         treatment            y         \n",
       " Min.   :0.0000   Min.   :0.0000   Mode:logical   Min.   :-1.045  \n",
       " 1st Qu.:0.0000   1st Qu.:0.0000   TRUE:999       1st Qu.: 2.883  \n",
       " Median :0.0000   Median :0.0000                  Median : 3.703  \n",
       " Mean   :0.4815   Mean   :0.4985                  Mean   : 3.604  \n",
       " 3rd Qu.:1.0000   3rd Qu.:1.0000                  3rd Qu.: 4.513  \n",
       " Max.   :1.0000   Max.   :1.0000                  Max.   : 6.783  "
      ]
     },
     "metadata": {},
     "output_type": "display_data"
    },
    {
     "data": {
      "text/plain": [
       "       c1               c2         treatment             y         \n",
       " Min.   :0.0000   Min.   :0.0000   Mode :logical   Min.   :-1.037  \n",
       " 1st Qu.:0.0000   1st Qu.:0.0000   FALSE:999       1st Qu.: 1.631  \n",
       " Median :0.0000   Median :1.0000                   Median : 2.364  \n",
       " Mean   :0.4805   Mean   :0.5185                   Mean   : 2.458  \n",
       " 3rd Qu.:1.0000   3rd Qu.:1.0000                   3rd Qu.: 3.217  \n",
       " Max.   :1.0000   Max.   :1.0000                   Max.   : 6.601  "
      ]
     },
     "metadata": {},
     "output_type": "display_data"
    }
   ],
   "source": [
    "summary(dt[treatment==TRUE])\n",
    "summary(dt[treatment==FALSE])"
   ]
  },
  {
   "cell_type": "code",
   "execution_count": 13,
   "id": "122f1c6e-fe0e-4a34-bb8f-be66f44623bb",
   "metadata": {},
   "outputs": [
    {
     "data": {
      "text/plain": [
       "Original group value:  FALSE, TRUE \n",
       "\n",
       "Point estimate: \n",
       "2.4571, 3.6026 "
      ]
     },
     "metadata": {},
     "output_type": "display_data"
    }
   ],
   "source": [
    "## now fit two models, p1 with the default 'gbm' parameters that will\n",
    "## have 'interaction.depth' set to 1 as default and will thus not be\n",
    "## able to learn the interaction between 'c1' and 'c2'.\n",
    "set.seed(0)\n",
    "p1 <- PSweight(treatment ~ c1 + c2, yname=\"y\", data=dt, ps.method=\"gbm\")\n",
    "p1"
   ]
  },
  {
   "cell_type": "code",
   "execution_count": 14,
   "id": "84d3e8f7-d3e8-409b-9a08-d2b5b1d2d9a4",
   "metadata": {},
   "outputs": [
    {
     "data": {
      "text/plain": [
       "Original group value:  FALSE, TRUE \n",
       "\n",
       "Point estimate: \n",
       "3.0164, 2.9907 "
      ]
     },
     "metadata": {},
     "output_type": "display_data"
    }
   ],
   "source": [
    "## and 'p2' with 'interaction.depth' set to 2, that will learn\n",
    "## correctly and allow the method to correctly conclude that the means\n",
    "## are the same:\n",
    "set.seed(0)\n",
    "p2 <- PSweight(treatment ~ c1 + c2, yname=\"y\", data=dt, ps.method=\"gbm\",\n",
    "               ps.control=list(interaction.depth=2))\n",
    "p2"
   ]
  },
  {
   "cell_type": "code",
   "execution_count": 15,
   "id": "2d6c8734-66f1-43a0-b314-c703ce0276ce",
   "metadata": {},
   "outputs": [
    {
     "data": {
      "text/html": [
       "<table class=\"dataframe\">\n",
       "<caption>A matrix: 6 × 2 of type dbl</caption>\n",
       "<thead>\n",
       "\t<tr><th scope=col>FALSE</th><th scope=col>TRUE</th></tr>\n",
       "</thead>\n",
       "<tbody>\n",
       "\t<tr><td>0.5122574</td><td>0.4877426</td></tr>\n",
       "\t<tr><td>0.4941118</td><td>0.5058882</td></tr>\n",
       "\t<tr><td>0.4941118</td><td>0.5058882</td></tr>\n",
       "\t<tr><td>0.5122574</td><td>0.4877426</td></tr>\n",
       "\t<tr><td>0.5122574</td><td>0.4877426</td></tr>\n",
       "\t<tr><td>0.4941118</td><td>0.5058882</td></tr>\n",
       "</tbody>\n",
       "</table>\n"
      ],
      "text/latex": [
       "A matrix: 6 × 2 of type dbl\n",
       "\\begin{tabular}{ll}\n",
       " FALSE & TRUE\\\\\n",
       "\\hline\n",
       "\t 0.5122574 & 0.4877426\\\\\n",
       "\t 0.4941118 & 0.5058882\\\\\n",
       "\t 0.4941118 & 0.5058882\\\\\n",
       "\t 0.5122574 & 0.4877426\\\\\n",
       "\t 0.5122574 & 0.4877426\\\\\n",
       "\t 0.4941118 & 0.5058882\\\\\n",
       "\\end{tabular}\n"
      ],
      "text/markdown": [
       "\n",
       "A matrix: 6 × 2 of type dbl\n",
       "\n",
       "| FALSE | TRUE |\n",
       "|---|---|\n",
       "| 0.5122574 | 0.4877426 |\n",
       "| 0.4941118 | 0.5058882 |\n",
       "| 0.4941118 | 0.5058882 |\n",
       "| 0.5122574 | 0.4877426 |\n",
       "| 0.5122574 | 0.4877426 |\n",
       "| 0.4941118 | 0.5058882 |\n",
       "\n"
      ],
      "text/plain": [
       "     FALSE     TRUE     \n",
       "[1,] 0.5122574 0.4877426\n",
       "[2,] 0.4941118 0.5058882\n",
       "[3,] 0.4941118 0.5058882\n",
       "[4,] 0.5122574 0.4877426\n",
       "[5,] 0.5122574 0.4877426\n",
       "[6,] 0.4941118 0.5058882"
      ]
     },
     "metadata": {},
     "output_type": "display_data"
    },
    {
     "data": {
      "text/html": [
       "<table class=\"dataframe\">\n",
       "<caption>A matrix: 6 × 2 of type dbl</caption>\n",
       "<thead>\n",
       "\t<tr><th scope=col>FALSE</th><th scope=col>TRUE</th></tr>\n",
       "</thead>\n",
       "<tbody>\n",
       "\t<tr><td>0.2066791</td><td>0.7933209</td></tr>\n",
       "\t<tr><td>0.2001336</td><td>0.7998664</td></tr>\n",
       "\t<tr><td>0.2001336</td><td>0.7998664</td></tr>\n",
       "\t<tr><td>0.2066791</td><td>0.7933209</td></tr>\n",
       "\t<tr><td>0.2066791</td><td>0.7933209</td></tr>\n",
       "\t<tr><td>0.2001336</td><td>0.7998664</td></tr>\n",
       "</tbody>\n",
       "</table>\n"
      ],
      "text/latex": [
       "A matrix: 6 × 2 of type dbl\n",
       "\\begin{tabular}{ll}\n",
       " FALSE & TRUE\\\\\n",
       "\\hline\n",
       "\t 0.2066791 & 0.7933209\\\\\n",
       "\t 0.2001336 & 0.7998664\\\\\n",
       "\t 0.2001336 & 0.7998664\\\\\n",
       "\t 0.2066791 & 0.7933209\\\\\n",
       "\t 0.2066791 & 0.7933209\\\\\n",
       "\t 0.2001336 & 0.7998664\\\\\n",
       "\\end{tabular}\n"
      ],
      "text/markdown": [
       "\n",
       "A matrix: 6 × 2 of type dbl\n",
       "\n",
       "| FALSE | TRUE |\n",
       "|---|---|\n",
       "| 0.2066791 | 0.7933209 |\n",
       "| 0.2001336 | 0.7998664 |\n",
       "| 0.2001336 | 0.7998664 |\n",
       "| 0.2066791 | 0.7933209 |\n",
       "| 0.2066791 | 0.7933209 |\n",
       "| 0.2001336 | 0.7998664 |\n",
       "\n"
      ],
      "text/plain": [
       "     FALSE     TRUE     \n",
       "[1,] 0.2066791 0.7933209\n",
       "[2,] 0.2001336 0.7998664\n",
       "[3,] 0.2001336 0.7998664\n",
       "[4,] 0.2066791 0.7933209\n",
       "[5,] 0.2066791 0.7933209\n",
       "[6,] 0.2001336 0.7998664"
      ]
     },
     "metadata": {},
     "output_type": "display_data"
    }
   ],
   "source": [
    "head(p1$propensity)\n",
    "head(p2$propensity)"
   ]
  },
  {
   "cell_type": "markdown",
   "id": "e72c8beb",
   "metadata": {},
   "source": [
    "## Problems"
   ]
  },
  {
   "cell_type": "markdown",
   "id": "9caefef7",
   "metadata": {},
   "source": [
    "### Missing propensity variable"
   ]
  },
  {
   "cell_type": "code",
   "execution_count": null,
   "id": "b930d728",
   "metadata": {},
   "outputs": [],
   "source": []
  },
  {
   "cell_type": "markdown",
   "id": "41b9203f",
   "metadata": {},
   "source": [
    "### Small divisors\n",
    "\n",
    "We introduce a new covariate `new_surgery`. In the test group, we assign all smokers to new_surgery and all non-smokers to non-new_surgerys; in the control group, we assign the new_surgerys randomly to the whole population with the same probability as the probability of being smoker in the control group (0.75)."
   ]
  },
  {
   "cell_type": "code",
   "execution_count": 16,
   "id": "222ac569",
   "metadata": {},
   "outputs": [
    {
     "ename": "ERROR",
     "evalue": "Error: Object 'test' not found amongst [region, T, p, Y, propensity, weight]\n",
     "output_type": "error",
     "traceback": [
      "Error: Object 'test' not found amongst [region, T, p, Y, propensity, weight]\nTraceback:\n",
      "1. ex2[test == TRUE, `:=`(new_surgery, smoker)]",
      "2. `[.data.table`(ex2, test == TRUE, `:=`(new_surgery, smoker))",
      "3. tryCatch(eval(.massagei(isub), x, ienv), error = function(e) {\n .     if (grepl(\":=.*defined for use in j.*only\", e$message)) \n .         stopf(\"Operator := detected in i, the first argument inside DT[...], but is only valid in the second argument, j. Most often, this happens when forgetting the first comma (e.g. DT[newvar := 5] instead of DT[ , new_var := 5]). Please double-check the syntax. Run traceback(), and debugger() to get a line number.\")\n .     else .checkTypos(e, names_x)\n . })",
      "4. tryCatchList(expr, classes, parentenv, handlers)",
      "5. tryCatchOne(expr, names, parentenv, handlers[[1L]])",
      "6. value[[3L]](cond)",
      "7. .checkTypos(e, names_x)",
      "8. stopf(\"Object '%s' not found amongst %s\", used, brackify(ref))",
      "9. stop(gettextf(fmt, ..., domain = domain), domain = NA, call. = FALSE)"
     ]
    }
   ],
   "source": [
    "ex2 <- copy(ex1)\n",
    "ex2[test==TRUE, new_surgery := smoker]\n",
    "#ex2[test & smoker, new_surgery := rbinom(nrow(ex2[test & smoker]), 1, 0.9)]\n",
    "#ex2[test & !smoker, new_surgery := rbinom(nrow(ex2[test & !smoker]), 1, 0.1)]\n",
    "ex2[test==FALSE, new_surgery := rbinom(nrow(ex2[test==FALSE]), 1, p_s)]"
   ]
  },
  {
   "cell_type": "code",
   "execution_count": null,
   "id": "444de3f6",
   "metadata": {},
   "outputs": [],
   "source": [
    "## percent smoker new_surgerys:\n",
    "nrow(ex2[test & smoker & new_surgery])/nrow(ex2[test & smoker])"
   ]
  },
  {
   "cell_type": "code",
   "execution_count": null,
   "id": "4e0317f0",
   "metadata": {},
   "outputs": [],
   "source": [
    "## percent male new_surgerys:\n",
    "nrow(ex2[test & !smoker & new_surgery])/nrow(ex2[test & !smoker])"
   ]
  },
  {
   "cell_type": "code",
   "execution_count": null,
   "id": "b7c1356a",
   "metadata": {},
   "outputs": [],
   "source": [
    "logistic_model <- glm(\"test ~ smoker + new_surgery\", family=binomial, data=ex2)\n",
    "summary(logistic_model)"
   ]
  },
  {
   "cell_type": "code",
   "execution_count": null,
   "id": "69170cd2",
   "metadata": {},
   "outputs": [],
   "source": [
    "ex2[, propensity := predict(logistic_model, ex2, type=\"response\")]\n",
    "ex2[test==TRUE, weight := 1 / propensity]\n",
    "ex2[test==FALSE, weight := 1 / (1 - propensity)]\n",
    "print(ex2, topn=10)"
   ]
  },
  {
   "cell_type": "code",
   "execution_count": null,
   "id": "56d2ebae",
   "metadata": {},
   "outputs": [],
   "source": [
    "summary(aov(recovery ~ test, data=ex2))"
   ]
  },
  {
   "cell_type": "code",
   "execution_count": null,
   "id": "66006963",
   "metadata": {},
   "outputs": [],
   "source": [
    "summary(aov(recovery ~ test, data=ex2, weights=ex2$weight))"
   ]
  },
  {
   "cell_type": "code",
   "execution_count": null,
   "id": "5e13cd9a",
   "metadata": {},
   "outputs": [],
   "source": [
    "print(sum(ex2[test==TRUE]$smoker)/nrow(ex2[test==TRUE]))\n",
    "print(sum(ex2[test==FALSE]$smoker)/nrow(ex2[test==FALSE]))\n",
    "print(sum(ex2[test &  smoker]$weight)/sum(ex2[test==TRUE]$weight))\n",
    "print(sum(ex2[!test & smoker]$weight)/sum(ex2[test==FALSE]$weight))"
   ]
  },
  {
   "cell_type": "code",
   "execution_count": null,
   "id": "87607464",
   "metadata": {},
   "outputs": [],
   "source": [
    "print(sum(ex2[test==TRUE]$new_surgery)/nrow(ex2[test==TRUE]))\n",
    "print(sum(ex2[test==FALSE]$new_surgery)/nrow(ex2[test==FALSE]))\n",
    "print(sum(ex2[test &  new_surgery]$weight)/sum(ex2[test==TRUE]$weight))\n",
    "print(sum(ex2[!test & new_surgery]$weight)/sum(ex2[test==FALSE]$weight))"
   ]
  },
  {
   "cell_type": "markdown",
   "id": "9e96288b",
   "metadata": {},
   "source": [
    "Now let's imagine new_surgery has an effect, if you're a new_surgery, you're 15 recovery lighter:"
   ]
  },
  {
   "cell_type": "code",
   "execution_count": null,
   "id": "f39bc11a",
   "metadata": {},
   "outputs": [],
   "source": [
    "ex2[new_surgery==TRUE, recovery := recovery + 50]"
   ]
  },
  {
   "cell_type": "code",
   "execution_count": null,
   "id": "4cd67ed1",
   "metadata": {},
   "outputs": [],
   "source": [
    "summary(aov(recovery ~ test, data=ex2))"
   ]
  },
  {
   "cell_type": "markdown",
   "id": "7dd9e4b1",
   "metadata": {},
   "source": [
    "We find then with these weights that the test group is significantly different from the control group, which we know by design of this simulation is not true:"
   ]
  },
  {
   "cell_type": "code",
   "execution_count": null,
   "id": "98ea6f1b",
   "metadata": {},
   "outputs": [],
   "source": [
    "summary(aov(recovery ~ test, data=ex2, weights=ex2$weight))"
   ]
  },
  {
   "cell_type": "markdown",
   "id": "604173f1",
   "metadata": {},
   "source": [
    "### Running PSweight"
   ]
  },
  {
   "cell_type": "code",
   "execution_count": null,
   "id": "b3951af5",
   "metadata": {},
   "outputs": [],
   "source": [
    "ipw <- PSweight(test ~ smoker + new_surgery, data=ex2, yname=\"recovery\", weight=\"IPW\")\n",
    "print(ipw)\n",
    "summary(ipw)"
   ]
  },
  {
   "cell_type": "code",
   "execution_count": null,
   "id": "0388f476",
   "metadata": {},
   "outputs": [],
   "source": [
    "ipw_ss <- SumStat(test ~ smoker + new_surgery, data=ex2, weight=\"IPW\")\n",
    "summary(ipw_ss)"
   ]
  },
  {
   "cell_type": "code",
   "execution_count": null,
   "id": "3f1526d4",
   "metadata": {},
   "outputs": [],
   "source": [
    "plot(ipw_ss)"
   ]
  },
  {
   "cell_type": "code",
   "execution_count": null,
   "id": "dd745d8e",
   "metadata": {},
   "outputs": [],
   "source": [
    "aipw <- PSweight(test ~ smoker + new_surgery, data=ex2, yname=\"recovery\", weight=\"IPW\", \n",
    "                augmentation = TRUE, out.formula = recovery ~ smoker + new_surgery)\n",
    "summary(ipw)"
   ]
  },
  {
   "cell_type": "markdown",
   "id": "e4565646",
   "metadata": {},
   "source": [
    "# AIPW"
   ]
  },
  {
   "cell_type": "markdown",
   "id": "d652613f",
   "metadata": {},
   "source": [
    "Let's examine the Augmented Inverse Propensity Weighting. We start by simulating a simple treatment/control group with a couple of covariates.\n",
    "\n",
    "$$Y_{i} \\sim X_{i}\\beta + W_{i}\\tau + \\epsilon$$\n",
    "\n",
    "To add some realism, we'll have our treatment have a different range of X and fix $\\beta$ and $\\tau$.\n",
    "\n",
    "$$X_{treat} \\sim Normal(\\mu=4, \\sigma=1)$$\n",
    "$$X_{cntl} \\sim Normal(\\mu=6, \\sigma=1)$$\n",
    "$$\\beta = 2$$\n",
    "$$\\tau = 1$$\n",
    "$$\\epsilon \\sim Normal(\\mu=0.1, \\sigma=1)$$"
   ]
  },
  {
   "cell_type": "code",
   "execution_count": 17,
   "id": "c8dbb285",
   "metadata": {},
   "outputs": [
    {
     "name": "stdout",
     "output_type": "stream",
     "text": [
      "       x1               W        epsilon              y         \n",
      " Min.   :0.7636   Min.   :1   Min.   :-3.0884   Min.   : 1.783  \n",
      " 1st Qu.:3.3042   1st Qu.:1   1st Qu.:-0.5677   1st Qu.: 7.595  \n",
      " Median :3.9824   Median :1   Median : 0.1165   Median : 9.068  \n",
      " Mean   :3.9941   Mean   :1   Mean   : 0.1049   Mean   : 9.093  \n",
      " 3rd Qu.:4.7024   3rd Qu.:1   3rd Qu.: 0.7653   3rd Qu.:10.647  \n",
      " Max.   :7.2664   Max.   :1   Max.   : 3.6681   Max.   :16.590  \n",
      "       x1              W        epsilon              y         \n",
      " Min.   :2.297   Min.   :0   Min.   :-3.3593   Min.   : 4.552  \n",
      " 1st Qu.:5.360   1st Qu.:0   1st Qu.:-0.6009   1st Qu.:10.675  \n",
      " Median :6.015   Median :0   Median : 0.1319   Median :12.130  \n",
      " Mean   :6.020   Mean   :0   Mean   : 0.1232   Mean   :12.162  \n",
      " 3rd Qu.:6.677   3rd Qu.:0   3rd Qu.: 0.8067   3rd Qu.:13.664  \n",
      " Max.   :8.922   Max.   :0   Max.   : 3.4768   Max.   :19.044  \n"
     ]
    }
   ],
   "source": [
    "set.seed(0)\n",
    "sz <- 2500\n",
    "beta1 <- 2\n",
    "tau <- 1\n",
    "mu_epsilon <- 0.1\n",
    "dt <- data.table(x1=c(rnorm(sz, 4, 1), rnorm(sz, 6, 1)), \n",
    "                 W=c(rep(1, sz), rep(0, sz)),\n",
    "                 epsilon=rnorm(sz*2, mu_epsilon, 1))\n",
    "dt[, y := x1 * beta1 + W * tau + epsilon]\n",
    "print(summary(dt[W==1]))\n",
    "print(summary(dt[W==0]))"
   ]
  },
  {
   "cell_type": "code",
   "execution_count": 18,
   "id": "1bb63953",
   "metadata": {},
   "outputs": [
    {
     "data": {
      "image/png": "[encoded data removed]",
      "text/plain": [
       "plot without title"
      ]
     },
     "metadata": {
      "image/png": {
       "height": 560,
       "width": 560
      }
     },
     "output_type": "display_data"
    }
   ],
   "source": [
    "ggplot(dt, aes(x1, y, color=factor(W))) +\n",
    "    geom_point()"
   ]
  },
  {
   "cell_type": "markdown",
   "id": "49ef30da",
   "metadata": {},
   "source": [
    "## IPW"
   ]
  },
  {
   "cell_type": "markdown",
   "id": "b3d5815a",
   "metadata": {},
   "source": [
    "First we use a logistic regression to figure out the propensity score $e_i$:"
   ]
  },
  {
   "cell_type": "code",
   "execution_count": 19,
   "id": "23d9724c",
   "metadata": {},
   "outputs": [
    {
     "data": {
      "text/plain": [
       "\n",
       "Call:\n",
       "glm(formula = W ~ x1, family = binomial, data = dt)\n",
       "\n",
       "Deviance Residuals: \n",
       "    Min       1Q   Median       3Q      Max  \n",
       "-3.3240  -0.5003  -0.0041   0.4795   3.0202  \n",
       "\n",
       "Coefficients:\n",
       "            Estimate Std. Error z value Pr(>|z|)    \n",
       "(Intercept)  10.1749     0.2833   35.92   <2e-16 ***\n",
       "x1           -2.0265     0.0556  -36.44   <2e-16 ***\n",
       "---\n",
       "Signif. codes:  0 ‘***’ 0.001 ‘**’ 0.01 ‘*’ 0.05 ‘.’ 0.1 ‘ ’ 1\n",
       "\n",
       "(Dispersion parameter for binomial family taken to be 1)\n",
       "\n",
       "    Null deviance: 6931.5  on 4999  degrees of freedom\n",
       "Residual deviance: 3499.9  on 4998  degrees of freedom\n",
       "AIC: 3503.9\n",
       "\n",
       "Number of Fisher Scoring iterations: 6\n"
      ]
     },
     "metadata": {},
     "output_type": "display_data"
    }
   ],
   "source": [
    "propensity_model <- glm(W ~ x1, data=dt, family=binomial)\n",
    "summary(propensity_model)"
   ]
  },
  {
   "cell_type": "code",
   "execution_count": 20,
   "id": "9525cc43",
   "metadata": {},
   "outputs": [
    {
     "name": "stdout",
     "output_type": "stream",
     "text": [
      "Index: <W>\n",
      "            x1     W    epsilon        y           e\n",
      "         <num> <num>      <num>    <num>       <num>\n",
      "   1: 5.262954     1  0.4925581 12.01847 0.379829337\n",
      "   2: 3.673767     1  0.5582467  8.90578 0.938782155\n",
      "   3: 5.329799     1 -1.1196454 10.53995 0.348479148\n",
      "   4: 5.272429     1 -1.0220983 10.52276 0.375316981\n",
      "   5: 4.414641     1  1.0933303 10.92261 0.773607642\n",
      "  ---                                               \n",
      "4996: 7.863367     0  0.3136543 16.04039 0.003141551\n",
      "4997: 8.162363     0  0.8330922 17.15782 0.001716424\n",
      "4998: 7.175956     0  0.8570839 15.20900 0.012531669\n",
      "4999: 6.619077     0  0.8986270 14.13678 0.037746158\n",
      "5000: 6.008463     0  0.0443967 12.06132 0.119096601\n"
     ]
    }
   ],
   "source": [
    "dt[, e := predict(propensity_model, data=dt, type=\"response\")]\n",
    "print(dt)"
   ]
  },
  {
   "cell_type": "markdown",
   "id": "583b28ec",
   "metadata": {},
   "source": [
    "And now we can estimate the propensity weighted means and see what $\\tau$ we get:"
   ]
  },
  {
   "cell_type": "code",
   "execution_count": 21,
   "id": "426b9a84",
   "metadata": {},
   "outputs": [
    {
     "name": "stdout",
     "output_type": "stream",
     "text": [
      "mu1: 10.8842605617515 \n",
      "mu0: 10.271564796472 \n",
      "[1] 0.6126958\n"
     ]
    }
   ],
   "source": [
    "mu1 <- sum(dt$W * dt$y / dt$e) / sum(dt$W / dt$e)\n",
    "mu0 <- sum((1-dt$W) * dt$y / (1-dt$e)) / sum((1 - dt$W) / (1 - dt$e))\n",
    "cat(paste(\"mu1:\", mu1, \"\\n\"))\n",
    "cat(paste(\"mu0:\", mu0, \"\\n\"))\n",
    "ATE_prop <- mu1 - mu0\n",
    "print(ATE_prop)"
   ]
  },
  {
   "cell_type": "markdown",
   "id": "a3462031",
   "metadata": {},
   "source": [
    "## Regression"
   ]
  },
  {
   "cell_type": "markdown",
   "id": "c332ee5f",
   "metadata": {},
   "source": [
    "Now let's look at a second way of approching the problem. Here we estimate directly $\\mu_{0}$\n",
    "and $\\mu_{1}$ from the treatment and control groups, conditional on X.\n",
    "\n",
    "Note the regression is conducted separately on the two groups. It is not:\n",
    "\n",
    "$$Y \\sim X\\beta + W\\tau + \\epsilon$$\n",
    "\n",
    "but instead:\n",
    "\n",
    "$$Y_{1} \\sim X_{1}\\beta_{1} + \\epsilon$$\n",
    "$$Y_{0} \\sim X_{0}\\beta_{0} + \\epsilon$$\n",
    "\n",
    "One explanation of the serparate regression:\n",
    "\n",
    "\"We emphasize that, throughout our analysis, we defined the target estimand τ = E [∆i] before making any modeling assumptions. Linear modeling was only used as a tool to estimate τ , but did not inform the scientific question we tried to answer. In particular, we did not try to estimate τ by direct regression modeling $Y_{i} \\sim X_{i}\\beta + W_{i}\\tau + \\epsilon_{i}$, while claiming that the coefficient on τ is a causal effect. This approach has the vice of tying our scientific question to our regression modeling strategy: τ appears to just have become a coefficient in our linear model, not a fact of nature that’s conceptually prior to modeling decisions.\" (https://web.stanford.edu/~swager/stats361.pdf, page 8).\n",
    "\n",
    "But another less philosophical is that one cannot make the assumption that both the treatment group and the control group have the exact same relationship between covariates and outcome."
   ]
  },
  {
   "cell_type": "code",
   "execution_count": 22,
   "id": "7c948d32",
   "metadata": {},
   "outputs": [
    {
     "data": {
      "text/plain": [
       "\n",
       "Call:\n",
       "lm(formula = y ~ x1, data = dt[W == 1])\n",
       "\n",
       "Residuals:\n",
       "    Min      1Q  Median      3Q     Max \n",
       "-3.1967 -0.6734  0.0109  0.6597  3.5647 \n",
       "\n",
       "Coefficients:\n",
       "            Estimate Std. Error t value Pr(>|t|)    \n",
       "(Intercept)  1.11934    0.08020   13.96   <2e-16 ***\n",
       "x1           1.99639    0.01946  102.57   <2e-16 ***\n",
       "---\n",
       "Signif. codes:  0 ‘***’ 0.001 ‘**’ 0.01 ‘*’ 0.05 ‘.’ 0.1 ‘ ’ 1\n",
       "\n",
       "Residual standard error: 0.9846 on 2498 degrees of freedom\n",
       "Multiple R-squared:  0.8081,\tAdjusted R-squared:  0.808 \n",
       "F-statistic: 1.052e+04 on 1 and 2498 DF,  p-value: < 2.2e-16\n"
      ]
     },
     "metadata": {},
     "output_type": "display_data"
    }
   ],
   "source": [
    "model_mu1 <- lm(y ~ x1, data=dt[W==1])\n",
    "summary(model_mu1)"
   ]
  },
  {
   "cell_type": "code",
   "execution_count": 23,
   "id": "fdcfa92d",
   "metadata": {},
   "outputs": [
    {
     "data": {
      "text/plain": [
       "\n",
       "Call:\n",
       "lm(formula = y ~ x1, data = dt[W == 0])\n",
       "\n",
       "Residuals:\n",
       "    Min      1Q  Median      3Q     Max \n",
       "-3.4456 -0.7236  0.0143  0.6865  3.3276 \n",
       "\n",
       "Coefficients:\n",
       "            Estimate Std. Error t value Pr(>|t|)    \n",
       "(Intercept) -0.10244    0.12589  -0.814    0.416    \n",
       "x1           2.03749    0.02064  98.705   <2e-16 ***\n",
       "---\n",
       "Signif. codes:  0 ‘***’ 0.001 ‘**’ 0.01 ‘*’ 0.05 ‘.’ 0.1 ‘ ’ 1\n",
       "\n",
       "Residual standard error: 1.01 on 2498 degrees of freedom\n",
       "Multiple R-squared:  0.7959,\tAdjusted R-squared:  0.7958 \n",
       "F-statistic:  9743 on 1 and 2498 DF,  p-value: < 2.2e-16\n"
      ]
     },
     "metadata": {},
     "output_type": "display_data"
    }
   ],
   "source": [
    "model_mu0 <- lm(y ~ x1, data=dt[W==0])\n",
    "summary(model_mu0)"
   ]
  },
  {
   "cell_type": "markdown",
   "id": "d59c8532",
   "metadata": {},
   "source": [
    "Now we've got our models for $\\mu_{1}$, $\\mu_{0}$, we evaluate them conditional on all X:"
   ]
  },
  {
   "cell_type": "code",
   "execution_count": 24,
   "id": "84667194",
   "metadata": {},
   "outputs": [
    {
     "data": {
      "text/html": [
       "1.01601234919936"
      ],
      "text/latex": [
       "1.01601234919936"
      ],
      "text/markdown": [
       "1.01601234919936"
      ],
      "text/plain": [
       "[1] 1.016012"
      ]
     },
     "metadata": {},
     "output_type": "display_data"
    }
   ],
   "source": [
    "ATE_reg <- 1/nrow(dt) * sum(predict(model_mu1, dt) - predict(model_mu0, dt))\n",
    "ATE_reg"
   ]
  },
  {
   "cell_type": "markdown",
   "id": "9f2c6afc-a771-4d33-adeb-eee445d7c702",
   "metadata": {},
   "source": [
    "Note that in this case we have the same generating process, so the combined regression gives a similar results for the ATE:"
   ]
  },
  {
   "cell_type": "code",
   "execution_count": 25,
   "id": "ac55948d-a4d8-4b63-9938-b3e29f6d7bc3",
   "metadata": {},
   "outputs": [
    {
     "data": {
      "text/plain": [
       "\n",
       "Call:\n",
       "lm(formula = y ~ x1 + W, data = dt)\n",
       "\n",
       "Residuals:\n",
       "    Min      1Q  Median      3Q     Max \n",
       "-3.4586 -0.6994  0.0146  0.6739  3.5563 \n",
       "\n",
       "Coefficients:\n",
       "            Estimate Std. Error t value Pr(>|t|)    \n",
       "(Intercept)  0.02542    0.08762    0.29    0.772    \n",
       "x1           2.01625    0.01417  142.26   <2e-16 ***\n",
       "W            1.01461    0.04025   25.21   <2e-16 ***\n",
       "---\n",
       "Signif. codes:  0 ‘***’ 0.001 ‘**’ 0.01 ‘*’ 0.05 ‘.’ 0.1 ‘ ’ 1\n",
       "\n",
       "Residual standard error: 0.9973 on 4997 degrees of freedom\n",
       "Multiple R-squared:  0.8652,\tAdjusted R-squared:  0.8652 \n",
       "F-statistic: 1.604e+04 on 2 and 4997 DF,  p-value: < 2.2e-16\n"
      ]
     },
     "metadata": {},
     "output_type": "display_data"
    }
   ],
   "source": [
    "model_t <- lm(y ~ x1 + W, data=dt)\n",
    "summary(model_t)"
   ]
  },
  {
   "cell_type": "markdown",
   "id": "2bb9c306",
   "metadata": {},
   "source": [
    "## IPW + regression = AIPW"
   ]
  },
  {
   "cell_type": "markdown",
   "id": "74e2d7be",
   "metadata": {},
   "source": [
    "We now use both the IPW and the regression to get the Augmented IPW; for this, the idea is to calculate $\\mu_0$ and $\\mu_1$, and then to use the IPW on the residuals of the regression instead of directly on the Y.\n",
    "\n",
    "$$\\tau_{\\text{AIPW}} = \\frac{1}{n} \\sum_{i=1}^{n} \\left( \\hat{\\mu}(1)(X_i) - \\hat{\\mu}(0)(X_i) + \\frac{T_i(Y_i - \\hat{\\mu}(1)(X_i))}{\\hat{e}(X_i)} - \\frac{(1 - T_i)(Y_i - \\hat{\\mu}(0)(X_i))}{1 - \\hat{e}(X_i)} \\right)$$\n"
   ]
  },
  {
   "cell_type": "code",
   "execution_count": 26,
   "id": "74dbf63c",
   "metadata": {},
   "outputs": [
    {
     "data": {
      "text/html": [
       "0.957675006921489"
      ],
      "text/latex": [
       "0.957675006921489"
      ],
      "text/markdown": [
       "0.957675006921489"
      ],
      "text/plain": [
       "[1] 0.957675"
      ]
     },
     "metadata": {},
     "output_type": "display_data"
    }
   ],
   "source": [
    "ATE_aipw <- 1/nrow(dt) * sum(predict(model_mu1, dt) - predict(model_mu0, dt) + \n",
    "                             dt$W * (dt$y - predict(model_mu1, dt)) / dt$e -\n",
    "                             (1-dt$W) * (dt$y - predict(model_mu0, dt)) / (1-dt$e))\n",
    "ATE_aipw"
   ]
  },
  {
   "cell_type": "markdown",
   "id": "523dda74",
   "metadata": {},
   "source": [
    "## Let's get some confirmation using the package PSweight"
   ]
  },
  {
   "cell_type": "code",
   "execution_count": 27,
   "id": "d0be4ece",
   "metadata": {},
   "outputs": [
    {
     "data": {
      "text/html": [
       "<strong>1:</strong> 0.612695765279518"
      ],
      "text/latex": [
       "\\textbf{1:} 0.612695765279518"
      ],
      "text/markdown": [
       "**1:** 0.612695765279518"
      ],
      "text/plain": [
       "        1 \n",
       "0.6126958 "
      ]
     },
     "metadata": {},
     "output_type": "display_data"
    },
    {
     "data": {
      "text/plain": [
       "Original group value:  0, 1 \n",
       "\n",
       "Point estimate: \n",
       "10.2716, 10.8843 "
      ]
     },
     "metadata": {},
     "output_type": "display_data"
    },
    {
     "data": {
      "text/plain": [
       "\n",
       "Closed-form inference: \n",
       "\n",
       "Original group value:  0, 1 \n",
       "\n",
       "Contrast: \n",
       "            0 1\n",
       "Contrast 1 -1 1\n",
       "\n",
       "           Estimate Std.Error      lwr    upr Pr(>|z|)  \n",
       "Contrast 1 0.612696  0.306027 0.012893 1.2125  0.04527 *\n",
       "---\n",
       "Signif. codes:  0 ‘***’ 0.001 ‘**’ 0.01 ‘*’ 0.05 ‘.’ 0.1 ‘ ’ 1"
      ]
     },
     "metadata": {},
     "output_type": "display_data"
    }
   ],
   "source": [
    "ipw <- PSweight(W ~ x1, data=dt, yname=\"y\", weight=\"IPW\")\n",
    "ipw$muhat[\"1\"] - ipw$muhat[\"0\"]\n",
    "ipw\n",
    "summary(ipw)"
   ]
  },
  {
   "cell_type": "code",
   "execution_count": 28,
   "id": "153d9681",
   "metadata": {},
   "outputs": [
    {
     "data": {
      "text/html": [
       "<strong>1:</strong> 0.956499270291012"
      ],
      "text/latex": [
       "\\textbf{1:} 0.956499270291012"
      ],
      "text/markdown": [
       "**1:** 0.956499270291012"
      ],
      "text/plain": [
       "        1 \n",
       "0.9564993 "
      ]
     },
     "metadata": {},
     "output_type": "display_data"
    },
    {
     "data": {
      "text/plain": [
       "Original group value:  0, 1 \n",
       "\n",
       "Point estimate: \n",
       "10.1628, 11.1193 "
      ]
     },
     "metadata": {},
     "output_type": "display_data"
    },
    {
     "data": {
      "text/plain": [
       "\n",
       "Closed-form inference: \n",
       "\n",
       "Original group value:  0, 1 \n",
       "\n",
       "Contrast: \n",
       "            0 1\n",
       "Contrast 1 -1 1\n",
       "\n",
       "           Estimate Std.Error      lwr    upr  Pr(>|z|)    \n",
       "Contrast 1 0.956499  0.054664 0.849361 1.0636 < 2.2e-16 ***\n",
       "---\n",
       "Signif. codes:  0 ‘***’ 0.001 ‘**’ 0.01 ‘*’ 0.05 ‘.’ 0.1 ‘ ’ 1"
      ]
     },
     "metadata": {},
     "output_type": "display_data"
    }
   ],
   "source": [
    "aug = PSweight(W ~ x1, data=dt, yname=\"y\", weight=\"IPW\", augmentation = TRUE, out.formula = y ~ x1)\n",
    "aug$muhat[\"1\"] - aug$muhat[\"0\"]\n",
    "aug\n",
    "summary(aug)"
   ]
  },
  {
   "cell_type": "markdown",
   "id": "13faebe6-5758-4b9a-ac42-6d691648a94f",
   "metadata": {},
   "source": [
    "# Variance considerations\n",
    "\n",
    "The derivation of the exact variance is complex and involves m-estimators. Asymptotic variances are easier, but can be off - it's not clear to me by how much. `PSweight` provides additinally a boostrap calculation of the variance, and maybe in the end that is the wisest, but the default of 50 iterations is in my experience way too small, and multiple runs show large differences.\n",
    "\n",
    "Still in `PSweight`, there is an explicit note that says that if the propensity is not obtained with a GLM model, the variance is calculated without the component linked to the estimation of the propensity score, that is as if the propensity scores were fixed.\n",
    "\n",
    "Let's play around with the estimation of the variance as provided by the `PSweight` package."
   ]
  },
  {
   "cell_type": "code",
   "execution_count": 29,
   "id": "7ee8f0a2-0c64-4cb4-a05a-8c41d56584d8",
   "metadata": {},
   "outputs": [],
   "source": [
    "set.seed(0)\n",
    "N <-1000\n",
    "vex <- data.table(x0=rep(1, N), x4=rbinom(N, 1, 0.5))\n",
    "vex[, x3 := rbinom(1, 1, 0.6*x4 + 0.4*(1 - x4)), by=1:N]\n",
    "vex[, c(\"x1\", \"x2\") := as.list(mvrnorm(1, \n",
    "                                       c(-x3 + x4 + 0.5*x3*x4, x3-x4+x3*x4),\n",
    "                                       x3 * matrix(c(1, 0.5, 0.5, 1), 2, 2) + (1-x3)*matrix(c(2, 0.25, 0.25, 2), 2, 2))), by=1:N]\n",
    "vex[, e_good := plogis(-1.5*x0 + 0.5*x1 -0.75*x2 + 2*x3 -0.5*x4)]  # good overlap\n",
    "vex[, e_poor := plogis(-1  *x0 + 0.4*x1 -1.5 *x2 + 2*x3 -1.5*x4)]  # poor overlap\n",
    "vex[, delta := 1]  # homogenous treatment effect\n",
    "vex[, Tgood := rbinom(1, 1, e_good), by=1:N]\n",
    "vex[, Tpoor := rbinom(1, 1, e_poor), by=1:N]\n",
    "vex[, Ygood := delta*Tgood + 0.5*x0 + 1*x1 + 0.6*x2 + 2.2*x3 -1.2*x4 + rnorm(N, 0, 1)]\n",
    "vex[, Ypoor := delta*Tpoor + 0.5*x0 + 1*x1 + 0.6*x2 + 2.2*x3 -1.2*x4 + rnorm(N, 0, 1)]"
   ]
  },
  {
   "cell_type": "code",
   "execution_count": 30,
   "id": "cafdc436-e0d0-4d64-9bdd-d91d12a27e27",
   "metadata": {
    "scrolled": true
   },
   "outputs": [
    {
     "data": {
      "text/html": [
       "<table class=\"dataframe\">\n",
       "<caption>A data.table: 1000 × 12</caption>\n",
       "<thead>\n",
       "\t<tr><th scope=col>x0</th><th scope=col>x4</th><th scope=col>x3</th><th scope=col>x1</th><th scope=col>x2</th><th scope=col>e_good</th><th scope=col>e_poor</th><th scope=col>delta</th><th scope=col>Tgood</th><th scope=col>Tpoor</th><th scope=col>Ygood</th><th scope=col>Ypoor</th></tr>\n",
       "\t<tr><th scope=col>&lt;dbl&gt;</th><th scope=col>&lt;int&gt;</th><th scope=col>&lt;int&gt;</th><th scope=col>&lt;dbl&gt;</th><th scope=col>&lt;dbl&gt;</th><th scope=col>&lt;dbl&gt;</th><th scope=col>&lt;dbl&gt;</th><th scope=col>&lt;dbl&gt;</th><th scope=col>&lt;int&gt;</th><th scope=col>&lt;int&gt;</th><th scope=col>&lt;dbl&gt;</th><th scope=col>&lt;dbl&gt;</th></tr>\n",
       "</thead>\n",
       "<tbody>\n",
       "\t<tr><td>1</td><td>1</td><td>1</td><td>-0.66897419</td><td> 1.6721327</td><td>0.16958284</td><td>0.03641118</td><td>1</td><td>0</td><td>0</td><td> 2.627108178</td><td> 2.22686349</td></tr>\n",
       "\t<tr><td>1</td><td>0</td><td>0</td><td> 1.13376766</td><td>-1.4663150</td><td>0.54155891</td><td>0.83929334</td><td>1</td><td>0</td><td>1</td><td>-0.383392731</td><td> 2.21222540</td></tr>\n",
       "\t<tr><td>1</td><td>0</td><td>1</td><td>-2.24098601</td><td>-0.3105049</td><td>0.40429174</td><td>0.63861618</td><td>1</td><td>1</td><td>1</td><td> 1.071202205</td><td> 0.05306562</td></tr>\n",
       "\t<tr><td>1</td><td>1</td><td>1</td><td> 0.58197920</td><td> 1.3323991</td><td>0.32997243</td><td>0.09399468</td><td>1</td><td>0</td><td>0</td><td> 1.859053745</td><td> 1.75932032</td></tr>\n",
       "\t<tr><td>1</td><td>1</td><td>0</td><td> 2.56735351</td><td>-3.1282814</td><td>0.83615427</td><td>0.96155649</td><td>1</td><td>1</td><td>1</td><td> 0.166585816</td><td> 1.98371497</td></tr>\n",
       "\t<tr><td>1</td><td>0</td><td>0</td><td>-1.34379483</td><td> 0.3894637</td><td>0.07842111</td><td>0.10700423</td><td>1</td><td>0</td><td>0</td><td>-0.368654539</td><td>-2.44336361</td></tr>\n",
       "\t<tr><td>1</td><td>1</td><td>1</td><td>-1.81612069</td><td>-0.7021871</td><td>0.40578446</td><td>0.45681597</td><td>1</td><td>0</td><td>1</td><td>-0.639761806</td><td> 0.38645215</td></tr>\n",
       "\t<tr><td>1</td><td>1</td><td>1</td><td>-0.66625218</td><td>-0.3853014</td><td>0.48896428</td><td>0.45300195</td><td>1</td><td>0</td><td>0</td><td>-0.701380144</td><td> 1.19312149</td></tr>\n",
       "\t<tr><td>1</td><td>1</td><td>1</td><td>-1.12570837</td><td> 0.1949200</td><td>0.32981007</td><td>0.22397272</td><td>1</td><td>0</td><td>1</td><td> 0.202034119</td><td> 2.29600698</td></tr>\n",
       "\t<tr><td>1</td><td>1</td><td>0</td><td>-0.02339682</td><td>-1.2339655</td><td>0.25232994</td><td>0.34109676</td><td>1</td><td>0</td><td>0</td><td>-0.872894212</td><td>-1.45623770</td></tr>\n",
       "\t<tr><td>1</td><td>0</td><td>1</td><td>-1.10135148</td><td>-0.2845526</td><td>0.54059513</td><td>0.72835418</td><td>1</td><td>0</td><td>1</td><td> 2.373578884</td><td> 0.61166416</td></tr>\n",
       "\t<tr><td>1</td><td>0</td><td>1</td><td>-1.72934341</td><td>-0.8852865</td><td>0.57426972</td><td>0.83701617</td><td>1</td><td>0</td><td>1</td><td>-0.837617327</td><td> 1.03461670</td></tr>\n",
       "\t<tr><td>1</td><td>0</td><td>0</td><td>-1.67235159</td><td> 0.9195902</td><td>0.04627081</td><td>0.04528980</td><td>1</td><td>0</td><td>0</td><td>-0.816023083</td><td> 0.11655251</td></tr>\n",
       "\t<tr><td>1</td><td>1</td><td>1</td><td> 1.31258745</td><td> 1.1740924</td><td>0.44416496</td><td>0.14980853</td><td>1</td><td>1</td><td>0</td><td> 4.719181441</td><td> 4.00288844</td></tr>\n",
       "\t<tr><td>1</td><td>0</td><td>1</td><td>-0.29193605</td><td> 0.7072895</td><td>0.45600528</td><td>0.45568937</td><td>1</td><td>0</td><td>1</td><td> 3.176030232</td><td> 4.66175077</td></tr>\n",
       "\t<tr><td>1</td><td>1</td><td>1</td><td>-0.11171895</td><td> 0.5460112</td><td>0.38571318</td><td>0.20363889</td><td>1</td><td>0</td><td>0</td><td> 2.908469388</td><td> 1.54576597</td></tr>\n",
       "\t<tr><td>1</td><td>0</td><td>1</td><td> 1.20973111</td><td> 3.4391986</td><td>0.18625454</td><td>0.02472498</td><td>1</td><td>1</td><td>0</td><td> 5.332459561</td><td> 7.35917172</td></tr>\n",
       "\t<tr><td>1</td><td>1</td><td>0</td><td> 3.26013937</td><td>-3.0474671</td><td>0.87165481</td><td>0.96692222</td><td>1</td><td>0</td><td>1</td><td> 1.890351410</td><td> 2.61967813</td></tr>\n",
       "\t<tr><td>1</td><td>1</td><td>1</td><td> 0.89417000</td><td> 2.6425396</td><td>0.17728960</td><td>0.01620430</td><td>1</td><td>1</td><td>0</td><td> 3.688519856</td><td> 4.16162707</td></tr>\n",
       "\t<tr><td>1</td><td>0</td><td>0</td><td>-1.71922770</td><td>-1.7241969</td><td>0.25607570</td><td>0.71066259</td><td>1</td><td>1</td><td>1</td><td> 0.837396731</td><td>-1.83812781</td></tr>\n",
       "\t<tr><td>1</td><td>1</td><td>1</td><td>-0.28451876</td><td> 0.3343345</td><td>0.40299286</td><td>0.24688241</td><td>1</td><td>1</td><td>1</td><td> 0.662225594</td><td> 4.15965945</td></tr>\n",
       "\t<tr><td>1</td><td>1</td><td>1</td><td>-0.44655741</td><td> 1.0787873</td><td>0.26262504</td><td>0.09138800</td><td>1</td><td>0</td><td>0</td><td> 1.729543316</td><td> 0.30816038</td></tr>\n",
       "\t<tr><td>1</td><td>0</td><td>1</td><td>-0.85416188</td><td> 1.2314168</td><td>0.29929788</td><td>0.23347543</td><td>1</td><td>0</td><td>0</td><td> 2.262995780</td><td> 3.81624433</td></tr>\n",
       "\t<tr><td>1</td><td>1</td><td>1</td><td> 1.74464614</td><td> 0.4269895</td><td>0.63461825</td><td>0.39111547</td><td>1</td><td>0</td><td>1</td><td> 4.702755161</td><td> 5.07922685</td></tr>\n",
       "\t<tr><td>1</td><td>0</td><td>1</td><td>-2.70049353</td><td> 0.6661130</td><td>0.20589792</td><td>0.25362585</td><td>1</td><td>0</td><td>0</td><td> 0.110741404</td><td> 0.53795037</td></tr>\n",
       "\t<tr><td>1</td><td>0</td><td>0</td><td>-0.17869780</td><td> 0.5829973</td><td>0.11643858</td><td>0.12499289</td><td>1</td><td>0</td><td>0</td><td> 0.002000402</td><td> 1.76882597</td></tr>\n",
       "\t<tr><td>1</td><td>0</td><td>1</td><td>-3.30338927</td><td> 0.8688549</td><td>0.14144548</td><td>0.16456622</td><td>1</td><td>0</td><td>0</td><td> 0.294882992</td><td>-0.65518816</td></tr>\n",
       "\t<tr><td>1</td><td>0</td><td>0</td><td>-1.02771334</td><td>-0.1168297</td><td>0.12716796</td><td>0.22516079</td><td>1</td><td>1</td><td>0</td><td> 1.588444305</td><td> 0.12108186</td></tr>\n",
       "\t<tr><td>1</td><td>0</td><td>0</td><td>-1.14107735</td><td> 0.5862842</td><td>0.07514261</td><td>0.08819650</td><td>1</td><td>0</td><td>0</td><td>-0.670250245</td><td>-1.25351086</td></tr>\n",
       "\t<tr><td>1</td><td>1</td><td>1</td><td>-0.78078667</td><td> 0.7030409</td><td>0.28543207</td><td>0.13390361</td><td>1</td><td>0</td><td>1</td><td> 0.168078373</td><td>-0.38374772</td></tr>\n",
       "\t<tr><td>⋮</td><td>⋮</td><td>⋮</td><td>⋮</td><td>⋮</td><td>⋮</td><td>⋮</td><td>⋮</td><td>⋮</td><td>⋮</td><td>⋮</td><td>⋮</td></tr>\n",
       "\t<tr><td>1</td><td>1</td><td>0</td><td> 1.46913306</td><td>-0.89187709</td><td>0.35513897</td><td>0.360191948</td><td>1</td><td>1</td><td>1</td><td> 0.5256127</td><td> 0.85505892</td></tr>\n",
       "\t<tr><td>1</td><td>1</td><td>1</td><td>-0.56105926</td><td> 0.51802463</td><td>0.33871002</td><td>0.182207774</td><td>1</td><td>0</td><td>0</td><td> 1.7713154</td><td> 1.58035557</td></tr>\n",
       "\t<tr><td>1</td><td>1</td><td>0</td><td> 1.46439044</td><td>-1.14542965</td><td>0.39921607</td><td>0.451131665</td><td>1</td><td>0</td><td>0</td><td>-0.7319184</td><td>-0.59101785</td></tr>\n",
       "\t<tr><td>1</td><td>0</td><td>0</td><td> 2.01093085</td><td>-2.14863500</td><td>0.75342099</td><td>0.953793417</td><td>1</td><td>1</td><td>1</td><td> 1.4765310</td><td> 1.43242132</td></tr>\n",
       "\t<tr><td>1</td><td>1</td><td>1</td><td> 0.97632145</td><td> 0.59226285</td><td>0.51098913</td><td>0.269361259</td><td>1</td><td>1</td><td>0</td><td> 2.5617890</td><td> 2.50544461</td></tr>\n",
       "\t<tr><td>1</td><td>0</td><td>0</td><td> 1.45099109</td><td> 0.61538043</td><td>0.22512607</td><td>0.207070629</td><td>1</td><td>0</td><td>0</td><td> 1.1286238</td><td> 3.31642316</td></tr>\n",
       "\t<tr><td>1</td><td>0</td><td>0</td><td>-0.03765067</td><td>-1.65159944</td><td>0.43042295</td><td>0.811890142</td><td>1</td><td>0</td><td>1</td><td>-0.4893750</td><td>-0.16345407</td></tr>\n",
       "\t<tr><td>1</td><td>0</td><td>1</td><td>-2.10637062</td><td> 0.86900103</td><td>0.23059828</td><td>0.241211344</td><td>1</td><td>1</td><td>0</td><td> 3.2013501</td><td> 0.14654204</td></tr>\n",
       "\t<tr><td>1</td><td>1</td><td>1</td><td> 0.74135386</td><td> 0.62179559</td><td>0.47610078</td><td>0.243027587</td><td>1</td><td>1</td><td>0</td><td> 3.7908220</td><td> 3.94161854</td></tr>\n",
       "\t<tr><td>1</td><td>1</td><td>0</td><td> 2.32001439</td><td> 0.46330605</td><td>0.23371131</td><td>0.093897104</td><td>1</td><td>1</td><td>0</td><td> 2.3002853</td><td> 1.54626258</td></tr>\n",
       "\t<tr><td>1</td><td>1</td><td>0</td><td> 0.32100655</td><td> 0.18759697</td><td>0.12129811</td><td>0.065804787</td><td>1</td><td>1</td><td>0</td><td> 2.3483981</td><td>-0.54338277</td></tr>\n",
       "\t<tr><td>1</td><td>0</td><td>0</td><td>-1.56700074</td><td>-0.84727945</td><td>0.16137392</td><td>0.411956993</td><td>1</td><td>1</td><td>1</td><td>-1.5133742</td><td>-1.92088345</td></tr>\n",
       "\t<tr><td>1</td><td>0</td><td>1</td><td>-0.81678718</td><td> 1.67823978</td><td>0.23738438</td><td>0.136570116</td><td>1</td><td>1</td><td>0</td><td> 3.9094440</td><td> 3.13195334</td></tr>\n",
       "\t<tr><td>1</td><td>1</td><td>1</td><td> 2.55481773</td><td> 1.06770726</td><td>0.61695141</td><td>0.253575323</td><td>1</td><td>0</td><td>0</td><td> 4.8515769</td><td> 1.98201989</td></tr>\n",
       "\t<tr><td>1</td><td>0</td><td>0</td><td> 1.16702234</td><td> 0.52360378</td><td>0.21262214</td><td>0.211051855</td><td>1</td><td>1</td><td>0</td><td> 3.8811041</td><td> 2.13079537</td></tr>\n",
       "\t<tr><td>1</td><td>0</td><td>1</td><td>-1.74585134</td><td> 0.18752430</td><td>0.37435727</td><td>0.505093078</td><td>1</td><td>0</td><td>1</td><td> 1.2205534</td><td> 2.96922516</td></tr>\n",
       "\t<tr><td>1</td><td>0</td><td>0</td><td>-0.35607375</td><td>-0.27440284</td><td>0.18660318</td><td>0.325013661</td><td>1</td><td>0</td><td>0</td><td>-1.2704888</td><td> 0.16778748</td></tr>\n",
       "\t<tr><td>1</td><td>1</td><td>0</td><td> 0.42556406</td><td> 0.12030372</td><td>0.13268253</td><td>0.075144127</td><td>1</td><td>0</td><td>0</td><td>-1.1638391</td><td>-0.24180978</td></tr>\n",
       "\t<tr><td>1</td><td>0</td><td>0</td><td> 0.08779463</td><td>-0.34147999</td><td>0.23147652</td><td>0.388727999</td><td>1</td><td>0</td><td>0</td><td>-0.5798500</td><td> 1.37495017</td></tr>\n",
       "\t<tr><td>1</td><td>1</td><td>1</td><td>-1.91100917</td><td>-0.24017598</td><td>0.31531805</td><td>0.288200532</td><td>1</td><td>1</td><td>1</td><td>-0.7706500</td><td> 1.52783610</td></tr>\n",
       "\t<tr><td>1</td><td>1</td><td>0</td><td> 0.47132949</td><td>-2.02919841</td><td>0.43968601</td><td>0.675316236</td><td>1</td><td>0</td><td>0</td><td>-0.9396360</td><td>-0.77721282</td></tr>\n",
       "\t<tr><td>1</td><td>0</td><td>0</td><td>-0.14191085</td><td>-1.42495822</td><td>0.37701517</td><td>0.746621319</td><td>1</td><td>1</td><td>1</td><td> 2.2334383</td><td> 0.23815276</td></tr>\n",
       "\t<tr><td>1</td><td>0</td><td>0</td><td>-1.15386611</td><td> 3.07599012</td><td>0.01232255</td><td>0.002293153</td><td>1</td><td>0</td><td>0</td><td> 1.3830613</td><td> 0.04307185</td></tr>\n",
       "\t<tr><td>1</td><td>1</td><td>1</td><td> 0.89208724</td><td> 2.74643664</td><td>0.16606394</td><td>0.013886969</td><td>1</td><td>1</td><td>0</td><td> 2.6989284</td><td> 4.86829171</td></tr>\n",
       "\t<tr><td>1</td><td>0</td><td>1</td><td>-1.00927730</td><td> 1.15424349</td><td>0.29518746</td><td>0.243225532</td><td>1</td><td>0</td><td>0</td><td> 1.7868608</td><td> 1.77463856</td></tr>\n",
       "\t<tr><td>1</td><td>0</td><td>0</td><td>-0.32423663</td><td> 1.06915466</td><td>0.07842190</td><td>0.061029504</td><td>1</td><td>0</td><td>0</td><td> 2.6806231</td><td> 2.55449475</td></tr>\n",
       "\t<tr><td>1</td><td>1</td><td>0</td><td> 0.66137596</td><td>-1.66125222</td><td>0.39570994</td><td>0.563758190</td><td>1</td><td>1</td><td>1</td><td> 2.1269878</td><td>-2.16232291</td></tr>\n",
       "\t<tr><td>1</td><td>1</td><td>1</td><td> 1.16973981</td><td> 0.07924875</td><td>0.62841738</td><td>0.462327232</td><td>1</td><td>1</td><td>0</td><td> 4.8932454</td><td> 3.81575143</td></tr>\n",
       "\t<tr><td>1</td><td>0</td><td>0</td><td>-0.29701030</td><td> 1.85590405</td><td>0.04563230</td><td>0.019788640</td><td>1</td><td>0</td><td>0</td><td> 1.9356092</td><td> 0.23754332</td></tr>\n",
       "\t<tr><td>1</td><td>0</td><td>0</td><td>-0.08747134</td><td>-1.69877579</td><td>0.43299208</td><td>0.819531287</td><td>1</td><td>1</td><td>1</td><td> 0.4017264</td><td> 0.43913703</td></tr>\n",
       "</tbody>\n",
       "</table>\n"
      ],
      "text/latex": [
       "A data.table: 1000 × 12\n",
       "\\begin{tabular}{llllllllllll}\n",
       " x0 & x4 & x3 & x1 & x2 & e\\_good & e\\_poor & delta & Tgood & Tpoor & Ygood & Ypoor\\\\\n",
       " <dbl> & <int> & <int> & <dbl> & <dbl> & <dbl> & <dbl> & <dbl> & <int> & <int> & <dbl> & <dbl>\\\\\n",
       "\\hline\n",
       "\t 1 & 1 & 1 & -0.66897419 &  1.6721327 & 0.16958284 & 0.03641118 & 1 & 0 & 0 &  2.627108178 &  2.22686349\\\\\n",
       "\t 1 & 0 & 0 &  1.13376766 & -1.4663150 & 0.54155891 & 0.83929334 & 1 & 0 & 1 & -0.383392731 &  2.21222540\\\\\n",
       "\t 1 & 0 & 1 & -2.24098601 & -0.3105049 & 0.40429174 & 0.63861618 & 1 & 1 & 1 &  1.071202205 &  0.05306562\\\\\n",
       "\t 1 & 1 & 1 &  0.58197920 &  1.3323991 & 0.32997243 & 0.09399468 & 1 & 0 & 0 &  1.859053745 &  1.75932032\\\\\n",
       "\t 1 & 1 & 0 &  2.56735351 & -3.1282814 & 0.83615427 & 0.96155649 & 1 & 1 & 1 &  0.166585816 &  1.98371497\\\\\n",
       "\t 1 & 0 & 0 & -1.34379483 &  0.3894637 & 0.07842111 & 0.10700423 & 1 & 0 & 0 & -0.368654539 & -2.44336361\\\\\n",
       "\t 1 & 1 & 1 & -1.81612069 & -0.7021871 & 0.40578446 & 0.45681597 & 1 & 0 & 1 & -0.639761806 &  0.38645215\\\\\n",
       "\t 1 & 1 & 1 & -0.66625218 & -0.3853014 & 0.48896428 & 0.45300195 & 1 & 0 & 0 & -0.701380144 &  1.19312149\\\\\n",
       "\t 1 & 1 & 1 & -1.12570837 &  0.1949200 & 0.32981007 & 0.22397272 & 1 & 0 & 1 &  0.202034119 &  2.29600698\\\\\n",
       "\t 1 & 1 & 0 & -0.02339682 & -1.2339655 & 0.25232994 & 0.34109676 & 1 & 0 & 0 & -0.872894212 & -1.45623770\\\\\n",
       "\t 1 & 0 & 1 & -1.10135148 & -0.2845526 & 0.54059513 & 0.72835418 & 1 & 0 & 1 &  2.373578884 &  0.61166416\\\\\n",
       "\t 1 & 0 & 1 & -1.72934341 & -0.8852865 & 0.57426972 & 0.83701617 & 1 & 0 & 1 & -0.837617327 &  1.03461670\\\\\n",
       "\t 1 & 0 & 0 & -1.67235159 &  0.9195902 & 0.04627081 & 0.04528980 & 1 & 0 & 0 & -0.816023083 &  0.11655251\\\\\n",
       "\t 1 & 1 & 1 &  1.31258745 &  1.1740924 & 0.44416496 & 0.14980853 & 1 & 1 & 0 &  4.719181441 &  4.00288844\\\\\n",
       "\t 1 & 0 & 1 & -0.29193605 &  0.7072895 & 0.45600528 & 0.45568937 & 1 & 0 & 1 &  3.176030232 &  4.66175077\\\\\n",
       "\t 1 & 1 & 1 & -0.11171895 &  0.5460112 & 0.38571318 & 0.20363889 & 1 & 0 & 0 &  2.908469388 &  1.54576597\\\\\n",
       "\t 1 & 0 & 1 &  1.20973111 &  3.4391986 & 0.18625454 & 0.02472498 & 1 & 1 & 0 &  5.332459561 &  7.35917172\\\\\n",
       "\t 1 & 1 & 0 &  3.26013937 & -3.0474671 & 0.87165481 & 0.96692222 & 1 & 0 & 1 &  1.890351410 &  2.61967813\\\\\n",
       "\t 1 & 1 & 1 &  0.89417000 &  2.6425396 & 0.17728960 & 0.01620430 & 1 & 1 & 0 &  3.688519856 &  4.16162707\\\\\n",
       "\t 1 & 0 & 0 & -1.71922770 & -1.7241969 & 0.25607570 & 0.71066259 & 1 & 1 & 1 &  0.837396731 & -1.83812781\\\\\n",
       "\t 1 & 1 & 1 & -0.28451876 &  0.3343345 & 0.40299286 & 0.24688241 & 1 & 1 & 1 &  0.662225594 &  4.15965945\\\\\n",
       "\t 1 & 1 & 1 & -0.44655741 &  1.0787873 & 0.26262504 & 0.09138800 & 1 & 0 & 0 &  1.729543316 &  0.30816038\\\\\n",
       "\t 1 & 0 & 1 & -0.85416188 &  1.2314168 & 0.29929788 & 0.23347543 & 1 & 0 & 0 &  2.262995780 &  3.81624433\\\\\n",
       "\t 1 & 1 & 1 &  1.74464614 &  0.4269895 & 0.63461825 & 0.39111547 & 1 & 0 & 1 &  4.702755161 &  5.07922685\\\\\n",
       "\t 1 & 0 & 1 & -2.70049353 &  0.6661130 & 0.20589792 & 0.25362585 & 1 & 0 & 0 &  0.110741404 &  0.53795037\\\\\n",
       "\t 1 & 0 & 0 & -0.17869780 &  0.5829973 & 0.11643858 & 0.12499289 & 1 & 0 & 0 &  0.002000402 &  1.76882597\\\\\n",
       "\t 1 & 0 & 1 & -3.30338927 &  0.8688549 & 0.14144548 & 0.16456622 & 1 & 0 & 0 &  0.294882992 & -0.65518816\\\\\n",
       "\t 1 & 0 & 0 & -1.02771334 & -0.1168297 & 0.12716796 & 0.22516079 & 1 & 1 & 0 &  1.588444305 &  0.12108186\\\\\n",
       "\t 1 & 0 & 0 & -1.14107735 &  0.5862842 & 0.07514261 & 0.08819650 & 1 & 0 & 0 & -0.670250245 & -1.25351086\\\\\n",
       "\t 1 & 1 & 1 & -0.78078667 &  0.7030409 & 0.28543207 & 0.13390361 & 1 & 0 & 1 &  0.168078373 & -0.38374772\\\\\n",
       "\t ⋮ & ⋮ & ⋮ & ⋮ & ⋮ & ⋮ & ⋮ & ⋮ & ⋮ & ⋮ & ⋮ & ⋮\\\\\n",
       "\t 1 & 1 & 0 &  1.46913306 & -0.89187709 & 0.35513897 & 0.360191948 & 1 & 1 & 1 &  0.5256127 &  0.85505892\\\\\n",
       "\t 1 & 1 & 1 & -0.56105926 &  0.51802463 & 0.33871002 & 0.182207774 & 1 & 0 & 0 &  1.7713154 &  1.58035557\\\\\n",
       "\t 1 & 1 & 0 &  1.46439044 & -1.14542965 & 0.39921607 & 0.451131665 & 1 & 0 & 0 & -0.7319184 & -0.59101785\\\\\n",
       "\t 1 & 0 & 0 &  2.01093085 & -2.14863500 & 0.75342099 & 0.953793417 & 1 & 1 & 1 &  1.4765310 &  1.43242132\\\\\n",
       "\t 1 & 1 & 1 &  0.97632145 &  0.59226285 & 0.51098913 & 0.269361259 & 1 & 1 & 0 &  2.5617890 &  2.50544461\\\\\n",
       "\t 1 & 0 & 0 &  1.45099109 &  0.61538043 & 0.22512607 & 0.207070629 & 1 & 0 & 0 &  1.1286238 &  3.31642316\\\\\n",
       "\t 1 & 0 & 0 & -0.03765067 & -1.65159944 & 0.43042295 & 0.811890142 & 1 & 0 & 1 & -0.4893750 & -0.16345407\\\\\n",
       "\t 1 & 0 & 1 & -2.10637062 &  0.86900103 & 0.23059828 & 0.241211344 & 1 & 1 & 0 &  3.2013501 &  0.14654204\\\\\n",
       "\t 1 & 1 & 1 &  0.74135386 &  0.62179559 & 0.47610078 & 0.243027587 & 1 & 1 & 0 &  3.7908220 &  3.94161854\\\\\n",
       "\t 1 & 1 & 0 &  2.32001439 &  0.46330605 & 0.23371131 & 0.093897104 & 1 & 1 & 0 &  2.3002853 &  1.54626258\\\\\n",
       "\t 1 & 1 & 0 &  0.32100655 &  0.18759697 & 0.12129811 & 0.065804787 & 1 & 1 & 0 &  2.3483981 & -0.54338277\\\\\n",
       "\t 1 & 0 & 0 & -1.56700074 & -0.84727945 & 0.16137392 & 0.411956993 & 1 & 1 & 1 & -1.5133742 & -1.92088345\\\\\n",
       "\t 1 & 0 & 1 & -0.81678718 &  1.67823978 & 0.23738438 & 0.136570116 & 1 & 1 & 0 &  3.9094440 &  3.13195334\\\\\n",
       "\t 1 & 1 & 1 &  2.55481773 &  1.06770726 & 0.61695141 & 0.253575323 & 1 & 0 & 0 &  4.8515769 &  1.98201989\\\\\n",
       "\t 1 & 0 & 0 &  1.16702234 &  0.52360378 & 0.21262214 & 0.211051855 & 1 & 1 & 0 &  3.8811041 &  2.13079537\\\\\n",
       "\t 1 & 0 & 1 & -1.74585134 &  0.18752430 & 0.37435727 & 0.505093078 & 1 & 0 & 1 &  1.2205534 &  2.96922516\\\\\n",
       "\t 1 & 0 & 0 & -0.35607375 & -0.27440284 & 0.18660318 & 0.325013661 & 1 & 0 & 0 & -1.2704888 &  0.16778748\\\\\n",
       "\t 1 & 1 & 0 &  0.42556406 &  0.12030372 & 0.13268253 & 0.075144127 & 1 & 0 & 0 & -1.1638391 & -0.24180978\\\\\n",
       "\t 1 & 0 & 0 &  0.08779463 & -0.34147999 & 0.23147652 & 0.388727999 & 1 & 0 & 0 & -0.5798500 &  1.37495017\\\\\n",
       "\t 1 & 1 & 1 & -1.91100917 & -0.24017598 & 0.31531805 & 0.288200532 & 1 & 1 & 1 & -0.7706500 &  1.52783610\\\\\n",
       "\t 1 & 1 & 0 &  0.47132949 & -2.02919841 & 0.43968601 & 0.675316236 & 1 & 0 & 0 & -0.9396360 & -0.77721282\\\\\n",
       "\t 1 & 0 & 0 & -0.14191085 & -1.42495822 & 0.37701517 & 0.746621319 & 1 & 1 & 1 &  2.2334383 &  0.23815276\\\\\n",
       "\t 1 & 0 & 0 & -1.15386611 &  3.07599012 & 0.01232255 & 0.002293153 & 1 & 0 & 0 &  1.3830613 &  0.04307185\\\\\n",
       "\t 1 & 1 & 1 &  0.89208724 &  2.74643664 & 0.16606394 & 0.013886969 & 1 & 1 & 0 &  2.6989284 &  4.86829171\\\\\n",
       "\t 1 & 0 & 1 & -1.00927730 &  1.15424349 & 0.29518746 & 0.243225532 & 1 & 0 & 0 &  1.7868608 &  1.77463856\\\\\n",
       "\t 1 & 0 & 0 & -0.32423663 &  1.06915466 & 0.07842190 & 0.061029504 & 1 & 0 & 0 &  2.6806231 &  2.55449475\\\\\n",
       "\t 1 & 1 & 0 &  0.66137596 & -1.66125222 & 0.39570994 & 0.563758190 & 1 & 1 & 1 &  2.1269878 & -2.16232291\\\\\n",
       "\t 1 & 1 & 1 &  1.16973981 &  0.07924875 & 0.62841738 & 0.462327232 & 1 & 1 & 0 &  4.8932454 &  3.81575143\\\\\n",
       "\t 1 & 0 & 0 & -0.29701030 &  1.85590405 & 0.04563230 & 0.019788640 & 1 & 0 & 0 &  1.9356092 &  0.23754332\\\\\n",
       "\t 1 & 0 & 0 & -0.08747134 & -1.69877579 & 0.43299208 & 0.819531287 & 1 & 1 & 1 &  0.4017264 &  0.43913703\\\\\n",
       "\\end{tabular}\n"
      ],
      "text/markdown": [
       "\n",
       "A data.table: 1000 × 12\n",
       "\n",
       "| x0 &lt;dbl&gt; | x4 &lt;int&gt; | x3 &lt;int&gt; | x1 &lt;dbl&gt; | x2 &lt;dbl&gt; | e_good &lt;dbl&gt; | e_poor &lt;dbl&gt; | delta &lt;dbl&gt; | Tgood &lt;int&gt; | Tpoor &lt;int&gt; | Ygood &lt;dbl&gt; | Ypoor &lt;dbl&gt; |\n",
       "|---|---|---|---|---|---|---|---|---|---|---|---|\n",
       "| 1 | 1 | 1 | -0.66897419 |  1.6721327 | 0.16958284 | 0.03641118 | 1 | 0 | 0 |  2.627108178 |  2.22686349 |\n",
       "| 1 | 0 | 0 |  1.13376766 | -1.4663150 | 0.54155891 | 0.83929334 | 1 | 0 | 1 | -0.383392731 |  2.21222540 |\n",
       "| 1 | 0 | 1 | -2.24098601 | -0.3105049 | 0.40429174 | 0.63861618 | 1 | 1 | 1 |  1.071202205 |  0.05306562 |\n",
       "| 1 | 1 | 1 |  0.58197920 |  1.3323991 | 0.32997243 | 0.09399468 | 1 | 0 | 0 |  1.859053745 |  1.75932032 |\n",
       "| 1 | 1 | 0 |  2.56735351 | -3.1282814 | 0.83615427 | 0.96155649 | 1 | 1 | 1 |  0.166585816 |  1.98371497 |\n",
       "| 1 | 0 | 0 | -1.34379483 |  0.3894637 | 0.07842111 | 0.10700423 | 1 | 0 | 0 | -0.368654539 | -2.44336361 |\n",
       "| 1 | 1 | 1 | -1.81612069 | -0.7021871 | 0.40578446 | 0.45681597 | 1 | 0 | 1 | -0.639761806 |  0.38645215 |\n",
       "| 1 | 1 | 1 | -0.66625218 | -0.3853014 | 0.48896428 | 0.45300195 | 1 | 0 | 0 | -0.701380144 |  1.19312149 |\n",
       "| 1 | 1 | 1 | -1.12570837 |  0.1949200 | 0.32981007 | 0.22397272 | 1 | 0 | 1 |  0.202034119 |  2.29600698 |\n",
       "| 1 | 1 | 0 | -0.02339682 | -1.2339655 | 0.25232994 | 0.34109676 | 1 | 0 | 0 | -0.872894212 | -1.45623770 |\n",
       "| 1 | 0 | 1 | -1.10135148 | -0.2845526 | 0.54059513 | 0.72835418 | 1 | 0 | 1 |  2.373578884 |  0.61166416 |\n",
       "| 1 | 0 | 1 | -1.72934341 | -0.8852865 | 0.57426972 | 0.83701617 | 1 | 0 | 1 | -0.837617327 |  1.03461670 |\n",
       "| 1 | 0 | 0 | -1.67235159 |  0.9195902 | 0.04627081 | 0.04528980 | 1 | 0 | 0 | -0.816023083 |  0.11655251 |\n",
       "| 1 | 1 | 1 |  1.31258745 |  1.1740924 | 0.44416496 | 0.14980853 | 1 | 1 | 0 |  4.719181441 |  4.00288844 |\n",
       "| 1 | 0 | 1 | -0.29193605 |  0.7072895 | 0.45600528 | 0.45568937 | 1 | 0 | 1 |  3.176030232 |  4.66175077 |\n",
       "| 1 | 1 | 1 | -0.11171895 |  0.5460112 | 0.38571318 | 0.20363889 | 1 | 0 | 0 |  2.908469388 |  1.54576597 |\n",
       "| 1 | 0 | 1 |  1.20973111 |  3.4391986 | 0.18625454 | 0.02472498 | 1 | 1 | 0 |  5.332459561 |  7.35917172 |\n",
       "| 1 | 1 | 0 |  3.26013937 | -3.0474671 | 0.87165481 | 0.96692222 | 1 | 0 | 1 |  1.890351410 |  2.61967813 |\n",
       "| 1 | 1 | 1 |  0.89417000 |  2.6425396 | 0.17728960 | 0.01620430 | 1 | 1 | 0 |  3.688519856 |  4.16162707 |\n",
       "| 1 | 0 | 0 | -1.71922770 | -1.7241969 | 0.25607570 | 0.71066259 | 1 | 1 | 1 |  0.837396731 | -1.83812781 |\n",
       "| 1 | 1 | 1 | -0.28451876 |  0.3343345 | 0.40299286 | 0.24688241 | 1 | 1 | 1 |  0.662225594 |  4.15965945 |\n",
       "| 1 | 1 | 1 | -0.44655741 |  1.0787873 | 0.26262504 | 0.09138800 | 1 | 0 | 0 |  1.729543316 |  0.30816038 |\n",
       "| 1 | 0 | 1 | -0.85416188 |  1.2314168 | 0.29929788 | 0.23347543 | 1 | 0 | 0 |  2.262995780 |  3.81624433 |\n",
       "| 1 | 1 | 1 |  1.74464614 |  0.4269895 | 0.63461825 | 0.39111547 | 1 | 0 | 1 |  4.702755161 |  5.07922685 |\n",
       "| 1 | 0 | 1 | -2.70049353 |  0.6661130 | 0.20589792 | 0.25362585 | 1 | 0 | 0 |  0.110741404 |  0.53795037 |\n",
       "| 1 | 0 | 0 | -0.17869780 |  0.5829973 | 0.11643858 | 0.12499289 | 1 | 0 | 0 |  0.002000402 |  1.76882597 |\n",
       "| 1 | 0 | 1 | -3.30338927 |  0.8688549 | 0.14144548 | 0.16456622 | 1 | 0 | 0 |  0.294882992 | -0.65518816 |\n",
       "| 1 | 0 | 0 | -1.02771334 | -0.1168297 | 0.12716796 | 0.22516079 | 1 | 1 | 0 |  1.588444305 |  0.12108186 |\n",
       "| 1 | 0 | 0 | -1.14107735 |  0.5862842 | 0.07514261 | 0.08819650 | 1 | 0 | 0 | -0.670250245 | -1.25351086 |\n",
       "| 1 | 1 | 1 | -0.78078667 |  0.7030409 | 0.28543207 | 0.13390361 | 1 | 0 | 1 |  0.168078373 | -0.38374772 |\n",
       "| ⋮ | ⋮ | ⋮ | ⋮ | ⋮ | ⋮ | ⋮ | ⋮ | ⋮ | ⋮ | ⋮ | ⋮ |\n",
       "| 1 | 1 | 0 |  1.46913306 | -0.89187709 | 0.35513897 | 0.360191948 | 1 | 1 | 1 |  0.5256127 |  0.85505892 |\n",
       "| 1 | 1 | 1 | -0.56105926 |  0.51802463 | 0.33871002 | 0.182207774 | 1 | 0 | 0 |  1.7713154 |  1.58035557 |\n",
       "| 1 | 1 | 0 |  1.46439044 | -1.14542965 | 0.39921607 | 0.451131665 | 1 | 0 | 0 | -0.7319184 | -0.59101785 |\n",
       "| 1 | 0 | 0 |  2.01093085 | -2.14863500 | 0.75342099 | 0.953793417 | 1 | 1 | 1 |  1.4765310 |  1.43242132 |\n",
       "| 1 | 1 | 1 |  0.97632145 |  0.59226285 | 0.51098913 | 0.269361259 | 1 | 1 | 0 |  2.5617890 |  2.50544461 |\n",
       "| 1 | 0 | 0 |  1.45099109 |  0.61538043 | 0.22512607 | 0.207070629 | 1 | 0 | 0 |  1.1286238 |  3.31642316 |\n",
       "| 1 | 0 | 0 | -0.03765067 | -1.65159944 | 0.43042295 | 0.811890142 | 1 | 0 | 1 | -0.4893750 | -0.16345407 |\n",
       "| 1 | 0 | 1 | -2.10637062 |  0.86900103 | 0.23059828 | 0.241211344 | 1 | 1 | 0 |  3.2013501 |  0.14654204 |\n",
       "| 1 | 1 | 1 |  0.74135386 |  0.62179559 | 0.47610078 | 0.243027587 | 1 | 1 | 0 |  3.7908220 |  3.94161854 |\n",
       "| 1 | 1 | 0 |  2.32001439 |  0.46330605 | 0.23371131 | 0.093897104 | 1 | 1 | 0 |  2.3002853 |  1.54626258 |\n",
       "| 1 | 1 | 0 |  0.32100655 |  0.18759697 | 0.12129811 | 0.065804787 | 1 | 1 | 0 |  2.3483981 | -0.54338277 |\n",
       "| 1 | 0 | 0 | -1.56700074 | -0.84727945 | 0.16137392 | 0.411956993 | 1 | 1 | 1 | -1.5133742 | -1.92088345 |\n",
       "| 1 | 0 | 1 | -0.81678718 |  1.67823978 | 0.23738438 | 0.136570116 | 1 | 1 | 0 |  3.9094440 |  3.13195334 |\n",
       "| 1 | 1 | 1 |  2.55481773 |  1.06770726 | 0.61695141 | 0.253575323 | 1 | 0 | 0 |  4.8515769 |  1.98201989 |\n",
       "| 1 | 0 | 0 |  1.16702234 |  0.52360378 | 0.21262214 | 0.211051855 | 1 | 1 | 0 |  3.8811041 |  2.13079537 |\n",
       "| 1 | 0 | 1 | -1.74585134 |  0.18752430 | 0.37435727 | 0.505093078 | 1 | 0 | 1 |  1.2205534 |  2.96922516 |\n",
       "| 1 | 0 | 0 | -0.35607375 | -0.27440284 | 0.18660318 | 0.325013661 | 1 | 0 | 0 | -1.2704888 |  0.16778748 |\n",
       "| 1 | 1 | 0 |  0.42556406 |  0.12030372 | 0.13268253 | 0.075144127 | 1 | 0 | 0 | -1.1638391 | -0.24180978 |\n",
       "| 1 | 0 | 0 |  0.08779463 | -0.34147999 | 0.23147652 | 0.388727999 | 1 | 0 | 0 | -0.5798500 |  1.37495017 |\n",
       "| 1 | 1 | 1 | -1.91100917 | -0.24017598 | 0.31531805 | 0.288200532 | 1 | 1 | 1 | -0.7706500 |  1.52783610 |\n",
       "| 1 | 1 | 0 |  0.47132949 | -2.02919841 | 0.43968601 | 0.675316236 | 1 | 0 | 0 | -0.9396360 | -0.77721282 |\n",
       "| 1 | 0 | 0 | -0.14191085 | -1.42495822 | 0.37701517 | 0.746621319 | 1 | 1 | 1 |  2.2334383 |  0.23815276 |\n",
       "| 1 | 0 | 0 | -1.15386611 |  3.07599012 | 0.01232255 | 0.002293153 | 1 | 0 | 0 |  1.3830613 |  0.04307185 |\n",
       "| 1 | 1 | 1 |  0.89208724 |  2.74643664 | 0.16606394 | 0.013886969 | 1 | 1 | 0 |  2.6989284 |  4.86829171 |\n",
       "| 1 | 0 | 1 | -1.00927730 |  1.15424349 | 0.29518746 | 0.243225532 | 1 | 0 | 0 |  1.7868608 |  1.77463856 |\n",
       "| 1 | 0 | 0 | -0.32423663 |  1.06915466 | 0.07842190 | 0.061029504 | 1 | 0 | 0 |  2.6806231 |  2.55449475 |\n",
       "| 1 | 1 | 0 |  0.66137596 | -1.66125222 | 0.39570994 | 0.563758190 | 1 | 1 | 1 |  2.1269878 | -2.16232291 |\n",
       "| 1 | 1 | 1 |  1.16973981 |  0.07924875 | 0.62841738 | 0.462327232 | 1 | 1 | 0 |  4.8932454 |  3.81575143 |\n",
       "| 1 | 0 | 0 | -0.29701030 |  1.85590405 | 0.04563230 | 0.019788640 | 1 | 0 | 0 |  1.9356092 |  0.23754332 |\n",
       "| 1 | 0 | 0 | -0.08747134 | -1.69877579 | 0.43299208 | 0.819531287 | 1 | 1 | 1 |  0.4017264 |  0.43913703 |\n",
       "\n"
      ],
      "text/plain": [
       "     x0 x4 x3 x1          x2          e_good     e_poor      delta Tgood Tpoor\n",
       "1    1  1  1  -0.66897419  1.6721327  0.16958284 0.03641118  1     0     0    \n",
       "2    1  0  0   1.13376766 -1.4663150  0.54155891 0.83929334  1     0     1    \n",
       "3    1  0  1  -2.24098601 -0.3105049  0.40429174 0.63861618  1     1     1    \n",
       "4    1  1  1   0.58197920  1.3323991  0.32997243 0.09399468  1     0     0    \n",
       "5    1  1  0   2.56735351 -3.1282814  0.83615427 0.96155649  1     1     1    \n",
       "6    1  0  0  -1.34379483  0.3894637  0.07842111 0.10700423  1     0     0    \n",
       "7    1  1  1  -1.81612069 -0.7021871  0.40578446 0.45681597  1     0     1    \n",
       "8    1  1  1  -0.66625218 -0.3853014  0.48896428 0.45300195  1     0     0    \n",
       "9    1  1  1  -1.12570837  0.1949200  0.32981007 0.22397272  1     0     1    \n",
       "10   1  1  0  -0.02339682 -1.2339655  0.25232994 0.34109676  1     0     0    \n",
       "11   1  0  1  -1.10135148 -0.2845526  0.54059513 0.72835418  1     0     1    \n",
       "12   1  0  1  -1.72934341 -0.8852865  0.57426972 0.83701617  1     0     1    \n",
       "13   1  0  0  -1.67235159  0.9195902  0.04627081 0.04528980  1     0     0    \n",
       "14   1  1  1   1.31258745  1.1740924  0.44416496 0.14980853  1     1     0    \n",
       "15   1  0  1  -0.29193605  0.7072895  0.45600528 0.45568937  1     0     1    \n",
       "16   1  1  1  -0.11171895  0.5460112  0.38571318 0.20363889  1     0     0    \n",
       "17   1  0  1   1.20973111  3.4391986  0.18625454 0.02472498  1     1     0    \n",
       "18   1  1  0   3.26013937 -3.0474671  0.87165481 0.96692222  1     0     1    \n",
       "19   1  1  1   0.89417000  2.6425396  0.17728960 0.01620430  1     1     0    \n",
       "20   1  0  0  -1.71922770 -1.7241969  0.25607570 0.71066259  1     1     1    \n",
       "21   1  1  1  -0.28451876  0.3343345  0.40299286 0.24688241  1     1     1    \n",
       "22   1  1  1  -0.44655741  1.0787873  0.26262504 0.09138800  1     0     0    \n",
       "23   1  0  1  -0.85416188  1.2314168  0.29929788 0.23347543  1     0     0    \n",
       "24   1  1  1   1.74464614  0.4269895  0.63461825 0.39111547  1     0     1    \n",
       "25   1  0  1  -2.70049353  0.6661130  0.20589792 0.25362585  1     0     0    \n",
       "26   1  0  0  -0.17869780  0.5829973  0.11643858 0.12499289  1     0     0    \n",
       "27   1  0  1  -3.30338927  0.8688549  0.14144548 0.16456622  1     0     0    \n",
       "28   1  0  0  -1.02771334 -0.1168297  0.12716796 0.22516079  1     1     0    \n",
       "29   1  0  0  -1.14107735  0.5862842  0.07514261 0.08819650  1     0     0    \n",
       "30   1  1  1  -0.78078667  0.7030409  0.28543207 0.13390361  1     0     1    \n",
       "⋮    ⋮  ⋮  ⋮  ⋮           ⋮           ⋮          ⋮           ⋮     ⋮     ⋮    \n",
       "971  1  1  0   1.46913306 -0.89187709 0.35513897 0.360191948 1     1     1    \n",
       "972  1  1  1  -0.56105926  0.51802463 0.33871002 0.182207774 1     0     0    \n",
       "973  1  1  0   1.46439044 -1.14542965 0.39921607 0.451131665 1     0     0    \n",
       "974  1  0  0   2.01093085 -2.14863500 0.75342099 0.953793417 1     1     1    \n",
       "975  1  1  1   0.97632145  0.59226285 0.51098913 0.269361259 1     1     0    \n",
       "976  1  0  0   1.45099109  0.61538043 0.22512607 0.207070629 1     0     0    \n",
       "977  1  0  0  -0.03765067 -1.65159944 0.43042295 0.811890142 1     0     1    \n",
       "978  1  0  1  -2.10637062  0.86900103 0.23059828 0.241211344 1     1     0    \n",
       "979  1  1  1   0.74135386  0.62179559 0.47610078 0.243027587 1     1     0    \n",
       "980  1  1  0   2.32001439  0.46330605 0.23371131 0.093897104 1     1     0    \n",
       "981  1  1  0   0.32100655  0.18759697 0.12129811 0.065804787 1     1     0    \n",
       "982  1  0  0  -1.56700074 -0.84727945 0.16137392 0.411956993 1     1     1    \n",
       "983  1  0  1  -0.81678718  1.67823978 0.23738438 0.136570116 1     1     0    \n",
       "984  1  1  1   2.55481773  1.06770726 0.61695141 0.253575323 1     0     0    \n",
       "985  1  0  0   1.16702234  0.52360378 0.21262214 0.211051855 1     1     0    \n",
       "986  1  0  1  -1.74585134  0.18752430 0.37435727 0.505093078 1     0     1    \n",
       "987  1  0  0  -0.35607375 -0.27440284 0.18660318 0.325013661 1     0     0    \n",
       "988  1  1  0   0.42556406  0.12030372 0.13268253 0.075144127 1     0     0    \n",
       "989  1  0  0   0.08779463 -0.34147999 0.23147652 0.388727999 1     0     0    \n",
       "990  1  1  1  -1.91100917 -0.24017598 0.31531805 0.288200532 1     1     1    \n",
       "991  1  1  0   0.47132949 -2.02919841 0.43968601 0.675316236 1     0     0    \n",
       "992  1  0  0  -0.14191085 -1.42495822 0.37701517 0.746621319 1     1     1    \n",
       "993  1  0  0  -1.15386611  3.07599012 0.01232255 0.002293153 1     0     0    \n",
       "994  1  1  1   0.89208724  2.74643664 0.16606394 0.013886969 1     1     0    \n",
       "995  1  0  1  -1.00927730  1.15424349 0.29518746 0.243225532 1     0     0    \n",
       "996  1  0  0  -0.32423663  1.06915466 0.07842190 0.061029504 1     0     0    \n",
       "997  1  1  0   0.66137596 -1.66125222 0.39570994 0.563758190 1     1     1    \n",
       "998  1  1  1   1.16973981  0.07924875 0.62841738 0.462327232 1     1     0    \n",
       "999  1  0  0  -0.29701030  1.85590405 0.04563230 0.019788640 1     0     0    \n",
       "1000 1  0  0  -0.08747134 -1.69877579 0.43299208 0.819531287 1     1     1    \n",
       "     Ygood        Ypoor      \n",
       "1     2.627108178  2.22686349\n",
       "2    -0.383392731  2.21222540\n",
       "3     1.071202205  0.05306562\n",
       "4     1.859053745  1.75932032\n",
       "5     0.166585816  1.98371497\n",
       "6    -0.368654539 -2.44336361\n",
       "7    -0.639761806  0.38645215\n",
       "8    -0.701380144  1.19312149\n",
       "9     0.202034119  2.29600698\n",
       "10   -0.872894212 -1.45623770\n",
       "11    2.373578884  0.61166416\n",
       "12   -0.837617327  1.03461670\n",
       "13   -0.816023083  0.11655251\n",
       "14    4.719181441  4.00288844\n",
       "15    3.176030232  4.66175077\n",
       "16    2.908469388  1.54576597\n",
       "17    5.332459561  7.35917172\n",
       "18    1.890351410  2.61967813\n",
       "19    3.688519856  4.16162707\n",
       "20    0.837396731 -1.83812781\n",
       "21    0.662225594  4.15965945\n",
       "22    1.729543316  0.30816038\n",
       "23    2.262995780  3.81624433\n",
       "24    4.702755161  5.07922685\n",
       "25    0.110741404  0.53795037\n",
       "26    0.002000402  1.76882597\n",
       "27    0.294882992 -0.65518816\n",
       "28    1.588444305  0.12108186\n",
       "29   -0.670250245 -1.25351086\n",
       "30    0.168078373 -0.38374772\n",
       "⋮    ⋮            ⋮          \n",
       "971   0.5256127    0.85505892\n",
       "972   1.7713154    1.58035557\n",
       "973  -0.7319184   -0.59101785\n",
       "974   1.4765310    1.43242132\n",
       "975   2.5617890    2.50544461\n",
       "976   1.1286238    3.31642316\n",
       "977  -0.4893750   -0.16345407\n",
       "978   3.2013501    0.14654204\n",
       "979   3.7908220    3.94161854\n",
       "980   2.3002853    1.54626258\n",
       "981   2.3483981   -0.54338277\n",
       "982  -1.5133742   -1.92088345\n",
       "983   3.9094440    3.13195334\n",
       "984   4.8515769    1.98201989\n",
       "985   3.8811041    2.13079537\n",
       "986   1.2205534    2.96922516\n",
       "987  -1.2704888    0.16778748\n",
       "988  -1.1638391   -0.24180978\n",
       "989  -0.5798500    1.37495017\n",
       "990  -0.7706500    1.52783610\n",
       "991  -0.9396360   -0.77721282\n",
       "992   2.2334383    0.23815276\n",
       "993   1.3830613    0.04307185\n",
       "994   2.6989284    4.86829171\n",
       "995   1.7868608    1.77463856\n",
       "996   2.6806231    2.55449475\n",
       "997   2.1269878   -2.16232291\n",
       "998   4.8932454    3.81575143\n",
       "999   1.9356092    0.23754332\n",
       "1000  0.4017264    0.43913703"
      ]
     },
     "metadata": {},
     "output_type": "display_data"
    }
   ],
   "source": [
    "vex"
   ]
  },
  {
   "cell_type": "code",
   "execution_count": 31,
   "id": "74bc8d42-9051-4dc2-b452-d35cc7ce8f7f",
   "metadata": {},
   "outputs": [
    {
     "data": {
      "text/plain": [
       "\n",
       "Call:  glm(formula = Tgood ~ x1 + x2 + x3 + x4, family = \"binomial\", \n",
       "    data = vex)\n",
       "\n",
       "Coefficients:\n",
       "(Intercept)           x1           x2           x3           x4  \n",
       "     -1.339        0.453       -0.701        1.678       -0.321  \n",
       "\n",
       "Degrees of Freedom: 999 Total (i.e. Null);  995 Residual\n",
       "Null Deviance:\t    1274 \n",
       "Residual Deviance: 1111 \tAIC: 1121"
      ]
     },
     "metadata": {},
     "output_type": "display_data"
    }
   ],
   "source": [
    "glm(Tgood ~ x1 + x2 + x3 + x4, data=vex, family=\"binomial\")"
   ]
  },
  {
   "cell_type": "code",
   "execution_count": 32,
   "id": "7382a553-24e7-4765-8ed3-ee0c1415443e",
   "metadata": {},
   "outputs": [
    {
     "data": {
      "text/plain": [
       "\n",
       "Closed-form inference: \n",
       "\n",
       "Original group value:  0, 1 \n",
       "\n",
       "Contrast: \n",
       "            0 1\n",
       "Contrast 1 -1 1\n",
       "\n",
       "           Estimate Std.Error      lwr    upr  Pr(>|z|)    \n",
       "Contrast 1 1.083820  0.083387 0.920384 1.2473 < 2.2e-16 ***\n",
       "---\n",
       "Signif. codes:  0 ‘***’ 0.001 ‘**’ 0.01 ‘*’ 0.05 ‘.’ 0.1 ‘ ’ 1"
      ]
     },
     "metadata": {},
     "output_type": "display_data"
    }
   ],
   "source": [
    "vex_IPW <- PSweight(ps.formula=Tgood ~ x1 + x2 + x3 + x4, \n",
    "                    out.formula=Ygood ~  x1 + x2 + x3 + x4,\n",
    "                    data=vex, yname=\"Ygood\", weight=\"IPW\")\n",
    "summary(vex_IPW)"
   ]
  },
  {
   "cell_type": "code",
   "execution_count": 33,
   "id": "d8bcc62a-ff6d-46bd-b6b0-9bf709e27dfb",
   "metadata": {},
   "outputs": [
    {
     "name": "stderr",
     "output_type": "stream",
     "text": [
      "bootstrap 50 samples\n",
      "\n",
      "bootstrap 100 samples\n",
      "\n",
      "bootstrap 150 samples\n",
      "\n",
      "bootstrap 200 samples\n",
      "\n",
      "bootstrap 250 samples\n",
      "\n",
      "bootstrap 300 samples\n",
      "\n",
      "bootstrap 350 samples\n",
      "\n",
      "bootstrap 400 samples\n",
      "\n",
      "bootstrap 450 samples\n",
      "\n",
      "bootstrap 500 samples\n",
      "\n"
     ]
    },
    {
     "data": {
      "text/plain": [
       "\n",
       "Use Bootstrap sample for inference: \n",
       "\n",
       "Original group value:  0, 1 \n",
       "\n",
       "Contrast: \n",
       "            0 1\n",
       "Contrast 1 -1 1\n",
       "\n",
       "           Estimate Std.Error      lwr    upr  Pr(>|z|)    \n",
       "Contrast 1 1.083820  0.078764 0.921600 1.2276 < 2.2e-16 ***\n",
       "---\n",
       "Signif. codes:  0 ‘***’ 0.001 ‘**’ 0.01 ‘*’ 0.05 ‘.’ 0.1 ‘ ’ 1"
      ]
     },
     "metadata": {},
     "output_type": "display_data"
    }
   ],
   "source": [
    "vex_IPW <- PSweight(ps.formula=Tgood ~ x1 + x2 + x3 + x4, \n",
    "                    out.formula=Ygood ~  x1 + x2 + x3 + x4,\n",
    "                    bootstrap=TRUE, R=500,\n",
    "                    data=vex, yname=\"Ygood\", weight=\"IPW\")\n",
    "summary(vex_IPW)"
   ]
  },
  {
   "cell_type": "code",
   "execution_count": 34,
   "id": "c77bfe99-60fa-4d48-aab1-e226a5cefe96",
   "metadata": {},
   "outputs": [
    {
     "data": {
      "text/plain": [
       "\n",
       "Closed-form inference: \n",
       "\n",
       "Original group value:  0, 1 \n",
       "\n",
       "Contrast: \n",
       "            0 1\n",
       "Contrast 1 -1 1\n",
       "\n",
       "           Estimate Std.Error      lwr    upr Pr(>|z|)\n",
       "Contrast 1  0.46409   0.33961 -0.20153 1.1297   0.1718"
      ]
     },
     "metadata": {},
     "output_type": "display_data"
    }
   ],
   "source": [
    "vex_IPW <- PSweight(ps.formula=Tpoor ~ x1 + x2 + x3 + x4, \n",
    "                    data=vex, yname=\"Ygood\", weight=\"IPW\")\n",
    "summary(vex_IPW)"
   ]
  },
  {
   "cell_type": "markdown",
   "id": "281fb5b4",
   "metadata": {},
   "source": [
    "# Weight distributions"
   ]
  },
  {
   "cell_type": "raw",
   "id": "debd187c",
   "metadata": {},
   "source": [
    "Here we want to look at what the distributions in the treatment and control group tell us about similarities and differences between the groups."
   ]
  },
  {
   "cell_type": "markdown",
   "id": "03c5b61a",
   "metadata": {},
   "source": [
    "## Treatment and control share the same distribution"
   ]
  },
  {
   "cell_type": "code",
   "execution_count": 35,
   "id": "9bc752b6",
   "metadata": {},
   "outputs": [
    {
     "data": {
      "text/html": [
       "<table class=\"dataframe\">\n",
       "<caption>A data.table: 6 × 2</caption>\n",
       "<thead>\n",
       "\t<tr><th scope=col>x</th><th scope=col>treatment</th></tr>\n",
       "\t<tr><th scope=col>&lt;dbl&gt;</th><th scope=col>&lt;lgl&gt;</th></tr>\n",
       "</thead>\n",
       "<tbody>\n",
       "\t<tr><td>-0.58859264</td><td>FALSE</td></tr>\n",
       "\t<tr><td> 0.57920748</td><td>FALSE</td></tr>\n",
       "\t<tr><td>-1.14331068</td><td>FALSE</td></tr>\n",
       "\t<tr><td>-0.06399058</td><td>FALSE</td></tr>\n",
       "\t<tr><td>-0.30943631</td><td>FALSE</td></tr>\n",
       "\t<tr><td>-1.96414239</td><td>FALSE</td></tr>\n",
       "</tbody>\n",
       "</table>\n"
      ],
      "text/latex": [
       "A data.table: 6 × 2\n",
       "\\begin{tabular}{ll}\n",
       " x & treatment\\\\\n",
       " <dbl> & <lgl>\\\\\n",
       "\\hline\n",
       "\t -0.58859264 & FALSE\\\\\n",
       "\t  0.57920748 & FALSE\\\\\n",
       "\t -1.14331068 & FALSE\\\\\n",
       "\t -0.06399058 & FALSE\\\\\n",
       "\t -0.30943631 & FALSE\\\\\n",
       "\t -1.96414239 & FALSE\\\\\n",
       "\\end{tabular}\n"
      ],
      "text/markdown": [
       "\n",
       "A data.table: 6 × 2\n",
       "\n",
       "| x &lt;dbl&gt; | treatment &lt;lgl&gt; |\n",
       "|---|---|\n",
       "| -0.58859264 | FALSE |\n",
       "|  0.57920748 | FALSE |\n",
       "| -1.14331068 | FALSE |\n",
       "| -0.06399058 | FALSE |\n",
       "| -0.30943631 | FALSE |\n",
       "| -1.96414239 | FALSE |\n",
       "\n"
      ],
      "text/plain": [
       "  x           treatment\n",
       "1 -0.58859264 FALSE    \n",
       "2  0.57920748 FALSE    \n",
       "3 -1.14331068 FALSE    \n",
       "4 -0.06399058 FALSE    \n",
       "5 -0.30943631 FALSE    \n",
       "6 -1.96414239 FALSE    "
      ]
     },
     "metadata": {},
     "output_type": "display_data"
    }
   ],
   "source": [
    "N <- 1000\n",
    "tc_same <- data.table(x=rnorm(N*2, 0, 1), treatment=c(rep(FALSE, N), rep(TRUE, N)))\n",
    "head(tc_same)"
   ]
  },
  {
   "cell_type": "code",
   "execution_count": 36,
   "id": "f8740fb4",
   "metadata": {},
   "outputs": [],
   "source": [
    "model_tc_same <- SumStat(treatment ~ x, data=tc_same)"
   ]
  },
  {
   "cell_type": "code",
   "execution_count": 37,
   "id": "8f99ef33",
   "metadata": {},
   "outputs": [],
   "source": [
    "mirror_plot <- function(data, model) {\n",
    "    data <- copy(data)\n",
    "    data[, weight := model$propensity[, 2]]\n",
    "    p <- ggplot() +\n",
    "      # Top\n",
    "      geom_density(data=data[treatment==TRUE], aes(x = weight, y = after_stat(density)), fill=\"#69b3a2\" ) +\n",
    "      geom_label( aes(x=1, y=1, label=\"treatment\"), color=\"#69b3a2\") +\n",
    "      # Bottom\n",
    "      geom_density(data=data[treatment==FALSE], aes(x = weight, y = after_stat(-density)), fill= \"#404080\") +\n",
    "      geom_label( aes(x=1, y=-1, label=\"control\"), color=\"#404080\") +\n",
    "      xlim(x=c(0,1)) +\n",
    "      xlab(\"weight\")\n",
    "    p\n",
    "}"
   ]
  },
  {
   "cell_type": "code",
   "execution_count": 38,
   "id": "33bc660c",
   "metadata": {},
   "outputs": [
    {
     "data": {
      "image/png": "[encoded data removed]",
      "text/plain": [
       "plot without title"
      ]
     },
     "metadata": {
      "image/png": {
       "height": 560,
       "width": 560
      }
     },
     "output_type": "display_data"
    }
   ],
   "source": [
    "mirror_plot(tc_same, model_tc_same)"
   ]
  },
  {
   "cell_type": "markdown",
   "id": "6d435580",
   "metadata": {},
   "source": [
    "## Distributions differ only in mean"
   ]
  },
  {
   "cell_type": "code",
   "execution_count": 40,
   "id": "92d50c75",
   "metadata": {},
   "outputs": [
    {
     "data": {
      "image/png": "[encoded data removed]",
      "text/plain": [
       "plot without title"
      ]
     },
     "metadata": {
      "image/png": {
       "height": 560,
       "width": 560
      }
     },
     "output_type": "display_data"
    }
   ],
   "source": [
    "tc_diff_means <- data.table(x=c(rnorm(N, 0, 1), rnorm(N, 2, 1)),\n",
    "                                treatment=c(rep(FALSE, N), rep(TRUE, N)))\n",
    "model_diff_means <- SumStat(treatment ~ x, data=tc_diff_means)\n",
    "mirror_plot(tc_diff_means, model_diff_means)"
   ]
  },
  {
   "cell_type": "markdown",
   "id": "c2fea60c",
   "metadata": {},
   "source": [
    "## Distributions differ only in variance"
   ]
  },
  {
   "cell_type": "code",
   "execution_count": 41,
   "id": "53c6672b",
   "metadata": {},
   "outputs": [
    {
     "data": {
      "image/png": "[encoded data removed]",
      "text/plain": [
       "plot without title"
      ]
     },
     "metadata": {
      "image/png": {
       "height": 560,
       "width": 560
      }
     },
     "output_type": "display_data"
    }
   ],
   "source": [
    "tc_diff_vars <- data.table(x=c(rnorm(N, 0, 1), rnorm(N, 0, 4)),\n",
    "                                treatment=c(rep(FALSE, N), rep(TRUE, N)))\n",
    "model_diff_vars <- SumStat(treatment ~ x, data=tc_diff_vars)\n",
    "mirror_plot(tc_diff_vars, model_diff_vars)"
   ]
  },
  {
   "cell_type": "markdown",
   "id": "0ab3d6a0",
   "metadata": {},
   "source": [
    "## inflation at one end\n",
    "Here we try something that variance itself can't give us. We artificially inflate with a large number of values that are most exclusive to the control group than the treatment group."
   ]
  },
  {
   "cell_type": "code",
   "execution_count": 42,
   "id": "1f06be5a",
   "metadata": {},
   "outputs": [
    {
     "data": {
      "image/png": "[encoded data removed]",
      "text/plain": [
       "plot without title"
      ]
     },
     "metadata": {
      "image/png": {
       "height": 560,
       "width": 560
      }
     },
     "output_type": "display_data"
    }
   ],
   "source": [
    "tc_inflation <- data.table(x=c(rpois(N, 20), rpois(N, 20)),\n",
    "                                treatment=c(rep(FALSE, N), rep(TRUE, N)))\n",
    "tc_inflation[0:(N/20), x := 0]\n",
    "tc_inflation[N:(N - N/2), x := 0]\n",
    "model_inflation <- SumStat(treatment ~ x, data=tc_inflation)\n",
    "mirror_plot(tc_inflation, model_inflation)"
   ]
  },
  {
   "cell_type": "code",
   "execution_count": 46,
   "id": "4cd4936f",
   "metadata": {},
   "outputs": [
    {
     "data": {
      "text/plain": [
       "$breaks\n",
       " [1] 0.05 0.10 0.15 0.20 0.25 0.30 0.35 0.40 0.45 0.50 0.55 0.60 0.65 0.70 0.75\n",
       "[16] 0.80 0.85 0.90 0.95\n",
       "\n",
       "$counts\n",
       " [1] 551   0   0   0   0  11   5  24  19  32  37  80  39  78  55  36  28   5\n",
       "\n",
       "$density\n",
       " [1] 11.02  0.00  0.00  0.00  0.00  0.22  0.10  0.48  0.38  0.64  0.74  1.60\n",
       "[13]  0.78  1.56  1.10  0.72  0.56  0.10\n",
       "\n",
       "$mids\n",
       " [1] 0.075 0.125 0.175 0.225 0.275 0.325 0.375 0.425 0.475 0.525 0.575 0.625\n",
       "[13] 0.675 0.725 0.775 0.825 0.875 0.925\n",
       "\n",
       "$xname\n",
       "[1] \"tc_inflation[treatment == FALSE]$weight\"\n",
       "\n",
       "$equidist\n",
       "[1] TRUE\n",
       "\n",
       "attr(,\"class\")\n",
       "[1] \"histogram\""
      ]
     },
     "metadata": {},
     "output_type": "display_data"
    }
   ],
   "source": [
    "tc_inflation[, weight := model_inflation$propensity[, 2]]\n",
    "\n",
    "hist(tc_inflation[treatment==FALSE]$weight, breaks=20, plot=FALSE)"
   ]
  },
  {
   "cell_type": "markdown",
   "id": "4b7bac91",
   "metadata": {},
   "source": [
    "# Bibliography\n",
    "[1] [Angrist, J. D., & Pischke, J.-S. (2008). Mostly harmless econometrics. Princeton University Press.](https://jonnyphillips.github.io/FLS6415/Class_3/Angrist%20&%20Pischke.pdf)\n",
    "\n",
    "[2] [Steve Howard. Augmented Inverse Propensity Weighting for Randomized Experiments](https://www.stevehoward.org/blog/augmented-inverse-propensity-weighting-for-randomized-experiments.html)\n",
    "\n",
    "[3] [Stefan Wager. STATS 361 notes](https://web.stanford.edu/~swager/stats361.pdf)\n",
    "\n",
    "[4] Huzhang Mao, Liang Li, Tom Greene. Propensity score weighting analysis and treatment effect discovery (2019)\n",
    "\n",
    "[5] Jared K Lunceford, Marie Davidian. Stratification and weighting via the propensity score in estimation of causal treatment effects: a comparative study (2004)"
   ]
  }
 ],
 "metadata": {
  "kernelspec": {
   "display_name": "R",
   "language": "R",
   "name": "ir"
  },
  "language_info": {
   "codemirror_mode": "r",
   "file_extension": ".r",
   "mimetype": "text/x-r-source",
   "name": "R",
   "pygments_lexer": "r",
   "version": "4.1.2"
  },
  "toc": {
   "base_numbering": 1,
   "nav_menu": {},
   "number_sections": true,
   "sideBar": true,
   "skip_h1_title": false,
   "title_cell": "Table of Contents",
   "title_sidebar": "Contents",
   "toc_cell": false,
   "toc_position": {
    "height": "calc(100% - 180px)",
    "left": "10px",
    "top": "150px",
    "width": "358.4px"
   },
   "toc_section_display": true,
   "toc_window_display": true
  },
  "varInspector": {
   "cols": {
    "lenName": 16,
    "lenType": 16,
    "lenVar": 40
   },
   "kernels_config": {
    "python": {
     "delete_cmd_postfix": "",
     "delete_cmd_prefix": "del ",
     "library": "var_list.py",
     "varRefreshCmd": "print(var_dic_list())"
    },
    "r": {
     "delete_cmd_postfix": ") ",
     "delete_cmd_prefix": "rm(",
     "library": "var_list.r",
     "varRefreshCmd": "cat(var_dic_list()) "
    }
   },
   "types_to_exclude": [
    "module",
    "function",
    "builtin_function_or_method",
    "instance",
    "_Feature"
   ],
   "window_display": false
  }
 },
 "nbformat": 4,
 "nbformat_minor": 5
}
