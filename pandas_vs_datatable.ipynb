{
 "cells": [
  {
   "cell_type": "markdown",
   "id": "correct-blast",
   "metadata": {},
   "source": [
    "# TL; DR"
   ]
  },
  {
   "cell_type": "markdown",
   "id": "treated-rouge",
   "metadata": {},
   "source": [
    "- R's `data.table` is much faster than Python `pandas`' `DataFrame`: between 1.7 and 34 times for a set of standard operations.\n",
    "- Note in particular the order of magnitude for conditional subsetting.\n",
    "- In addition, although this notebook doesn't show it, `data.table` is also more memory efficient.\n",
    "- Notes:\n",
    "    - The benchmarking below is not super rigorous, but good enough to demonstrate the large differences between the two implementations.\n",
    "    - All benchmarks are run on an average laptop under Windows 10, but these differences probably hold across OS and hardware.\n",
    "    - The CSV write is astonishing. The test was run on a Samsung MZVLB512HBJQ which is an SSD drive, but maybe other hardware has better caching capabilities."
   ]
  },
  {
   "cell_type": "markdown",
   "id": "valid-burst",
   "metadata": {},
   "source": [
    "# Setup"
   ]
  },
  {
   "cell_type": "markdown",
   "id": "appreciated-logan",
   "metadata": {},
   "source": [
    "We use `rpy2` to run a dual Python/R notebook. Using R, we create a dataframe and save it to disk as a `CSV` file, so that both implementations can retrieve and work on the same data."
   ]
  },
  {
   "cell_type": "code",
   "execution_count": 1,
   "id": "false-malawi",
   "metadata": {},
   "outputs": [
    {
     "name": "stderr",
     "output_type": "stream",
     "text": [
      "c:\\users\\leonardosilvestri\\miniconda3\\envs\\py38\\lib\\site-packages\\rpy2\\robjects\\packages.py:366: UserWarning: The symbol 'quartz' is not in this R namespace/package.\n",
      "  warnings.warn(\n"
     ]
    }
   ],
   "source": [
    "import pandas as pd\n",
    "import numpy as np\n",
    "import timeit\n",
    "import os\n",
    "\n",
    "%load_ext rpy2.ipython"
   ]
  },
  {
   "cell_type": "code",
   "execution_count": 2,
   "id": "blind-advertising",
   "metadata": {},
   "outputs": [],
   "source": [
    "path = \"~/Documents/tmp\""
   ]
  },
  {
   "cell_type": "code",
   "execution_count": 3,
   "id": "persistent-opposition",
   "metadata": {},
   "outputs": [
    {
     "name": "stderr",
     "output_type": "stream",
     "text": [
      "R[write to console]: data.table 1.13.2 using 4 threads (see ?getDTthreads).  Latest news: r-datatable.com\n",
      "\n"
     ]
    }
   ],
   "source": [
    "%%R\n",
    "library(data.table)\n",
    "library(rbenchmark)"
   ]
  },
  {
   "cell_type": "code",
   "execution_count": 4,
   "id": "stainless-slovakia",
   "metadata": {},
   "outputs": [],
   "source": [
    "%%R\n",
    "path <- \"~/tmp\"\n",
    "\n",
    "N = 1e7  # the total number of rows\n",
    "\n",
    "a_h <- paste0(\"a\", runif(2))\n",
    "b_h <- paste0(\"b\", runif(4))\n",
    "c_h <- paste0(\"c\", runif(1e2))\n",
    "d_h <- paste0(\"d\", runif(1e5))\n",
    "\n",
    "dt <- data.table(a=rep(a_h, length.out=N),\n",
    "                 b=rep(b_h, length.out=N),\n",
    "                 c=rep(c_h, length.out=N),\n",
    "                 d=rep(d_h, length.out=N),\n",
    "                 f=runif(N),\n",
    "                 g=runif(N))\n",
    "                 \n",
    "fwrite(dt, file.path(path, \"temp.csv\"))"
   ]
  },
  {
   "cell_type": "code",
   "execution_count": 5,
   "id": "declared-horror",
   "metadata": {},
   "outputs": [],
   "source": [
    "%%R\n",
    "dt_sample_d <- dt[!duplicated(dt[, .(a,b,c,d)])]\n",
    "setnames(dt_sample_d, c(\"f\",\"g\"), c(\"ff\", \"gg\"))\n",
    "fwrite(dt_sample_d, file.path(path, \"temp_sample_d.csv\"))"
   ]
  },
  {
   "cell_type": "code",
   "execution_count": 6,
   "id": "peaceful-manchester",
   "metadata": {},
   "outputs": [
    {
     "name": "stdout",
     "output_type": "stream",
     "text": [
      "[1] 100000\n"
     ]
    }
   ],
   "source": [
    "%%R\n",
    "print(nrow(dt_sample_d))"
   ]
  },
  {
   "cell_type": "markdown",
   "id": "legislative-crash",
   "metadata": {},
   "source": [
    "# CSV read/write"
   ]
  },
  {
   "cell_type": "markdown",
   "id": "complex-healthcare",
   "metadata": {},
   "source": [
    "## read"
   ]
  },
  {
   "cell_type": "code",
   "execution_count": 7,
   "id": "dress-description",
   "metadata": {},
   "outputs": [
    {
     "name": "stderr",
     "output_type": "stream",
     "text": [
      "R[write to console]: |--------------------------------------------------|\n",
      "|\n",
      "R[write to console]: =\n",
      "R[write to console]: =\n",
      "R[write to console]: =\n",
      "R[write to console]: =\n",
      "R[write to console]: =\n",
      "R[write to console]: =\n",
      "R[write to console]: =\n",
      "R[write to console]: =\n",
      "R[write to console]: =\n",
      "R[write to console]: =\n",
      "R[write to console]: =\n",
      "R[write to console]: =\n",
      "R[write to console]: =\n",
      "R[write to console]: =\n",
      "R[write to console]: =\n",
      "R[write to console]: =\n",
      "R[write to console]: =\n",
      "R[write to console]: =\n",
      "R[write to console]: =\n",
      "R[write to console]: =\n",
      "R[write to console]: =\n",
      "R[write to console]: =\n",
      "R[write to console]: =\n",
      "R[write to console]: =\n",
      "R[write to console]: =\n",
      "R[write to console]: =\n",
      "R[write to console]: =\n",
      "R[write to console]: =\n",
      "R[write to console]: =\n",
      "R[write to console]: =\n",
      "R[write to console]: =\n",
      "R[write to console]: =\n",
      "R[write to console]: =\n",
      "R[write to console]: =\n",
      "R[write to console]: =\n",
      "R[write to console]: =\n",
      "R[write to console]: =\n",
      "R[write to console]: =\n",
      "R[write to console]: =\n",
      "R[write to console]: =\n",
      "R[write to console]: =\n",
      "R[write to console]: =\n",
      "R[write to console]: =\n",
      "R[write to console]: =\n",
      "R[write to console]: =\n",
      "R[write to console]: =\n",
      "R[write to console]: =\n",
      "R[write to console]: =\n",
      "R[write to console]: =\n",
      "R[write to console]: =\n",
      "R[write to console]: |\n",
      "\n",
      "R[write to console]: |--------------------------------------------------|\n",
      "|\n",
      "R[write to console]: =\n",
      "R[write to console]: =\n",
      "R[write to console]: =\n",
      "R[write to console]: =\n",
      "R[write to console]: =\n",
      "R[write to console]: =\n",
      "R[write to console]: =\n",
      "R[write to console]: =\n",
      "R[write to console]: =\n",
      "R[write to console]: =\n",
      "R[write to console]: =\n",
      "R[write to console]: =\n",
      "R[write to console]: =\n",
      "R[write to console]: =\n",
      "R[write to console]: =\n",
      "R[write to console]: =\n",
      "R[write to console]: =\n",
      "R[write to console]: =\n",
      "R[write to console]: =\n",
      "R[write to console]: =\n",
      "R[write to console]: =\n",
      "R[write to console]: =\n",
      "R[write to console]: =\n",
      "R[write to console]: =\n",
      "R[write to console]: =\n",
      "R[write to console]: =\n",
      "R[write to console]: =\n",
      "R[write to console]: =\n",
      "R[write to console]: =\n",
      "R[write to console]: =\n",
      "R[write to console]: =\n",
      "R[write to console]: =\n",
      "R[write to console]: =\n",
      "R[write to console]: =\n",
      "R[write to console]: =\n",
      "R[write to console]: =\n",
      "R[write to console]: =\n",
      "R[write to console]: =\n",
      "R[write to console]: =\n",
      "R[write to console]: =\n",
      "R[write to console]: =\n",
      "R[write to console]: =\n",
      "R[write to console]: =\n",
      "R[write to console]: =\n",
      "R[write to console]: =\n",
      "R[write to console]: =\n",
      "R[write to console]: =\n",
      "R[write to console]: =\n",
      "R[write to console]: =\n",
      "R[write to console]: =\n",
      "R[write to console]: |\n",
      "\n",
      "R[write to console]: |--------------------------------------------------|\n",
      "|\n",
      "R[write to console]: =\n",
      "R[write to console]: =\n",
      "R[write to console]: =\n",
      "R[write to console]: =\n",
      "R[write to console]: =\n",
      "R[write to console]: =\n",
      "R[write to console]: =\n",
      "R[write to console]: =\n",
      "R[write to console]: =\n",
      "R[write to console]: =\n",
      "R[write to console]: =\n",
      "R[write to console]: =\n",
      "R[write to console]: =\n",
      "R[write to console]: =\n",
      "R[write to console]: =\n",
      "R[write to console]: =\n",
      "R[write to console]: =\n",
      "R[write to console]: =\n",
      "R[write to console]: =\n",
      "R[write to console]: =\n",
      "R[write to console]: =\n",
      "R[write to console]: =\n",
      "R[write to console]: =\n",
      "R[write to console]: =\n",
      "R[write to console]: =\n",
      "R[write to console]: =\n",
      "R[write to console]: =\n",
      "R[write to console]: =\n",
      "R[write to console]: =\n",
      "R[write to console]: =\n",
      "R[write to console]: =\n",
      "R[write to console]: =\n",
      "R[write to console]: =\n",
      "R[write to console]: =\n",
      "R[write to console]: =\n",
      "R[write to console]: =\n",
      "R[write to console]: =\n",
      "R[write to console]: =\n",
      "R[write to console]: =\n",
      "R[write to console]: =\n",
      "R[write to console]: =\n",
      "R[write to console]: =\n",
      "R[write to console]: =\n",
      "R[write to console]: =\n",
      "R[write to console]: =\n",
      "R[write to console]: =\n",
      "R[write to console]: =\n",
      "R[write to console]: =\n",
      "R[write to console]: =\n",
      "R[write to console]: =\n",
      "R[write to console]: |\n",
      "\n"
     ]
    }
   ],
   "source": [
    "%%R -o csv_read_r\n",
    "\n",
    "s <- Sys.time()\n",
    "for (i in 1:3) \n",
    "    fread(file.path(path, \"temp.csv\"))\n",
    "e <- Sys.time()\n",
    "csv_read_r <- difftime(e, s, units=\"secs\")"
   ]
  },
  {
   "cell_type": "code",
   "execution_count": 8,
   "id": "combined-wedding",
   "metadata": {},
   "outputs": [
    {
     "data": {
      "text/plain": [
       "17.232918977737427"
      ]
     },
     "execution_count": 8,
     "metadata": {},
     "output_type": "execute_result"
    }
   ],
   "source": [
    "csv_read_r.item()"
   ]
  },
  {
   "cell_type": "code",
   "execution_count": 9,
   "id": "exceptional-stopping",
   "metadata": {},
   "outputs": [],
   "source": [
    "s = timeit.default_timer()\n",
    "for i in range(0, 3):\n",
    "    pd.read_csv(os.path.join(path, \"temp.csv\"))   \n",
    "e = timeit.default_timer()\n",
    "csv_read_py = e-s"
   ]
  },
  {
   "cell_type": "code",
   "execution_count": 10,
   "id": "professional-paintball",
   "metadata": {
    "scrolled": true
   },
   "outputs": [
    {
     "data": {
      "text/plain": [
       "39.2365018"
      ]
     },
     "execution_count": 10,
     "metadata": {},
     "output_type": "execute_result"
    }
   ],
   "source": [
    "csv_read_py"
   ]
  },
  {
   "cell_type": "markdown",
   "id": "subject-england",
   "metadata": {},
   "source": [
    "## Write"
   ]
  },
  {
   "cell_type": "code",
   "execution_count": 11,
   "id": "shaped-massachusetts",
   "metadata": {},
   "outputs": [
    {
     "name": "stdout",
     "output_type": "stream",
     "text": [
      "[1] 10000000        6\n"
     ]
    }
   ],
   "source": [
    "%%R\n",
    "print(dim(dt))"
   ]
  },
  {
   "cell_type": "code",
   "execution_count": 12,
   "id": "fitted-independence",
   "metadata": {},
   "outputs": [],
   "source": [
    "%%R -o csv_write_r\n",
    "\n",
    "s <- Sys.time()\n",
    "for (i in 1:3) \n",
    "    fwrite(dt, file.path(path, \"temp.csv\"))\n",
    "e <- Sys.time()\n",
    "csv_write_r <- difftime(e, s, units=\"secs\")"
   ]
  },
  {
   "cell_type": "code",
   "execution_count": 13,
   "id": "lonely-heaven",
   "metadata": {},
   "outputs": [
    {
     "data": {
      "text/plain": [
       "5.207581996917725"
      ]
     },
     "execution_count": 13,
     "metadata": {},
     "output_type": "execute_result"
    }
   ],
   "source": [
    "csv_write_r.item()"
   ]
  },
  {
   "cell_type": "code",
   "execution_count": 14,
   "id": "dated-wilson",
   "metadata": {},
   "outputs": [
    {
     "data": {
      "text/plain": [
       "(10000000, 6)"
      ]
     },
     "execution_count": 14,
     "metadata": {},
     "output_type": "execute_result"
    }
   ],
   "source": [
    "df = pd.read_csv(os.path.join(path, \"temp.csv\"))\n",
    "df.shape"
   ]
  },
  {
   "cell_type": "code",
   "execution_count": 15,
   "id": "lonely-tribute",
   "metadata": {},
   "outputs": [],
   "source": [
    "s = timeit.default_timer()\n",
    "for i in range(0, 3):\n",
    "    df.to_csv(os.path.join(path, \"temp_a.csv\"))   \n",
    "e = timeit.default_timer()\n",
    "csv_write_py = e-s"
   ]
  },
  {
   "cell_type": "code",
   "execution_count": 16,
   "id": "skilled-marshall",
   "metadata": {},
   "outputs": [
    {
     "data": {
      "text/plain": [
       "178.4642288"
      ]
     },
     "execution_count": 16,
     "metadata": {},
     "output_type": "execute_result"
    }
   ],
   "source": [
    "csv_write_py"
   ]
  },
  {
   "cell_type": "markdown",
   "id": "behind-polyester",
   "metadata": {},
   "source": [
    "# Subsetting"
   ]
  },
  {
   "cell_type": "markdown",
   "id": "continent-tiffany",
   "metadata": {},
   "source": [
    "## Boolean condition"
   ]
  },
  {
   "cell_type": "code",
   "execution_count": 17,
   "id": "historic-sharing",
   "metadata": {},
   "outputs": [],
   "source": [
    "%%R -o subset_r\n",
    "afind = dt$a[1]\n",
    "bfind = dt$b[1]\n",
    "\n",
    "s <- Sys.time()\n",
    "for (i in 1:10)\n",
    "    dt[a==afind & b==bfind]\n",
    "e <- Sys.time()\n",
    "subset_r <- difftime(e, s, units=\"secs\")"
   ]
  },
  {
   "cell_type": "code",
   "execution_count": 18,
   "id": "crude-checklist",
   "metadata": {},
   "outputs": [
    {
     "data": {
      "text/plain": [
       "1.6610119342803955"
      ]
     },
     "execution_count": 18,
     "metadata": {},
     "output_type": "execute_result"
    }
   ],
   "source": [
    "subset_r.item()"
   ]
  },
  {
   "cell_type": "code",
   "execution_count": 19,
   "id": "wireless-soundtrack",
   "metadata": {},
   "outputs": [],
   "source": [
    "afind = df.a[0]\n",
    "bfind = df.b[0]\n",
    "\n",
    "s = timeit.default_timer()\n",
    "for i in range(0, 10):\n",
    "    df[(df.a==afind) & (df.b==bfind)]\n",
    "e = timeit.default_timer()\n",
    "subset_py = e-s"
   ]
  },
  {
   "cell_type": "code",
   "execution_count": 20,
   "id": "acceptable-characterization",
   "metadata": {},
   "outputs": [
    {
     "data": {
      "text/plain": [
       "16.302471100000048"
      ]
     },
     "execution_count": 20,
     "metadata": {},
     "output_type": "execute_result"
    }
   ],
   "source": [
    "subset_py"
   ]
  },
  {
   "cell_type": "markdown",
   "id": "allied-composer",
   "metadata": {},
   "source": [
    "## Integer index"
   ]
  },
  {
   "cell_type": "code",
   "execution_count": 21,
   "id": "experimental-corpus",
   "metadata": {},
   "outputs": [],
   "source": [
    "%%R -o subset_int_r\n",
    "idx <- seq(1, nrow(dt), by=2)\n",
    "\n",
    "s <- Sys.time()\n",
    "for (i in 1:10) \n",
    "    dt[idx]\n",
    "e <- Sys.time()\n",
    "subset_int_r <- difftime(e, s, units=\"secs\")"
   ]
  },
  {
   "cell_type": "code",
   "execution_count": 22,
   "id": "double-error",
   "metadata": {},
   "outputs": [
    {
     "data": {
      "text/plain": [
       "array([2.38238597])"
      ]
     },
     "execution_count": 22,
     "metadata": {},
     "output_type": "execute_result"
    }
   ],
   "source": [
    "subset_int_r"
   ]
  },
  {
   "cell_type": "code",
   "execution_count": 23,
   "id": "joint-species",
   "metadata": {},
   "outputs": [],
   "source": [
    "idx = np.arange(0, df.shape[0], step=2)\n",
    "s = timeit.default_timer()\n",
    "for i in range(0,10):\n",
    "    df.iloc[idx]\n",
    "e = timeit.default_timer()\n",
    "subset_int_py = e-s"
   ]
  },
  {
   "cell_type": "code",
   "execution_count": 24,
   "id": "physical-institution",
   "metadata": {},
   "outputs": [
    {
     "data": {
      "text/plain": [
       "4.165189699999985"
      ]
     },
     "execution_count": 24,
     "metadata": {},
     "output_type": "execute_result"
    }
   ],
   "source": [
    "subset_int_py"
   ]
  },
  {
   "cell_type": "markdown",
   "id": "romantic-turkish",
   "metadata": {},
   "source": [
    "# Merge\n"
   ]
  },
  {
   "cell_type": "code",
   "execution_count": 25,
   "id": "experienced-julian",
   "metadata": {},
   "outputs": [],
   "source": [
    "%%R -o merge_r\n",
    "\n",
    "s <- Sys.time()\n",
    "for (i in 1:10)\n",
    "    merge(dt, dt_sample_d, by=c(\"a\",\"b\",\"c\",\"d\"))\n",
    "e <- Sys.time()\n",
    "merge_r <- subset_r <- difftime(e, s, units=\"secs\")"
   ]
  },
  {
   "cell_type": "code",
   "execution_count": 26,
   "id": "secret-imaging",
   "metadata": {},
   "outputs": [
    {
     "data": {
      "text/plain": [
       "26.371317863464355"
      ]
     },
     "execution_count": 26,
     "metadata": {},
     "output_type": "execute_result"
    }
   ],
   "source": [
    "merge_r.item()"
   ]
  },
  {
   "cell_type": "code",
   "execution_count": 27,
   "id": "auburn-serve",
   "metadata": {},
   "outputs": [],
   "source": [
    "df_sample_d = pd.read_csv(os.path.join(path, \"temp_sample_d.csv\"))\n",
    "\n",
    "s = timeit.default_timer()\n",
    "for i in range(0,10):\n",
    "    df.merge(df_sample_d, on=[\"a\",\"b\",\"c\",\"d\"])\n",
    "e = timeit.default_timer()\n",
    "merge_py = e-s"
   ]
  },
  {
   "cell_type": "code",
   "execution_count": 28,
   "id": "wrapped-healing",
   "metadata": {},
   "outputs": [
    {
     "data": {
      "text/plain": [
       "51.16356560000003"
      ]
     },
     "execution_count": 28,
     "metadata": {},
     "output_type": "execute_result"
    }
   ],
   "source": [
    "merge_py"
   ]
  },
  {
   "cell_type": "markdown",
   "id": "quantitative-ontario",
   "metadata": {},
   "source": [
    "# Groupby"
   ]
  },
  {
   "cell_type": "markdown",
   "id": "necessary-scroll",
   "metadata": {},
   "source": [
    "## Built-in `mean`"
   ]
  },
  {
   "cell_type": "code",
   "execution_count": 29,
   "id": "strange-secretary",
   "metadata": {},
   "outputs": [],
   "source": [
    "%%R -o groupby_builtin_r\n",
    "\n",
    "s <- Sys.time()\n",
    "for (i in 1:10) \n",
    "    dt[, list(mean(f), mean(g)), by=.(a,b,c,d)]\n",
    "e <- Sys.time()\n",
    "groupby_builtin_r <- difftime(e, s, units=\"secs\")"
   ]
  },
  {
   "cell_type": "code",
   "execution_count": 30,
   "id": "opponent-aspect",
   "metadata": {},
   "outputs": [
    {
     "data": {
      "text/plain": [
       "7.784824848175049"
      ]
     },
     "execution_count": 30,
     "metadata": {},
     "output_type": "execute_result"
    }
   ],
   "source": [
    "groupby_builtin_r.item()"
   ]
  },
  {
   "cell_type": "code",
   "execution_count": 31,
   "id": "brilliant-senate",
   "metadata": {},
   "outputs": [],
   "source": [
    "s = timeit.default_timer()\n",
    "for i in range(0, 10):\n",
    "    df.groupby(['a', 'b', 'c', 'd']).mean()\n",
    "e = timeit.default_timer()\n",
    "groupby_builtin_py = e-s"
   ]
  },
  {
   "cell_type": "code",
   "execution_count": 32,
   "id": "hydraulic-honduras",
   "metadata": {
    "scrolled": true
   },
   "outputs": [
    {
     "data": {
      "text/plain": [
       "52.83777810000004"
      ]
     },
     "execution_count": 32,
     "metadata": {},
     "output_type": "execute_result"
    }
   ],
   "source": [
    "groupby_builtin_py"
   ]
  },
  {
   "cell_type": "markdown",
   "id": "thirty-arkansas",
   "metadata": {},
   "source": [
    "## Custom function"
   ]
  },
  {
   "cell_type": "code",
   "execution_count": 33,
   "id": "adapted-invitation",
   "metadata": {},
   "outputs": [],
   "source": [
    "%%R -o groupby_custom_r\n",
    "\n",
    "get_nrows <- function(x) nrow(x)\n",
    "\n",
    "s <- Sys.time()\n",
    "for (i in 1:10)\n",
    "    dt[, list(N=get_nrows(.SD)), by=.(a,b,c,d)]\n",
    "e <- Sys.time()\n",
    "groupby_custom_r <- difftime(e, s, units=\"secs\")"
   ]
  },
  {
   "cell_type": "code",
   "execution_count": 34,
   "id": "described-passenger",
   "metadata": {},
   "outputs": [
    {
     "data": {
      "text/plain": [
       "10.229142904281616"
      ]
     },
     "execution_count": 34,
     "metadata": {},
     "output_type": "execute_result"
    }
   ],
   "source": [
    "groupby_custom_r.item()"
   ]
  },
  {
   "cell_type": "code",
   "execution_count": 35,
   "id": "demanding-stream",
   "metadata": {},
   "outputs": [],
   "source": [
    "def get_nrows(x):\n",
    "    return x.shape[0]\n",
    "\n",
    "s = timeit.default_timer()\n",
    "for i in range(0, 10):\n",
    "    df.groupby(['a', 'b', 'c', 'd']).apply(get_nrows)\n",
    "e = timeit.default_timer()\n",
    "groupby_custom_py = e-s"
   ]
  },
  {
   "cell_type": "code",
   "execution_count": 36,
   "id": "positive-authorization",
   "metadata": {},
   "outputs": [
    {
     "data": {
      "text/plain": [
       "126.97294210000001"
      ]
     },
     "execution_count": 36,
     "metadata": {},
     "output_type": "execute_result"
    }
   ],
   "source": [
    "groupby_custom_py"
   ]
  },
  {
   "cell_type": "markdown",
   "id": "banned-function",
   "metadata": {},
   "source": [
    "## Custom function multiple variables"
   ]
  },
  {
   "cell_type": "code",
   "execution_count": 37,
   "id": "homeless-proxy",
   "metadata": {},
   "outputs": [],
   "source": [
    "%%R -o groupby_custom_r_2\n",
    "\n",
    "get_nrows <- function(x) nrow(x)\n",
    "\n",
    "s <- Sys.time()\n",
    "for (i in 1:10)\n",
    "    dt[, list(mean=mean(g), N=get_nrows(.SD)), by=.(a,b,c,d)]\n",
    "e <- Sys.time()\n",
    "groupby_custom_r_2 <- difftime(e, s, units=\"secs\")"
   ]
  },
  {
   "cell_type": "code",
   "execution_count": 38,
   "id": "alleged-performer",
   "metadata": {},
   "outputs": [
    {
     "data": {
      "text/plain": [
       "11.376850843429565"
      ]
     },
     "execution_count": 38,
     "metadata": {},
     "output_type": "execute_result"
    }
   ],
   "source": [
    "groupby_custom_r_2.item()"
   ]
  },
  {
   "cell_type": "code",
   "execution_count": 39,
   "id": "modern-graduation",
   "metadata": {},
   "outputs": [],
   "source": [
    "def get_nrows(x):\n",
    "    return {\"mean\": np.mean(x.g), \"N\": x.shape[0]}\n",
    "\n",
    "s = timeit.default_timer()\n",
    "for i in range(0, 10):\n",
    "    df.groupby(['a', 'b', 'c', 'd']).apply(get_nrows)\n",
    "e = timeit.default_timer()\n",
    "groupby_custom_py_2 = e-s"
   ]
  },
  {
   "cell_type": "code",
   "execution_count": 40,
   "id": "central-monaco",
   "metadata": {},
   "outputs": [
    {
     "data": {
      "text/plain": [
       "240.48145209999996"
      ]
     },
     "execution_count": 40,
     "metadata": {},
     "output_type": "execute_result"
    }
   ],
   "source": [
    "groupby_custom_py_2"
   ]
  },
  {
   "cell_type": "markdown",
   "id": "figured-duration",
   "metadata": {},
   "source": [
    "# Unique"
   ]
  },
  {
   "cell_type": "markdown",
   "id": "wrong-registration",
   "metadata": {},
   "source": [
    "## Elements of a column"
   ]
  },
  {
   "cell_type": "code",
   "execution_count": 41,
   "id": "brutal-sharing",
   "metadata": {},
   "outputs": [],
   "source": [
    "%%R -o unique_r\n",
    "\n",
    "s <- Sys.time()\n",
    "for (i in 1:10)\n",
    "    unique(dt$c)\n",
    "e <- Sys.time()\n",
    "unique_r <- difftime(e, s, units=\"secs\")"
   ]
  },
  {
   "cell_type": "code",
   "execution_count": 42,
   "id": "atmospheric-projector",
   "metadata": {},
   "outputs": [
    {
     "data": {
      "text/plain": [
       "1.4237329959869385"
      ]
     },
     "execution_count": 42,
     "metadata": {},
     "output_type": "execute_result"
    }
   ],
   "source": [
    "unique_r.item()"
   ]
  },
  {
   "cell_type": "code",
   "execution_count": 43,
   "id": "helpful-michael",
   "metadata": {},
   "outputs": [],
   "source": [
    "s = timeit.default_timer()\n",
    "for i in range(0, 10):\n",
    "    df.c.unique()\n",
    "e = timeit.default_timer()\n",
    "unique_py = e-s"
   ]
  },
  {
   "cell_type": "code",
   "execution_count": 44,
   "id": "specified-butterfly",
   "metadata": {},
   "outputs": [
    {
     "data": {
      "text/plain": [
       "6.891304900000023"
      ]
     },
     "execution_count": 44,
     "metadata": {},
     "output_type": "execute_result"
    }
   ],
   "source": [
    "unique_py"
   ]
  },
  {
   "cell_type": "markdown",
   "id": "opposite-projector",
   "metadata": {},
   "source": [
    "## Rows"
   ]
  },
  {
   "cell_type": "code",
   "execution_count": 45,
   "id": "certain-ireland",
   "metadata": {},
   "outputs": [],
   "source": [
    "%%R -o unique_row_r\n",
    "\n",
    "s <- Sys.time()\n",
    "for (i in 1:10)\n",
    "        unique(dt, by=c(\"a\",\"b\",\"c\",\"d\"))\n",
    "e <- Sys.time()\n",
    "unique_row_r <- difftime(e, s, units=\"secs\")"
   ]
  },
  {
   "cell_type": "code",
   "execution_count": 46,
   "id": "valued-multiple",
   "metadata": {},
   "outputs": [
    {
     "data": {
      "text/plain": [
       "6.459529161453247"
      ]
     },
     "execution_count": 46,
     "metadata": {},
     "output_type": "execute_result"
    }
   ],
   "source": [
    "unique_row_r.item()"
   ]
  },
  {
   "cell_type": "code",
   "execution_count": 47,
   "id": "equivalent-morning",
   "metadata": {},
   "outputs": [],
   "source": [
    "s = timeit.default_timer()\n",
    "for i in range(0, 10):\n",
    "    df.drop_duplicates(subset=[\"a\",\"b\",\"c\",\"d\"])\n",
    "e = timeit.default_timer()\n",
    "unique_row_py = e-s"
   ]
  },
  {
   "cell_type": "code",
   "execution_count": 48,
   "id": "smaller-python",
   "metadata": {},
   "outputs": [
    {
     "data": {
      "text/plain": [
       "46.45240439999998"
      ]
     },
     "execution_count": 48,
     "metadata": {},
     "output_type": "execute_result"
    }
   ],
   "source": [
    "unique_row_py"
   ]
  },
  {
   "cell_type": "markdown",
   "id": "vocational-psychology",
   "metadata": {},
   "source": [
    "# Summary"
   ]
  },
  {
   "cell_type": "code",
   "execution_count": 49,
   "id": "chicken-assumption",
   "metadata": {},
   "outputs": [],
   "source": [
    "summary = pd.DataFrame({\"Operation\": [\"csv read\", \"csv write\", \n",
    "                                      \"bool subset\", \"int subset\", \n",
    "                                      \"merge\",\n",
    "                                      \"groupby builtin\", \"groupby custom\", \"groupby custom multiple\",\n",
    "                                      \"unique within col\", \"unique rows\"], \n",
    "                 \"pandas\": [csv_read_py, csv_write_py, \n",
    "                            subset_py, subset_int_py,\n",
    "                            merge_py,\n",
    "                            groupby_builtin_py, groupby_custom_py, groupby_custom_py_2,\n",
    "                            unique_py, unique_row_py], \n",
    "                 \"data.table\": [csv_read_r, csv_write_r, \n",
    "                                subset_r, subset_int_r,\n",
    "                                merge_r,\n",
    "                                groupby_builtin_r, groupby_custom_r, groupby_custom_r_2, \n",
    "                                unique_r, unique_row_r]})"
   ]
  },
  {
   "cell_type": "code",
   "execution_count": 50,
   "id": "surrounded-inclusion",
   "metadata": {},
   "outputs": [],
   "source": [
    "summary[\"data.table\"] = summary[\"data.table\"].apply(lambda x: x.item())\n",
    "summary[\"speedup\"] = summary.pandas / summary[\"data.table\"]"
   ]
  },
  {
   "cell_type": "code",
   "execution_count": 51,
   "id": "artificial-period",
   "metadata": {},
   "outputs": [
    {
     "data": {
      "text/html": [
       "<div>\n",
       "<style scoped>\n",
       "    .dataframe tbody tr th:only-of-type {\n",
       "        vertical-align: middle;\n",
       "    }\n",
       "\n",
       "    .dataframe tbody tr th {\n",
       "        vertical-align: top;\n",
       "    }\n",
       "\n",
       "    .dataframe thead th {\n",
       "        text-align: right;\n",
       "    }\n",
       "</style>\n",
       "<table border=\"1\" class=\"dataframe\">\n",
       "  <thead>\n",
       "    <tr style=\"text-align: right;\">\n",
       "      <th></th>\n",
       "      <th>Operation</th>\n",
       "      <th>pandas</th>\n",
       "      <th>data.table</th>\n",
       "      <th>speedup</th>\n",
       "    </tr>\n",
       "  </thead>\n",
       "  <tbody>\n",
       "    <tr>\n",
       "      <th>0</th>\n",
       "      <td>csv read</td>\n",
       "      <td>39.236502</td>\n",
       "      <td>17.232919</td>\n",
       "      <td>2.276834</td>\n",
       "    </tr>\n",
       "    <tr>\n",
       "      <th>1</th>\n",
       "      <td>csv write</td>\n",
       "      <td>178.464229</td>\n",
       "      <td>5.207582</td>\n",
       "      <td>34.270076</td>\n",
       "    </tr>\n",
       "    <tr>\n",
       "      <th>2</th>\n",
       "      <td>bool subset</td>\n",
       "      <td>16.302471</td>\n",
       "      <td>1.661012</td>\n",
       "      <td>9.814783</td>\n",
       "    </tr>\n",
       "    <tr>\n",
       "      <th>3</th>\n",
       "      <td>int subset</td>\n",
       "      <td>4.165190</td>\n",
       "      <td>2.382386</td>\n",
       "      <td>1.748327</td>\n",
       "    </tr>\n",
       "    <tr>\n",
       "      <th>4</th>\n",
       "      <td>merge</td>\n",
       "      <td>51.163566</td>\n",
       "      <td>26.371318</td>\n",
       "      <td>1.940122</td>\n",
       "    </tr>\n",
       "    <tr>\n",
       "      <th>5</th>\n",
       "      <td>groupby builtin</td>\n",
       "      <td>52.837778</td>\n",
       "      <td>7.784825</td>\n",
       "      <td>6.787279</td>\n",
       "    </tr>\n",
       "    <tr>\n",
       "      <th>6</th>\n",
       "      <td>groupby custom</td>\n",
       "      <td>126.972942</td>\n",
       "      <td>10.229143</td>\n",
       "      <td>12.412862</td>\n",
       "    </tr>\n",
       "    <tr>\n",
       "      <th>7</th>\n",
       "      <td>groupby custom multiple</td>\n",
       "      <td>240.481452</td>\n",
       "      <td>11.376851</td>\n",
       "      <td>21.137787</td>\n",
       "    </tr>\n",
       "    <tr>\n",
       "      <th>8</th>\n",
       "      <td>unique within col</td>\n",
       "      <td>6.891305</td>\n",
       "      <td>1.423733</td>\n",
       "      <td>4.840307</td>\n",
       "    </tr>\n",
       "    <tr>\n",
       "      <th>9</th>\n",
       "      <td>unique rows</td>\n",
       "      <td>46.452404</td>\n",
       "      <td>6.459529</td>\n",
       "      <td>7.191299</td>\n",
       "    </tr>\n",
       "  </tbody>\n",
       "</table>\n",
       "</div>"
      ],
      "text/plain": [
       "                 Operation      pandas  data.table    speedup\n",
       "0                 csv read   39.236502   17.232919   2.276834\n",
       "1                csv write  178.464229    5.207582  34.270076\n",
       "2              bool subset   16.302471    1.661012   9.814783\n",
       "3               int subset    4.165190    2.382386   1.748327\n",
       "4                    merge   51.163566   26.371318   1.940122\n",
       "5          groupby builtin   52.837778    7.784825   6.787279\n",
       "6           groupby custom  126.972942   10.229143  12.412862\n",
       "7  groupby custom multiple  240.481452   11.376851  21.137787\n",
       "8        unique within col    6.891305    1.423733   4.840307\n",
       "9              unique rows   46.452404    6.459529   7.191299"
      ]
     },
     "execution_count": 51,
     "metadata": {},
     "output_type": "execute_result"
    }
   ],
   "source": [
    "# times are in seconds:\n",
    "summary"
   ]
  }
 ],
 "metadata": {
  "kernelspec": {
   "display_name": "Python 3",
   "language": "python",
   "name": "python3"
  },
  "language_info": {
   "codemirror_mode": {
    "name": "ipython",
    "version": 3
   },
   "file_extension": ".py",
   "mimetype": "text/x-python",
   "name": "python",
   "nbconvert_exporter": "python",
   "pygments_lexer": "ipython3",
   "version": "3.8.8"
  },
  "toc": {
   "base_numbering": 1,
   "nav_menu": {},
   "number_sections": true,
   "sideBar": true,
   "skip_h1_title": false,
   "title_cell": "Table of Contents",
   "title_sidebar": "Contents",
   "toc_cell": false,
   "toc_position": {
    "height": "calc(100% - 180px)",
    "left": "10px",
    "top": "150px",
    "width": "339.111px"
   },
   "toc_section_display": true,
   "toc_window_display": true
  }
 },
 "nbformat": 4,
 "nbformat_minor": 5
}
