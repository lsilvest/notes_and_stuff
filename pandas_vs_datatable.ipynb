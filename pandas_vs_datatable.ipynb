{
 "cells": [
  {
   "cell_type": "markdown",
   "metadata": {},
   "source": [
    "# TL; DR"
   ]
  },
  {
   "cell_type": "markdown",
   "metadata": {},
   "source": [
    "- R's `data.table` is much faster than Python `pandas`' `DataFrame`: between 1.7 and 34 times for a set of standard operations.\n",
    "- Note in particular the order of magnitude for conditional subsetting.\n",
    "- In addition, although this notebook doesn't show it, `data.table` is also more memory efficient.\n",
    "- Notes:\n",
    "    - The benchmarking below is not super rigorous, but good enough to demonstrate the large differences between the two implementations.\n",
    "    - All benchmarks are run on an average laptop under Windows 10, but these differences probably hold across OS and hardware.\n",
    "    - The CSV write is astonishing. The test was run on a Samsung MZVLB512HBJQ which is an SSD drive, but maybe other hardware has better caching capabilities.\n",
    "    - Tried out `modin` (modin==0.10.2 as of writing this), both with `ray` and `dask` and both under Linux and Windows, but doesn't seem to be working out of the box: only `merge` and `csv_write` are faster and all the rest is, sometimes dramatically, slower."
   ]
  },
  {
   "cell_type": "markdown",
   "metadata": {},
   "source": [
    "# Setup"
   ]
  },
  {
   "cell_type": "markdown",
   "metadata": {},
   "source": [
    "We use `rpy2` to run a dual Python/R notebook. Using R, we create a dataframe and save it to disk as a `CSV` file, so that both implementations can retrieve and work on the same data."
   ]
  },
  {
   "cell_type": "code",
   "execution_count": 1,
   "metadata": {},
   "outputs": [],
   "source": [
    "import pandas as pd\n",
    "import modin.pandas as mpd\n",
    "import ray\n",
    "import numpy as np\n",
    "import timeit\n",
    "import os\n",
    "\n",
    "%load_ext rpy2.ipython"
   ]
  },
  {
   "cell_type": "code",
   "execution_count": 2,
   "metadata": {},
   "outputs": [],
   "source": [
    "path = \"~/tmp\""
   ]
  },
  {
   "cell_type": "code",
   "execution_count": 3,
   "metadata": {},
   "outputs": [
    {
     "name": "stderr",
     "output_type": "stream",
     "text": [
      "R[write to console]: data.table 1.14.0 using 1 threads (see ?getDTthreads).  Latest news: r-datatable.com\n",
      "\n"
     ]
    }
   ],
   "source": [
    "%%R\n",
    "library(data.table)\n",
    "library(rbenchmark)"
   ]
  },
  {
   "cell_type": "code",
   "execution_count": 4,
   "metadata": {},
   "outputs": [],
   "source": [
    "%%R\n",
    "path <- \"~/tmp\"\n",
    "\n",
    "N = 1e7  # the total number of rows\n",
    "\n",
    "a_h <- paste0(\"a\", runif(2))\n",
    "b_h <- paste0(\"b\", runif(4))\n",
    "c_h <- paste0(\"c\", runif(1e2))\n",
    "d_h <- paste0(\"d\", runif(1e5))\n",
    "\n",
    "dt <- data.table(a=rep(a_h, length.out=N),\n",
    "                 b=rep(b_h, length.out=N),\n",
    "                 c=rep(c_h, length.out=N),\n",
    "                 d=rep(d_h, length.out=N),\n",
    "                 f=runif(N),\n",
    "                 g=runif(N))\n",
    "                 \n",
    "fwrite(dt, file.path(path, \"temp.csv\"), quote=TRUE)"
   ]
  },
  {
   "cell_type": "code",
   "execution_count": 5,
   "metadata": {},
   "outputs": [],
   "source": [
    "%%R\n",
    "dt_sample_d <- dt[!duplicated(dt[, .(a,b,c,d)])]\n",
    "setnames(dt_sample_d, c(\"f\",\"g\"), c(\"ff\", \"gg\"))\n",
    "fwrite(dt_sample_d, file.path(path, \"temp_sample_d.csv\"), quote=TRUE)"
   ]
  },
  {
   "cell_type": "code",
   "execution_count": 6,
   "metadata": {},
   "outputs": [
    {
     "name": "stdout",
     "output_type": "stream",
     "text": [
      "[1] 100000\n"
     ]
    }
   ],
   "source": [
    "%%R\n",
    "print(nrow(dt_sample_d))"
   ]
  },
  {
   "cell_type": "markdown",
   "metadata": {},
   "source": [
    "# CSV read/write"
   ]
  },
  {
   "cell_type": "markdown",
   "metadata": {},
   "source": [
    "## read"
   ]
  },
  {
   "cell_type": "code",
   "execution_count": 7,
   "metadata": {},
   "outputs": [
    {
     "name": "stderr",
     "output_type": "stream",
     "text": [
      "R[write to console]: |--------------------------------------------------|\n",
      "|\n",
      "R[write to console]: =\n",
      "R[write to console]: =\n",
      "R[write to console]: =\n",
      "R[write to console]: =\n",
      "R[write to console]: =\n",
      "R[write to console]: =\n",
      "R[write to console]: =\n",
      "R[write to console]: =\n",
      "R[write to console]: =\n",
      "R[write to console]: =\n",
      "R[write to console]: =\n",
      "R[write to console]: =\n",
      "R[write to console]: =\n",
      "R[write to console]: =\n",
      "R[write to console]: =\n",
      "R[write to console]: =\n",
      "R[write to console]: =\n",
      "R[write to console]: =\n",
      "R[write to console]: =\n",
      "R[write to console]: =\n",
      "R[write to console]: =\n",
      "R[write to console]: =\n",
      "R[write to console]: =\n",
      "R[write to console]: =\n",
      "R[write to console]: =\n",
      "R[write to console]: =\n",
      "R[write to console]: =\n",
      "R[write to console]: =\n",
      "R[write to console]: =\n",
      "R[write to console]: =\n",
      "R[write to console]: =\n",
      "R[write to console]: =\n",
      "R[write to console]: =\n",
      "R[write to console]: =\n",
      "R[write to console]: =\n",
      "R[write to console]: =\n",
      "R[write to console]: =\n",
      "R[write to console]: =\n",
      "R[write to console]: =\n",
      "R[write to console]: =\n",
      "R[write to console]: =\n",
      "R[write to console]: =\n",
      "R[write to console]: =\n",
      "R[write to console]: =\n",
      "R[write to console]: =\n",
      "R[write to console]: =\n",
      "R[write to console]: =\n",
      "R[write to console]: =\n",
      "R[write to console]: =\n",
      "R[write to console]: =\n",
      "R[write to console]: |\n",
      "\n",
      "R[write to console]: |--------------------------------------------------|\n",
      "|\n",
      "R[write to console]: =\n",
      "R[write to console]: =\n",
      "R[write to console]: =\n",
      "R[write to console]: =\n",
      "R[write to console]: =\n",
      "R[write to console]: =\n",
      "R[write to console]: =\n",
      "R[write to console]: =\n",
      "R[write to console]: =\n",
      "R[write to console]: =\n",
      "R[write to console]: =\n",
      "R[write to console]: =\n",
      "R[write to console]: =\n",
      "R[write to console]: =\n",
      "R[write to console]: =\n",
      "R[write to console]: =\n",
      "R[write to console]: =\n",
      "R[write to console]: =\n",
      "R[write to console]: =\n",
      "R[write to console]: =\n",
      "R[write to console]: =\n",
      "R[write to console]: =\n",
      "R[write to console]: =\n",
      "R[write to console]: =\n",
      "R[write to console]: =\n",
      "R[write to console]: =\n",
      "R[write to console]: =\n",
      "R[write to console]: =\n",
      "R[write to console]: =\n",
      "R[write to console]: =\n",
      "R[write to console]: =\n",
      "R[write to console]: =\n",
      "R[write to console]: =\n",
      "R[write to console]: =\n",
      "R[write to console]: =\n",
      "R[write to console]: =\n",
      "R[write to console]: =\n",
      "R[write to console]: =\n",
      "R[write to console]: =\n",
      "R[write to console]: =\n",
      "R[write to console]: =\n",
      "R[write to console]: =\n",
      "R[write to console]: =\n",
      "R[write to console]: =\n",
      "R[write to console]: =\n",
      "R[write to console]: =\n",
      "R[write to console]: =\n",
      "R[write to console]: =\n",
      "R[write to console]: =\n",
      "R[write to console]: =\n",
      "R[write to console]: |\n",
      "\n",
      "R[write to console]: |--------------------------------------------------|\n",
      "|\n",
      "R[write to console]: =\n",
      "R[write to console]: =\n",
      "R[write to console]: =\n",
      "R[write to console]: =\n",
      "R[write to console]: =\n",
      "R[write to console]: =\n",
      "R[write to console]: =\n",
      "R[write to console]: =\n",
      "R[write to console]: =\n",
      "R[write to console]: =\n",
      "R[write to console]: =\n",
      "R[write to console]: =\n",
      "R[write to console]: =\n",
      "R[write to console]: =\n",
      "R[write to console]: =\n",
      "R[write to console]: =\n",
      "R[write to console]: =\n",
      "R[write to console]: =\n",
      "R[write to console]: =\n",
      "R[write to console]: =\n",
      "R[write to console]: =\n",
      "R[write to console]: =\n",
      "R[write to console]: =\n",
      "R[write to console]: =\n",
      "R[write to console]: =\n",
      "R[write to console]: =\n",
      "R[write to console]: =\n",
      "R[write to console]: =\n",
      "R[write to console]: =\n",
      "R[write to console]: =\n",
      "R[write to console]: =\n",
      "R[write to console]: =\n",
      "R[write to console]: =\n",
      "R[write to console]: =\n",
      "R[write to console]: =\n",
      "R[write to console]: =\n",
      "R[write to console]: =\n",
      "R[write to console]: =\n",
      "R[write to console]: =\n",
      "R[write to console]: =\n",
      "R[write to console]: =\n",
      "R[write to console]: =\n",
      "R[write to console]: =\n",
      "R[write to console]: =\n",
      "R[write to console]: =\n",
      "R[write to console]: =\n",
      "R[write to console]: =\n",
      "R[write to console]: =\n",
      "R[write to console]: =\n",
      "R[write to console]: =\n",
      "R[write to console]: |\n",
      "\n"
     ]
    }
   ],
   "source": [
    "%%R -o csv_read_r\n",
    "\n",
    "s <- Sys.time()\n",
    "for (i in 1:3) \n",
    "    fread(file.path(path, \"temp.csv\"))\n",
    "e <- Sys.time()\n",
    "csv_read_r <- difftime(e, s, units=\"secs\")"
   ]
  },
  {
   "cell_type": "code",
   "execution_count": 8,
   "metadata": {},
   "outputs": [
    {
     "data": {
      "text/plain": [
       "15.635901689529419"
      ]
     },
     "execution_count": 8,
     "metadata": {},
     "output_type": "execute_result"
    }
   ],
   "source": [
    "csv_read_r.item()"
   ]
  },
  {
   "cell_type": "code",
   "execution_count": 9,
   "metadata": {},
   "outputs": [],
   "source": [
    "s = timeit.default_timer()\n",
    "for i in range(0, 3):\n",
    "    pd.read_csv(os.path.join(path, \"temp.csv\"))   \n",
    "e = timeit.default_timer()\n",
    "csv_read_py = e-s"
   ]
  },
  {
   "cell_type": "code",
   "execution_count": 10,
   "metadata": {
    "scrolled": true
   },
   "outputs": [
    {
     "data": {
      "text/plain": [
       "23.68994781697984"
      ]
     },
     "execution_count": 10,
     "metadata": {},
     "output_type": "execute_result"
    }
   ],
   "source": [
    "csv_read_py"
   ]
  },
  {
   "cell_type": "code",
   "execution_count": 11,
   "metadata": {},
   "outputs": [
    {
     "name": "stderr",
     "output_type": "stream",
     "text": [
      "UserWarning: Ray execution environment not yet initialized. Initializing...\n",
      "To remove this warning, run the following python code before doing dataframe operations:\n",
      "\n",
      "    import ray\n",
      "    ray.init()\n",
      "\n",
      "UserWarning: The size of /dev/shm is too small (20664840192 bytes). The required size at least half of RAM (20877469696 bytes). Please, delete files in /dev/shm or increase size of /dev/shm with --shm-size in Docker. Also, you can set the required memory size for each Ray worker in bytes to MODIN_MEMORY environment variable.\n",
      "UserWarning: Parameters provided defaulting to pandas implementation.\n",
      "To request implementation, send an email to feature_requests@modin.org.\n"
     ]
    }
   ],
   "source": [
    "s = timeit.default_timer()\n",
    "for i in range(0, 3):\n",
    "    mpd.read_csv(os.path.join(path, \"temp.csv\"))   \n",
    "e = timeit.default_timer()\n",
    "csv_read_mpy = e-s"
   ]
  },
  {
   "cell_type": "code",
   "execution_count": 12,
   "metadata": {},
   "outputs": [
    {
     "data": {
      "text/plain": [
       "35.80145585400169"
      ]
     },
     "execution_count": 12,
     "metadata": {},
     "output_type": "execute_result"
    }
   ],
   "source": [
    "csv_read_mpy"
   ]
  },
  {
   "cell_type": "markdown",
   "metadata": {},
   "source": [
    "## Write"
   ]
  },
  {
   "cell_type": "code",
   "execution_count": 13,
   "metadata": {},
   "outputs": [
    {
     "name": "stdout",
     "output_type": "stream",
     "text": [
      "[1] 10000000        6\n"
     ]
    }
   ],
   "source": [
    "%%R\n",
    "print(dim(dt))"
   ]
  },
  {
   "cell_type": "code",
   "execution_count": 14,
   "metadata": {},
   "outputs": [
    {
     "name": "stdout",
     "output_type": "stream",
     "text": [
      "                                                                                                                                     \r"
     ]
    }
   ],
   "source": [
    "%%R -o csv_write_r\n",
    "\n",
    "s <- Sys.time()\n",
    "for (i in 1:3) \n",
    "    fwrite(dt, file.path(path, \"temp.csv\"))\n",
    "e <- Sys.time()\n",
    "csv_write_r <- difftime(e, s, units=\"secs\")"
   ]
  },
  {
   "cell_type": "code",
   "execution_count": 15,
   "metadata": {},
   "outputs": [
    {
     "data": {
      "text/plain": [
       "12.786469459533691"
      ]
     },
     "execution_count": 15,
     "metadata": {},
     "output_type": "execute_result"
    }
   ],
   "source": [
    "csv_write_r.item()"
   ]
  },
  {
   "cell_type": "code",
   "execution_count": 16,
   "metadata": {},
   "outputs": [
    {
     "data": {
      "text/plain": [
       "(10000000, 6)"
      ]
     },
     "execution_count": 16,
     "metadata": {},
     "output_type": "execute_result"
    }
   ],
   "source": [
    "df = pd.read_csv(os.path.join(path, \"temp.csv\"))\n",
    "df.shape"
   ]
  },
  {
   "cell_type": "code",
   "execution_count": 17,
   "metadata": {},
   "outputs": [],
   "source": [
    "s = timeit.default_timer()\n",
    "for i in range(0, 3):\n",
    "    df.to_csv(os.path.join(path, \"temp_a.csv\"))   \n",
    "e = timeit.default_timer()\n",
    "csv_write_py = e-s"
   ]
  },
  {
   "cell_type": "code",
   "execution_count": 18,
   "metadata": {},
   "outputs": [
    {
     "data": {
      "text/plain": [
       "126.7582435059885"
      ]
     },
     "execution_count": 18,
     "metadata": {},
     "output_type": "execute_result"
    }
   ],
   "source": [
    "csv_write_py"
   ]
  },
  {
   "cell_type": "code",
   "execution_count": 19,
   "metadata": {},
   "outputs": [],
   "source": [
    "mdf = mpd.read_csv(os.path.join(path, \"temp.csv\"))"
   ]
  },
  {
   "cell_type": "code",
   "execution_count": 20,
   "metadata": {},
   "outputs": [],
   "source": [
    "s = timeit.default_timer()\n",
    "for i in range(0, 3):\n",
    "    mdf.to_csv(os.path.join(path, \"temp_a.csv\"))   \n",
    "e = timeit.default_timer()\n",
    "csv_write_mpy = e-s"
   ]
  },
  {
   "cell_type": "code",
   "execution_count": 21,
   "metadata": {},
   "outputs": [
    {
     "data": {
      "text/plain": [
       "31.90112459100783"
      ]
     },
     "execution_count": 21,
     "metadata": {},
     "output_type": "execute_result"
    }
   ],
   "source": [
    "csv_write_mpy"
   ]
  },
  {
   "cell_type": "markdown",
   "metadata": {},
   "source": [
    "# Subsetting"
   ]
  },
  {
   "cell_type": "markdown",
   "metadata": {},
   "source": [
    "## Boolean condition"
   ]
  },
  {
   "cell_type": "code",
   "execution_count": 22,
   "metadata": {},
   "outputs": [],
   "source": [
    "%%R -o subset_r\n",
    "afind = dt$a[1]\n",
    "bfind = dt$b[1]\n",
    "\n",
    "s <- Sys.time()\n",
    "for (i in 1:10)\n",
    "    dt[a==afind & b==bfind]\n",
    "e <- Sys.time()\n",
    "subset_r <- difftime(e, s, units=\"secs\")"
   ]
  },
  {
   "cell_type": "code",
   "execution_count": 23,
   "metadata": {},
   "outputs": [
    {
     "data": {
      "text/plain": [
       "1.4641764163970947"
      ]
     },
     "execution_count": 23,
     "metadata": {},
     "output_type": "execute_result"
    }
   ],
   "source": [
    "subset_r.item()"
   ]
  },
  {
   "cell_type": "code",
   "execution_count": 24,
   "metadata": {},
   "outputs": [],
   "source": [
    "afind = df.a[0]\n",
    "bfind = df.b[0]\n",
    "\n",
    "s = timeit.default_timer()\n",
    "for i in range(0, 10):\n",
    "    df[(df.a==afind) & (df.b==bfind)]\n",
    "e = timeit.default_timer()\n",
    "subset_py = e-s"
   ]
  },
  {
   "cell_type": "code",
   "execution_count": 25,
   "metadata": {},
   "outputs": [
    {
     "data": {
      "text/plain": [
       "12.235067892004736"
      ]
     },
     "execution_count": 25,
     "metadata": {},
     "output_type": "execute_result"
    }
   ],
   "source": [
    "subset_py"
   ]
  },
  {
   "cell_type": "code",
   "execution_count": 26,
   "metadata": {},
   "outputs": [],
   "source": [
    "afind = mdf.a[0]\n",
    "bfind = mdf.b[0]\n",
    "\n",
    "s = timeit.default_timer()\n",
    "for i in range(0, 10):\n",
    "    mdf[(mdf.a==afind) & (mdf.b==bfind)]\n",
    "e = timeit.default_timer()\n",
    "subset_mpy = e-s"
   ]
  },
  {
   "cell_type": "code",
   "execution_count": 27,
   "metadata": {},
   "outputs": [
    {
     "data": {
      "text/plain": [
       "19.219890233012848"
      ]
     },
     "execution_count": 27,
     "metadata": {},
     "output_type": "execute_result"
    }
   ],
   "source": [
    "subset_mpy"
   ]
  },
  {
   "cell_type": "markdown",
   "metadata": {},
   "source": [
    "## Integer index"
   ]
  },
  {
   "cell_type": "code",
   "execution_count": 28,
   "metadata": {},
   "outputs": [],
   "source": [
    "%%R -o subset_int_r\n",
    "idx <- seq(1, nrow(dt), by=2)\n",
    "\n",
    "s <- Sys.time()\n",
    "for (i in 1:10) \n",
    "    dt[idx]\n",
    "e <- Sys.time()\n",
    "subset_int_r <- difftime(e, s, units=\"secs\")"
   ]
  },
  {
   "cell_type": "code",
   "execution_count": 29,
   "metadata": {},
   "outputs": [
    {
     "data": {
      "text/plain": [
       "array([2.38951945])"
      ]
     },
     "execution_count": 29,
     "metadata": {},
     "output_type": "execute_result"
    }
   ],
   "source": [
    "subset_int_r"
   ]
  },
  {
   "cell_type": "code",
   "execution_count": 30,
   "metadata": {},
   "outputs": [],
   "source": [
    "idx = np.arange(0, df.shape[0], step=2)\n",
    "s = timeit.default_timer()\n",
    "for i in range(0,10):\n",
    "    df.iloc[idx]\n",
    "e = timeit.default_timer()\n",
    "subset_int_py = e-s"
   ]
  },
  {
   "cell_type": "code",
   "execution_count": 31,
   "metadata": {},
   "outputs": [
    {
     "data": {
      "text/plain": [
       "3.26325211499352"
      ]
     },
     "execution_count": 31,
     "metadata": {},
     "output_type": "execute_result"
    }
   ],
   "source": [
    "subset_int_py"
   ]
  },
  {
   "cell_type": "code",
   "execution_count": 32,
   "metadata": {},
   "outputs": [],
   "source": [
    "idx = np.arange(0, mdf.shape[0], step=2)\n",
    "s = timeit.default_timer()\n",
    "for i in range(0,10):\n",
    "    mdf.iloc[idx]\n",
    "e = timeit.default_timer()\n",
    "subset_int_mpy = e-s"
   ]
  },
  {
   "cell_type": "code",
   "execution_count": 33,
   "metadata": {},
   "outputs": [
    {
     "data": {
      "text/plain": [
       "26.182289513002615"
      ]
     },
     "execution_count": 33,
     "metadata": {},
     "output_type": "execute_result"
    }
   ],
   "source": [
    "subset_int_mpy"
   ]
  },
  {
   "cell_type": "markdown",
   "metadata": {},
   "source": [
    "# Merge\n"
   ]
  },
  {
   "cell_type": "code",
   "execution_count": 34,
   "metadata": {},
   "outputs": [],
   "source": [
    "%%R -o merge_r\n",
    "\n",
    "s <- Sys.time()\n",
    "for (i in 1:10)\n",
    "    merge(dt, dt_sample_d, by=c(\"a\",\"b\",\"c\",\"d\"))\n",
    "e <- Sys.time()\n",
    "merge_r <- subset_r <- difftime(e, s, units=\"secs\")"
   ]
  },
  {
   "cell_type": "code",
   "execution_count": 35,
   "metadata": {},
   "outputs": [
    {
     "data": {
      "text/plain": [
       "36.40645885467529"
      ]
     },
     "execution_count": 35,
     "metadata": {},
     "output_type": "execute_result"
    }
   ],
   "source": [
    "merge_r.item()"
   ]
  },
  {
   "cell_type": "code",
   "execution_count": 36,
   "metadata": {},
   "outputs": [],
   "source": [
    "df_sample_d = pd.read_csv(os.path.join(path, \"temp_sample_d.csv\"))\n",
    "\n",
    "s = timeit.default_timer()\n",
    "for i in range(0,10):\n",
    "    df.merge(df_sample_d, on=[\"a\",\"b\",\"c\",\"d\"])\n",
    "e = timeit.default_timer()\n",
    "merge_py = e-s"
   ]
  },
  {
   "cell_type": "code",
   "execution_count": 37,
   "metadata": {},
   "outputs": [
    {
     "data": {
      "text/plain": [
       "38.71329345900449"
      ]
     },
     "execution_count": 37,
     "metadata": {},
     "output_type": "execute_result"
    }
   ],
   "source": [
    "merge_py"
   ]
  },
  {
   "cell_type": "code",
   "execution_count": 38,
   "metadata": {},
   "outputs": [],
   "source": [
    "mdf_sample_d = mpd.read_csv(os.path.join(path, \"temp_sample_d.csv\"))\n",
    "\n",
    "s = timeit.default_timer()\n",
    "for i in range(0,10):\n",
    "    mdf.merge(mdf_sample_d, on=[\"a\",\"b\",\"c\",\"d\"])\n",
    "e = timeit.default_timer()\n",
    "merge_mpy = e-s"
   ]
  },
  {
   "cell_type": "code",
   "execution_count": 39,
   "metadata": {},
   "outputs": [
    {
     "data": {
      "text/plain": [
       "29.119130103994394"
      ]
     },
     "execution_count": 39,
     "metadata": {},
     "output_type": "execute_result"
    }
   ],
   "source": [
    "merge_mpy"
   ]
  },
  {
   "cell_type": "markdown",
   "metadata": {},
   "source": [
    "# Groupby"
   ]
  },
  {
   "cell_type": "markdown",
   "metadata": {},
   "source": [
    "## Built-in `mean`"
   ]
  },
  {
   "cell_type": "code",
   "execution_count": 40,
   "metadata": {},
   "outputs": [],
   "source": [
    "%%R -o groupby_builtin_r\n",
    "\n",
    "s <- Sys.time()\n",
    "for (i in 1:10) \n",
    "    dt[, list(mean(f), mean(g)), by=.(a,b,c,d)]\n",
    "e <- Sys.time()\n",
    "groupby_builtin_r <- difftime(e, s, units=\"secs\")"
   ]
  },
  {
   "cell_type": "code",
   "execution_count": 41,
   "metadata": {},
   "outputs": [
    {
     "data": {
      "text/plain": [
       "11.856996059417725"
      ]
     },
     "execution_count": 41,
     "metadata": {},
     "output_type": "execute_result"
    }
   ],
   "source": [
    "groupby_builtin_r.item()"
   ]
  },
  {
   "cell_type": "code",
   "execution_count": 42,
   "metadata": {},
   "outputs": [],
   "source": [
    "s = timeit.default_timer()\n",
    "for i in range(0, 10):\n",
    "    df.groupby(['a', 'b', 'c', 'd']).mean()\n",
    "e = timeit.default_timer()\n",
    "groupby_builtin_py = e-s"
   ]
  },
  {
   "cell_type": "code",
   "execution_count": 43,
   "metadata": {
    "scrolled": true
   },
   "outputs": [
    {
     "data": {
      "text/plain": [
       "39.23730262098252"
      ]
     },
     "execution_count": 43,
     "metadata": {},
     "output_type": "execute_result"
    }
   ],
   "source": [
    "groupby_builtin_py"
   ]
  },
  {
   "cell_type": "code",
   "execution_count": 44,
   "metadata": {},
   "outputs": [],
   "source": [
    "s = timeit.default_timer()\n",
    "for i in range(0, 10):\n",
    "    mdf.groupby(['a', 'b', 'c', 'd']).mean()\n",
    "e = timeit.default_timer()\n",
    "groupby_builtin_mpy = e-s"
   ]
  },
  {
   "cell_type": "code",
   "execution_count": 45,
   "metadata": {
    "scrolled": true
   },
   "outputs": [
    {
     "data": {
      "text/plain": [
       "99.87527405799483"
      ]
     },
     "execution_count": 45,
     "metadata": {},
     "output_type": "execute_result"
    }
   ],
   "source": [
    "groupby_builtin_mpy"
   ]
  },
  {
   "cell_type": "markdown",
   "metadata": {},
   "source": [
    "## Custom function"
   ]
  },
  {
   "cell_type": "code",
   "execution_count": 46,
   "metadata": {},
   "outputs": [],
   "source": [
    "%%R -o groupby_custom_r\n",
    "\n",
    "get_nrows <- function(x) nrow(x)\n",
    "\n",
    "s <- Sys.time()\n",
    "for (i in 1:10)\n",
    "    dt[, list(N=get_nrows(.SD)), by=.(a,b,c,d)]\n",
    "e <- Sys.time()\n",
    "groupby_custom_r <- difftime(e, s, units=\"secs\")"
   ]
  },
  {
   "cell_type": "code",
   "execution_count": 47,
   "metadata": {},
   "outputs": [
    {
     "data": {
      "text/plain": [
       "11.829243183135986"
      ]
     },
     "execution_count": 47,
     "metadata": {},
     "output_type": "execute_result"
    }
   ],
   "source": [
    "groupby_custom_r.item()"
   ]
  },
  {
   "cell_type": "code",
   "execution_count": 48,
   "metadata": {},
   "outputs": [],
   "source": [
    "def get_nrows(x):\n",
    "    return x.shape[0]\n",
    "\n",
    "s = timeit.default_timer()\n",
    "for i in range(0, 10):\n",
    "    df.groupby(['a', 'b', 'c', 'd']).apply(get_nrows)\n",
    "e = timeit.default_timer()\n",
    "groupby_custom_py = e-s"
   ]
  },
  {
   "cell_type": "code",
   "execution_count": 49,
   "metadata": {},
   "outputs": [
    {
     "data": {
      "text/plain": [
       "96.0158728910028"
      ]
     },
     "execution_count": 49,
     "metadata": {},
     "output_type": "execute_result"
    }
   ],
   "source": [
    "groupby_custom_py"
   ]
  },
  {
   "cell_type": "code",
   "execution_count": 50,
   "metadata": {},
   "outputs": [],
   "source": [
    "def get_nrows(x):\n",
    "    return x.shape[0]\n",
    "\n",
    "s = timeit.default_timer()\n",
    "for i in range(0, 10):\n",
    "    mdf.groupby(['a', 'b', 'c', 'd']).apply(get_nrows)\n",
    "e = timeit.default_timer()\n",
    "groupby_custom_mpy = e-s"
   ]
  },
  {
   "cell_type": "code",
   "execution_count": 51,
   "metadata": {},
   "outputs": [
    {
     "data": {
      "text/plain": [
       "158.1017251239973"
      ]
     },
     "execution_count": 51,
     "metadata": {},
     "output_type": "execute_result"
    }
   ],
   "source": [
    "groupby_custom_mpy"
   ]
  },
  {
   "cell_type": "markdown",
   "metadata": {},
   "source": [
    "## Custom function multiple variables"
   ]
  },
  {
   "cell_type": "code",
   "execution_count": 52,
   "metadata": {},
   "outputs": [],
   "source": [
    "%%R -o groupby_custom_r_2\n",
    "\n",
    "get_nrows <- function(x) nrow(x)\n",
    "\n",
    "s <- Sys.time()\n",
    "for (i in 1:10)\n",
    "    dt[, list(mean=mean(g), N=get_nrows(.SD)), by=.(a,b,c,d)]\n",
    "e <- Sys.time()\n",
    "groupby_custom_r_2 <- difftime(e, s, units=\"secs\")"
   ]
  },
  {
   "cell_type": "code",
   "execution_count": 53,
   "metadata": {},
   "outputs": [
    {
     "data": {
      "text/plain": [
       "14.819897174835205"
      ]
     },
     "execution_count": 53,
     "metadata": {},
     "output_type": "execute_result"
    }
   ],
   "source": [
    "groupby_custom_r_2.item()"
   ]
  },
  {
   "cell_type": "code",
   "execution_count": 54,
   "metadata": {},
   "outputs": [],
   "source": [
    "def get_nrows(x):\n",
    "    return {\"mean\": np.mean(x.g), \"N\": x.shape[0]}\n",
    "\n",
    "s = timeit.default_timer()\n",
    "for i in range(0, 10):\n",
    "    df.groupby(['a', 'b', 'c', 'd']).apply(get_nrows)\n",
    "e = timeit.default_timer()\n",
    "groupby_custom_py_2 = e-s"
   ]
  },
  {
   "cell_type": "code",
   "execution_count": 55,
   "metadata": {},
   "outputs": [
    {
     "data": {
      "text/plain": [
       "180.62255078699673"
      ]
     },
     "execution_count": 55,
     "metadata": {},
     "output_type": "execute_result"
    }
   ],
   "source": [
    "groupby_custom_py_2"
   ]
  },
  {
   "cell_type": "code",
   "execution_count": 56,
   "metadata": {},
   "outputs": [],
   "source": [
    "def get_nrows(x):\n",
    "    return {\"mean\": np.mean(x.g), \"N\": x.shape[0]}\n",
    "\n",
    "s = timeit.default_timer()\n",
    "for i in range(0, 10):\n",
    "    mdf.groupby(['a', 'b', 'c', 'd']).apply(get_nrows)\n",
    "e = timeit.default_timer()\n",
    "groupby_custom_mpy_2 = e-s"
   ]
  },
  {
   "cell_type": "code",
   "execution_count": 57,
   "metadata": {},
   "outputs": [
    {
     "data": {
      "text/plain": [
       "245.4137103749963"
      ]
     },
     "execution_count": 57,
     "metadata": {},
     "output_type": "execute_result"
    }
   ],
   "source": [
    "groupby_custom_mpy_2"
   ]
  },
  {
   "cell_type": "markdown",
   "metadata": {},
   "source": [
    "# Unique"
   ]
  },
  {
   "cell_type": "markdown",
   "metadata": {},
   "source": [
    "## Elements of a column"
   ]
  },
  {
   "cell_type": "code",
   "execution_count": 58,
   "metadata": {},
   "outputs": [],
   "source": [
    "%%R -o unique_r\n",
    "\n",
    "s <- Sys.time()\n",
    "for (i in 1:10)\n",
    "    unique(dt$c)\n",
    "e <- Sys.time()\n",
    "unique_r <- difftime(e, s, units=\"secs\")"
   ]
  },
  {
   "cell_type": "code",
   "execution_count": 59,
   "metadata": {},
   "outputs": [
    {
     "data": {
      "text/plain": [
       "1.7795279026031494"
      ]
     },
     "execution_count": 59,
     "metadata": {},
     "output_type": "execute_result"
    }
   ],
   "source": [
    "unique_r.item()"
   ]
  },
  {
   "cell_type": "code",
   "execution_count": 60,
   "metadata": {},
   "outputs": [],
   "source": [
    "s = timeit.default_timer()\n",
    "for i in range(0, 10):\n",
    "    df.c.unique()\n",
    "e = timeit.default_timer()\n",
    "unique_py = e-s"
   ]
  },
  {
   "cell_type": "code",
   "execution_count": 61,
   "metadata": {},
   "outputs": [
    {
     "data": {
      "text/plain": [
       "5.20910850900691"
      ]
     },
     "execution_count": 61,
     "metadata": {},
     "output_type": "execute_result"
    }
   ],
   "source": [
    "unique_py"
   ]
  },
  {
   "cell_type": "code",
   "execution_count": 62,
   "metadata": {},
   "outputs": [],
   "source": [
    "s = timeit.default_timer()\n",
    "for i in range(0, 10):\n",
    "    mdf.c.unique()\n",
    "e = timeit.default_timer()\n",
    "unique_mpy = e-s"
   ]
  },
  {
   "cell_type": "code",
   "execution_count": 63,
   "metadata": {},
   "outputs": [
    {
     "data": {
      "text/plain": [
       "11.413826890988275"
      ]
     },
     "execution_count": 63,
     "metadata": {},
     "output_type": "execute_result"
    }
   ],
   "source": [
    "unique_mpy"
   ]
  },
  {
   "cell_type": "markdown",
   "metadata": {},
   "source": [
    "## Rows"
   ]
  },
  {
   "cell_type": "code",
   "execution_count": 64,
   "metadata": {},
   "outputs": [],
   "source": [
    "%%R -o unique_row_r\n",
    "\n",
    "s <- Sys.time()\n",
    "for (i in 1:10)\n",
    "        unique(dt, by=c(\"a\",\"b\",\"c\",\"d\"))\n",
    "e <- Sys.time()\n",
    "unique_row_r <- difftime(e, s, units=\"secs\")"
   ]
  },
  {
   "cell_type": "code",
   "execution_count": 65,
   "metadata": {},
   "outputs": [
    {
     "data": {
      "text/plain": [
       "8.304207563400269"
      ]
     },
     "execution_count": 65,
     "metadata": {},
     "output_type": "execute_result"
    }
   ],
   "source": [
    "unique_row_r.item()"
   ]
  },
  {
   "cell_type": "code",
   "execution_count": 66,
   "metadata": {},
   "outputs": [],
   "source": [
    "s = timeit.default_timer()\n",
    "for i in range(0, 10):\n",
    "    df.drop_duplicates(subset=[\"a\",\"b\",\"c\",\"d\"])\n",
    "e = timeit.default_timer()\n",
    "unique_row_py = e-s"
   ]
  },
  {
   "cell_type": "code",
   "execution_count": 67,
   "metadata": {},
   "outputs": [
    {
     "data": {
      "text/plain": [
       "32.04370676301187"
      ]
     },
     "execution_count": 67,
     "metadata": {},
     "output_type": "execute_result"
    }
   ],
   "source": [
    "unique_row_py"
   ]
  },
  {
   "cell_type": "code",
   "execution_count": 68,
   "metadata": {},
   "outputs": [],
   "source": [
    "s = timeit.default_timer()\n",
    "for i in range(0, 10):\n",
    "    mdf.drop_duplicates(subset=[\"a\",\"b\",\"c\",\"d\"])\n",
    "e = timeit.default_timer()\n",
    "unique_row_mpy = e-s"
   ]
  },
  {
   "cell_type": "code",
   "execution_count": 69,
   "metadata": {},
   "outputs": [
    {
     "data": {
      "text/plain": [
       "444.421146587003"
      ]
     },
     "execution_count": 69,
     "metadata": {},
     "output_type": "execute_result"
    }
   ],
   "source": [
    "unique_row_mpy"
   ]
  },
  {
   "cell_type": "markdown",
   "metadata": {},
   "source": [
    "# Summary"
   ]
  },
  {
   "cell_type": "code",
   "execution_count": 70,
   "metadata": {},
   "outputs": [],
   "source": [
    "summary = pd.DataFrame({\"Operation\": [\"csv read\", \"csv write\", \n",
    "                                      \"bool subset\", \"int subset\", \n",
    "                                      \"merge\",\n",
    "                                      \"groupby builtin\", \"groupby custom\", \"groupby custom multiple\",\n",
    "                                      \"unique within col\", \"unique rows\"], \n",
    "                 \"pandas\": [csv_read_py, csv_write_py, \n",
    "                            subset_py, subset_int_py,\n",
    "                            merge_py,\n",
    "                            groupby_builtin_py, groupby_custom_py, groupby_custom_py_2,\n",
    "                            unique_py, unique_row_py], \n",
    "                 \"modin\": [csv_read_mpy, csv_write_mpy, \n",
    "                            subset_mpy, subset_int_mpy,\n",
    "                            merge_mpy,\n",
    "                            groupby_builtin_mpy, groupby_custom_mpy, groupby_custom_mpy_2,\n",
    "                            unique_mpy, unique_row_mpy], \n",
    "                 \"data.table\": [csv_read_r, csv_write_r, \n",
    "                                subset_r, subset_int_r,\n",
    "                                merge_r,\n",
    "                                groupby_builtin_r, groupby_custom_r, groupby_custom_r_2, \n",
    "                                unique_r, unique_row_r]})"
   ]
  },
  {
   "cell_type": "code",
   "execution_count": 71,
   "metadata": {},
   "outputs": [],
   "source": [
    "summary[\"data.table\"] = summary[\"data.table\"].apply(lambda x: x.item())"
   ]
  },
  {
   "cell_type": "code",
   "execution_count": 72,
   "metadata": {},
   "outputs": [],
   "source": [
    "summary[\"modin speedup\"] = summary.pandas / summary.modin\n",
    "summary[\"data.table speedup\"] = summary.pandas / summary[\"data.table\"]"
   ]
  },
  {
   "cell_type": "code",
   "execution_count": 73,
   "metadata": {},
   "outputs": [
    {
     "data": {
      "text/html": [
       "<div>\n",
       "<style scoped>\n",
       "    .dataframe tbody tr th:only-of-type {\n",
       "        vertical-align: middle;\n",
       "    }\n",
       "\n",
       "    .dataframe tbody tr th {\n",
       "        vertical-align: top;\n",
       "    }\n",
       "\n",
       "    .dataframe thead th {\n",
       "        text-align: right;\n",
       "    }\n",
       "</style>\n",
       "<table border=\"1\" class=\"dataframe\">\n",
       "  <thead>\n",
       "    <tr style=\"text-align: right;\">\n",
       "      <th></th>\n",
       "      <th>Operation</th>\n",
       "      <th>pandas</th>\n",
       "      <th>modin</th>\n",
       "      <th>data.table</th>\n",
       "      <th>modin speedup</th>\n",
       "      <th>data.table speedup</th>\n",
       "    </tr>\n",
       "  </thead>\n",
       "  <tbody>\n",
       "    <tr>\n",
       "      <th>0</th>\n",
       "      <td>csv read</td>\n",
       "      <td>23.689948</td>\n",
       "      <td>35.801456</td>\n",
       "      <td>15.635902</td>\n",
       "      <td>0.661703</td>\n",
       "      <td>1.515100</td>\n",
       "    </tr>\n",
       "    <tr>\n",
       "      <th>1</th>\n",
       "      <td>csv write</td>\n",
       "      <td>126.758244</td>\n",
       "      <td>31.901125</td>\n",
       "      <td>12.786469</td>\n",
       "      <td>3.973473</td>\n",
       "      <td>9.913467</td>\n",
       "    </tr>\n",
       "    <tr>\n",
       "      <th>2</th>\n",
       "      <td>bool subset</td>\n",
       "      <td>12.235068</td>\n",
       "      <td>19.219890</td>\n",
       "      <td>1.464176</td>\n",
       "      <td>0.636584</td>\n",
       "      <td>8.356280</td>\n",
       "    </tr>\n",
       "    <tr>\n",
       "      <th>3</th>\n",
       "      <td>int subset</td>\n",
       "      <td>3.263252</td>\n",
       "      <td>26.182290</td>\n",
       "      <td>2.389519</td>\n",
       "      <td>0.124636</td>\n",
       "      <td>1.365652</td>\n",
       "    </tr>\n",
       "    <tr>\n",
       "      <th>4</th>\n",
       "      <td>merge</td>\n",
       "      <td>38.713293</td>\n",
       "      <td>29.119130</td>\n",
       "      <td>36.406459</td>\n",
       "      <td>1.329480</td>\n",
       "      <td>1.063363</td>\n",
       "    </tr>\n",
       "    <tr>\n",
       "      <th>5</th>\n",
       "      <td>groupby builtin</td>\n",
       "      <td>39.237303</td>\n",
       "      <td>99.875274</td>\n",
       "      <td>11.856996</td>\n",
       "      <td>0.392863</td>\n",
       "      <td>3.309211</td>\n",
       "    </tr>\n",
       "    <tr>\n",
       "      <th>6</th>\n",
       "      <td>groupby custom</td>\n",
       "      <td>96.015873</td>\n",
       "      <td>158.101725</td>\n",
       "      <td>11.829243</td>\n",
       "      <td>0.607304</td>\n",
       "      <td>8.116823</td>\n",
       "    </tr>\n",
       "    <tr>\n",
       "      <th>7</th>\n",
       "      <td>groupby custom multiple</td>\n",
       "      <td>180.622551</td>\n",
       "      <td>245.413710</td>\n",
       "      <td>14.819897</td>\n",
       "      <td>0.735992</td>\n",
       "      <td>12.187841</td>\n",
       "    </tr>\n",
       "    <tr>\n",
       "      <th>8</th>\n",
       "      <td>unique within col</td>\n",
       "      <td>5.209109</td>\n",
       "      <td>11.413827</td>\n",
       "      <td>1.779528</td>\n",
       "      <td>0.456386</td>\n",
       "      <td>2.927242</td>\n",
       "    </tr>\n",
       "    <tr>\n",
       "      <th>9</th>\n",
       "      <td>unique rows</td>\n",
       "      <td>32.043707</td>\n",
       "      <td>444.421147</td>\n",
       "      <td>8.304208</td>\n",
       "      <td>0.072102</td>\n",
       "      <td>3.858731</td>\n",
       "    </tr>\n",
       "  </tbody>\n",
       "</table>\n",
       "</div>"
      ],
      "text/plain": [
       "                 Operation      pandas       modin  data.table  modin speedup  \\\n",
       "0                 csv read   23.689948   35.801456   15.635902       0.661703   \n",
       "1                csv write  126.758244   31.901125   12.786469       3.973473   \n",
       "2              bool subset   12.235068   19.219890    1.464176       0.636584   \n",
       "3               int subset    3.263252   26.182290    2.389519       0.124636   \n",
       "4                    merge   38.713293   29.119130   36.406459       1.329480   \n",
       "5          groupby builtin   39.237303   99.875274   11.856996       0.392863   \n",
       "6           groupby custom   96.015873  158.101725   11.829243       0.607304   \n",
       "7  groupby custom multiple  180.622551  245.413710   14.819897       0.735992   \n",
       "8        unique within col    5.209109   11.413827    1.779528       0.456386   \n",
       "9              unique rows   32.043707  444.421147    8.304208       0.072102   \n",
       "\n",
       "   data.table speedup  \n",
       "0            1.515100  \n",
       "1            9.913467  \n",
       "2            8.356280  \n",
       "3            1.365652  \n",
       "4            1.063363  \n",
       "5            3.309211  \n",
       "6            8.116823  \n",
       "7           12.187841  \n",
       "8            2.927242  \n",
       "9            3.858731  "
      ]
     },
     "execution_count": 73,
     "metadata": {},
     "output_type": "execute_result"
    }
   ],
   "source": [
    "# times are in seconds:\n",
    "summary"
   ]
  }
 ],
 "metadata": {
  "kernelspec": {
   "display_name": "Python 3",
   "language": "python",
   "name": "python3"
  },
  "language_info": {
   "codemirror_mode": {
    "name": "ipython",
    "version": 3
   },
   "file_extension": ".py",
   "mimetype": "text/x-python",
   "name": "python",
   "nbconvert_exporter": "python",
   "pygments_lexer": "ipython3",
   "version": "3.8.3"
  },
  "toc": {
   "base_numbering": 1,
   "nav_menu": {},
   "number_sections": true,
   "sideBar": true,
   "skip_h1_title": false,
   "title_cell": "Table of Contents",
   "title_sidebar": "Contents",
   "toc_cell": false,
   "toc_position": {
    "height": "calc(100% - 180px)",
    "left": "10px",
    "top": "150px",
    "width": "339.111px"
   },
   "toc_section_display": true,
   "toc_window_display": true
  }
 },
 "nbformat": 4,
 "nbformat_minor": 5
}
