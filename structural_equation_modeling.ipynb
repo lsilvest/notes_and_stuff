{
 "cells": [
  {
   "cell_type": "markdown",
   "id": "366b4cf4",
   "metadata": {},
   "source": [
    "# Main characteristics of SEM\n",
    "\n",
    "Two main novel ideas compared to classic multivariate regression:\n",
    "\n",
    "- Path analysis: model non-causal as well as causal relationships\n",
    "- Latent variables: model unmeasurable concepts (e.g. intelligence, happiness, etc.)\n",
    "\n",
    "Usefulness of SEM:\n",
    "- understand relationships between concepts, especially causal ones\n",
    "- white box modeling"
   ]
  },
  {
   "cell_type": "markdown",
   "id": "eb511ae9",
   "metadata": {},
   "source": [
    "# Setup"
   ]
  },
  {
   "cell_type": "code",
   "execution_count": 1,
   "id": "cd086944",
   "metadata": {
    "tags": [
     "hide-cell"
    ]
   },
   "outputs": [
    {
     "name": "stderr",
     "output_type": "stream",
     "text": [
      "This is lavaan 0.6-12\n",
      "lavaan is FREE software! Please report any bugs.\n",
      "\n"
     ]
    }
   ],
   "source": [
    "library(lavaan)   ## 'lavaan' is an R library for SEM\n",
    "library(semPlot)  ## 'semPlot' plots path diagrams\n",
    "library(foreign)  ## for reading spss files\n",
    "library(data.table)"
   ]
  },
  {
   "cell_type": "markdown",
   "id": "0f6fd5e8",
   "metadata": {},
   "source": [
    "# Path Analysis"
   ]
  },
  {
   "cell_type": "markdown",
   "id": "6a16fea6",
   "metadata": {},
   "source": [
    "## Path analysis example"
   ]
  },
  {
   "cell_type": "markdown",
   "id": "92cd6963",
   "metadata": {},
   "source": [
    "Here and below, using example from section 5 of [1].\n",
    "\n",
    "![example](sem_data/sem_1.JPG)"
   ]
  },
  {
   "cell_type": "markdown",
   "id": "daa6b73d",
   "metadata": {},
   "source": [
    "## Multiple Regression"
   ]
  },
  {
   "cell_type": "code",
   "execution_count": 279,
   "id": "223fa0ec",
   "metadata": {},
   "outputs": [
    {
     "name": "stderr",
     "output_type": "stream",
     "text": [
      "re-encoding from CP1252\n",
      "\n"
     ]
    },
    {
     "name": "stdout",
     "output_type": "stream",
     "text": [
      "[1] 887\n",
      "   f1txhstd  byses bygrads f1cncpt2 f1locus2\n",
      "1:    61.71 -0.563     3.8    -0.10    -0.14\n",
      "2:    46.98  0.123     2.5    -0.45    -0.58\n",
      "3:    50.48  0.229     2.8     0.33    -0.59\n",
      "4:    56.48  0.687     3.5    -0.02     0.07\n",
      "5:    55.32  0.633     3.3    -0.09    -0.85\n",
      "6:    39.67  0.992     2.5    -0.28     0.07\n"
     ]
    }
   ],
   "source": [
    "filename <- \"./sem_data/nels_par_3.sav\"\n",
    "dt <- as.data.table(read.spss(filename, use.value.labels=FALSE, to.data.frame=TRUE))\n",
    "dt <- dt[, .(f1txhstd, byses, bygrads, f1cncpt2, f1locus2)]\n",
    "dt <- na.omit(dt)\n",
    "print(nrow(dt))\n",
    "print(head(dt))"
   ]
  },
  {
   "cell_type": "markdown",
   "id": "a0a3eeed",
   "metadata": {},
   "source": [
    "### Correlations"
   ]
  },
  {
   "cell_type": "code",
   "execution_count": 249,
   "id": "d260cc00",
   "metadata": {},
   "outputs": [
    {
     "name": "stdout",
     "output_type": "stream",
     "text": [
      "lavaan 0.6-12 ended normally after 1 iterations\n",
      "\n",
      "  Estimator                                         ML\n",
      "  Optimization method                           NLMINB\n",
      "  Number of model parameters                         3\n",
      "\n",
      "  Number of observations                           887\n",
      "\n",
      "Model Test User Model:\n",
      "                                                      \n",
      "  Test statistic                                 0.000\n",
      "  Degrees of freedom                                 0\n",
      "\n",
      "Parameter Estimates:\n",
      "\n",
      "  Standard errors                             Standard\n",
      "  Information                                 Expected\n",
      "  Information saturated (h1) model          Structured\n",
      "\n",
      "Regressions:\n",
      "                   Estimate  Std.Err  z-value  P(>|z|)   Std.lv  Std.all\n",
      "  f1txhstd ~                                                            \n",
      "    byses             3.875    0.376   10.298    0.000    3.875    0.300\n",
      "    bygrads           5.420    0.394   13.748    0.000    5.420    0.400\n",
      "\n",
      "Variances:\n",
      "                   Estimate  Std.Err  z-value  P(>|z|)   Std.lv  Std.all\n",
      "   .f1txhstd         65.315    3.101   21.059    0.000   65.315    0.672\n",
      "\n",
      "R-Square:\n",
      "                   Estimate\n",
      "    f1txhstd          0.328\n",
      "\n"
     ]
    }
   ],
   "source": [
    "m <- sem(\"f1txhstd ~ byses + bygrads\", data=dt)\n",
    "print(summary(m, rsquare=TRUE, standardized=TRUE))"
   ]
  },
  {
   "cell_type": "markdown",
   "id": "fc46831a",
   "metadata": {},
   "source": [
    "`sem` is not doing anything fancy yet, we get the same results with the usual least squares:"
   ]
  },
  {
   "cell_type": "code",
   "execution_count": 266,
   "id": "7cc336fc",
   "metadata": {},
   "outputs": [
    {
     "data": {
      "text/plain": [
       "\n",
       "Call:\n",
       "lm(formula = \"f1txhstd ~ byses + bygrads\", data = dt)\n",
       "\n",
       "Residuals:\n",
       "     Min       1Q   Median       3Q      Max \n",
       "-24.9194  -5.2905   0.0712   5.7246  20.7477 \n",
       "\n",
       "Coefficients:\n",
       "            Estimate Std. Error t value Pr(>|t|)    \n",
       "(Intercept)  34.7926     1.2182   28.56   <2e-16 ***\n",
       "byses         3.8748     0.3769   10.28   <2e-16 ***\n",
       "bygrads       5.4201     0.3949   13.72   <2e-16 ***\n",
       "---\n",
       "Signif. codes:  0 ‘***’ 0.001 ‘**’ 0.01 ‘*’ 0.05 ‘.’ 0.1 ‘ ’ 1\n",
       "\n",
       "Residual standard error: 8.095 on 884 degrees of freedom\n",
       "Multiple R-squared:  0.328,\tAdjusted R-squared:  0.3265 \n",
       "F-statistic: 215.8 on 2 and 884 DF,  p-value: < 2.2e-16\n"
      ]
     },
     "metadata": {},
     "output_type": "display_data"
    }
   ],
   "source": [
    "summary(lm(\"f1txhstd ~ byses + bygrads\", data=dt))"
   ]
  },
  {
   "cell_type": "markdown",
   "id": "600c91fd",
   "metadata": {},
   "source": [
    "If we standardize our data we get the same standardized values as `sem`:"
   ]
  },
  {
   "cell_type": "code",
   "execution_count": 277,
   "id": "0e2bf5f7",
   "metadata": {},
   "outputs": [
    {
     "data": {
      "text/plain": [
       "\n",
       "Call:\n",
       "lm(formula = \"f1txhstd ~ byses + bygrads\", data = as.data.table(scale(dt)))\n",
       "\n",
       "Residuals:\n",
       "     Min       1Q   Median       3Q      Max \n",
       "-2.52613 -0.53630  0.00722  0.58032  2.10324 \n",
       "\n",
       "Coefficients:\n",
       "              Estimate Std. Error t value Pr(>|t|)    \n",
       "(Intercept) -3.355e-16  2.755e-02    0.00        1    \n",
       "byses        2.997e-01  2.916e-02   10.28   <2e-16 ***\n",
       "bygrads      4.002e-01  2.916e-02   13.72   <2e-16 ***\n",
       "---\n",
       "Signif. codes:  0 ‘***’ 0.001 ‘**’ 0.01 ‘*’ 0.05 ‘.’ 0.1 ‘ ’ 1\n",
       "\n",
       "Residual standard error: 0.8207 on 884 degrees of freedom\n",
       "Multiple R-squared:  0.328,\tAdjusted R-squared:  0.3265 \n",
       "F-statistic: 215.8 on 2 and 884 DF,  p-value: < 2.2e-16\n"
      ]
     },
     "metadata": {},
     "output_type": "display_data"
    }
   ],
   "source": [
    "summary(lm(\"f1txhstd ~ byses + bygrads\", data=as.data.table(scale(dt))))"
   ]
  },
  {
   "cell_type": "markdown",
   "id": "41fa5b65",
   "metadata": {},
   "source": [
    "It's particularly enlightening to see that this multivariate regression can be entirely calculated using the correlations; here's R2:"
   ]
  },
  {
   "cell_type": "code",
   "execution_count": 251,
   "id": "7ff84244",
   "metadata": {
    "scrolled": true
   },
   "outputs": [
    {
     "data": {
      "text/html": [
       "<table class=\"dataframe\">\n",
       "<caption>A matrix: 3 × 3 of type dbl</caption>\n",
       "<thead>\n",
       "\t<tr><th></th><th scope=col>f1txhstd</th><th scope=col>byses</th><th scope=col>bygrads</th></tr>\n",
       "</thead>\n",
       "<tbody>\n",
       "\t<tr><th scope=row>f1txhstd</th><td>1.0000000</td><td>0.4299589</td><td>0.4977062</td></tr>\n",
       "\t<tr><th scope=row>byses</th><td>0.4299589</td><td>1.0000000</td><td>0.3254019</td></tr>\n",
       "\t<tr><th scope=row>bygrads</th><td>0.4977062</td><td>0.3254019</td><td>1.0000000</td></tr>\n",
       "</tbody>\n",
       "</table>\n"
      ],
      "text/latex": [
       "A matrix: 3 × 3 of type dbl\n",
       "\\begin{tabular}{r|lll}\n",
       "  & f1txhstd & byses & bygrads\\\\\n",
       "\\hline\n",
       "\tf1txhstd & 1.0000000 & 0.4299589 & 0.4977062\\\\\n",
       "\tbyses & 0.4299589 & 1.0000000 & 0.3254019\\\\\n",
       "\tbygrads & 0.4977062 & 0.3254019 & 1.0000000\\\\\n",
       "\\end{tabular}\n"
      ],
      "text/markdown": [
       "\n",
       "A matrix: 3 × 3 of type dbl\n",
       "\n",
       "| <!--/--> | f1txhstd | byses | bygrads |\n",
       "|---|---|---|---|\n",
       "| f1txhstd | 1.0000000 | 0.4299589 | 0.4977062 |\n",
       "| byses | 0.4299589 | 1.0000000 | 0.3254019 |\n",
       "| bygrads | 0.4977062 | 0.3254019 | 1.0000000 |\n",
       "\n"
      ],
      "text/plain": [
       "         f1txhstd  byses     bygrads  \n",
       "f1txhstd 1.0000000 0.4299589 0.4977062\n",
       "byses    0.4299589 1.0000000 0.3254019\n",
       "bygrads  0.4977062 0.3254019 1.0000000"
      ]
     },
     "metadata": {},
     "output_type": "display_data"
    }
   ],
   "source": [
    "r <- cor(dt[, .(f1txhstd, byses, bygrads)])\n",
    "r"
   ]
  },
  {
   "cell_type": "markdown",
   "id": "380e5277",
   "metadata": {},
   "source": [
    "R squared is obtainable directly from the correlations:\n",
    "\n",
    "\\begin{eqnarray}\n",
    "R_{y\\cdot12} & = & \\frac{r^{2}_{y1} + r^{2}_{y2} - r_{y1}r_{y2}r_{12}}{1 - r^{2}_{12}} \\\\\n",
    "\\end{eqnarray}"
   ]
  },
  {
   "cell_type": "code",
   "execution_count": 260,
   "id": "2e0a455f",
   "metadata": {},
   "outputs": [
    {
     "data": {
      "text/html": [
       "0.328043879503102"
      ],
      "text/latex": [
       "0.328043879503102"
      ],
      "text/markdown": [
       "0.328043879503102"
      ],
      "text/plain": [
       "[1] 0.3280439"
      ]
     },
     "metadata": {},
     "output_type": "display_data"
    }
   ],
   "source": [
    "R2 <- (r[\"f1txhstd\", \"byses\"]^2 + r[\"f1txhstd\", \"bygrads\"]^2 \n",
    "       - 2*r[\"f1txhstd\", \"byses\"]*r[\"f1txhstd\", \"bygrads\"]*r[\"bygrads\", \"byses\"])/\n",
    "      (1 - r[\"bygrads\", \"byses\"]^2)\n",
    "R2"
   ]
  },
  {
   "cell_type": "markdown",
   "id": "0e7f6066",
   "metadata": {},
   "source": [
    "And the betas (i.e. the standardized coefficents) can be obtained like this:\n",
    "\n",
    "\\begin{eqnarray}\n",
    "\\beta_1 & = & \\frac{r_{y1} - r_{y2}r_{12}}{1 - r^{2}_{12}} \\\\\n",
    "\\end{eqnarray}\n",
    "\n",
    "\\begin{eqnarray}\n",
    "\\beta_2 & = & \\frac{r_{y2} - r_{y1}r_{12}}{1 - r^{2}_{12}} \\\\\n",
    "\\end{eqnarray}"
   ]
  },
  {
   "cell_type": "code",
   "execution_count": 263,
   "id": "55f922e3",
   "metadata": {},
   "outputs": [
    {
     "data": {
      "text/html": [
       "0.299743067582559"
      ],
      "text/latex": [
       "0.299743067582559"
      ],
      "text/markdown": [
       "0.299743067582559"
      ],
      "text/plain": [
       "[1] 0.2997431"
      ]
     },
     "metadata": {},
     "output_type": "display_data"
    }
   ],
   "source": [
    "beta1 <- (r[\"f1txhstd\", \"byses\"] - r[\"f1txhstd\", \"bygrads\"]*r[\"bygrads\", \"byses\"]) /\n",
    "         (1 - r[\"bygrads\", \"byses\"]^2)\n",
    "beta1"
   ]
  },
  {
   "cell_type": "code",
   "execution_count": 264,
   "id": "29e88907",
   "metadata": {},
   "outputs": [
    {
     "data": {
      "text/html": [
       "0.40016920829071"
      ],
      "text/latex": [
       "0.40016920829071"
      ],
      "text/markdown": [
       "0.40016920829071"
      ],
      "text/plain": [
       "[1] 0.4001692"
      ]
     },
     "metadata": {},
     "output_type": "display_data"
    }
   ],
   "source": [
    "beta2 <- (r[\"f1txhstd\", \"bygrads\"] - r[\"f1txhstd\", \"byses\"]*r[\"bygrads\", \"byses\"]) /\n",
    "         (1 - r[\"bygrads\", \"byses\"]^2)\n",
    "beta2"
   ]
  },
  {
   "cell_type": "markdown",
   "id": "f7e3b7ec",
   "metadata": {},
   "source": [
    "### Simultaneous"
   ]
  },
  {
   "cell_type": "code",
   "execution_count": 3,
   "id": "2e13639a",
   "metadata": {},
   "outputs": [
    {
     "name": "stdout",
     "output_type": "stream",
     "text": [
      "lavaan 0.6-12 ended normally after 1 iterations\n",
      "\n",
      "  Estimator                                         ML\n",
      "  Optimization method                           NLMINB\n",
      "  Number of model parameters                         5\n",
      "\n",
      "  Number of observations                           887\n",
      "\n",
      "Model Test User Model:\n",
      "                                                      \n",
      "  Test statistic                                 0.000\n",
      "  Degrees of freedom                                 0\n",
      "\n",
      "Parameter Estimates:\n",
      "\n",
      "  Standard errors                             Standard\n",
      "  Information                                 Expected\n",
      "  Information saturated (h1) model          Structured\n",
      "\n",
      "Regressions:\n",
      "                   Estimate  Std.Err  z-value  P(>|z|)   Std.lv  Std.all\n",
      "  f1txhstd ~                                                            \n",
      "    byses             3.690    0.377    9.800    0.000    3.690    0.285\n",
      "    bygrads           5.150    0.398   12.947    0.000    5.150    0.380\n",
      "    f1cncpt2          0.218    0.499    0.437    0.662    0.218    0.015\n",
      "    f1locus2          1.554    0.551    2.822    0.005    1.554    0.097\n",
      "\n",
      "Variances:\n",
      "                   Estimate  Std.Err  z-value  P(>|z|)   Std.lv  Std.all\n",
      "   .f1txhstd         64.297    3.053   21.059    0.000   64.297    0.661\n",
      "\n",
      "R-Square:\n",
      "                   Estimate\n",
      "    f1txhstd          0.339\n",
      "\n"
     ]
    }
   ],
   "source": [
    "m1 <- sem(\"f1txhstd ~ byses + bygrads + f1cncpt2 + f1locus2\", data=dt)\n",
    "print(summary(m1, rsquare=TRUE, standardized=TRUE))"
   ]
  },
  {
   "cell_type": "code",
   "execution_count": 4,
   "id": "8dc8e63a",
   "metadata": {},
   "outputs": [
    {
     "data": {
      "image/png": "[encoded data removed]",
      "text/plain": [
       "plot without title"
      ]
     },
     "metadata": {
      "image/png": {
       "height": 600,
       "width": 600
      }
     },
     "output_type": "display_data"
    }
   ],
   "source": [
    "options(repr.plot.width=10)\n",
    "options(repr.plot.height=10)\n",
    "semPaths(m1,\n",
    "         rotation=2,\n",
    "         layout=\"tree2\",\n",
    "         what=\"std\",\n",
    "         posCol=\"black\",\n",
    "         edge.width=0.5,\n",
    "         edge.label.cex=1.5,\n",
    "         style=\"Lisrel\",\n",
    "         edge.label.position=0.55,\n",
    "         sizeMan=9,\n",
    "         nDigits = 3,\n",
    "         edge.color=\"black\", trans=1)"
   ]
  },
  {
   "cell_type": "code",
   "execution_count": 5,
   "id": "499ac9aa",
   "metadata": {},
   "outputs": [
    {
     "data": {
      "text/html": [
       "<strong>$cov</strong> = <table class=\"dataframe\">\n",
       "<caption>A lavaan.matrix.symmetric: 5 × 5 of type dbl</caption>\n",
       "<thead>\n",
       "\t<tr><th></th><th scope=col>f1txhstd</th><th scope=col>byses</th><th scope=col>bygrads</th><th scope=col>f1cncpt2</th><th scope=col>f1locus2</th></tr>\n",
       "</thead>\n",
       "<tbody>\n",
       "\t<tr><th scope=row>f1txhstd</th><td>97.201713</td><td>3.23293743</td><td>3.57173591</td><td>1.13359266</td><td>1.50075086</td></tr>\n",
       "\t<tr><th scope=row>byses</th><td> 3.232937</td><td>0.58165682</td><td>0.18064371</td><td>0.06716102</td><td>0.09101265</td></tr>\n",
       "\t<tr><th scope=row>bygrads</th><td> 3.571736</td><td>0.18064371</td><td>0.52983264</td><td>0.08094069</td><td>0.10212455</td></tr>\n",
       "\t<tr><th scope=row>f1cncpt2</th><td> 1.133593</td><td>0.06716102</td><td>0.08094069</td><td>0.44325654</td><td>0.23948097</td></tr>\n",
       "\t<tr><th scope=row>f1locus2</th><td> 1.500751</td><td>0.09101265</td><td>0.10212455</td><td>0.23948097</td><td>0.37754282</td></tr>\n",
       "</tbody>\n",
       "</table>\n"
      ],
      "text/latex": [
       "\\textbf{\\$cov} = A lavaan.matrix.symmetric: 5 × 5 of type dbl\n",
       "\\begin{tabular}{r|lllll}\n",
       "  & f1txhstd & byses & bygrads & f1cncpt2 & f1locus2\\\\\n",
       "\\hline\n",
       "\tf1txhstd & 97.201713 & 3.23293743 & 3.57173591 & 1.13359266 & 1.50075086\\\\\n",
       "\tbyses &  3.232937 & 0.58165682 & 0.18064371 & 0.06716102 & 0.09101265\\\\\n",
       "\tbygrads &  3.571736 & 0.18064371 & 0.52983264 & 0.08094069 & 0.10212455\\\\\n",
       "\tf1cncpt2 &  1.133593 & 0.06716102 & 0.08094069 & 0.44325654 & 0.23948097\\\\\n",
       "\tf1locus2 &  1.500751 & 0.09101265 & 0.10212455 & 0.23948097 & 0.37754282\\\\\n",
       "\\end{tabular}\n"
      ],
      "text/markdown": [
       "**$cov** = \n",
       "A lavaan.matrix.symmetric: 5 × 5 of type dbl\n",
       "\n",
       "| <!--/--> | f1txhstd | byses | bygrads | f1cncpt2 | f1locus2 |\n",
       "|---|---|---|---|---|---|\n",
       "| f1txhstd | 97.201713 | 3.23293743 | 3.57173591 | 1.13359266 | 1.50075086 |\n",
       "| byses |  3.232937 | 0.58165682 | 0.18064371 | 0.06716102 | 0.09101265 |\n",
       "| bygrads |  3.571736 | 0.18064371 | 0.52983264 | 0.08094069 | 0.10212455 |\n",
       "| f1cncpt2 |  1.133593 | 0.06716102 | 0.08094069 | 0.44325654 | 0.23948097 |\n",
       "| f1locus2 |  1.500751 | 0.09101265 | 0.10212455 | 0.23948097 | 0.37754282 |\n",
       "\n"
      ],
      "text/plain": [
       "$cov\n",
       "         f1txhs byses  bygrds f1cnc2 f1lcs2\n",
       "f1txhstd 97.202                            \n",
       "byses     3.233  0.582                     \n",
       "bygrads   3.572  0.181  0.530              \n",
       "f1cncpt2  1.134  0.067  0.081  0.443       \n",
       "f1locus2  1.501  0.091  0.102  0.239  0.378\n"
      ]
     },
     "metadata": {},
     "output_type": "display_data"
    }
   ],
   "source": [
    "fitted(m1)"
   ]
  },
  {
   "cell_type": "code",
   "execution_count": 6,
   "id": "d1114fe5",
   "metadata": {},
   "outputs": [
    {
     "data": {
      "text/html": [
       "<table class=\"dataframe\">\n",
       "<caption>A matrix: 5 × 5 of type dbl</caption>\n",
       "<thead>\n",
       "\t<tr><th></th><th scope=col>f1txhstd</th><th scope=col>byses</th><th scope=col>bygrads</th><th scope=col>f1cncpt2</th><th scope=col>f1locus2</th></tr>\n",
       "</thead>\n",
       "<tbody>\n",
       "\t<tr><th scope=row>f1txhstd</th><td>97.311421</td><td>3.23658635</td><td>3.57576722</td><td>1.13487211</td><td>1.50244471</td></tr>\n",
       "\t<tr><th scope=row>byses</th><td> 3.236586</td><td>0.58231332</td><td>0.18084760</td><td>0.06723683</td><td>0.09111537</td></tr>\n",
       "\t<tr><th scope=row>bygrads</th><td> 3.575767</td><td>0.18084760</td><td>0.53043065</td><td>0.08103204</td><td>0.10223982</td></tr>\n",
       "\t<tr><th scope=row>f1cncpt2</th><td> 1.134872</td><td>0.06723683</td><td>0.08103204</td><td>0.44375683</td><td>0.23975126</td></tr>\n",
       "\t<tr><th scope=row>f1locus2</th><td> 1.502445</td><td>0.09111537</td><td>0.10223982</td><td>0.23975126</td><td>0.37796894</td></tr>\n",
       "</tbody>\n",
       "</table>\n"
      ],
      "text/latex": [
       "A matrix: 5 × 5 of type dbl\n",
       "\\begin{tabular}{r|lllll}\n",
       "  & f1txhstd & byses & bygrads & f1cncpt2 & f1locus2\\\\\n",
       "\\hline\n",
       "\tf1txhstd & 97.311421 & 3.23658635 & 3.57576722 & 1.13487211 & 1.50244471\\\\\n",
       "\tbyses &  3.236586 & 0.58231332 & 0.18084760 & 0.06723683 & 0.09111537\\\\\n",
       "\tbygrads &  3.575767 & 0.18084760 & 0.53043065 & 0.08103204 & 0.10223982\\\\\n",
       "\tf1cncpt2 &  1.134872 & 0.06723683 & 0.08103204 & 0.44375683 & 0.23975126\\\\\n",
       "\tf1locus2 &  1.502445 & 0.09111537 & 0.10223982 & 0.23975126 & 0.37796894\\\\\n",
       "\\end{tabular}\n"
      ],
      "text/markdown": [
       "\n",
       "A matrix: 5 × 5 of type dbl\n",
       "\n",
       "| <!--/--> | f1txhstd | byses | bygrads | f1cncpt2 | f1locus2 |\n",
       "|---|---|---|---|---|---|\n",
       "| f1txhstd | 97.311421 | 3.23658635 | 3.57576722 | 1.13487211 | 1.50244471 |\n",
       "| byses |  3.236586 | 0.58231332 | 0.18084760 | 0.06723683 | 0.09111537 |\n",
       "| bygrads |  3.575767 | 0.18084760 | 0.53043065 | 0.08103204 | 0.10223982 |\n",
       "| f1cncpt2 |  1.134872 | 0.06723683 | 0.08103204 | 0.44375683 | 0.23975126 |\n",
       "| f1locus2 |  1.502445 | 0.09111537 | 0.10223982 | 0.23975126 | 0.37796894 |\n",
       "\n"
      ],
      "text/plain": [
       "         f1txhstd  byses      bygrads    f1cncpt2   f1locus2  \n",
       "f1txhstd 97.311421 3.23658635 3.57576722 1.13487211 1.50244471\n",
       "byses     3.236586 0.58231332 0.18084760 0.06723683 0.09111537\n",
       "bygrads   3.575767 0.18084760 0.53043065 0.08103204 0.10223982\n",
       "f1cncpt2  1.134872 0.06723683 0.08103204 0.44375683 0.23975126\n",
       "f1locus2  1.502445 0.09111537 0.10223982 0.23975126 0.37796894"
      ]
     },
     "metadata": {},
     "output_type": "display_data"
    }
   ],
   "source": [
    "cov(dt, use=\"complete.obs\")"
   ]
  },
  {
   "cell_type": "markdown",
   "id": "89a553a6",
   "metadata": {},
   "source": [
    "### Sequential"
   ]
  },
  {
   "cell_type": "code",
   "execution_count": 7,
   "id": "677d9272",
   "metadata": {},
   "outputs": [
    {
     "name": "stdout",
     "output_type": "stream",
     "text": [
      "lavaan 0.6-12 ended normally after 1 iterations\n",
      "\n",
      "  Estimator                                         ML\n",
      "  Optimization method                           NLMINB\n",
      "  Number of model parameters                        14\n",
      "\n",
      "  Number of observations                           887\n",
      "\n",
      "Model Test User Model:\n",
      "                                                      \n",
      "  Test statistic                                 0.000\n",
      "  Degrees of freedom                                 0\n",
      "\n",
      "Parameter Estimates:\n",
      "\n",
      "  Standard errors                             Standard\n",
      "  Information                                 Expected\n",
      "  Information saturated (h1) model          Structured\n",
      "\n",
      "Regressions:\n",
      "                   Estimate  Std.Err  z-value  P(>|z|)   Std.lv  Std.all\n",
      "  f1txhstd ~                                                            \n",
      "    byses             3.690    0.377    9.800    0.000    3.690    0.285\n",
      "    bygrads           5.150    0.398   12.947    0.000    5.150    0.380\n",
      "    f1cncpt2          0.218    0.499    0.437    0.662    0.218    0.015\n",
      "    f1locus2          1.554    0.551    2.822    0.005    1.554    0.097\n",
      "  f1locus2 ~                                                            \n",
      "    f1cncpt2          0.513    0.025   20.449    0.000    0.513    0.556\n",
      "    bygrads           0.091    0.024    3.774    0.000    0.091    0.108\n",
      "    byses             0.069    0.023    3.021    0.003    0.069    0.086\n",
      "  f1cncpt2 ~                                                            \n",
      "    bygrads           0.127    0.032    3.975    0.000    0.127    0.139\n",
      "    byses             0.076    0.030    2.498    0.012    0.076    0.087\n",
      "  bygrads ~                                                             \n",
      "    byses             0.311    0.030   10.249    0.000    0.311    0.325\n",
      "\n",
      "Variances:\n",
      "                   Estimate  Std.Err  z-value  P(>|z|)   Std.lv  Std.all\n",
      "   .f1txhstd         64.297    3.053   21.059    0.000   64.297    0.661\n",
      "   .f1locus2          0.239    0.011   21.059    0.000    0.239    0.633\n",
      "   .f1cncpt2          0.428    0.020   21.059    0.000    0.428    0.965\n",
      "   .bygrads           0.474    0.022   21.059    0.000    0.474    0.894\n",
      "\n",
      "R-Square:\n",
      "                   Estimate\n",
      "    f1txhstd          0.339\n",
      "    f1locus2          0.367\n",
      "    f1cncpt2          0.035\n",
      "    bygrads           0.106\n",
      "\n"
     ]
    }
   ],
   "source": [
    "m2 <- sem(\"f1txhstd ~ byses + bygrads + f1cncpt2 + f1locus2\n",
    "           f1locus2 ~ f1cncpt2 + bygrads + byses\n",
    "           f1cncpt2 ~ bygrads + byses\n",
    "           bygrads  ~ byses\", data=dt)\n",
    "print(summary(m2, rsquare=TRUE, standardized=TRUE))"
   ]
  },
  {
   "cell_type": "code",
   "execution_count": 278,
   "id": "b1043c29",
   "metadata": {},
   "outputs": [
    {
     "data": {
      "image/png": "[encoded data removed]",
      "text/plain": [
       "plot without title"
      ]
     },
     "metadata": {
      "image/png": {
       "height": 600,
       "width": 600
      }
     },
     "output_type": "display_data"
    }
   ],
   "source": [
    "semPaths(m2,\n",
    "         rotation=2,\n",
    "         layout=\"tree2\",\n",
    "         what=\"std\",\n",
    "         posCol=\"black\",\n",
    "         edge.width=0.5,\n",
    "         edge.label.cex=1.5,\n",
    "         style=\"Lisrel\",\n",
    "         edge.label.position=0.55,\n",
    "         sizeMan=9,\n",
    "         nDigits = 3,\n",
    "         edge.color=\"black\", trans=1)"
   ]
  },
  {
   "cell_type": "code",
   "execution_count": 9,
   "id": "35aa4922",
   "metadata": {},
   "outputs": [
    {
     "data": {
      "text/html": [
       "<strong>$cov</strong> = <table class=\"dataframe\">\n",
       "<caption>A lavaan.matrix.symmetric: 5 × 5 of type dbl</caption>\n",
       "<thead>\n",
       "\t<tr><th></th><th scope=col>f1txhstd</th><th scope=col>f1locus2</th><th scope=col>f1cncpt2</th><th scope=col>bygrads</th><th scope=col>byses</th></tr>\n",
       "</thead>\n",
       "<tbody>\n",
       "\t<tr><th scope=row>f1txhstd</th><td>97.201713</td><td>1.50075086</td><td>1.13359266</td><td>3.57173591</td><td>3.23293743</td></tr>\n",
       "\t<tr><th scope=row>f1locus2</th><td> 1.500751</td><td>0.37754282</td><td>0.23948097</td><td>0.10212455</td><td>0.09101265</td></tr>\n",
       "\t<tr><th scope=row>f1cncpt2</th><td> 1.133593</td><td>0.23948097</td><td>0.44325654</td><td>0.08094069</td><td>0.06716102</td></tr>\n",
       "\t<tr><th scope=row>bygrads</th><td> 3.571736</td><td>0.10212455</td><td>0.08094069</td><td>0.52983264</td><td>0.18064371</td></tr>\n",
       "\t<tr><th scope=row>byses</th><td> 3.232937</td><td>0.09101265</td><td>0.06716102</td><td>0.18064371</td><td>0.58165682</td></tr>\n",
       "</tbody>\n",
       "</table>\n"
      ],
      "text/latex": [
       "\\textbf{\\$cov} = A lavaan.matrix.symmetric: 5 × 5 of type dbl\n",
       "\\begin{tabular}{r|lllll}\n",
       "  & f1txhstd & f1locus2 & f1cncpt2 & bygrads & byses\\\\\n",
       "\\hline\n",
       "\tf1txhstd & 97.201713 & 1.50075086 & 1.13359266 & 3.57173591 & 3.23293743\\\\\n",
       "\tf1locus2 &  1.500751 & 0.37754282 & 0.23948097 & 0.10212455 & 0.09101265\\\\\n",
       "\tf1cncpt2 &  1.133593 & 0.23948097 & 0.44325654 & 0.08094069 & 0.06716102\\\\\n",
       "\tbygrads &  3.571736 & 0.10212455 & 0.08094069 & 0.52983264 & 0.18064371\\\\\n",
       "\tbyses &  3.232937 & 0.09101265 & 0.06716102 & 0.18064371 & 0.58165682\\\\\n",
       "\\end{tabular}\n"
      ],
      "text/markdown": [
       "**$cov** = \n",
       "A lavaan.matrix.symmetric: 5 × 5 of type dbl\n",
       "\n",
       "| <!--/--> | f1txhstd | f1locus2 | f1cncpt2 | bygrads | byses |\n",
       "|---|---|---|---|---|---|\n",
       "| f1txhstd | 97.201713 | 1.50075086 | 1.13359266 | 3.57173591 | 3.23293743 |\n",
       "| f1locus2 |  1.500751 | 0.37754282 | 0.23948097 | 0.10212455 | 0.09101265 |\n",
       "| f1cncpt2 |  1.133593 | 0.23948097 | 0.44325654 | 0.08094069 | 0.06716102 |\n",
       "| bygrads |  3.571736 | 0.10212455 | 0.08094069 | 0.52983264 | 0.18064371 |\n",
       "| byses |  3.232937 | 0.09101265 | 0.06716102 | 0.18064371 | 0.58165682 |\n",
       "\n"
      ],
      "text/plain": [
       "$cov\n",
       "         f1txhs f1lcs2 f1cnc2 bygrds byses \n",
       "f1txhstd 97.202                            \n",
       "f1locus2  1.501  0.378                     \n",
       "f1cncpt2  1.134  0.239  0.443              \n",
       "bygrads   3.572  0.102  0.081  0.530       \n",
       "byses     3.233  0.091  0.067  0.181  0.582\n"
      ]
     },
     "metadata": {},
     "output_type": "display_data"
    }
   ],
   "source": [
    "fitted(m2)"
   ]
  },
  {
   "cell_type": "code",
   "execution_count": 10,
   "id": "cfc944e6",
   "metadata": {},
   "outputs": [
    {
     "data": {
      "text/html": [
       "0.068932"
      ],
      "text/latex": [
       "0.068932"
      ],
      "text/markdown": [
       "0.068932"
      ],
      "text/plain": [
       "[1] 0.068932"
      ]
     },
     "metadata": {},
     "output_type": "display_data"
    }
   ],
   "source": [
    "esteem <- 0.015 + 0.556*0.097\n",
    "esteem"
   ]
  },
  {
   "cell_type": "code",
   "execution_count": 11,
   "id": "e4e525da",
   "metadata": {},
   "outputs": [
    {
     "data": {
      "text/html": [
       "0.400057548"
      ],
      "text/latex": [
       "0.400057548"
      ],
      "text/markdown": [
       "0.400057548"
      ],
      "text/plain": [
       "[1] 0.4000575"
      ]
     },
     "metadata": {},
     "output_type": "display_data"
    }
   ],
   "source": [
    "grads <- 0.380 + 0.108*0.097 + 0.139*0.015 + 0.139*0.556*0.097\n",
    "grads"
   ]
  },
  {
   "cell_type": "code",
   "execution_count": 12,
   "id": "4066a4b9",
   "metadata": {},
   "outputs": [
    {
     "data": {
      "text/html": [
       "0.4284463363"
      ],
      "text/latex": [
       "0.4284463363"
      ],
      "text/markdown": [
       "0.4284463363"
      ],
      "text/plain": [
       "[1] 0.4284463"
      ]
     },
     "metadata": {},
     "output_type": "display_data"
    }
   ],
   "source": [
    "ses <- 0.285 + \n",
    "       0.325*0.380 + 0.087*0.015 + 0.086*0.097 +\n",
    "       0.325*0.139*0.015 + 0.325*0.108*0.097 + 0.087*0.556*0.097 +\n",
    "       0.325*0.087*0.556*0.097\n",
    "ses"
   ]
  },
  {
   "cell_type": "code",
   "execution_count": 13,
   "id": "0f792045",
   "metadata": {},
   "outputs": [
    {
     "data": {
      "text/plain": [
       "\n",
       "Call:\n",
       "lm(formula = \"f1txhstd ~ byses\", data = dt)\n",
       "\n",
       "Residuals:\n",
       "     Min       1Q   Median       3Q      Max \n",
       "-27.7303  -5.7697   0.3656   6.3801  22.8408 \n",
       "\n",
       "Coefficients:\n",
       "            Estimate Std. Error t value Pr(>|t|)    \n",
       "(Intercept)  51.0899     0.2992  170.75   <2e-16 ***\n",
       "byses         5.5582     0.3923   14.17   <2e-16 ***\n",
       "---\n",
       "Signif. codes:  0 ‘***’ 0.001 ‘**’ 0.01 ‘*’ 0.05 ‘.’ 0.1 ‘ ’ 1\n",
       "\n",
       "Residual standard error: 8.911 on 885 degrees of freedom\n",
       "Multiple R-squared:  0.1849,\tAdjusted R-squared:  0.1839 \n",
       "F-statistic: 200.7 on 1 and 885 DF,  p-value: < 2.2e-16\n"
      ]
     },
     "metadata": {},
     "output_type": "display_data"
    }
   ],
   "source": [
    "summary(lm(\"f1txhstd ~ byses\", data=dt))\n"
   ]
  },
  {
   "cell_type": "code",
   "execution_count": 14,
   "id": "8756aecb",
   "metadata": {},
   "outputs": [
    {
     "name": "stdout",
     "output_type": "stream",
     "text": [
      "lavaan 0.6-12 ended normally after 1 iterations\n",
      "\n",
      "  Estimator                                         ML\n",
      "  Optimization method                           NLMINB\n",
      "  Number of model parameters                         2\n",
      "\n",
      "  Number of observations                           887\n",
      "\n",
      "Model Test User Model:\n",
      "                                                      \n",
      "  Test statistic                                 0.000\n",
      "  Degrees of freedom                                 0\n",
      "\n",
      "Parameter Estimates:\n",
      "\n",
      "  Standard errors                             Standard\n",
      "  Information                                 Expected\n",
      "  Information saturated (h1) model          Structured\n",
      "\n",
      "Regressions:\n",
      "                   Estimate  Std.Err  z-value  P(>|z|)   Std.lv  Std.all\n",
      "  f1txhstd ~                                                            \n",
      "    byses             5.558    0.392   14.183    0.000    5.558    0.430\n",
      "\n",
      "Variances:\n",
      "                   Estimate  Std.Err  z-value  P(>|z|)   Std.lv  Std.all\n",
      "   .f1txhstd         79.233    3.762   21.059    0.000   79.233    0.815\n",
      "\n",
      "R-Square:\n",
      "                   Estimate\n",
      "    f1txhstd          0.185\n",
      "\n"
     ]
    }
   ],
   "source": [
    "m3 <- sem(\"f1txhstd ~ byses\", data=dt)\n",
    "print(summary(m3, rsquare=TRUE, standardized=TRUE))"
   ]
  },
  {
   "cell_type": "markdown",
   "id": "9a6d35ca",
   "metadata": {},
   "source": [
    "# Latent variables"
   ]
  },
  {
   "cell_type": "markdown",
   "id": "9168ee52",
   "metadata": {},
   "source": [
    "Goal: decompose observed variables into a true score `t` and an error `epsilon`:\n",
    "\n",
    "\\begin{eqnarray}\n",
    "\\mathbf{X} & = & \\mathbf{t} + \\mathbf{\\epsilon} \\\\\n",
    "\\end{eqnarray}"
   ]
  },
  {
   "cell_type": "markdown",
   "id": "2c56e0cd",
   "metadata": {},
   "source": [
    "## Exploratory path analysis"
   ]
  },
  {
   "cell_type": "markdown",
   "id": "3a6aff40",
   "metadata": {},
   "source": [
    "Exploratory path analysis proceeds by trying to find the latent variables for instance by Principal Component Analysis:"
   ]
  },
  {
   "cell_type": "markdown",
   "id": "8694abda",
   "metadata": {},
   "source": [
    "Using example from [3]"
   ]
  },
  {
   "cell_type": "code",
   "execution_count": 228,
   "id": "415f51d4",
   "metadata": {},
   "outputs": [
    {
     "data": {
      "text/plain": [
       "Importance of components:\n",
       "                          PC1    PC2    PC3     PC4     PC5     PC6     PC7\n",
       "Standard deviation     1.7340 1.0279 0.8710 0.78065 0.74591 0.70983 0.64464\n",
       "Proportion of Variance 0.4353 0.1530 0.1098 0.08823 0.08055 0.07295 0.06016\n",
       "Cumulative Proportion  0.4353 0.5883 0.6981 0.78634 0.86689 0.93984 1.00000"
      ]
     },
     "metadata": {},
     "output_type": "display_data"
    }
   ],
   "source": [
    "dat <- as.data.table(read.spss(\"https://stats.idre.ucla.edu/wp-content/uploads/2018/05/SAQ.sav\",to.data.frame=TRUE, use.value.labels = FALSE))\n",
    "dat <- dat[, .(q01, q03, q04, q05, q08, q06, q07)]\n",
    "\n",
    "pr <- prcomp(dat)\n",
    "summary(pr)"
   ]
  },
  {
   "cell_type": "code",
   "execution_count": 231,
   "id": "137e3f4d",
   "metadata": {},
   "outputs": [
    {
     "data": {
      "text/html": [
       "<table class=\"dataframe\">\n",
       "<caption>A matrix: 7 × 2 of type dbl</caption>\n",
       "<thead>\n",
       "\t<tr><th></th><th scope=col>PC1</th><th scope=col>PC2</th></tr>\n",
       "</thead>\n",
       "<tbody>\n",
       "\t<tr><th scope=row>q01</th><td> 0.2791057</td><td>-0.2622529</td></tr>\n",
       "\t<tr><th scope=row>q03</th><td>-0.4031826</td><td> 0.4074421</td></tr>\n",
       "\t<tr><th scope=row>q04</th><td> 0.3764890</td><td>-0.2561130</td></tr>\n",
       "\t<tr><th scope=row>q05</th><td> 0.3446232</td><td>-0.2538974</td></tr>\n",
       "\t<tr><th scope=row>q08</th><td> 0.2614611</td><td>-0.1582652</td></tr>\n",
       "\t<tr><th scope=row>q06</th><td> 0.4275471</td><td> 0.7142626</td></tr>\n",
       "\t<tr><th scope=row>q07</th><td> 0.4978717</td><td> 0.3161293</td></tr>\n",
       "</tbody>\n",
       "</table>\n"
      ],
      "text/latex": [
       "A matrix: 7 × 2 of type dbl\n",
       "\\begin{tabular}{r|ll}\n",
       "  & PC1 & PC2\\\\\n",
       "\\hline\n",
       "\tq01 &  0.2791057 & -0.2622529\\\\\n",
       "\tq03 & -0.4031826 &  0.4074421\\\\\n",
       "\tq04 &  0.3764890 & -0.2561130\\\\\n",
       "\tq05 &  0.3446232 & -0.2538974\\\\\n",
       "\tq08 &  0.2614611 & -0.1582652\\\\\n",
       "\tq06 &  0.4275471 &  0.7142626\\\\\n",
       "\tq07 &  0.4978717 &  0.3161293\\\\\n",
       "\\end{tabular}\n"
      ],
      "text/markdown": [
       "\n",
       "A matrix: 7 × 2 of type dbl\n",
       "\n",
       "| <!--/--> | PC1 | PC2 |\n",
       "|---|---|---|\n",
       "| q01 |  0.2791057 | -0.2622529 |\n",
       "| q03 | -0.4031826 |  0.4074421 |\n",
       "| q04 |  0.3764890 | -0.2561130 |\n",
       "| q05 |  0.3446232 | -0.2538974 |\n",
       "| q08 |  0.2614611 | -0.1582652 |\n",
       "| q06 |  0.4275471 |  0.7142626 |\n",
       "| q07 |  0.4978717 |  0.3161293 |\n",
       "\n"
      ],
      "text/plain": [
       "    PC1        PC2       \n",
       "q01  0.2791057 -0.2622529\n",
       "q03 -0.4031826  0.4074421\n",
       "q04  0.3764890 -0.2561130\n",
       "q05  0.3446232 -0.2538974\n",
       "q08  0.2614611 -0.1582652\n",
       "q06  0.4275471  0.7142626\n",
       "q07  0.4978717  0.3161293"
      ]
     },
     "metadata": {},
     "output_type": "display_data"
    }
   ],
   "source": [
    "pr$rotation[, c(\"PC1\", \"PC2\")]"
   ]
  },
  {
   "cell_type": "markdown",
   "id": "991e4804",
   "metadata": {},
   "source": [
    "## Confirmatory path analysis"
   ]
  },
  {
   "cell_type": "markdown",
   "id": "1f544502",
   "metadata": {},
   "source": [
    "## Model\n",
    "\n",
    "\\begin{eqnarray}\n",
    "\\mathbf{y} & = & \\mathbf{\\Lambda}\\mathbf{\\eta} + \\mathbf{\\epsilon} \\\\\n",
    "\\end{eqnarray}"
   ]
  },
  {
   "cell_type": "markdown",
   "id": "4a2ef45a",
   "metadata": {},
   "source": [
    "### No covariance between manifest variables"
   ]
  },
  {
   "cell_type": "code",
   "execution_count": 30,
   "id": "3d70223e",
   "metadata": {},
   "outputs": [],
   "source": [
    "model_4a <- 'f1 =~ q01 + q03 + q04 + q05 + q08 \n",
    "             f2 =~ q06 + q07' \n",
    "m4a <- cfa(model_4a, data=dat)"
   ]
  },
  {
   "cell_type": "code",
   "execution_count": 234,
   "id": "0023c883",
   "metadata": {},
   "outputs": [
    {
     "data": {
      "text/html": [
       "<dl>\n",
       "\t<dt>$lambda</dt>\n",
       "\t\t<dd><table class=\"dataframe\">\n",
       "<caption>A lavaan.matrix: 7 × 2 of type dbl</caption>\n",
       "<thead>\n",
       "\t<tr><th></th><th scope=col>f1</th><th scope=col>f2</th></tr>\n",
       "</thead>\n",
       "<tbody>\n",
       "\t<tr><th scope=row>q01</th><td> 0.6191596</td><td>0.0000000</td></tr>\n",
       "\t<tr><th scope=row>q03</th><td>-0.5574981</td><td>0.0000000</td></tr>\n",
       "\t<tr><th scope=row>q04</th><td> 0.6939847</td><td>0.0000000</td></tr>\n",
       "\t<tr><th scope=row>q05</th><td> 0.5881928</td><td>0.0000000</td></tr>\n",
       "\t<tr><th scope=row>q08</th><td> 0.4984197</td><td>0.0000000</td></tr>\n",
       "\t<tr><th scope=row>q06</th><td> 0.0000000</td><td>0.5962874</td></tr>\n",
       "\t<tr><th scope=row>q07</th><td> 0.0000000</td><td>0.8612968</td></tr>\n",
       "</tbody>\n",
       "</table>\n",
       "</dd>\n",
       "\t<dt>$theta</dt>\n",
       "\t\t<dd><table class=\"dataframe\">\n",
       "<caption>A lavaan.matrix.symmetric: 7 × 7 of type dbl</caption>\n",
       "<thead>\n",
       "\t<tr><th></th><th scope=col>q01</th><th scope=col>q03</th><th scope=col>q04</th><th scope=col>q05</th><th scope=col>q08</th><th scope=col>q06</th><th scope=col>q07</th></tr>\n",
       "</thead>\n",
       "<tbody>\n",
       "\t<tr><th scope=row>q01</th><td>0.6166414</td><td>0.0000000</td><td>0.0000000</td><td>0.0000000</td><td>0.0000000</td><td>0.0000000</td><td>0.0000000</td></tr>\n",
       "\t<tr><th scope=row>q03</th><td>0.0000000</td><td>0.6891958</td><td>0.0000000</td><td>0.0000000</td><td>0.0000000</td><td>0.0000000</td><td>0.0000000</td></tr>\n",
       "\t<tr><th scope=row>q04</th><td>0.0000000</td><td>0.0000000</td><td>0.5183853</td><td>0.0000000</td><td>0.0000000</td><td>0.0000000</td><td>0.0000000</td></tr>\n",
       "\t<tr><th scope=row>q05</th><td>0.0000000</td><td>0.0000000</td><td>0.0000000</td><td>0.6540292</td><td>0.0000000</td><td>0.0000000</td><td>0.0000000</td></tr>\n",
       "\t<tr><th scope=row>q08</th><td>0.0000000</td><td>0.0000000</td><td>0.0000000</td><td>0.0000000</td><td>0.7515778</td><td>0.0000000</td><td>0.0000000</td></tr>\n",
       "\t<tr><th scope=row>q06</th><td>0.0000000</td><td>0.0000000</td><td>0.0000000</td><td>0.0000000</td><td>0.0000000</td><td>0.6444413</td><td>0.0000000</td></tr>\n",
       "\t<tr><th scope=row>q07</th><td>0.0000000</td><td>0.0000000</td><td>0.0000000</td><td>0.0000000</td><td>0.0000000</td><td>0.0000000</td><td>0.2581678</td></tr>\n",
       "</tbody>\n",
       "</table>\n",
       "</dd>\n",
       "\t<dt>$psi</dt>\n",
       "\t\t<dd><table class=\"dataframe\">\n",
       "<caption>A lavaan.matrix.symmetric: 2 × 2 of type dbl</caption>\n",
       "<thead>\n",
       "\t<tr><th></th><th scope=col>f1</th><th scope=col>f2</th></tr>\n",
       "</thead>\n",
       "<tbody>\n",
       "\t<tr><th scope=row>f1</th><td>1.0000000</td><td>0.6756785</td></tr>\n",
       "\t<tr><th scope=row>f2</th><td>0.6756785</td><td>1.0000000</td></tr>\n",
       "</tbody>\n",
       "</table>\n",
       "</dd>\n",
       "</dl>\n"
      ],
      "text/latex": [
       "\\begin{description}\n",
       "\\item[\\$lambda] A lavaan.matrix: 7 × 2 of type dbl\n",
       "\\begin{tabular}{r|ll}\n",
       "  & f1 & f2\\\\\n",
       "\\hline\n",
       "\tq01 &  0.6191596 & 0.0000000\\\\\n",
       "\tq03 & -0.5574981 & 0.0000000\\\\\n",
       "\tq04 &  0.6939847 & 0.0000000\\\\\n",
       "\tq05 &  0.5881928 & 0.0000000\\\\\n",
       "\tq08 &  0.4984197 & 0.0000000\\\\\n",
       "\tq06 &  0.0000000 & 0.5962874\\\\\n",
       "\tq07 &  0.0000000 & 0.8612968\\\\\n",
       "\\end{tabular}\n",
       "\n",
       "\\item[\\$theta] A lavaan.matrix.symmetric: 7 × 7 of type dbl\n",
       "\\begin{tabular}{r|lllllll}\n",
       "  & q01 & q03 & q04 & q05 & q08 & q06 & q07\\\\\n",
       "\\hline\n",
       "\tq01 & 0.6166414 & 0.0000000 & 0.0000000 & 0.0000000 & 0.0000000 & 0.0000000 & 0.0000000\\\\\n",
       "\tq03 & 0.0000000 & 0.6891958 & 0.0000000 & 0.0000000 & 0.0000000 & 0.0000000 & 0.0000000\\\\\n",
       "\tq04 & 0.0000000 & 0.0000000 & 0.5183853 & 0.0000000 & 0.0000000 & 0.0000000 & 0.0000000\\\\\n",
       "\tq05 & 0.0000000 & 0.0000000 & 0.0000000 & 0.6540292 & 0.0000000 & 0.0000000 & 0.0000000\\\\\n",
       "\tq08 & 0.0000000 & 0.0000000 & 0.0000000 & 0.0000000 & 0.7515778 & 0.0000000 & 0.0000000\\\\\n",
       "\tq06 & 0.0000000 & 0.0000000 & 0.0000000 & 0.0000000 & 0.0000000 & 0.6444413 & 0.0000000\\\\\n",
       "\tq07 & 0.0000000 & 0.0000000 & 0.0000000 & 0.0000000 & 0.0000000 & 0.0000000 & 0.2581678\\\\\n",
       "\\end{tabular}\n",
       "\n",
       "\\item[\\$psi] A lavaan.matrix.symmetric: 2 × 2 of type dbl\n",
       "\\begin{tabular}{r|ll}\n",
       "  & f1 & f2\\\\\n",
       "\\hline\n",
       "\tf1 & 1.0000000 & 0.6756785\\\\\n",
       "\tf2 & 0.6756785 & 1.0000000\\\\\n",
       "\\end{tabular}\n",
       "\n",
       "\\end{description}\n"
      ],
      "text/markdown": [
       "$lambda\n",
       ":   \n",
       "A lavaan.matrix: 7 × 2 of type dbl\n",
       "\n",
       "| <!--/--> | f1 | f2 |\n",
       "|---|---|---|\n",
       "| q01 |  0.6191596 | 0.0000000 |\n",
       "| q03 | -0.5574981 | 0.0000000 |\n",
       "| q04 |  0.6939847 | 0.0000000 |\n",
       "| q05 |  0.5881928 | 0.0000000 |\n",
       "| q08 |  0.4984197 | 0.0000000 |\n",
       "| q06 |  0.0000000 | 0.5962874 |\n",
       "| q07 |  0.0000000 | 0.8612968 |\n",
       "\n",
       "\n",
       "$theta\n",
       ":   \n",
       "A lavaan.matrix.symmetric: 7 × 7 of type dbl\n",
       "\n",
       "| <!--/--> | q01 | q03 | q04 | q05 | q08 | q06 | q07 |\n",
       "|---|---|---|---|---|---|---|---|\n",
       "| q01 | 0.6166414 | 0.0000000 | 0.0000000 | 0.0000000 | 0.0000000 | 0.0000000 | 0.0000000 |\n",
       "| q03 | 0.0000000 | 0.6891958 | 0.0000000 | 0.0000000 | 0.0000000 | 0.0000000 | 0.0000000 |\n",
       "| q04 | 0.0000000 | 0.0000000 | 0.5183853 | 0.0000000 | 0.0000000 | 0.0000000 | 0.0000000 |\n",
       "| q05 | 0.0000000 | 0.0000000 | 0.0000000 | 0.6540292 | 0.0000000 | 0.0000000 | 0.0000000 |\n",
       "| q08 | 0.0000000 | 0.0000000 | 0.0000000 | 0.0000000 | 0.7515778 | 0.0000000 | 0.0000000 |\n",
       "| q06 | 0.0000000 | 0.0000000 | 0.0000000 | 0.0000000 | 0.0000000 | 0.6444413 | 0.0000000 |\n",
       "| q07 | 0.0000000 | 0.0000000 | 0.0000000 | 0.0000000 | 0.0000000 | 0.0000000 | 0.2581678 |\n",
       "\n",
       "\n",
       "$psi\n",
       ":   \n",
       "A lavaan.matrix.symmetric: 2 × 2 of type dbl\n",
       "\n",
       "| <!--/--> | f1 | f2 |\n",
       "|---|---|---|\n",
       "| f1 | 1.0000000 | 0.6756785 |\n",
       "| f2 | 0.6756785 | 1.0000000 |\n",
       "\n",
       "\n",
       "\n",
       "\n"
      ],
      "text/plain": [
       "$lambda\n",
       "        f1    f2\n",
       "q01  0.619 0.000\n",
       "q03 -0.557 0.000\n",
       "q04  0.694 0.000\n",
       "q05  0.588 0.000\n",
       "q08  0.498 0.000\n",
       "q06  0.000 0.596\n",
       "q07  0.000 0.861\n",
       "\n",
       "$theta\n",
       "    q01   q03   q04   q05   q08   q06   q07  \n",
       "q01 0.617                                    \n",
       "q03 0.000 0.689                              \n",
       "q04 0.000 0.000 0.518                        \n",
       "q05 0.000 0.000 0.000 0.654                  \n",
       "q08 0.000 0.000 0.000 0.000 0.752            \n",
       "q06 0.000 0.000 0.000 0.000 0.000 0.644      \n",
       "q07 0.000 0.000 0.000 0.000 0.000 0.000 0.258\n",
       "\n",
       "$psi\n",
       "   f1    f2   \n",
       "f1 1.000      \n",
       "f2 0.676 1.000\n"
      ]
     },
     "metadata": {},
     "output_type": "display_data"
    }
   ],
   "source": [
    "inspect(m4a, \"std\")"
   ]
  },
  {
   "cell_type": "code",
   "execution_count": 31,
   "id": "e671562e",
   "metadata": {},
   "outputs": [
    {
     "data": {
      "image/png": "[encoded data removed]",
      "text/plain": [
       "plot without title"
      ]
     },
     "metadata": {
      "image/png": {
       "height": 600,
       "width": 600
      }
     },
     "output_type": "display_data"
    }
   ],
   "source": [
    "semPaths(m4a,\n",
    "         rotation=2,\n",
    "         layout=\"tree2\",\n",
    "         what=\"std\",\n",
    "         posCol=\"black\",\n",
    "         edge.width=0.5,\n",
    "         edge.label.cex=1.5,\n",
    "         style=\"Lisrel\",\n",
    "         edge.label.position=0.55,\n",
    "         sizeMan=9,\n",
    "         nDigits = 3,\n",
    "         edge.color=\"black\", trans=1)"
   ]
  },
  {
   "cell_type": "code",
   "execution_count": 25,
   "id": "dea8e310",
   "metadata": {},
   "outputs": [
    {
     "name": "stdout",
     "output_type": "stream",
     "text": [
      "lavaan 0.6-12 ended normally after 29 iterations\n",
      "\n",
      "  Estimator                                         ML\n",
      "  Optimization method                           NLMINB\n",
      "  Number of model parameters                        15\n",
      "\n",
      "  Number of observations                          2571\n",
      "\n",
      "Model Test User Model:\n",
      "                                                      \n",
      "  Test statistic                                66.768\n",
      "  Degrees of freedom                                13\n",
      "  P-value (Chi-square)                           0.000\n",
      "\n",
      "Model Test Baseline Model:\n",
      "\n",
      "  Test statistic                              3876.345\n",
      "  Degrees of freedom                                21\n",
      "  P-value                                        0.000\n",
      "\n",
      "User Model versus Baseline Model:\n",
      "\n",
      "  Comparative Fit Index (CFI)                    0.986\n",
      "  Tucker-Lewis Index (TLI)                       0.977\n",
      "\n",
      "Loglikelihood and Information Criteria:\n",
      "\n",
      "  Loglikelihood user model (H0)             -23296.945\n",
      "  Loglikelihood unrestricted model (H1)     -23263.562\n",
      "                                                      \n",
      "  Akaike (AIC)                               46623.891\n",
      "  Bayesian (BIC)                             46711.672\n",
      "  Sample-size adjusted Bayesian (BIC)        46664.013\n",
      "\n",
      "Root Mean Square Error of Approximation:\n",
      "\n",
      "  RMSEA                                          0.040\n",
      "  90 Percent confidence interval - lower         0.031\n",
      "  90 Percent confidence interval - upper         0.050\n",
      "  P-value RMSEA <= 0.05                          0.952\n",
      "\n",
      "Standardized Root Mean Square Residual:\n",
      "\n",
      "  SRMR                                           0.021\n",
      "\n",
      "Parameter Estimates:\n",
      "\n",
      "  Standard errors                             Standard\n",
      "  Information                                 Expected\n",
      "  Information saturated (h1) model          Structured\n",
      "\n",
      "Latent Variables:\n",
      "                   Estimate  Std.Err  z-value  P(>|z|)   Std.lv  Std.all\n",
      "  f1 =~                                                                 \n",
      "    q01               1.000                               0.513    0.619\n",
      "    q03              -1.169    0.054  -21.714    0.000   -0.599   -0.557\n",
      "    q04               1.284    0.051   25.011    0.000    0.658    0.694\n",
      "    q05               1.107    0.049   22.572    0.000    0.567    0.588\n",
      "    q08               0.848    0.043   19.927    0.000    0.435    0.498\n",
      "  f2 =~                                                                 \n",
      "    q06               1.000                               0.669    0.596\n",
      "    q07               1.419    0.071   20.065    0.000    0.949    0.861\n",
      "\n",
      "Covariances:\n",
      "                   Estimate  Std.Err  z-value  P(>|z|)   Std.lv  Std.all\n",
      "  f1 ~~                                                                 \n",
      "    f2                0.232    0.015   15.175    0.000    0.676    0.676\n",
      "\n",
      "Variances:\n",
      "                   Estimate  Std.Err  z-value  P(>|z|)   Std.lv  Std.all\n",
      "   .q01               0.423    0.014   29.157    0.000    0.423    0.617\n",
      "   .q03               0.796    0.026   31.025    0.000    0.796    0.689\n",
      "   .q04               0.466    0.018   25.824    0.000    0.466    0.518\n",
      "   .q05               0.608    0.020   30.173    0.000    0.608    0.654\n",
      "   .q08               0.572    0.018   32.332    0.000    0.572    0.752\n",
      "   .q06               0.811    0.030   27.187    0.000    0.811    0.644\n",
      "   .q07               0.314    0.040    7.815    0.000    0.314    0.258\n",
      "    f1                0.263    0.017   15.230    0.000    1.000    1.000\n",
      "    f2                0.447    0.033   13.500    0.000    1.000    1.000\n",
      "\n"
     ]
    }
   ],
   "source": [
    "print(summary(m4, fit.measures=TRUE, standardized=TRUE))"
   ]
  },
  {
   "cell_type": "code",
   "execution_count": 52,
   "id": "5cf3bfce",
   "metadata": {},
   "outputs": [
    {
     "data": {
      "text/html": [
       "<table class=\"dataframe\">\n",
       "<caption>A lavaan.matrix.symmetric: 7 × 7 of type dbl</caption>\n",
       "<thead>\n",
       "\t<tr><th></th><th scope=col>q01</th><th scope=col>q03</th><th scope=col>q04</th><th scope=col>q05</th><th scope=col>q08</th><th scope=col>q06</th><th scope=col>q07</th></tr>\n",
       "</thead>\n",
       "<tbody>\n",
       "\t<tr><th scope=row>q01</th><td> 0.685</td><td>-0.307</td><td> 0.337</td><td> 0.291</td><td> 0.223</td><td> 0.232</td><td> 0.329</td></tr>\n",
       "\t<tr><th scope=row>q03</th><td>-0.307</td><td> 1.155</td><td>-0.394</td><td>-0.340</td><td>-0.261</td><td>-0.271</td><td>-0.384</td></tr>\n",
       "\t<tr><th scope=row>q04</th><td> 0.337</td><td>-0.394</td><td> 0.899</td><td> 0.373</td><td> 0.286</td><td> 0.297</td><td> 0.422</td></tr>\n",
       "\t<tr><th scope=row>q05</th><td> 0.291</td><td>-0.340</td><td> 0.373</td><td> 0.930</td><td> 0.247</td><td> 0.256</td><td> 0.364</td></tr>\n",
       "\t<tr><th scope=row>q08</th><td> 0.223</td><td>-0.261</td><td> 0.286</td><td> 0.247</td><td> 0.761</td><td> 0.197</td><td> 0.279</td></tr>\n",
       "\t<tr><th scope=row>q06</th><td> 0.232</td><td>-0.271</td><td> 0.297</td><td> 0.256</td><td> 0.197</td><td> 1.258</td><td> 0.635</td></tr>\n",
       "\t<tr><th scope=row>q07</th><td> 0.329</td><td>-0.384</td><td> 0.422</td><td> 0.364</td><td> 0.279</td><td> 0.635</td><td> 1.215</td></tr>\n",
       "</tbody>\n",
       "</table>\n"
      ],
      "text/latex": [
       "A lavaan.matrix.symmetric: 7 × 7 of type dbl\n",
       "\\begin{tabular}{r|lllllll}\n",
       "  & q01 & q03 & q04 & q05 & q08 & q06 & q07\\\\\n",
       "\\hline\n",
       "\tq01 &  0.685 & -0.307 &  0.337 &  0.291 &  0.223 &  0.232 &  0.329\\\\\n",
       "\tq03 & -0.307 &  1.155 & -0.394 & -0.340 & -0.261 & -0.271 & -0.384\\\\\n",
       "\tq04 &  0.337 & -0.394 &  0.899 &  0.373 &  0.286 &  0.297 &  0.422\\\\\n",
       "\tq05 &  0.291 & -0.340 &  0.373 &  0.930 &  0.247 &  0.256 &  0.364\\\\\n",
       "\tq08 &  0.223 & -0.261 &  0.286 &  0.247 &  0.761 &  0.197 &  0.279\\\\\n",
       "\tq06 &  0.232 & -0.271 &  0.297 &  0.256 &  0.197 &  1.258 &  0.635\\\\\n",
       "\tq07 &  0.329 & -0.384 &  0.422 &  0.364 &  0.279 &  0.635 &  1.215\\\\\n",
       "\\end{tabular}\n"
      ],
      "text/markdown": [
       "\n",
       "A lavaan.matrix.symmetric: 7 × 7 of type dbl\n",
       "\n",
       "| <!--/--> | q01 | q03 | q04 | q05 | q08 | q06 | q07 |\n",
       "|---|---|---|---|---|---|---|---|\n",
       "| q01 |  0.685 | -0.307 |  0.337 |  0.291 |  0.223 |  0.232 |  0.329 |\n",
       "| q03 | -0.307 |  1.155 | -0.394 | -0.340 | -0.261 | -0.271 | -0.384 |\n",
       "| q04 |  0.337 | -0.394 |  0.899 |  0.373 |  0.286 |  0.297 |  0.422 |\n",
       "| q05 |  0.291 | -0.340 |  0.373 |  0.930 |  0.247 |  0.256 |  0.364 |\n",
       "| q08 |  0.223 | -0.261 |  0.286 |  0.247 |  0.761 |  0.197 |  0.279 |\n",
       "| q06 |  0.232 | -0.271 |  0.297 |  0.256 |  0.197 |  1.258 |  0.635 |\n",
       "| q07 |  0.329 | -0.384 |  0.422 |  0.364 |  0.279 |  0.635 |  1.215 |\n",
       "\n"
      ],
      "text/plain": [
       "    q01    q03    q04    q05    q08    q06    q07   \n",
       "q01  0.685 -0.307  0.337  0.291  0.223  0.232  0.329\n",
       "q03 -0.307  1.155 -0.394 -0.340 -0.261 -0.271 -0.384\n",
       "q04  0.337 -0.394  0.899  0.373  0.286  0.297  0.422\n",
       "q05  0.291 -0.340  0.373  0.930  0.247  0.256  0.364\n",
       "q08  0.223 -0.261  0.286  0.247  0.761  0.197  0.279\n",
       "q06  0.232 -0.271  0.297  0.256  0.197  1.258  0.635\n",
       "q07  0.329 -0.384  0.422  0.364  0.279  0.635  1.215"
      ]
     },
     "metadata": {},
     "output_type": "display_data"
    }
   ],
   "source": [
    "round(fitted(m4a)[[\"cov\"]], 3)"
   ]
  },
  {
   "cell_type": "code",
   "execution_count": 48,
   "id": "f3e0cddb",
   "metadata": {},
   "outputs": [
    {
     "data": {
      "text/html": [
       "<table class=\"dataframe\">\n",
       "<caption>A matrix: 7 × 7 of type dbl</caption>\n",
       "<thead>\n",
       "\t<tr><th></th><th scope=col>q01</th><th scope=col>q03</th><th scope=col>q04</th><th scope=col>q05</th><th scope=col>q08</th><th scope=col>q06</th><th scope=col>q07</th></tr>\n",
       "</thead>\n",
       "<tbody>\n",
       "\t<tr><th scope=row>q01</th><td> 0.686</td><td>-0.300</td><td> 0.342</td><td> 0.321</td><td> 0.239</td><td> 0.201</td><td> 0.279</td></tr>\n",
       "\t<tr><th scope=row>q03</th><td>-0.300</td><td> 1.156</td><td>-0.388</td><td>-0.322</td><td>-0.243</td><td>-0.273</td><td>-0.453</td></tr>\n",
       "\t<tr><th scope=row>q04</th><td> 0.342</td><td>-0.388</td><td> 0.900</td><td> 0.367</td><td> 0.289</td><td> 0.296</td><td> 0.427</td></tr>\n",
       "\t<tr><th scope=row>q05</th><td> 0.321</td><td>-0.322</td><td> 0.367</td><td> 0.931</td><td> 0.226</td><td> 0.279</td><td> 0.361</td></tr>\n",
       "\t<tr><th scope=row>q08</th><td> 0.239</td><td>-0.243</td><td> 0.289</td><td> 0.226</td><td> 0.761</td><td> 0.218</td><td> 0.286</td></tr>\n",
       "\t<tr><th scope=row>q06</th><td> 0.201</td><td>-0.273</td><td> 0.296</td><td> 0.279</td><td> 0.218</td><td> 1.259</td><td> 0.635</td></tr>\n",
       "\t<tr><th scope=row>q07</th><td> 0.279</td><td>-0.453</td><td> 0.427</td><td> 0.361</td><td> 0.286</td><td> 0.635</td><td> 1.215</td></tr>\n",
       "</tbody>\n",
       "</table>\n"
      ],
      "text/latex": [
       "A matrix: 7 × 7 of type dbl\n",
       "\\begin{tabular}{r|lllllll}\n",
       "  & q01 & q03 & q04 & q05 & q08 & q06 & q07\\\\\n",
       "\\hline\n",
       "\tq01 &  0.686 & -0.300 &  0.342 &  0.321 &  0.239 &  0.201 &  0.279\\\\\n",
       "\tq03 & -0.300 &  1.156 & -0.388 & -0.322 & -0.243 & -0.273 & -0.453\\\\\n",
       "\tq04 &  0.342 & -0.388 &  0.900 &  0.367 &  0.289 &  0.296 &  0.427\\\\\n",
       "\tq05 &  0.321 & -0.322 &  0.367 &  0.931 &  0.226 &  0.279 &  0.361\\\\\n",
       "\tq08 &  0.239 & -0.243 &  0.289 &  0.226 &  0.761 &  0.218 &  0.286\\\\\n",
       "\tq06 &  0.201 & -0.273 &  0.296 &  0.279 &  0.218 &  1.259 &  0.635\\\\\n",
       "\tq07 &  0.279 & -0.453 &  0.427 &  0.361 &  0.286 &  0.635 &  1.215\\\\\n",
       "\\end{tabular}\n"
      ],
      "text/markdown": [
       "\n",
       "A matrix: 7 × 7 of type dbl\n",
       "\n",
       "| <!--/--> | q01 | q03 | q04 | q05 | q08 | q06 | q07 |\n",
       "|---|---|---|---|---|---|---|---|\n",
       "| q01 |  0.686 | -0.300 |  0.342 |  0.321 |  0.239 |  0.201 |  0.279 |\n",
       "| q03 | -0.300 |  1.156 | -0.388 | -0.322 | -0.243 | -0.273 | -0.453 |\n",
       "| q04 |  0.342 | -0.388 |  0.900 |  0.367 |  0.289 |  0.296 |  0.427 |\n",
       "| q05 |  0.321 | -0.322 |  0.367 |  0.931 |  0.226 |  0.279 |  0.361 |\n",
       "| q08 |  0.239 | -0.243 |  0.289 |  0.226 |  0.761 |  0.218 |  0.286 |\n",
       "| q06 |  0.201 | -0.273 |  0.296 |  0.279 |  0.218 |  1.259 |  0.635 |\n",
       "| q07 |  0.279 | -0.453 |  0.427 |  0.361 |  0.286 |  0.635 |  1.215 |\n",
       "\n"
      ],
      "text/plain": [
       "    q01    q03    q04    q05    q08    q06    q07   \n",
       "q01  0.686 -0.300  0.342  0.321  0.239  0.201  0.279\n",
       "q03 -0.300  1.156 -0.388 -0.322 -0.243 -0.273 -0.453\n",
       "q04  0.342 -0.388  0.900  0.367  0.289  0.296  0.427\n",
       "q05  0.321 -0.322  0.367  0.931  0.226  0.279  0.361\n",
       "q08  0.239 -0.243  0.289  0.226  0.761  0.218  0.286\n",
       "q06  0.201 -0.273  0.296  0.279  0.218  1.259  0.635\n",
       "q07  0.279 -0.453  0.427  0.361  0.286  0.635  1.215"
      ]
     },
     "metadata": {},
     "output_type": "display_data"
    }
   ],
   "source": [
    "round(var(dat), 3)"
   ]
  },
  {
   "cell_type": "markdown",
   "id": "c36c48c1",
   "metadata": {},
   "source": [
    "### Covariance between manifest variables"
   ]
  },
  {
   "cell_type": "code",
   "execution_count": 235,
   "id": "577c3187",
   "metadata": {},
   "outputs": [],
   "source": [
    "model_4b <- 'f1 =~ q01 + q03 + q04 + q05 + q08 \n",
    "             f2 =~ q06 + q07\n",
    "             q01 ~~ q03'\n",
    "m4b <- cfa(model_4b, data=dat)"
   ]
  },
  {
   "cell_type": "code",
   "execution_count": 236,
   "id": "455e59bd",
   "metadata": {},
   "outputs": [
    {
     "data": {
      "image/png": "[encoded data removed]",
      "text/plain": [
       "plot without title"
      ]
     },
     "metadata": {
      "image/png": {
       "height": 600,
       "width": 600
      }
     },
     "output_type": "display_data"
    }
   ],
   "source": [
    "semPaths(m4b,\n",
    "         rotation=2,\n",
    "         layout=\"tree2\",\n",
    "         what=\"std\",\n",
    "         posCol=\"black\",\n",
    "         edge.width=0.5,\n",
    "         edge.label.cex=1.5,\n",
    "         style=\"Lisrel\",\n",
    "         edge.label.position=0.55,\n",
    "         sizeMan=9,\n",
    "         nDigits = 3,\n",
    "         edge.color=\"black\", trans=1)"
   ]
  },
  {
   "cell_type": "code",
   "execution_count": 241,
   "id": "dace12e2",
   "metadata": {},
   "outputs": [
    {
     "data": {
      "text/html": [
       "<table class=\"dataframe\">\n",
       "<caption>A lavaan.matrix.symmetric: 7 × 7 of type dbl</caption>\n",
       "<thead>\n",
       "\t<tr><th></th><th scope=col>q01</th><th scope=col>q03</th><th scope=col>q04</th><th scope=col>q05</th><th scope=col>q08</th><th scope=col>q06</th><th scope=col>q07</th></tr>\n",
       "</thead>\n",
       "<tbody>\n",
       "\t<tr><th scope=row>q01</th><td>0.61150080</td><td>0.02131011</td><td>0.0000000</td><td>0.000000</td><td>0.0000000</td><td>0.0000000</td><td>0.0000000</td></tr>\n",
       "\t<tr><th scope=row>q03</th><td>0.02131011</td><td>0.68390885</td><td>0.0000000</td><td>0.000000</td><td>0.0000000</td><td>0.0000000</td><td>0.0000000</td></tr>\n",
       "\t<tr><th scope=row>q04</th><td>0.00000000</td><td>0.00000000</td><td>0.5207708</td><td>0.000000</td><td>0.0000000</td><td>0.0000000</td><td>0.0000000</td></tr>\n",
       "\t<tr><th scope=row>q05</th><td>0.00000000</td><td>0.00000000</td><td>0.0000000</td><td>0.654785</td><td>0.0000000</td><td>0.0000000</td><td>0.0000000</td></tr>\n",
       "\t<tr><th scope=row>q08</th><td>0.00000000</td><td>0.00000000</td><td>0.0000000</td><td>0.000000</td><td>0.7522605</td><td>0.0000000</td><td>0.0000000</td></tr>\n",
       "\t<tr><th scope=row>q06</th><td>0.00000000</td><td>0.00000000</td><td>0.0000000</td><td>0.000000</td><td>0.0000000</td><td>0.6447855</td><td>0.0000000</td></tr>\n",
       "\t<tr><th scope=row>q07</th><td>0.00000000</td><td>0.00000000</td><td>0.0000000</td><td>0.000000</td><td>0.0000000</td><td>0.0000000</td><td>0.2574488</td></tr>\n",
       "</tbody>\n",
       "</table>\n"
      ],
      "text/latex": [
       "A lavaan.matrix.symmetric: 7 × 7 of type dbl\n",
       "\\begin{tabular}{r|lllllll}\n",
       "  & q01 & q03 & q04 & q05 & q08 & q06 & q07\\\\\n",
       "\\hline\n",
       "\tq01 & 0.61150080 & 0.02131011 & 0.0000000 & 0.000000 & 0.0000000 & 0.0000000 & 0.0000000\\\\\n",
       "\tq03 & 0.02131011 & 0.68390885 & 0.0000000 & 0.000000 & 0.0000000 & 0.0000000 & 0.0000000\\\\\n",
       "\tq04 & 0.00000000 & 0.00000000 & 0.5207708 & 0.000000 & 0.0000000 & 0.0000000 & 0.0000000\\\\\n",
       "\tq05 & 0.00000000 & 0.00000000 & 0.0000000 & 0.654785 & 0.0000000 & 0.0000000 & 0.0000000\\\\\n",
       "\tq08 & 0.00000000 & 0.00000000 & 0.0000000 & 0.000000 & 0.7522605 & 0.0000000 & 0.0000000\\\\\n",
       "\tq06 & 0.00000000 & 0.00000000 & 0.0000000 & 0.000000 & 0.0000000 & 0.6447855 & 0.0000000\\\\\n",
       "\tq07 & 0.00000000 & 0.00000000 & 0.0000000 & 0.000000 & 0.0000000 & 0.0000000 & 0.2574488\\\\\n",
       "\\end{tabular}\n"
      ],
      "text/markdown": [
       "\n",
       "A lavaan.matrix.symmetric: 7 × 7 of type dbl\n",
       "\n",
       "| <!--/--> | q01 | q03 | q04 | q05 | q08 | q06 | q07 |\n",
       "|---|---|---|---|---|---|---|---|\n",
       "| q01 | 0.61150080 | 0.02131011 | 0.0000000 | 0.000000 | 0.0000000 | 0.0000000 | 0.0000000 |\n",
       "| q03 | 0.02131011 | 0.68390885 | 0.0000000 | 0.000000 | 0.0000000 | 0.0000000 | 0.0000000 |\n",
       "| q04 | 0.00000000 | 0.00000000 | 0.5207708 | 0.000000 | 0.0000000 | 0.0000000 | 0.0000000 |\n",
       "| q05 | 0.00000000 | 0.00000000 | 0.0000000 | 0.654785 | 0.0000000 | 0.0000000 | 0.0000000 |\n",
       "| q08 | 0.00000000 | 0.00000000 | 0.0000000 | 0.000000 | 0.7522605 | 0.0000000 | 0.0000000 |\n",
       "| q06 | 0.00000000 | 0.00000000 | 0.0000000 | 0.000000 | 0.0000000 | 0.6447855 | 0.0000000 |\n",
       "| q07 | 0.00000000 | 0.00000000 | 0.0000000 | 0.000000 | 0.0000000 | 0.0000000 | 0.2574488 |\n",
       "\n"
      ],
      "text/plain": [
       "    q01        q03        q04       q05      q08       q06       q07      \n",
       "q01 0.61150080 0.02131011 0.0000000 0.000000 0.0000000 0.0000000 0.0000000\n",
       "q03 0.02131011 0.68390885 0.0000000 0.000000 0.0000000 0.0000000 0.0000000\n",
       "q04 0.00000000 0.00000000 0.5207708 0.000000 0.0000000 0.0000000 0.0000000\n",
       "q05 0.00000000 0.00000000 0.0000000 0.654785 0.0000000 0.0000000 0.0000000\n",
       "q08 0.00000000 0.00000000 0.0000000 0.000000 0.7522605 0.0000000 0.0000000\n",
       "q06 0.00000000 0.00000000 0.0000000 0.000000 0.0000000 0.6447855 0.0000000\n",
       "q07 0.00000000 0.00000000 0.0000000 0.000000 0.0000000 0.0000000 0.2574488"
      ]
     },
     "metadata": {},
     "output_type": "display_data"
    }
   ],
   "source": [
    "## theta shows model is now estimating cov(q01, q03)\n",
    "inspect(m4b, \"std\")$theta"
   ]
  },
  {
   "cell_type": "markdown",
   "id": "a6b31374",
   "metadata": {},
   "source": [
    "### Getting eta values"
   ]
  },
  {
   "cell_type": "code",
   "execution_count": 54,
   "id": "4bcde995",
   "metadata": {},
   "outputs": [
    {
     "data": {
      "text/html": [
       "<table class=\"dataframe\">\n",
       "<caption>A matrix: 6 × 2 of type dbl</caption>\n",
       "<thead>\n",
       "\t<tr><th scope=col>f1</th><th scope=col>f2</th></tr>\n",
       "</thead>\n",
       "<tbody>\n",
       "\t<tr><td>-0.49209642</td><td>-0.14612450</td></tr>\n",
       "\t<tr><td>-0.46370295</td><td>-0.52192953</td></tr>\n",
       "\t<tr><td>-0.11755563</td><td>-0.52005226</td></tr>\n",
       "\t<tr><td> 0.54244040</td><td> 0.66200799</td></tr>\n",
       "\t<tr><td>-0.29352472</td><td> 0.01985241</td></tr>\n",
       "\t<tr><td> 0.02911397</td><td> 0.60861478</td></tr>\n",
       "</tbody>\n",
       "</table>\n"
      ],
      "text/latex": [
       "A matrix: 6 × 2 of type dbl\n",
       "\\begin{tabular}{ll}\n",
       " f1 & f2\\\\\n",
       "\\hline\n",
       "\t -0.49209642 & -0.14612450\\\\\n",
       "\t -0.46370295 & -0.52192953\\\\\n",
       "\t -0.11755563 & -0.52005226\\\\\n",
       "\t  0.54244040 &  0.66200799\\\\\n",
       "\t -0.29352472 &  0.01985241\\\\\n",
       "\t  0.02911397 &  0.60861478\\\\\n",
       "\\end{tabular}\n"
      ],
      "text/markdown": [
       "\n",
       "A matrix: 6 × 2 of type dbl\n",
       "\n",
       "| f1 | f2 |\n",
       "|---|---|\n",
       "| -0.49209642 | -0.14612450 |\n",
       "| -0.46370295 | -0.52192953 |\n",
       "| -0.11755563 | -0.52005226 |\n",
       "|  0.54244040 |  0.66200799 |\n",
       "| -0.29352472 |  0.01985241 |\n",
       "|  0.02911397 |  0.60861478 |\n",
       "\n"
      ],
      "text/plain": [
       "     f1          f2         \n",
       "[1,] -0.49209642 -0.14612450\n",
       "[2,] -0.46370295 -0.52192953\n",
       "[3,] -0.11755563 -0.52005226\n",
       "[4,]  0.54244040  0.66200799\n",
       "[5,] -0.29352472  0.01985241\n",
       "[6,]  0.02911397  0.60861478"
      ]
     },
     "metadata": {},
     "output_type": "display_data"
    }
   ],
   "source": [
    "head(lavPredict(m4a))"
   ]
  },
  {
   "cell_type": "code",
   "execution_count": 164,
   "id": "b85166ff",
   "metadata": {},
   "outputs": [],
   "source": [
    "## center data:\n",
    "yc = scale(dat, scale=FALSE)"
   ]
  },
  {
   "cell_type": "code",
   "execution_count": 224,
   "id": "e455cf4b",
   "metadata": {},
   "outputs": [],
   "source": [
    "library(MASS)\n",
    "Sigma_hat     <- m4a@implied$cov\n",
    "Sigma_hat_inv <- lapply(Sigma_hat, MASS::ginv)[[1]]\n",
    "\n",
    "psi <- m4a@Model@GLIST$psi\n",
    "\n",
    "lambda <- m4a@Model@GLIST$lambda"
   ]
  },
  {
   "cell_type": "markdown",
   "id": "8890ad16",
   "metadata": {},
   "source": [
    "Factor scores obtained by \"classical\" regression method:\n",
    "\n",
    "\\begin{eqnarray}\n",
    "F & = & \\mathbf{y_{centered}} (\\mathbf{\\Psi} \\mathbf{\\Lambda'} \\mathbf{\\Sigma^{-1}})'\n",
    "\\end{eqnarray}"
   ]
  },
  {
   "cell_type": "code",
   "execution_count": 225,
   "id": "10e40ff2",
   "metadata": {},
   "outputs": [
    {
     "data": {
      "text/html": [
       "<table class=\"dataframe\">\n",
       "<caption>A matrix: 6 × 2 of type dbl</caption>\n",
       "<tbody>\n",
       "\t<tr><td>-0.49209642</td><td>-0.14612450</td></tr>\n",
       "\t<tr><td>-0.46370295</td><td>-0.52192953</td></tr>\n",
       "\t<tr><td>-0.11755563</td><td>-0.52005226</td></tr>\n",
       "\t<tr><td> 0.54244040</td><td> 0.66200799</td></tr>\n",
       "\t<tr><td>-0.29352472</td><td> 0.01985241</td></tr>\n",
       "\t<tr><td> 0.02911397</td><td> 0.60861478</td></tr>\n",
       "</tbody>\n",
       "</table>\n"
      ],
      "text/latex": [
       "A matrix: 6 × 2 of type dbl\n",
       "\\begin{tabular}{ll}\n",
       "\t -0.49209642 & -0.14612450\\\\\n",
       "\t -0.46370295 & -0.52192953\\\\\n",
       "\t -0.11755563 & -0.52005226\\\\\n",
       "\t  0.54244040 &  0.66200799\\\\\n",
       "\t -0.29352472 &  0.01985241\\\\\n",
       "\t  0.02911397 &  0.60861478\\\\\n",
       "\\end{tabular}\n"
      ],
      "text/markdown": [
       "\n",
       "A matrix: 6 × 2 of type dbl\n",
       "\n",
       "| -0.49209642 | -0.14612450 |\n",
       "| -0.46370295 | -0.52192953 |\n",
       "| -0.11755563 | -0.52005226 |\n",
       "|  0.54244040 |  0.66200799 |\n",
       "| -0.29352472 |  0.01985241 |\n",
       "|  0.02911397 |  0.60861478 |\n",
       "\n"
      ],
      "text/plain": [
       "     [,1]        [,2]       \n",
       "[1,] -0.49209642 -0.14612450\n",
       "[2,] -0.46370295 -0.52192953\n",
       "[3,] -0.11755563 -0.52005226\n",
       "[4,]  0.54244040  0.66200799\n",
       "[5,] -0.29352472  0.01985241\n",
       "[6,]  0.02911397  0.60861478"
      ]
     },
     "metadata": {},
     "output_type": "display_data"
    }
   ],
   "source": [
    "fsc <- yc %*% t(psi %*% t(lambda) %*% Sigma_hat_inv)\n",
    "head(fsc)"
   ]
  },
  {
   "cell_type": "code",
   "execution_count": 140,
   "id": "dad0a46f",
   "metadata": {},
   "outputs": [
    {
     "data": {
      "text/html": [
       "<table class=\"dataframe\">\n",
       "<caption>A matrix: 6 × 2 of type dbl</caption>\n",
       "<thead>\n",
       "\t<tr><th scope=col>f1</th><th scope=col>f2</th></tr>\n",
       "</thead>\n",
       "<tbody>\n",
       "\t<tr><td>-0.49209642</td><td>-0.14612450</td></tr>\n",
       "\t<tr><td>-0.46370295</td><td>-0.52192953</td></tr>\n",
       "\t<tr><td>-0.11755563</td><td>-0.52005226</td></tr>\n",
       "\t<tr><td> 0.54244040</td><td> 0.66200799</td></tr>\n",
       "\t<tr><td>-0.29352472</td><td> 0.01985241</td></tr>\n",
       "\t<tr><td> 0.02911397</td><td> 0.60861478</td></tr>\n",
       "</tbody>\n",
       "</table>\n"
      ],
      "text/latex": [
       "A matrix: 6 × 2 of type dbl\n",
       "\\begin{tabular}{ll}\n",
       " f1 & f2\\\\\n",
       "\\hline\n",
       "\t -0.49209642 & -0.14612450\\\\\n",
       "\t -0.46370295 & -0.52192953\\\\\n",
       "\t -0.11755563 & -0.52005226\\\\\n",
       "\t  0.54244040 &  0.66200799\\\\\n",
       "\t -0.29352472 &  0.01985241\\\\\n",
       "\t  0.02911397 &  0.60861478\\\\\n",
       "\\end{tabular}\n"
      ],
      "text/markdown": [
       "\n",
       "A matrix: 6 × 2 of type dbl\n",
       "\n",
       "| f1 | f2 |\n",
       "|---|---|\n",
       "| -0.49209642 | -0.14612450 |\n",
       "| -0.46370295 | -0.52192953 |\n",
       "| -0.11755563 | -0.52005226 |\n",
       "|  0.54244040 |  0.66200799 |\n",
       "| -0.29352472 |  0.01985241 |\n",
       "|  0.02911397 |  0.60861478 |\n",
       "\n"
      ],
      "text/plain": [
       "     f1          f2         \n",
       "[1,] -0.49209642 -0.14612450\n",
       "[2,] -0.46370295 -0.52192953\n",
       "[3,] -0.11755563 -0.52005226\n",
       "[4,]  0.54244040  0.66200799\n",
       "[5,] -0.29352472  0.01985241\n",
       "[6,]  0.02911397  0.60861478"
      ]
     },
     "metadata": {},
     "output_type": "display_data"
    }
   ],
   "source": [
    "head(lavPredict(m4a))"
   ]
  },
  {
   "cell_type": "markdown",
   "id": "f1c0c3d2",
   "metadata": {},
   "source": [
    "## Fitting the model"
   ]
  },
  {
   "cell_type": "markdown",
   "id": "f113e57c",
   "metadata": {},
   "source": [
    "This image poached from [4]:\n",
    "\n",
    "![two factor model](sem_data/2factor_model.png)"
   ]
  },
  {
   "cell_type": "markdown",
   "id": "3024d23d",
   "metadata": {},
   "source": [
    "As derived in [2]\n",
    "\n",
    "\\begin{eqnarray}\n",
    "\\Sigma(\\theta) = Cov(\\mathbf{y}) & = & Cov(\\mathbf{\\Lambda}\\mathbf{\\eta} + \\mathbf{\\epsilon}) \\\\\n",
    "& = & \\mathbb{E}((\\mathbf{\\Lambda}\\mathbf{\\eta} + \\mathbf{\\epsilon}) (\\mathbf{\\Lambda}\\mathbf{\\eta} + \\mathbf{\\epsilon})') \\\\\n",
    "& = & \\mathbb{E}(\\mathbf{\\Lambda}\\mathbf{\\eta}\\mathbf{\\eta}'\\mathbf{\\Lambda}' + \\mathbf{\\Lambda}\\mathbf{\\eta}\\mathbf{\\epsilon}' + \\mathbf{\\epsilon}\\mathbf{\\eta}'\\mathbf{\\Lambda}' + \\mathbf{\\epsilon}\\mathbf{\\epsilon}') \\\\\n",
    "& = & \\mathbf{\\Lambda}\\mathbb{E}(\\mathbf{\\eta}\\mathbf{\\eta})'\\mathbf{\\Lambda}' + 0 + 0 + \\mathbb{E}(\\mathbf{\\epsilon}\\mathbf{\\epsilon}') \\\\\n",
    "& = & \\mathbf{\\Lambda} \\Psi \\mathbf{\\Lambda}’ + \\Theta_{\\epsilon} \\\\\n",
    "\\end{eqnarray}"
   ]
  },
  {
   "cell_type": "markdown",
   "id": "540b444d",
   "metadata": {},
   "source": [
    "As derived in [4]:\n",
    "\n",
    "\\begin{eqnarray}\n",
    "\\Sigma(\\theta) = Cov(\\mathbf{y}) & = & Cov(\\mathbf{\\tau} + \\mathbf{\\Lambda} \\mathbf{\\eta} + \\mathbf{\\epsilon}) \\\\\n",
    "& = & Var(\\mathbf{\\tau}) + Cov(\\mathbf{\\Lambda} \\mathbf{\\eta}) + Var(\\mathbf{\\epsilon}) \\\\\n",
    "& = & 0 + Cov(\\mathbf{\\Lambda} \\mathbf{\\eta}) + Var(\\mathbf{\\epsilon}) \\\\\n",
    "& = & \\mathbf{\\Lambda} Cov(\\mathbf{\\eta}) \\mathbf{\\Lambda}’ + Var(\\mathbf{\\epsilon}) \\\\\n",
    "& = & \\mathbf{\\Lambda} \\Psi \\mathbf{\\Lambda}’ + \\Theta_{\\epsilon} \\\\\n",
    "\\end{eqnarray}"
   ]
  },
  {
   "cell_type": "markdown",
   "id": "bee84175",
   "metadata": {},
   "source": [
    "# Putting it all together"
   ]
  },
  {
   "cell_type": "markdown",
   "id": "a2768b84",
   "metadata": {},
   "source": [
    "## Example"
   ]
  },
  {
   "cell_type": "markdown",
   "id": "34a3964d",
   "metadata": {},
   "source": [
    "This example from [1]:\n",
    "\n",
    "![example full](sem_data/sem_3.JPG)"
   ]
  },
  {
   "cell_type": "markdown",
   "id": "839416ce",
   "metadata": {},
   "source": [
    "# References"
   ]
  },
  {
   "cell_type": "markdown",
   "id": "f9392324",
   "metadata": {},
   "source": [
    "[1] Keith, T.Z. (2019). Multiple Regression and Beyond: An Introduction to Multiple Regression and Structural Equation Modeling (3rd ed.). Routledge. https://doi.org/10.4324/9781315162348\n",
    "\n",
    "[2] Lambert, Ben, [Factor Analyis and SEM](https://youtube.com/playlist?list=PLwJRxp3blEvaOTZfSKXysxRmi6gXJf5gP)\n",
    "\n",
    "[3] [Mild introduction to Structural Equation Modeling (SEM) using R](https://youtu.be/VT4Hz4XgkN8)\n",
    "\n",
    "[4] Lin, Johnny, [Confirmatory Factor Analysis (CFA) in R with lavaan](https://stats.oarc.ucla.edu/r/seminars/rcfa/)\n",
    "\n",
    "[5] Lin, Johnny, [Introduction to Structural Equation Modeling (SEM) in R with lavaan](https://stats.oarc.ucla.edu/r/seminars/rsem/)\n",
    "\n",
    "[6] Sturgis, Patrick, [Structural Equation Modeling (SEM)](https://youtube.com/playlist?list=PLzv58M2GAfm4CF5-7GGDYStx9SzyhFmgK)"
   ]
  }
 ],
 "metadata": {
  "kernelspec": {
   "display_name": "R",
   "language": "R",
   "name": "ir"
  },
  "language_info": {
   "codemirror_mode": "r",
   "file_extension": ".r",
   "mimetype": "text/x-r-source",
   "name": "R",
   "pygments_lexer": "r",
   "version": "4.1.2"
  },
  "toc": {
   "base_numbering": 1,
   "nav_menu": {},
   "number_sections": true,
   "sideBar": true,
   "skip_h1_title": false,
   "title_cell": "Table of Contents",
   "title_sidebar": "Contents",
   "toc_cell": false,
   "toc_position": {
    "height": "calc(100% - 180px)",
    "left": "10px",
    "top": "150px",
    "width": "338.333px"
   },
   "toc_section_display": true,
   "toc_window_display": true
  },
  "varInspector": {
   "cols": {
    "lenName": 16,
    "lenType": 16,
    "lenVar": 40
   },
   "kernels_config": {
    "python": {
     "delete_cmd_postfix": "",
     "delete_cmd_prefix": "del ",
     "library": "var_list.py",
     "varRefreshCmd": "print(var_dic_list())"
    },
    "r": {
     "delete_cmd_postfix": ") ",
     "delete_cmd_prefix": "rm(",
     "library": "var_list.r",
     "varRefreshCmd": "cat(var_dic_list()) "
    }
   },
   "types_to_exclude": [
    "module",
    "function",
    "builtin_function_or_method",
    "instance",
    "_Feature"
   ],
   "window_display": false
  }
 },
 "nbformat": 4,
 "nbformat_minor": 5
}
