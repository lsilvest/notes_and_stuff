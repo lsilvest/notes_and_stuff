{
 "cells": [
  {
   "cell_type": "markdown",
   "metadata": {},
   "source": [
    "# Setup"
   ]
  },
  {
   "cell_type": "code",
   "execution_count": 1,
   "metadata": {},
   "outputs": [],
   "source": [
    "import numpy as np\n",
    "import pandas as pd\n",
    "from sklearn.mixture import GaussianMixture\n",
    "import matplotlib.pyplot as plt\n",
    "from scipy import stats\n",
    "from pyod.models.copod import COPOD"
   ]
  },
  {
   "cell_type": "code",
   "execution_count": 2,
   "metadata": {},
   "outputs": [],
   "source": [
    "# set up an experiment: bivariate Gaussian with/without correlation:\n",
    "mvnorm = stats.multivariate_normal(mean=[0,0], cov=[[1, 0.90], [0.90, 1]])\n",
    "n = 10000\n",
    "X_corr = mvnorm.rvs(n)\n",
    "\n",
    "# randomize X to break the correlation; this means we keep the same marginals:\n",
    "X_nocorr = X_corr.copy()\n",
    "index1 = np.random.choice(n, n, replace=False)\n",
    "index2 = np.random.choice(n, n, replace=False)\n",
    "X_nocorr[:, 0] = X_nocorr[index1, 0]\n",
    "X_nocorr[:, 1] = X_nocorr[index2, 1]"
   ]
  },
  {
   "cell_type": "code",
   "execution_count": 3,
   "metadata": {},
   "outputs": [
    {
     "data": {
      "image/png": "[encoded data removed]",
      "text/plain": [
       "<Figure size 432x288 with 2 Axes>"
      ]
     },
     "metadata": {
      "needs_background": "light"
     },
     "output_type": "display_data"
    }
   ],
   "source": [
    "fig, (ax1, ax2) = plt.subplots(1, 2)\n",
    "fig.suptitle('Gaussian random sample')\n",
    "ax1.set_aspect('equal')\n",
    "ax1.set_title('Uncorrelated')\n",
    "ax1.scatter(X_nocorr[:,0], X_nocorr[:,1])\n",
    "ax1.scatter(1.5, -1.5)\n",
    "ax2.set_title('Correlated')\n",
    "ax2.set_aspect('equal')\n",
    "ax2.scatter(X_corr[:,0], X_corr[:,1])\n",
    "ax2.scatter(1.5, -1.5)\n",
    "plt.show()"
   ]
  },
  {
   "cell_type": "markdown",
   "metadata": {},
   "source": [
    "# Gaussian Mixture"
   ]
  },
  {
   "cell_type": "code",
   "execution_count": 4,
   "metadata": {},
   "outputs": [
    {
     "data": {
      "text/plain": [
       "array([[[0.983423  , 0.88929973],\n",
       "        [0.88929973, 0.99299487]]])"
      ]
     },
     "execution_count": 4,
     "metadata": {},
     "output_type": "execute_result"
    }
   ],
   "source": [
    "gm1 = GaussianMixture(n_components=1, n_init=10)  # unimodal fit\n",
    "gm2 = GaussianMixture(n_components=1, n_init=10)  # unimodal fit\n",
    "\n",
    "gm1.fit(X_nocorr)\n",
    "gm2.fit(X_corr)\n",
    "\n",
    "# some stats are available:\n",
    "gm1.weights_\n",
    "gm2.weights_\n",
    "gm1.means_\n",
    "gm2.means_\n",
    "gm1.covariances_\n",
    "gm2.covariances_"
   ]
  },
  {
   "cell_type": "code",
   "execution_count": 6,
   "metadata": {},
   "outputs": [
    {
     "name": "stdout",
     "output_type": "stream",
     "text": [
      "[-4.09257434]\n",
      "[-23.82678798]\n"
     ]
    }
   ],
   "source": [
    "# scores for the point we consider which is an outlier only for the correlated sample:\n",
    "print(gm1.score_samples([[1.5, -1.5]]))\n",
    "print(gm2.score_samples([[1.5, -1.5]]))  # a very different score of course!!!"
   ]
  },
  {
   "cell_type": "code",
   "execution_count": 8,
   "metadata": {},
   "outputs": [
    {
     "name": "stdout",
     "output_type": "stream",
     "text": [
      "[-4.09257434]\n",
      "[-23.82678798]\n",
      "[-4.10681461]\n",
      "[-2.18720159]\n",
      "[-4.07680608]\n",
      "[-23.66728318]\n",
      "[-4.13600412]\n",
      "[-2.20207494]\n"
     ]
    }
   ],
   "source": [
    "## the scores are symmetrical:\n",
    "print(gm1.score_samples([[1.5, -1.5]]))\n",
    "print(gm2.score_samples([[1.5, -1.5]]))\n",
    "print(gm1.score_samples([[1.5, 1.5]]))\n",
    "print(gm2.score_samples([[1.5, 1.5]]))\n",
    "print(gm1.score_samples([[-1.5, 1.5]]))\n",
    "print(gm2.score_samples([[-1.5, 1.5]]))\n",
    "print(gm1.score_samples([[-1.5, -1.5]]))\n",
    "print(gm2.score_samples([[-1.5, -1.5]]))"
   ]
  },
  {
   "cell_type": "code",
   "execution_count": 10,
   "metadata": {},
   "outputs": [
    {
     "name": "stdout",
     "output_type": "stream",
     "text": [
      "-9.8203402274606\n",
      "-9.815705946785931\n"
     ]
    }
   ],
   "source": [
    "# add our famous point at the end so we can easily check all outlier points:\n",
    "X_corr_with_outlier = np.vstack([X_corr, [1.5, -1.5]])\n",
    "X_nocorr_with_outlier  = np.vstack([X_nocorr, [1.5, -1.5]])\n",
    "\n",
    "\n",
    "d1 = gm1.score_samples(X_nocorr_with_outlier)\n",
    "d2 = gm2.score_samples(X_corr_with_outlier)\n",
    "density_threshold1 = np.percentile(d1, 0.01)  # this is specified as percentage so it's 1/10000\n",
    "density_threshold2 = np.percentile(d2, 0.01)\n",
    "\n",
    "print(density_threshold1)\n",
    "print(density_threshold2)"
   ]
  },
  {
   "cell_type": "code",
   "execution_count": 11,
   "metadata": {},
   "outputs": [
    {
     "data": {
      "text/plain": [
       "array([[ 3.41931987, -2.77159372]])"
      ]
     },
     "execution_count": 11,
     "metadata": {},
     "output_type": "execute_result"
    }
   ],
   "source": [
    "# this shows clearly that in the correlated case (1.5, -1.5) is a strong outlier:\n",
    "X_nocorr_with_outlier[d1 < density_threshold1]   # (1.5, -1.5) is not an oulier in the uncorrelated case"
   ]
  },
  {
   "cell_type": "code",
   "execution_count": 12,
   "metadata": {},
   "outputs": [
    {
     "data": {
      "text/plain": [
       "array([[ 1.5, -1.5]])"
      ]
     },
     "execution_count": 12,
     "metadata": {},
     "output_type": "execute_result"
    }
   ],
   "source": [
    "X_corr_with_outlier[d2 < density_threshold2]     # (1.5, -1.5) is an oulier in the correlated case"
   ]
  },
  {
   "cell_type": "markdown",
   "metadata": {},
   "source": [
    "# COPOD"
   ]
  },
  {
   "cell_type": "markdown",
   "metadata": {},
   "source": [
    "![copod](img/copod.png)"
   ]
  },
  {
   "cell_type": "code",
   "execution_count": 13,
   "metadata": {},
   "outputs": [
    {
     "data": {
      "text/plain": [
       "COPOD(contamination=0.1, n_jobs=1)"
      ]
     },
     "execution_count": 13,
     "metadata": {},
     "output_type": "execute_result"
    }
   ],
   "source": [
    "cpd1 = COPOD()\n",
    "cpd1.fit(X_nocorr)\n",
    "\n",
    "cpd2 = COPOD()\n",
    "cpd2.fit(X_corr)"
   ]
  },
  {
   "cell_type": "code",
   "execution_count": 14,
   "metadata": {},
   "outputs": [
    {
     "data": {
      "text/plain": [
       "array([0])"
      ]
     },
     "execution_count": 14,
     "metadata": {},
     "output_type": "execute_result"
    }
   ],
   "source": [
    "cpd1.predict(np.array([[1.5, -1.5]])) # (1.5, -1.5) is not an outlier, which we expect"
   ]
  },
  {
   "cell_type": "code",
   "execution_count": 15,
   "metadata": {},
   "outputs": [
    {
     "data": {
      "text/plain": [
       "array([0])"
      ]
     },
     "execution_count": 15,
     "metadata": {},
     "output_type": "execute_result"
    }
   ],
   "source": [
    "cpd2.predict(np.array([[1.5, -1.5]])) # (1.5, -1.5) is not an outlier, which we *don't* expect"
   ]
  },
  {
   "cell_type": "code",
   "execution_count": 16,
   "metadata": {},
   "outputs": [
    {
     "name": "stdout",
     "output_type": "stream",
     "text": [
      "[4.11815249]\n",
      "[4.11815249]\n"
     ]
    }
   ],
   "source": [
    "# and they get the exact same score because their correlation is ignored:\n",
    "print(cpd1.decision_function(np.array([[1.5, -1.5]])))\n",
    "print(cpd2.decision_function(np.array([[1.5, -1.5]])))"
   ]
  },
  {
   "cell_type": "code",
   "execution_count": 17,
   "metadata": {},
   "outputs": [
    {
     "name": "stdout",
     "output_type": "stream",
     "text": [
      "[2.80421656]\n",
      "[2.80421656]\n",
      "[4.11491792]\n",
      "[4.11491792]\n",
      "[5.42885386]\n",
      "[5.42885386]\n"
     ]
    }
   ],
   "source": [
    "# and points which are at the same distance with same density get different scores:\n",
    "print(cpd1.decision_function(np.array([[1.5, 1.5]])))\n",
    "print(cpd2.decision_function(np.array([[1.5, 1.5]])))\n",
    "print(cpd1.decision_function(np.array([[-1.5, 1.5]])))\n",
    "print(cpd2.decision_function(np.array([[-1.5, 1.5]])))\n",
    "print(cpd1.decision_function(np.array([[-1.5, -1.5]])))\n",
    "print(cpd2.decision_function(np.array([[-1.5, -1.5]])))"
   ]
  }
 ],
 "metadata": {
  "kernelspec": {
   "display_name": "Python 3",
   "language": "python",
   "name": "python3"
  },
  "language_info": {
   "codemirror_mode": {
    "name": "ipython",
    "version": 3
   },
   "file_extension": ".py",
   "mimetype": "text/x-python",
   "name": "python",
   "nbconvert_exporter": "python",
   "pygments_lexer": "ipython3",
   "version": "3.8.5"
  },
  "toc": {
   "base_numbering": 1,
   "nav_menu": {},
   "number_sections": true,
   "sideBar": true,
   "skip_h1_title": false,
   "title_cell": "Table of Contents",
   "title_sidebar": "Contents",
   "toc_cell": false,
   "toc_position": {},
   "toc_section_display": true,
   "toc_window_display": true
  }
 },
 "nbformat": 4,
 "nbformat_minor": 4
}
